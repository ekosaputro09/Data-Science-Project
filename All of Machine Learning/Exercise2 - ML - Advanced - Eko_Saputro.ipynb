{
 "cells": [
  {
   "cell_type": "markdown",
   "metadata": {},
   "source": [
    "# Tugas Python Machine Learning with PACMANN AI"
   ]
  },
  {
   "cell_type": "markdown",
   "metadata": {},
   "source": [
    "## Machine Learning Process Flowchart :\n",
    "### 1. Importing Data to Python :\n",
    "    * Drop Duplicates \n",
    "### 2. Data Preprocessing :\n",
    "    * Input-Output Split, Train-Test Split\n",
    "    * Imputation, Processing Categorical, Normalization \n",
    "### 3. Training Machine Learning : \n",
    "    * Choose Score to optimize and Hyperparameter Space\n",
    "### 4. Test Prediction : \n",
    "    * Evaluate model performance on Test Data\n",
    "    "
   ]
  },
  {
   "cell_type": "markdown",
   "metadata": {},
   "source": [
    "## 1. Importing Data to Python"
   ]
  },
  {
   "cell_type": "code",
   "execution_count": 1,
   "metadata": {
    "collapsed": true
   },
   "outputs": [],
   "source": [
    "# Import libraries\n",
    "\n",
    "import numpy as np # Import Numpy sebagai np\n",
    "import pandas as pd # Lalu import pandas sebagai pd"
   ]
  },
  {
   "cell_type": "markdown",
   "metadata": {
    "collapsed": true
   },
   "source": [
    "## Get Dataset\n",
    "\n",
    "Dibawah merupakan dokumentasi mengenai dataet yang akan digunakan. Data terdiri atas 2 kategori yaitu Numerical dan Categorical.\n",
    "\n",
    "### Dataset Information\n",
    "\n",
    "\"Churn Rate\" is a business term describing the rate at which customers leave or cease paying for a product or service. It's a critical figure in many businesses, as it's often the case that acquiring new customers is a lot more costly than retaining existing ones (in some cases, 5 to 20 times more expensive).\n",
    " Predicting churn is particularly important for businesses with subscription models such as cell phone, cable, or merchant credit card processing plans.  \n",
    "### Content\n",
    "There are 21 variables: \n",
    "\n",
    "1. State\n",
    "2. Account Length\n",
    "3. Area Code\n",
    "4. Phone\n",
    "5. Int'l Plan\n",
    "6. VMail Plan\n",
    "7. VMail Message\n",
    "8. Day Mins\n",
    "9. Day Calls\n",
    "10. Day Charge\n",
    "11. Eve Mins\n",
    "12. Eve Calls\n",
    "13. Eve Charge\n",
    "14. Night Mins\n",
    "15. Night Calls\n",
    "16. Night Charge\n",
    "17. Intl Mins\n",
    "18. Intl Calls\n",
    "19. Intl Charge\n",
    "20. CustServ Calls\n",
    "21. Churn? : Output"
   ]
  },
  {
   "cell_type": "code",
   "execution_count": 2,
   "metadata": {
    "collapsed": true
   },
   "outputs": [],
   "source": [
    "# Baca dataset \"churn.csv\" dengan menggunakan function read_csv()\n",
    "\n",
    "data_churn = pd.read_csv(\"churn.csv\")"
   ]
  },
  {
   "cell_type": "code",
   "execution_count": 3,
   "metadata": {
    "collapsed": false
   },
   "outputs": [
    {
     "data": {
      "text/html": [
       "<div>\n",
       "<table border=\"1\" class=\"dataframe\">\n",
       "  <thead>\n",
       "    <tr style=\"text-align: right;\">\n",
       "      <th></th>\n",
       "      <th>State</th>\n",
       "      <th>Account Length</th>\n",
       "      <th>Area Code</th>\n",
       "      <th>Phone</th>\n",
       "      <th>Int'l Plan</th>\n",
       "      <th>VMail Plan</th>\n",
       "      <th>VMail Message</th>\n",
       "      <th>Day Mins</th>\n",
       "      <th>Day Calls</th>\n",
       "      <th>Day Charge</th>\n",
       "      <th>...</th>\n",
       "      <th>Eve Calls</th>\n",
       "      <th>Eve Charge</th>\n",
       "      <th>Night Mins</th>\n",
       "      <th>Night Calls</th>\n",
       "      <th>Night Charge</th>\n",
       "      <th>Intl Mins</th>\n",
       "      <th>Intl Calls</th>\n",
       "      <th>Intl Charge</th>\n",
       "      <th>CustServ Calls</th>\n",
       "      <th>Churn?</th>\n",
       "    </tr>\n",
       "  </thead>\n",
       "  <tbody>\n",
       "    <tr>\n",
       "      <th>0</th>\n",
       "      <td>KS</td>\n",
       "      <td>128</td>\n",
       "      <td>415</td>\n",
       "      <td>382-4657</td>\n",
       "      <td>no</td>\n",
       "      <td>yes</td>\n",
       "      <td>25</td>\n",
       "      <td>265.1</td>\n",
       "      <td>110</td>\n",
       "      <td>45.07</td>\n",
       "      <td>...</td>\n",
       "      <td>99</td>\n",
       "      <td>16.78</td>\n",
       "      <td>244.7</td>\n",
       "      <td>91</td>\n",
       "      <td>11.01</td>\n",
       "      <td>10.0</td>\n",
       "      <td>3</td>\n",
       "      <td>2.70</td>\n",
       "      <td>1</td>\n",
       "      <td>False.</td>\n",
       "    </tr>\n",
       "    <tr>\n",
       "      <th>1</th>\n",
       "      <td>OH</td>\n",
       "      <td>107</td>\n",
       "      <td>415</td>\n",
       "      <td>371-7191</td>\n",
       "      <td>no</td>\n",
       "      <td>yes</td>\n",
       "      <td>26</td>\n",
       "      <td>161.6</td>\n",
       "      <td>123</td>\n",
       "      <td>27.47</td>\n",
       "      <td>...</td>\n",
       "      <td>103</td>\n",
       "      <td>16.62</td>\n",
       "      <td>254.4</td>\n",
       "      <td>103</td>\n",
       "      <td>11.45</td>\n",
       "      <td>13.7</td>\n",
       "      <td>3</td>\n",
       "      <td>3.70</td>\n",
       "      <td>1</td>\n",
       "      <td>False.</td>\n",
       "    </tr>\n",
       "    <tr>\n",
       "      <th>2</th>\n",
       "      <td>NJ</td>\n",
       "      <td>137</td>\n",
       "      <td>415</td>\n",
       "      <td>358-1921</td>\n",
       "      <td>no</td>\n",
       "      <td>no</td>\n",
       "      <td>0</td>\n",
       "      <td>243.4</td>\n",
       "      <td>114</td>\n",
       "      <td>41.38</td>\n",
       "      <td>...</td>\n",
       "      <td>110</td>\n",
       "      <td>10.30</td>\n",
       "      <td>162.6</td>\n",
       "      <td>104</td>\n",
       "      <td>7.32</td>\n",
       "      <td>12.2</td>\n",
       "      <td>5</td>\n",
       "      <td>3.29</td>\n",
       "      <td>0</td>\n",
       "      <td>False.</td>\n",
       "    </tr>\n",
       "    <tr>\n",
       "      <th>3</th>\n",
       "      <td>OH</td>\n",
       "      <td>84</td>\n",
       "      <td>408</td>\n",
       "      <td>375-9999</td>\n",
       "      <td>yes</td>\n",
       "      <td>no</td>\n",
       "      <td>0</td>\n",
       "      <td>299.4</td>\n",
       "      <td>71</td>\n",
       "      <td>50.90</td>\n",
       "      <td>...</td>\n",
       "      <td>88</td>\n",
       "      <td>5.26</td>\n",
       "      <td>196.9</td>\n",
       "      <td>89</td>\n",
       "      <td>8.86</td>\n",
       "      <td>6.6</td>\n",
       "      <td>7</td>\n",
       "      <td>1.78</td>\n",
       "      <td>2</td>\n",
       "      <td>False.</td>\n",
       "    </tr>\n",
       "    <tr>\n",
       "      <th>4</th>\n",
       "      <td>OK</td>\n",
       "      <td>75</td>\n",
       "      <td>415</td>\n",
       "      <td>330-6626</td>\n",
       "      <td>yes</td>\n",
       "      <td>no</td>\n",
       "      <td>0</td>\n",
       "      <td>166.7</td>\n",
       "      <td>113</td>\n",
       "      <td>28.34</td>\n",
       "      <td>...</td>\n",
       "      <td>122</td>\n",
       "      <td>12.61</td>\n",
       "      <td>186.9</td>\n",
       "      <td>121</td>\n",
       "      <td>8.41</td>\n",
       "      <td>10.1</td>\n",
       "      <td>3</td>\n",
       "      <td>2.73</td>\n",
       "      <td>3</td>\n",
       "      <td>False.</td>\n",
       "    </tr>\n",
       "  </tbody>\n",
       "</table>\n",
       "<p>5 rows × 21 columns</p>\n",
       "</div>"
      ],
      "text/plain": [
       "  State  Account Length  Area Code     Phone Int'l Plan VMail Plan  \\\n",
       "0    KS             128        415  382-4657         no        yes   \n",
       "1    OH             107        415  371-7191         no        yes   \n",
       "2    NJ             137        415  358-1921         no         no   \n",
       "3    OH              84        408  375-9999        yes         no   \n",
       "4    OK              75        415  330-6626        yes         no   \n",
       "\n",
       "   VMail Message  Day Mins  Day Calls  Day Charge   ...    Eve Calls  \\\n",
       "0             25     265.1        110       45.07   ...           99   \n",
       "1             26     161.6        123       27.47   ...          103   \n",
       "2              0     243.4        114       41.38   ...          110   \n",
       "3              0     299.4         71       50.90   ...           88   \n",
       "4              0     166.7        113       28.34   ...          122   \n",
       "\n",
       "   Eve Charge  Night Mins  Night Calls  Night Charge  Intl Mins  Intl Calls  \\\n",
       "0       16.78       244.7           91         11.01       10.0           3   \n",
       "1       16.62       254.4          103         11.45       13.7           3   \n",
       "2       10.30       162.6          104          7.32       12.2           5   \n",
       "3        5.26       196.9           89          8.86        6.6           7   \n",
       "4       12.61       186.9          121          8.41       10.1           3   \n",
       "\n",
       "   Intl Charge  CustServ Calls  Churn?  \n",
       "0         2.70               1  False.  \n",
       "1         3.70               1  False.  \n",
       "2         3.29               0  False.  \n",
       "3         1.78               2  False.  \n",
       "4         2.73               3  False.  \n",
       "\n",
       "[5 rows x 21 columns]"
      ]
     },
     "execution_count": 3,
     "metadata": {},
     "output_type": "execute_result"
    }
   ],
   "source": [
    "# Check 5 Observasi pertama dataset\n",
    "\n",
    "data_churn.head()"
   ]
  },
  {
   "cell_type": "markdown",
   "metadata": {},
   "source": [
    "## Droping Duplicates"
   ]
  },
  {
   "cell_type": "code",
   "execution_count": 4,
   "metadata": {
    "collapsed": false
   },
   "outputs": [
    {
     "data": {
      "text/plain": [
       "(3333, 21)"
      ]
     },
     "execution_count": 4,
     "metadata": {},
     "output_type": "execute_result"
    }
   ],
   "source": [
    "# Cek shape dari data yang akan di drop duplicate nya\n",
    "\n",
    "data_churn.shape"
   ]
  },
  {
   "cell_type": "code",
   "execution_count": 5,
   "metadata": {
    "collapsed": false,
    "scrolled": true
   },
   "outputs": [
    {
     "data": {
      "text/plain": [
       "0"
      ]
     },
     "execution_count": 5,
     "metadata": {},
     "output_type": "execute_result"
    }
   ],
   "source": [
    "# Cek jika ada atau tidak observasi yang duplikat\n",
    "\n",
    "data_churn.duplicated().sum()"
   ]
  },
  {
   "cell_type": "code",
   "execution_count": 6,
   "metadata": {
    "collapsed": false
   },
   "outputs": [],
   "source": [
    "# Drop data yang duplikat\n",
    "\n",
    "data_churn = data_churn.drop_duplicates()"
   ]
  },
  {
   "cell_type": "code",
   "execution_count": 7,
   "metadata": {
    "collapsed": false
   },
   "outputs": [
    {
     "data": {
      "text/plain": [
       "(3333, 21)"
      ]
     },
     "execution_count": 7,
     "metadata": {},
     "output_type": "execute_result"
    }
   ],
   "source": [
    "# Cek kembali shape\n",
    "\n",
    "data_churn.shape"
   ]
  },
  {
   "cell_type": "code",
   "execution_count": 8,
   "metadata": {
    "collapsed": false
   },
   "outputs": [
    {
     "data": {
      "text/html": [
       "<div>\n",
       "<table border=\"1\" class=\"dataframe\">\n",
       "  <thead>\n",
       "    <tr style=\"text-align: right;\">\n",
       "      <th></th>\n",
       "      <th>State</th>\n",
       "      <th>Account Length</th>\n",
       "      <th>Area Code</th>\n",
       "      <th>Phone</th>\n",
       "      <th>Int'l Plan</th>\n",
       "      <th>VMail Plan</th>\n",
       "      <th>VMail Message</th>\n",
       "      <th>Day Mins</th>\n",
       "      <th>Day Calls</th>\n",
       "      <th>Day Charge</th>\n",
       "      <th>...</th>\n",
       "      <th>Eve Calls</th>\n",
       "      <th>Eve Charge</th>\n",
       "      <th>Night Mins</th>\n",
       "      <th>Night Calls</th>\n",
       "      <th>Night Charge</th>\n",
       "      <th>Intl Mins</th>\n",
       "      <th>Intl Calls</th>\n",
       "      <th>Intl Charge</th>\n",
       "      <th>CustServ Calls</th>\n",
       "      <th>Churn?</th>\n",
       "    </tr>\n",
       "  </thead>\n",
       "  <tbody>\n",
       "    <tr>\n",
       "      <th>0</th>\n",
       "      <td>KS</td>\n",
       "      <td>128</td>\n",
       "      <td>415</td>\n",
       "      <td>382-4657</td>\n",
       "      <td>no</td>\n",
       "      <td>yes</td>\n",
       "      <td>25</td>\n",
       "      <td>265.1</td>\n",
       "      <td>110</td>\n",
       "      <td>45.07</td>\n",
       "      <td>...</td>\n",
       "      <td>99</td>\n",
       "      <td>16.78</td>\n",
       "      <td>244.7</td>\n",
       "      <td>91</td>\n",
       "      <td>11.01</td>\n",
       "      <td>10.0</td>\n",
       "      <td>3</td>\n",
       "      <td>2.70</td>\n",
       "      <td>1</td>\n",
       "      <td>False.</td>\n",
       "    </tr>\n",
       "    <tr>\n",
       "      <th>1</th>\n",
       "      <td>OH</td>\n",
       "      <td>107</td>\n",
       "      <td>415</td>\n",
       "      <td>371-7191</td>\n",
       "      <td>no</td>\n",
       "      <td>yes</td>\n",
       "      <td>26</td>\n",
       "      <td>161.6</td>\n",
       "      <td>123</td>\n",
       "      <td>27.47</td>\n",
       "      <td>...</td>\n",
       "      <td>103</td>\n",
       "      <td>16.62</td>\n",
       "      <td>254.4</td>\n",
       "      <td>103</td>\n",
       "      <td>11.45</td>\n",
       "      <td>13.7</td>\n",
       "      <td>3</td>\n",
       "      <td>3.70</td>\n",
       "      <td>1</td>\n",
       "      <td>False.</td>\n",
       "    </tr>\n",
       "    <tr>\n",
       "      <th>2</th>\n",
       "      <td>NJ</td>\n",
       "      <td>137</td>\n",
       "      <td>415</td>\n",
       "      <td>358-1921</td>\n",
       "      <td>no</td>\n",
       "      <td>no</td>\n",
       "      <td>0</td>\n",
       "      <td>243.4</td>\n",
       "      <td>114</td>\n",
       "      <td>41.38</td>\n",
       "      <td>...</td>\n",
       "      <td>110</td>\n",
       "      <td>10.30</td>\n",
       "      <td>162.6</td>\n",
       "      <td>104</td>\n",
       "      <td>7.32</td>\n",
       "      <td>12.2</td>\n",
       "      <td>5</td>\n",
       "      <td>3.29</td>\n",
       "      <td>0</td>\n",
       "      <td>False.</td>\n",
       "    </tr>\n",
       "    <tr>\n",
       "      <th>3</th>\n",
       "      <td>OH</td>\n",
       "      <td>84</td>\n",
       "      <td>408</td>\n",
       "      <td>375-9999</td>\n",
       "      <td>yes</td>\n",
       "      <td>no</td>\n",
       "      <td>0</td>\n",
       "      <td>299.4</td>\n",
       "      <td>71</td>\n",
       "      <td>50.90</td>\n",
       "      <td>...</td>\n",
       "      <td>88</td>\n",
       "      <td>5.26</td>\n",
       "      <td>196.9</td>\n",
       "      <td>89</td>\n",
       "      <td>8.86</td>\n",
       "      <td>6.6</td>\n",
       "      <td>7</td>\n",
       "      <td>1.78</td>\n",
       "      <td>2</td>\n",
       "      <td>False.</td>\n",
       "    </tr>\n",
       "    <tr>\n",
       "      <th>4</th>\n",
       "      <td>OK</td>\n",
       "      <td>75</td>\n",
       "      <td>415</td>\n",
       "      <td>330-6626</td>\n",
       "      <td>yes</td>\n",
       "      <td>no</td>\n",
       "      <td>0</td>\n",
       "      <td>166.7</td>\n",
       "      <td>113</td>\n",
       "      <td>28.34</td>\n",
       "      <td>...</td>\n",
       "      <td>122</td>\n",
       "      <td>12.61</td>\n",
       "      <td>186.9</td>\n",
       "      <td>121</td>\n",
       "      <td>8.41</td>\n",
       "      <td>10.1</td>\n",
       "      <td>3</td>\n",
       "      <td>2.73</td>\n",
       "      <td>3</td>\n",
       "      <td>False.</td>\n",
       "    </tr>\n",
       "  </tbody>\n",
       "</table>\n",
       "<p>5 rows × 21 columns</p>\n",
       "</div>"
      ],
      "text/plain": [
       "  State  Account Length  Area Code     Phone Int'l Plan VMail Plan  \\\n",
       "0    KS             128        415  382-4657         no        yes   \n",
       "1    OH             107        415  371-7191         no        yes   \n",
       "2    NJ             137        415  358-1921         no         no   \n",
       "3    OH              84        408  375-9999        yes         no   \n",
       "4    OK              75        415  330-6626        yes         no   \n",
       "\n",
       "   VMail Message  Day Mins  Day Calls  Day Charge   ...    Eve Calls  \\\n",
       "0             25     265.1        110       45.07   ...           99   \n",
       "1             26     161.6        123       27.47   ...          103   \n",
       "2              0     243.4        114       41.38   ...          110   \n",
       "3              0     299.4         71       50.90   ...           88   \n",
       "4              0     166.7        113       28.34   ...          122   \n",
       "\n",
       "   Eve Charge  Night Mins  Night Calls  Night Charge  Intl Mins  Intl Calls  \\\n",
       "0       16.78       244.7           91         11.01       10.0           3   \n",
       "1       16.62       254.4          103         11.45       13.7           3   \n",
       "2       10.30       162.6          104          7.32       12.2           5   \n",
       "3        5.26       196.9           89          8.86        6.6           7   \n",
       "4       12.61       186.9          121          8.41       10.1           3   \n",
       "\n",
       "   Intl Charge  CustServ Calls  Churn?  \n",
       "0         2.70               1  False.  \n",
       "1         3.70               1  False.  \n",
       "2         3.29               0  False.  \n",
       "3         1.78               2  False.  \n",
       "4         2.73               3  False.  \n",
       "\n",
       "[5 rows x 21 columns]"
      ]
     },
     "execution_count": 8,
     "metadata": {},
     "output_type": "execute_result"
    }
   ],
   "source": [
    "# Cek kembali data\n",
    "\n",
    "data_churn.head()"
   ]
  },
  {
   "cell_type": "markdown",
   "metadata": {},
   "source": [
    "### Make function to import and drop \n",
    "\n",
    "Buat lah sebuah function dengan spesifikasi:\n",
    "\n",
    " 1. import data\n",
    " 2. cek JUMLAH OBSERVASI dan JUMLAH COLUMN\n",
    " 3. drop duplicate\n",
    " 4. drop unnecassary column\n",
    " 5. cek JUMLAH OBSERVASI dan JUMLAH COLUMN, setelah di-drop\n",
    " 6. return data setelah di-drop\n",
    "\n",
    "Function dinamakan dengan `import_data` dan menerima 2 argument yaitu:\n",
    "\n",
    " 1. `filename`: Direktori dimana data tersimpan\n",
    " 2. `drop`    : Nama kolom yang ingin di hapus\n",
    " \n",
    "Lalu assign function tersebut pada suatu variabel yang dengan nama `data_churn`"
   ]
  },
  {
   "cell_type": "code",
   "execution_count": 9,
   "metadata": {
    "collapsed": false
   },
   "outputs": [],
   "source": [
    "# Buatlah function \n",
    "\n",
    "def import_data(filename, drop):\n",
    "    data = pd.read_csv(filename)\n",
    "    print(\"Data asli : %d Observasi, %d Kolom.\" %data.shape)\n",
    "    print(\"Banyaknya data duplicate :\", data.duplicated().sum())\n",
    "    data_drop = data.drop_duplicates()\n",
    "    \n",
    "    if drop == \"none\" :\n",
    "        print(\"Data setelah di drop : %d Observasi, %d Kolom.\" %data_drop.shape)\n",
    "    else :\n",
    "        print(\"Kolom yang di drop :\", drop)\n",
    "        data_drop = data_drop.drop(drop, axis=1)\n",
    "        print(\"Data setelah di drop : %d Observasi, %d Kolom.\" %data_drop.shape)\n",
    "    \n",
    "    return data_drop"
   ]
  },
  {
   "cell_type": "code",
   "execution_count": 10,
   "metadata": {
    "collapsed": false
   },
   "outputs": [
    {
     "name": "stdout",
     "output_type": "stream",
     "text": [
      "Data asli : 3333 Observasi, 21 Kolom.\n",
      "Banyaknya data duplicate : 0\n",
      "Kolom yang di drop : ['State', 'Area Code', 'Phone']\n",
      "Data setelah di drop : 3333 Observasi, 18 Kolom.\n"
     ]
    }
   ],
   "source": [
    "# Assign fuction kepada variabel data_churn\n",
    "\n",
    "data_churn = import_data(filename = \"churn.csv\", drop = [\"State\", \"Area Code\", \"Phone\"]) # hasil dari function"
   ]
  },
  {
   "cell_type": "markdown",
   "metadata": {},
   "source": [
    "## 2. Data Preprocessing\n",
    "### Input-Output Split\n",
    "\n",
    "Disini kita akan memisahkan kolom berdasarkan input dan output.\n",
    "\n",
    "Data yang digunakan untuk input akan dinamakan dengan `X`, sedangkan untuk output dengan `y`.\n",
    "\n",
    "Pada dataset ini, kita hanya perlu menggunakan kolom `Churn?` sebagai output kita. "
   ]
  },
  {
   "cell_type": "code",
   "execution_count": 11,
   "metadata": {
    "collapsed": false
   },
   "outputs": [
    {
     "data": {
      "text/html": [
       "<div>\n",
       "<table border=\"1\" class=\"dataframe\">\n",
       "  <thead>\n",
       "    <tr style=\"text-align: right;\">\n",
       "      <th></th>\n",
       "      <th>Account Length</th>\n",
       "      <th>Int'l Plan</th>\n",
       "      <th>VMail Plan</th>\n",
       "      <th>VMail Message</th>\n",
       "      <th>Day Mins</th>\n",
       "      <th>Day Calls</th>\n",
       "      <th>Day Charge</th>\n",
       "      <th>Eve Mins</th>\n",
       "      <th>Eve Calls</th>\n",
       "      <th>Eve Charge</th>\n",
       "      <th>Night Mins</th>\n",
       "      <th>Night Calls</th>\n",
       "      <th>Night Charge</th>\n",
       "      <th>Intl Mins</th>\n",
       "      <th>Intl Calls</th>\n",
       "      <th>Intl Charge</th>\n",
       "      <th>CustServ Calls</th>\n",
       "      <th>Churn?</th>\n",
       "    </tr>\n",
       "  </thead>\n",
       "  <tbody>\n",
       "    <tr>\n",
       "      <th>0</th>\n",
       "      <td>128</td>\n",
       "      <td>no</td>\n",
       "      <td>yes</td>\n",
       "      <td>25</td>\n",
       "      <td>265.1</td>\n",
       "      <td>110</td>\n",
       "      <td>45.07</td>\n",
       "      <td>197.4</td>\n",
       "      <td>99</td>\n",
       "      <td>16.78</td>\n",
       "      <td>244.7</td>\n",
       "      <td>91</td>\n",
       "      <td>11.01</td>\n",
       "      <td>10.0</td>\n",
       "      <td>3</td>\n",
       "      <td>2.70</td>\n",
       "      <td>1</td>\n",
       "      <td>False.</td>\n",
       "    </tr>\n",
       "    <tr>\n",
       "      <th>1</th>\n",
       "      <td>107</td>\n",
       "      <td>no</td>\n",
       "      <td>yes</td>\n",
       "      <td>26</td>\n",
       "      <td>161.6</td>\n",
       "      <td>123</td>\n",
       "      <td>27.47</td>\n",
       "      <td>195.5</td>\n",
       "      <td>103</td>\n",
       "      <td>16.62</td>\n",
       "      <td>254.4</td>\n",
       "      <td>103</td>\n",
       "      <td>11.45</td>\n",
       "      <td>13.7</td>\n",
       "      <td>3</td>\n",
       "      <td>3.70</td>\n",
       "      <td>1</td>\n",
       "      <td>False.</td>\n",
       "    </tr>\n",
       "    <tr>\n",
       "      <th>2</th>\n",
       "      <td>137</td>\n",
       "      <td>no</td>\n",
       "      <td>no</td>\n",
       "      <td>0</td>\n",
       "      <td>243.4</td>\n",
       "      <td>114</td>\n",
       "      <td>41.38</td>\n",
       "      <td>121.2</td>\n",
       "      <td>110</td>\n",
       "      <td>10.30</td>\n",
       "      <td>162.6</td>\n",
       "      <td>104</td>\n",
       "      <td>7.32</td>\n",
       "      <td>12.2</td>\n",
       "      <td>5</td>\n",
       "      <td>3.29</td>\n",
       "      <td>0</td>\n",
       "      <td>False.</td>\n",
       "    </tr>\n",
       "    <tr>\n",
       "      <th>3</th>\n",
       "      <td>84</td>\n",
       "      <td>yes</td>\n",
       "      <td>no</td>\n",
       "      <td>0</td>\n",
       "      <td>299.4</td>\n",
       "      <td>71</td>\n",
       "      <td>50.90</td>\n",
       "      <td>61.9</td>\n",
       "      <td>88</td>\n",
       "      <td>5.26</td>\n",
       "      <td>196.9</td>\n",
       "      <td>89</td>\n",
       "      <td>8.86</td>\n",
       "      <td>6.6</td>\n",
       "      <td>7</td>\n",
       "      <td>1.78</td>\n",
       "      <td>2</td>\n",
       "      <td>False.</td>\n",
       "    </tr>\n",
       "    <tr>\n",
       "      <th>4</th>\n",
       "      <td>75</td>\n",
       "      <td>yes</td>\n",
       "      <td>no</td>\n",
       "      <td>0</td>\n",
       "      <td>166.7</td>\n",
       "      <td>113</td>\n",
       "      <td>28.34</td>\n",
       "      <td>148.3</td>\n",
       "      <td>122</td>\n",
       "      <td>12.61</td>\n",
       "      <td>186.9</td>\n",
       "      <td>121</td>\n",
       "      <td>8.41</td>\n",
       "      <td>10.1</td>\n",
       "      <td>3</td>\n",
       "      <td>2.73</td>\n",
       "      <td>3</td>\n",
       "      <td>False.</td>\n",
       "    </tr>\n",
       "  </tbody>\n",
       "</table>\n",
       "</div>"
      ],
      "text/plain": [
       "   Account Length Int'l Plan VMail Plan  VMail Message  Day Mins  Day Calls  \\\n",
       "0             128         no        yes             25     265.1        110   \n",
       "1             107         no        yes             26     161.6        123   \n",
       "2             137         no         no              0     243.4        114   \n",
       "3              84        yes         no              0     299.4         71   \n",
       "4              75        yes         no              0     166.7        113   \n",
       "\n",
       "   Day Charge  Eve Mins  Eve Calls  Eve Charge  Night Mins  Night Calls  \\\n",
       "0       45.07     197.4         99       16.78       244.7           91   \n",
       "1       27.47     195.5        103       16.62       254.4          103   \n",
       "2       41.38     121.2        110       10.30       162.6          104   \n",
       "3       50.90      61.9         88        5.26       196.9           89   \n",
       "4       28.34     148.3        122       12.61       186.9          121   \n",
       "\n",
       "   Night Charge  Intl Mins  Intl Calls  Intl Charge  CustServ Calls  Churn?  \n",
       "0         11.01       10.0           3         2.70               1  False.  \n",
       "1         11.45       13.7           3         3.70               1  False.  \n",
       "2          7.32       12.2           5         3.29               0  False.  \n",
       "3          8.86        6.6           7         1.78               2  False.  \n",
       "4          8.41       10.1           3         2.73               3  False.  "
      ]
     },
     "execution_count": 11,
     "metadata": {},
     "output_type": "execute_result"
    }
   ],
   "source": [
    "# Cek data menggunakan head()\n",
    "\n",
    "data_churn.head()"
   ]
  },
  {
   "cell_type": "markdown",
   "metadata": {},
   "source": [
    "### Make function for input and output\n",
    "\n",
    "Buatlah sebuah function dengan kriteria dibawah ini:\n",
    "\n",
    "1. data_input\n",
    "2. data_output\n",
    "3. return data_input dan data_output\n",
    "* Tujuan dari pembuatan function adalah agar function ini dapat digunakan kembali di cases berbeda. \n",
    "\n",
    "Function dinamakan dengan `extract_input_output` dan menerima 2 argument yaitu:\n",
    "\n",
    "1. `data`        : Dataset yang ingin di split\n",
    "2. `column_name` : Nama kolom yang ingin di jadikan output\n"
   ]
  },
  {
   "cell_type": "code",
   "execution_count": 12,
   "metadata": {
    "collapsed": true
   },
   "outputs": [],
   "source": [
    "# Buatlah function tersebut disini\n",
    "\n",
    "def extract_input_output(data, column_name):\n",
    "    data_input = data.drop(column_name, axis=1)\n",
    "    data_output = data[column_name]\n",
    "    \n",
    "    return data_input, data_output\n",
    "\n",
    "# Assign hasil dari funtion tersebut kepada X, y.\n",
    "# X: data input\n",
    "# y: data output\n",
    "X, y = extract_input_output(data = data_churn, column_name = \"Churn?\")"
   ]
  },
  {
   "cell_type": "code",
   "execution_count": 13,
   "metadata": {
    "collapsed": false
   },
   "outputs": [
    {
     "data": {
      "text/html": [
       "<div>\n",
       "<table border=\"1\" class=\"dataframe\">\n",
       "  <thead>\n",
       "    <tr style=\"text-align: right;\">\n",
       "      <th></th>\n",
       "      <th>Account Length</th>\n",
       "      <th>Int'l Plan</th>\n",
       "      <th>VMail Plan</th>\n",
       "      <th>VMail Message</th>\n",
       "      <th>Day Mins</th>\n",
       "      <th>Day Calls</th>\n",
       "      <th>Day Charge</th>\n",
       "      <th>Eve Mins</th>\n",
       "      <th>Eve Calls</th>\n",
       "      <th>Eve Charge</th>\n",
       "      <th>Night Mins</th>\n",
       "      <th>Night Calls</th>\n",
       "      <th>Night Charge</th>\n",
       "      <th>Intl Mins</th>\n",
       "      <th>Intl Calls</th>\n",
       "      <th>Intl Charge</th>\n",
       "      <th>CustServ Calls</th>\n",
       "    </tr>\n",
       "  </thead>\n",
       "  <tbody>\n",
       "    <tr>\n",
       "      <th>0</th>\n",
       "      <td>128</td>\n",
       "      <td>no</td>\n",
       "      <td>yes</td>\n",
       "      <td>25</td>\n",
       "      <td>265.1</td>\n",
       "      <td>110</td>\n",
       "      <td>45.07</td>\n",
       "      <td>197.4</td>\n",
       "      <td>99</td>\n",
       "      <td>16.78</td>\n",
       "      <td>244.7</td>\n",
       "      <td>91</td>\n",
       "      <td>11.01</td>\n",
       "      <td>10.0</td>\n",
       "      <td>3</td>\n",
       "      <td>2.70</td>\n",
       "      <td>1</td>\n",
       "    </tr>\n",
       "    <tr>\n",
       "      <th>1</th>\n",
       "      <td>107</td>\n",
       "      <td>no</td>\n",
       "      <td>yes</td>\n",
       "      <td>26</td>\n",
       "      <td>161.6</td>\n",
       "      <td>123</td>\n",
       "      <td>27.47</td>\n",
       "      <td>195.5</td>\n",
       "      <td>103</td>\n",
       "      <td>16.62</td>\n",
       "      <td>254.4</td>\n",
       "      <td>103</td>\n",
       "      <td>11.45</td>\n",
       "      <td>13.7</td>\n",
       "      <td>3</td>\n",
       "      <td>3.70</td>\n",
       "      <td>1</td>\n",
       "    </tr>\n",
       "    <tr>\n",
       "      <th>2</th>\n",
       "      <td>137</td>\n",
       "      <td>no</td>\n",
       "      <td>no</td>\n",
       "      <td>0</td>\n",
       "      <td>243.4</td>\n",
       "      <td>114</td>\n",
       "      <td>41.38</td>\n",
       "      <td>121.2</td>\n",
       "      <td>110</td>\n",
       "      <td>10.30</td>\n",
       "      <td>162.6</td>\n",
       "      <td>104</td>\n",
       "      <td>7.32</td>\n",
       "      <td>12.2</td>\n",
       "      <td>5</td>\n",
       "      <td>3.29</td>\n",
       "      <td>0</td>\n",
       "    </tr>\n",
       "    <tr>\n",
       "      <th>3</th>\n",
       "      <td>84</td>\n",
       "      <td>yes</td>\n",
       "      <td>no</td>\n",
       "      <td>0</td>\n",
       "      <td>299.4</td>\n",
       "      <td>71</td>\n",
       "      <td>50.90</td>\n",
       "      <td>61.9</td>\n",
       "      <td>88</td>\n",
       "      <td>5.26</td>\n",
       "      <td>196.9</td>\n",
       "      <td>89</td>\n",
       "      <td>8.86</td>\n",
       "      <td>6.6</td>\n",
       "      <td>7</td>\n",
       "      <td>1.78</td>\n",
       "      <td>2</td>\n",
       "    </tr>\n",
       "    <tr>\n",
       "      <th>4</th>\n",
       "      <td>75</td>\n",
       "      <td>yes</td>\n",
       "      <td>no</td>\n",
       "      <td>0</td>\n",
       "      <td>166.7</td>\n",
       "      <td>113</td>\n",
       "      <td>28.34</td>\n",
       "      <td>148.3</td>\n",
       "      <td>122</td>\n",
       "      <td>12.61</td>\n",
       "      <td>186.9</td>\n",
       "      <td>121</td>\n",
       "      <td>8.41</td>\n",
       "      <td>10.1</td>\n",
       "      <td>3</td>\n",
       "      <td>2.73</td>\n",
       "      <td>3</td>\n",
       "    </tr>\n",
       "  </tbody>\n",
       "</table>\n",
       "</div>"
      ],
      "text/plain": [
       "   Account Length Int'l Plan VMail Plan  VMail Message  Day Mins  Day Calls  \\\n",
       "0             128         no        yes             25     265.1        110   \n",
       "1             107         no        yes             26     161.6        123   \n",
       "2             137         no         no              0     243.4        114   \n",
       "3              84        yes         no              0     299.4         71   \n",
       "4              75        yes         no              0     166.7        113   \n",
       "\n",
       "   Day Charge  Eve Mins  Eve Calls  Eve Charge  Night Mins  Night Calls  \\\n",
       "0       45.07     197.4         99       16.78       244.7           91   \n",
       "1       27.47     195.5        103       16.62       254.4          103   \n",
       "2       41.38     121.2        110       10.30       162.6          104   \n",
       "3       50.90      61.9         88        5.26       196.9           89   \n",
       "4       28.34     148.3        122       12.61       186.9          121   \n",
       "\n",
       "   Night Charge  Intl Mins  Intl Calls  Intl Charge  CustServ Calls  \n",
       "0         11.01       10.0           3         2.70               1  \n",
       "1         11.45       13.7           3         3.70               1  \n",
       "2          7.32       12.2           5         3.29               0  \n",
       "3          8.86        6.6           7         1.78               2  \n",
       "4          8.41       10.1           3         2.73               3  "
      ]
     },
     "execution_count": 13,
     "metadata": {},
     "output_type": "execute_result"
    }
   ],
   "source": [
    "X.head()"
   ]
  },
  {
   "cell_type": "code",
   "execution_count": 14,
   "metadata": {
    "collapsed": false
   },
   "outputs": [
    {
     "data": {
      "text/plain": [
       "0    False.\n",
       "1    False.\n",
       "2    False.\n",
       "3    False.\n",
       "4    False.\n",
       "Name: Churn?, dtype: object"
      ]
     },
     "execution_count": 14,
     "metadata": {},
     "output_type": "execute_result"
    }
   ],
   "source": [
    "y.head()"
   ]
  },
  {
   "cell_type": "markdown",
   "metadata": {},
   "source": [
    "## Train and Test Split\n",
    "\n",
    "Pada bagian ini, X dan y akan dibagi menjadi 2 set yaitu training dan tes. Kita akan menggunakan function dari library Scikit Learn yaitu `train_test_split`."
   ]
  },
  {
   "cell_type": "code",
   "execution_count": 15,
   "metadata": {
    "collapsed": true
   },
   "outputs": [],
   "source": [
    "# import function train_test_split dari library Scikit Learn\n",
    "\n",
    "from sklearn.model_selection import train_test_split"
   ]
  },
  {
   "cell_type": "markdown",
   "metadata": {},
   "source": [
    "#### Train Test Split Function\n",
    "1. x adalah input\n",
    "2. y adalah output\n",
    "3. test size = seberapa besar test, contoh 0.20 untuk 20% test dari data\n",
    "4. random state adalah kunci untuk random, harus disetting sama, misal random_state = 123\n",
    "5. Output: \n",
    "    * x_train = input dari data training\n",
    "    * x_test = input dari data test\n",
    "    * y_train = output dari training data\n",
    "    * y_test = output dari training data\n",
    "6. urutan dari x_train, x_test, y_train dan y_test tidak boleh terbalik"
   ]
  },
  {
   "cell_type": "code",
   "execution_count": 16,
   "metadata": {
    "collapsed": true
   },
   "outputs": [],
   "source": [
    "# Split dataset\n",
    "\n",
    "X_train, X_test, y_train, y_test = train_test_split(X, y, test_size = 0.20, random_state = 123)"
   ]
  },
  {
   "cell_type": "code",
   "execution_count": 17,
   "metadata": {
    "collapsed": false
   },
   "outputs": [
    {
     "name": "stdout",
     "output_type": "stream",
     "text": [
      "Data input training : (2666, 17)\n",
      "Data input test : (667, 17)\n",
      "Data output training : (2666,)\n",
      "Data output test : (667,)\n"
     ]
    }
   ],
   "source": [
    "# Cek shape untuk tiap set (X_train, X_test, y_train, y_test)\n",
    "\n",
    "print(\"Data input training :\", X_train.shape)\n",
    "print(\"Data input test :\", X_test.shape)\n",
    "print(\"Data output training :\", y_train.shape)\n",
    "print(\"Data output test :\", y_test.shape)"
   ]
  },
  {
   "cell_type": "markdown",
   "metadata": {},
   "source": [
    "## Separating Categorical and Numerical Data Manually"
   ]
  },
  {
   "cell_type": "markdown",
   "metadata": {},
   "source": [
    "## Getting Categorical\n"
   ]
  },
  {
   "cell_type": "code",
   "execution_count": 18,
   "metadata": {
    "collapsed": false
   },
   "outputs": [
    {
     "data": {
      "text/plain": [
       "Index(['Account Length', 'Int'l Plan', 'VMail Plan', 'VMail Message',\n",
       "       'Day Mins', 'Day Calls', 'Day Charge', 'Eve Mins', 'Eve Calls',\n",
       "       'Eve Charge', 'Night Mins', 'Night Calls', 'Night Charge', 'Intl Mins',\n",
       "       'Intl Calls', 'Intl Charge', 'CustServ Calls'],\n",
       "      dtype='object')"
      ]
     },
     "execution_count": 18,
     "metadata": {},
     "output_type": "execute_result"
    }
   ],
   "source": [
    "X_train.columns"
   ]
  },
  {
   "cell_type": "code",
   "execution_count": 19,
   "metadata": {
    "collapsed": false
   },
   "outputs": [
    {
     "name": "stdout",
     "output_type": "stream",
     "text": [
      "105    36\n",
      "93     36\n",
      "101    34\n",
      "112    33\n",
      "87     33\n",
      "100    32\n",
      "86     32\n",
      "116    32\n",
      "99     31\n",
      "90     30\n",
      "123    30\n",
      "64     30\n",
      "80     30\n",
      "130    29\n",
      "95     28\n",
      "122    28\n",
      "98     27\n",
      "107    27\n",
      "73     27\n",
      "119    27\n",
      "74     27\n",
      "75     27\n",
      "85     27\n",
      "88     26\n",
      "127    26\n",
      "97     26\n",
      "113    26\n",
      "92     26\n",
      "94     26\n",
      "120    26\n",
      "       ..\n",
      "170     2\n",
      "217     2\n",
      "210     2\n",
      "224     2\n",
      "10      2\n",
      "225     2\n",
      "168     2\n",
      "12      2\n",
      "7       2\n",
      "18      2\n",
      "186     2\n",
      "194     2\n",
      "195     2\n",
      "26      1\n",
      "8       1\n",
      "6       1\n",
      "4       1\n",
      "243     1\n",
      "178     1\n",
      "192     1\n",
      "196     1\n",
      "204     1\n",
      "208     1\n",
      "232     1\n",
      "5       1\n",
      "199     1\n",
      "205     1\n",
      "215     1\n",
      "221     1\n",
      "2       1\n",
      "Name: Account Length, dtype: int64\n",
      "no     2412\n",
      "yes     254\n",
      "Name: Int'l Plan, dtype: int64\n",
      "no     1932\n",
      "yes     734\n",
      "Name: VMail Plan, dtype: int64\n",
      "0     1932\n",
      "31      57\n",
      "30      38\n",
      "33      37\n",
      "28      37\n",
      "29      37\n",
      "27      36\n",
      "24      36\n",
      "32      34\n",
      "23      30\n",
      "26      29\n",
      "35      28\n",
      "36      28\n",
      "25      28\n",
      "22      25\n",
      "39      23\n",
      "21      22\n",
      "37      21\n",
      "38      20\n",
      "20      20\n",
      "34      19\n",
      "19      16\n",
      "16      11\n",
      "42      11\n",
      "40      11\n",
      "41      10\n",
      "17       9\n",
      "43       8\n",
      "15       7\n",
      "14       7\n",
      "44       6\n",
      "45       5\n",
      "18       5\n",
      "12       4\n",
      "46       3\n",
      "8        2\n",
      "48       2\n",
      "50       2\n",
      "11       2\n",
      "47       2\n",
      "49       1\n",
      "9        1\n",
      "13       1\n",
      "10       1\n",
      "4        1\n",
      "51       1\n",
      "Name: VMail Message, dtype: int64\n",
      "154.0    8\n",
      "174.5    8\n",
      "159.5    7\n",
      "175.4    7\n",
      "198.4    6\n",
      "162.3    6\n",
      "184.5    6\n",
      "178.7    6\n",
      "194.8    6\n",
      "216.0    6\n",
      "146.3    6\n",
      "193.3    5\n",
      "209.4    5\n",
      "165.4    5\n",
      "179.4    5\n",
      "145.0    5\n",
      "171.2    5\n",
      "190.3    5\n",
      "175.8    5\n",
      "197.2    5\n",
      "143.2    5\n",
      "174.0    5\n",
      "133.3    5\n",
      "168.6    5\n",
      "148.2    5\n",
      "182.1    5\n",
      "189.8    5\n",
      "203.4    5\n",
      "157.1    5\n",
      "206.2    5\n",
      "        ..\n",
      "163.2    1\n",
      "268.0    1\n",
      "291.6    1\n",
      "150.8    1\n",
      "111.0    1\n",
      "45.0     1\n",
      "249.5    1\n",
      "57.5     1\n",
      "98.0     1\n",
      "88.5     1\n",
      "280.0    1\n",
      "189.0    1\n",
      "90.0     1\n",
      "178.6    1\n",
      "131.9    1\n",
      "7.8      1\n",
      "126.7    1\n",
      "80.2     1\n",
      "191.6    1\n",
      "99.9     1\n",
      "148.8    1\n",
      "278.9    1\n",
      "198.6    1\n",
      "261.8    1\n",
      "263.7    1\n",
      "233.9    1\n",
      "293.3    1\n",
      "141.2    1\n",
      "95.4     1\n",
      "238.9    1\n",
      "Name: Day Mins, dtype: int64\n",
      "102    63\n",
      "108    60\n",
      "107    60\n",
      "88     58\n",
      "105    55\n",
      "101    54\n",
      "92     54\n",
      "110    54\n",
      "100    53\n",
      "98     52\n",
      "112    52\n",
      "97     51\n",
      "95     51\n",
      "94     50\n",
      "104    49\n",
      "91     49\n",
      "114    49\n",
      "96     48\n",
      "93     47\n",
      "87     46\n",
      "106    45\n",
      "109    45\n",
      "117    44\n",
      "85     43\n",
      "99     43\n",
      "90     42\n",
      "89     42\n",
      "113    41\n",
      "83     41\n",
      "103    40\n",
      "       ..\n",
      "148     5\n",
      "64      5\n",
      "54      5\n",
      "147     5\n",
      "151     5\n",
      "144     4\n",
      "150     4\n",
      "58      4\n",
      "57      4\n",
      "48      3\n",
      "59      3\n",
      "45      3\n",
      "52      2\n",
      "142     2\n",
      "44      2\n",
      "158     2\n",
      "42      2\n",
      "40      2\n",
      "47      2\n",
      "49      2\n",
      "36      1\n",
      "30      1\n",
      "165     1\n",
      "152     1\n",
      "163     1\n",
      "160     1\n",
      "35      1\n",
      "51      1\n",
      "53      1\n",
      "0       1\n",
      "Name: Day Calls, dtype: int64\n",
      "26.18    8\n",
      "29.67    8\n",
      "29.82    7\n",
      "27.12    7\n",
      "30.38    6\n",
      "36.72    6\n",
      "33.73    6\n",
      "24.87    6\n",
      "27.59    6\n",
      "33.12    6\n",
      "31.37    6\n",
      "24.34    5\n",
      "37.88    5\n",
      "24.02    5\n",
      "29.58    5\n",
      "32.27    5\n",
      "30.50    5\n",
      "28.53    5\n",
      "33.52    5\n",
      "28.12    5\n",
      "34.58    5\n",
      "22.66    5\n",
      "29.89    5\n",
      "35.60    5\n",
      "27.22    5\n",
      "26.71    5\n",
      "24.65    5\n",
      "24.19    5\n",
      "32.35    5\n",
      "35.05    5\n",
      "        ..\n",
      "3.21     1\n",
      "45.58    1\n",
      "27.83    1\n",
      "42.60    1\n",
      "14.11    1\n",
      "7.12     1\n",
      "42.65    1\n",
      "19.33    1\n",
      "26.42    1\n",
      "22.41    1\n",
      "23.44    1\n",
      "30.45    1\n",
      "44.95    1\n",
      "19.87    1\n",
      "43.96    1\n",
      "19.57    1\n",
      "50.68    1\n",
      "18.22    1\n",
      "31.74    1\n",
      "31.20    1\n",
      "26.37    1\n",
      "21.71    1\n",
      "22.19    1\n",
      "25.74    1\n",
      "12.46    1\n",
      "20.54    1\n",
      "25.26    1\n",
      "30.57    1\n",
      "19.55    1\n",
      "32.13    1\n",
      "Name: Day Charge, dtype: int64\n",
      "169.9    9\n",
      "167.2    7\n",
      "220.6    6\n",
      "201.0    6\n",
      "189.6    6\n",
      "195.5    6\n",
      "187.0    6\n",
      "180.5    6\n",
      "230.0    6\n",
      "186.4    6\n",
      "211.5    6\n",
      "246.5    6\n",
      "209.4    6\n",
      "236.7    5\n",
      "211.7    5\n",
      "230.9    5\n",
      "253.4    5\n",
      "203.8    5\n",
      "189.7    5\n",
      "213.4    5\n",
      "178.6    5\n",
      "181.6    5\n",
      "216.5    5\n",
      "167.6    5\n",
      "256.6    5\n",
      "224.7    5\n",
      "226.7    5\n",
      "161.7    5\n",
      "209.1    5\n",
      "216.9    5\n",
      "        ..\n",
      "272.8    1\n",
      "215.3    1\n",
      "140.4    1\n",
      "260.4    1\n",
      "157.2    1\n",
      "93.4     1\n",
      "295.9    1\n",
      "187.9    1\n",
      "214.6    1\n",
      "90.7     1\n",
      "163.3    1\n",
      "237.9    1\n",
      "267.3    1\n",
      "244.3    1\n",
      "171.6    1\n",
      "139.8    1\n",
      "148.6    1\n",
      "42.2     1\n",
      "185.1    1\n",
      "238.5    1\n",
      "239.5    1\n",
      "115.7    1\n",
      "172.4    1\n",
      "332.1    1\n",
      "282.2    1\n",
      "88.7     1\n",
      "229.9    1\n",
      "160.3    1\n",
      "177.1    1\n",
      "126.0    1\n",
      "Name: Eve Mins, dtype: int64\n",
      "94     64\n",
      "105    64\n",
      "102    60\n",
      "88     57\n",
      "108    56\n",
      "97     55\n",
      "109    55\n",
      "103    54\n",
      "101    54\n",
      "90     52\n",
      "104    52\n",
      "99     51\n",
      "93     50\n",
      "111    49\n",
      "98     49\n",
      "87     49\n",
      "115    48\n",
      "100    47\n",
      "110    47\n",
      "95     47\n",
      "96     47\n",
      "107    45\n",
      "91     44\n",
      "117    44\n",
      "83     44\n",
      "118    43\n",
      "113    42\n",
      "89     42\n",
      "114    41\n",
      "112    41\n",
      "       ..\n",
      "147     5\n",
      "143     5\n",
      "51      5\n",
      "54      5\n",
      "48      4\n",
      "139     4\n",
      "52      4\n",
      "146     4\n",
      "57      4\n",
      "46      3\n",
      "50      3\n",
      "150     3\n",
      "155     3\n",
      "154     2\n",
      "148     2\n",
      "53      2\n",
      "55      2\n",
      "149     2\n",
      "36      1\n",
      "12      1\n",
      "42      1\n",
      "159     1\n",
      "157     1\n",
      "156     1\n",
      "164     1\n",
      "168     1\n",
      "49      1\n",
      "151     1\n",
      "153     1\n",
      "0       1\n",
      "Name: Eve Calls, dtype: int64\n",
      "16.12    11\n",
      "14.44     9\n",
      "15.90     9\n",
      "14.25     9\n",
      "17.09     8\n",
      "17.99     8\n",
      "18.62     8\n",
      "14.21     7\n",
      "17.77     7\n",
      "18.96     7\n",
      "18.79     7\n",
      "19.58     7\n",
      "18.16     7\n",
      "17.94     6\n",
      "16.62     6\n",
      "18.75     6\n",
      "17.48     6\n",
      "17.80     6\n",
      "15.84     6\n",
      "14.20     6\n",
      "20.95     6\n",
      "18.67     6\n",
      "19.55     6\n",
      "17.20     6\n",
      "17.60     6\n",
      "17.71     6\n",
      "16.63     6\n",
      "16.18     6\n",
      "17.98     6\n",
      "13.01     6\n",
      "         ..\n",
      "24.75     1\n",
      "15.25     1\n",
      "9.64      1\n",
      "15.83     1\n",
      "12.07     1\n",
      "22.60     1\n",
      "21.20     1\n",
      "11.03     1\n",
      "13.83     1\n",
      "7.67      1\n",
      "9.78      1\n",
      "17.73     1\n",
      "14.29     1\n",
      "16.83     1\n",
      "12.77     1\n",
      "21.62     1\n",
      "10.21     1\n",
      "20.27     1\n",
      "7.59      1\n",
      "22.48     1\n",
      "10.83     1\n",
      "17.21     1\n",
      "21.49     1\n",
      "16.14     1\n",
      "24.89     1\n",
      "13.59     1\n",
      "18.58     1\n",
      "19.79     1\n",
      "5.61      1\n",
      "18.57     1\n",
      "Name: Eve Charge, dtype: int64\n",
      "191.4    7\n",
      "194.3    7\n",
      "214.6    7\n",
      "214.0    6\n",
      "221.6    6\n",
      "207.2    6\n",
      "188.2    6\n",
      "228.4    6\n",
      "197.4    6\n",
      "192.7    6\n",
      "214.5    6\n",
      "193.6    6\n",
      "221.7    5\n",
      "203.8    5\n",
      "206.1    5\n",
      "223.5    5\n",
      "233.0    5\n",
      "135.0    5\n",
      "196.2    5\n",
      "262.7    5\n",
      "181.5    5\n",
      "239.9    5\n",
      "210.5    5\n",
      "213.7    5\n",
      "179.6    5\n",
      "205.7    5\n",
      "214.7    5\n",
      "202.0    5\n",
      "172.7    5\n",
      "203.0    5\n",
      "        ..\n",
      "88.2     1\n",
      "152.2    1\n",
      "184.9    1\n",
      "234.8    1\n",
      "112.9    1\n",
      "153.3    1\n",
      "286.7    1\n",
      "243.0    1\n",
      "89.6     1\n",
      "165.0    1\n",
      "159.7    1\n",
      "249.2    1\n",
      "115.6    1\n",
      "185.6    1\n",
      "206.4    1\n",
      "111.4    1\n",
      "254.6    1\n",
      "311.1    1\n",
      "191.6    1\n",
      "232.2    1\n",
      "164.6    1\n",
      "248.9    1\n",
      "100.9    1\n",
      "260.9    1\n",
      "112.2    1\n",
      "120.4    1\n",
      "186.8    1\n",
      "318.3    1\n",
      "114.9    1\n",
      "140.0    1\n",
      "Name: Night Mins, dtype: int64\n",
      "105    69\n",
      "104    65\n",
      "91     62\n",
      "94     60\n",
      "102    58\n",
      "106    57\n",
      "100    56\n",
      "92     55\n",
      "108    52\n",
      "109    51\n",
      "103    51\n",
      "95     50\n",
      "97     49\n",
      "98     49\n",
      "101    48\n",
      "90     48\n",
      "99     48\n",
      "120    48\n",
      "89     47\n",
      "82     46\n",
      "107    45\n",
      "113    44\n",
      "114    43\n",
      "93     43\n",
      "112    43\n",
      "87     43\n",
      "96     41\n",
      "115    41\n",
      "85     40\n",
      "111    39\n",
      "       ..\n",
      "55      6\n",
      "58      5\n",
      "53      5\n",
      "146     5\n",
      "143     5\n",
      "144     4\n",
      "142     4\n",
      "148     3\n",
      "141     3\n",
      "147     3\n",
      "151     3\n",
      "56      2\n",
      "54      2\n",
      "52      2\n",
      "157     2\n",
      "156     2\n",
      "150     2\n",
      "152     2\n",
      "154     1\n",
      "155     1\n",
      "164     1\n",
      "166     1\n",
      "33      1\n",
      "49      1\n",
      "149     1\n",
      "153     1\n",
      "50      1\n",
      "48      1\n",
      "38      1\n",
      "36      1\n",
      "Name: Night Calls, dtype: int64\n",
      "9.66     12\n",
      "9.32     11\n",
      "9.14     11\n",
      "8.47     11\n",
      "9.45     10\n",
      "10.80    10\n",
      "9.63     10\n",
      "8.88     10\n",
      "7.69     10\n",
      "8.57      9\n",
      "9.18      9\n",
      "10.49     9\n",
      "8.59      9\n",
      "9.09      9\n",
      "9.23      9\n",
      "9.97      9\n",
      "7.52      9\n",
      "8.64      9\n",
      "7.15      9\n",
      "8.61      9\n",
      "9.71      9\n",
      "9.76      8\n",
      "11.51     8\n",
      "8.83      8\n",
      "11.12     8\n",
      "8.78      8\n",
      "10.22     8\n",
      "10.35     8\n",
      "9.48      8\n",
      "9.65      8\n",
      "         ..\n",
      "4.10      1\n",
      "11.42     1\n",
      "8.23      1\n",
      "7.32      1\n",
      "11.72     1\n",
      "2.59      1\n",
      "6.81      1\n",
      "16.55     1\n",
      "14.32     1\n",
      "9.13      1\n",
      "4.24      1\n",
      "11.63     1\n",
      "12.67     1\n",
      "12.80     1\n",
      "11.80     1\n",
      "13.14     1\n",
      "5.95      1\n",
      "12.63     1\n",
      "5.12      1\n",
      "14.78     1\n",
      "9.22      1\n",
      "15.06     1\n",
      "3.78      1\n",
      "5.13      1\n",
      "12.40     1\n",
      "12.60     1\n",
      "14.09     1\n",
      "12.74     1\n",
      "4.77      1\n",
      "12.72     1\n",
      "Name: Night Charge, dtype: int64\n",
      "10.0    49\n",
      "11.3    48\n",
      "9.8     47\n",
      "10.2    45\n",
      "11.1    45\n",
      "10.1    45\n",
      "10.9    44\n",
      "11.0    44\n",
      "10.5    44\n",
      "10.6    43\n",
      "9.5     43\n",
      "8.9     41\n",
      "10.7    41\n",
      "11.4    41\n",
      "9.7     41\n",
      "11.5    40\n",
      "9.9     39\n",
      "8.8     39\n",
      "12.0    37\n",
      "9.4     37\n",
      "11.6    36\n",
      "11.2    36\n",
      "10.3    36\n",
      "11.8    35\n",
      "9.6     34\n",
      "7.5     33\n",
      "9.1     33\n",
      "10.8    33\n",
      "9.3     32\n",
      "12.2    32\n",
      "        ..\n",
      "2.0      2\n",
      "17.0     2\n",
      "18.0     2\n",
      "18.2     2\n",
      "5.2      2\n",
      "16.6     2\n",
      "17.6     2\n",
      "3.7      2\n",
      "4.8      2\n",
      "2.1      2\n",
      "17.8     2\n",
      "20.0     1\n",
      "4.1      1\n",
      "1.1      1\n",
      "2.2      1\n",
      "3.9      1\n",
      "3.6      1\n",
      "17.9     1\n",
      "18.9     1\n",
      "16.3     1\n",
      "2.5      1\n",
      "1.3      1\n",
      "2.6      1\n",
      "2.4      1\n",
      "18.3     1\n",
      "17.1     1\n",
      "3.4      1\n",
      "2.7      1\n",
      "16.0     1\n",
      "18.4     1\n",
      "Name: Intl Mins, dtype: int64\n",
      "3     524\n",
      "4     490\n",
      "2     402\n",
      "5     374\n",
      "6     265\n",
      "7     184\n",
      "1     132\n",
      "8      94\n",
      "9      86\n",
      "10     37\n",
      "11     23\n",
      "12     14\n",
      "13     11\n",
      "0      11\n",
      "15      6\n",
      "14      5\n",
      "18      3\n",
      "16      2\n",
      "19      1\n",
      "17      1\n",
      "20      1\n",
      "Name: Intl Calls, dtype: int64\n",
      "2.70    49\n",
      "3.05    48\n",
      "2.65    47\n",
      "3.00    45\n",
      "2.75    45\n",
      "2.73    45\n",
      "2.97    44\n",
      "2.84    44\n",
      "2.94    44\n",
      "2.86    43\n",
      "2.57    43\n",
      "2.62    41\n",
      "2.89    41\n",
      "3.08    41\n",
      "2.40    41\n",
      "3.11    40\n",
      "2.38    39\n",
      "2.67    39\n",
      "2.54    37\n",
      "3.24    37\n",
      "3.13    36\n",
      "3.02    36\n",
      "2.78    36\n",
      "3.19    35\n",
      "2.59    34\n",
      "2.92    33\n",
      "2.03    33\n",
      "2.46    33\n",
      "2.48    32\n",
      "2.51    32\n",
      "        ..\n",
      "4.75     2\n",
      "1.00     2\n",
      "4.59     2\n",
      "1.30     2\n",
      "0.54     2\n",
      "4.48     2\n",
      "4.81     2\n",
      "0.89     2\n",
      "4.91     2\n",
      "0.78     2\n",
      "1.08     2\n",
      "0.35     1\n",
      "1.11     1\n",
      "0.92     1\n",
      "5.40     1\n",
      "0.68     1\n",
      "4.62     1\n",
      "4.40     1\n",
      "4.83     1\n",
      "0.70     1\n",
      "5.10     1\n",
      "0.30     1\n",
      "4.97     1\n",
      "0.65     1\n",
      "4.32     1\n",
      "0.59     1\n",
      "4.94     1\n",
      "0.97     1\n",
      "1.05     1\n",
      "0.73     1\n",
      "Name: Intl Charge, dtype: int64\n",
      "1    931\n",
      "2    602\n",
      "0    571\n",
      "3    342\n",
      "4    137\n",
      "5     53\n",
      "6     20\n",
      "7      7\n",
      "8      2\n",
      "9      1\n",
      "Name: CustServ Calls, dtype: int64\n"
     ]
    }
   ],
   "source": [
    "for i in X_train.columns:\n",
    "    print(X_train[i].value_counts())"
   ]
  },
  {
   "cell_type": "code",
   "execution_count": 20,
   "metadata": {
    "collapsed": false
   },
   "outputs": [],
   "source": [
    "# Get Categorical\n",
    "\n",
    "categories = [\"Int'l Plan\", \"VMail Plan\", ] #list of categorical columns\n",
    "\n",
    "X_train_cat = X_train[categories] # define the categorical columns from x_train dataset"
   ]
  },
  {
   "cell_type": "code",
   "execution_count": 21,
   "metadata": {
    "collapsed": false
   },
   "outputs": [
    {
     "data": {
      "text/html": [
       "<div>\n",
       "<table border=\"1\" class=\"dataframe\">\n",
       "  <thead>\n",
       "    <tr style=\"text-align: right;\">\n",
       "      <th></th>\n",
       "      <th>Int'l Plan</th>\n",
       "      <th>VMail Plan</th>\n",
       "    </tr>\n",
       "  </thead>\n",
       "  <tbody>\n",
       "    <tr>\n",
       "      <th>1881</th>\n",
       "      <td>no</td>\n",
       "      <td>no</td>\n",
       "    </tr>\n",
       "    <tr>\n",
       "      <th>48</th>\n",
       "      <td>no</td>\n",
       "      <td>no</td>\n",
       "    </tr>\n",
       "    <tr>\n",
       "      <th>2886</th>\n",
       "      <td>no</td>\n",
       "      <td>no</td>\n",
       "    </tr>\n",
       "    <tr>\n",
       "      <th>2294</th>\n",
       "      <td>no</td>\n",
       "      <td>no</td>\n",
       "    </tr>\n",
       "    <tr>\n",
       "      <th>314</th>\n",
       "      <td>no</td>\n",
       "      <td>no</td>\n",
       "    </tr>\n",
       "  </tbody>\n",
       "</table>\n",
       "</div>"
      ],
      "text/plain": [
       "     Int'l Plan VMail Plan\n",
       "1881         no         no\n",
       "48           no         no\n",
       "2886         no         no\n",
       "2294         no         no\n",
       "314          no         no"
      ]
     },
     "execution_count": 21,
     "metadata": {},
     "output_type": "execute_result"
    }
   ],
   "source": [
    "# check the top observations!\n",
    "\n",
    "X_train_cat.head()"
   ]
  },
  {
   "cell_type": "code",
   "execution_count": 22,
   "metadata": {
    "collapsed": false
   },
   "outputs": [],
   "source": [
    "# Get numerical\n",
    "\n",
    "numerical = [\"Account Length\", \"VMail Message\", \"Day Mins\", \n",
    "             \"Day Calls\", \"Day Charge\", \"Eve Mins\", \"Eve Calls\", \n",
    "             \"Eve Charge\", \"Night Mins\", \"Night Calls\", \"Night Charge\", \n",
    "             \"Intl Mins\", \"Intl Calls\", \"Intl Charge\", \"CustServ Calls\"]\n",
    "\n",
    "X_train_num = X_train[numerical]"
   ]
  },
  {
   "cell_type": "code",
   "execution_count": 23,
   "metadata": {
    "collapsed": false
   },
   "outputs": [
    {
     "data": {
      "text/html": [
       "<div>\n",
       "<table border=\"1\" class=\"dataframe\">\n",
       "  <thead>\n",
       "    <tr style=\"text-align: right;\">\n",
       "      <th></th>\n",
       "      <th>Account Length</th>\n",
       "      <th>VMail Message</th>\n",
       "      <th>Day Mins</th>\n",
       "      <th>Day Calls</th>\n",
       "      <th>Day Charge</th>\n",
       "      <th>Eve Mins</th>\n",
       "      <th>Eve Calls</th>\n",
       "      <th>Eve Charge</th>\n",
       "      <th>Night Mins</th>\n",
       "      <th>Night Calls</th>\n",
       "      <th>Night Charge</th>\n",
       "      <th>Intl Mins</th>\n",
       "      <th>Intl Calls</th>\n",
       "      <th>Intl Charge</th>\n",
       "      <th>CustServ Calls</th>\n",
       "    </tr>\n",
       "  </thead>\n",
       "  <tbody>\n",
       "    <tr>\n",
       "      <th>1881</th>\n",
       "      <td>76</td>\n",
       "      <td>0</td>\n",
       "      <td>272.7</td>\n",
       "      <td>97</td>\n",
       "      <td>46.36</td>\n",
       "      <td>236.4</td>\n",
       "      <td>95</td>\n",
       "      <td>20.09</td>\n",
       "      <td>235.5</td>\n",
       "      <td>105</td>\n",
       "      <td>10.60</td>\n",
       "      <td>7.7</td>\n",
       "      <td>2</td>\n",
       "      <td>2.08</td>\n",
       "      <td>0</td>\n",
       "    </tr>\n",
       "    <tr>\n",
       "      <th>48</th>\n",
       "      <td>119</td>\n",
       "      <td>0</td>\n",
       "      <td>159.1</td>\n",
       "      <td>114</td>\n",
       "      <td>27.05</td>\n",
       "      <td>231.3</td>\n",
       "      <td>117</td>\n",
       "      <td>19.66</td>\n",
       "      <td>143.2</td>\n",
       "      <td>91</td>\n",
       "      <td>6.44</td>\n",
       "      <td>8.8</td>\n",
       "      <td>3</td>\n",
       "      <td>2.38</td>\n",
       "      <td>5</td>\n",
       "    </tr>\n",
       "    <tr>\n",
       "      <th>2886</th>\n",
       "      <td>85</td>\n",
       "      <td>0</td>\n",
       "      <td>144.4</td>\n",
       "      <td>88</td>\n",
       "      <td>24.55</td>\n",
       "      <td>264.6</td>\n",
       "      <td>105</td>\n",
       "      <td>22.49</td>\n",
       "      <td>185.4</td>\n",
       "      <td>94</td>\n",
       "      <td>8.34</td>\n",
       "      <td>9.9</td>\n",
       "      <td>3</td>\n",
       "      <td>2.67</td>\n",
       "      <td>1</td>\n",
       "    </tr>\n",
       "    <tr>\n",
       "      <th>2294</th>\n",
       "      <td>59</td>\n",
       "      <td>0</td>\n",
       "      <td>189.7</td>\n",
       "      <td>100</td>\n",
       "      <td>32.25</td>\n",
       "      <td>115.9</td>\n",
       "      <td>133</td>\n",
       "      <td>9.85</td>\n",
       "      <td>220.6</td>\n",
       "      <td>115</td>\n",
       "      <td>9.93</td>\n",
       "      <td>7.4</td>\n",
       "      <td>4</td>\n",
       "      <td>2.00</td>\n",
       "      <td>0</td>\n",
       "    </tr>\n",
       "    <tr>\n",
       "      <th>314</th>\n",
       "      <td>128</td>\n",
       "      <td>0</td>\n",
       "      <td>125.2</td>\n",
       "      <td>99</td>\n",
       "      <td>21.28</td>\n",
       "      <td>205.4</td>\n",
       "      <td>107</td>\n",
       "      <td>17.46</td>\n",
       "      <td>254.4</td>\n",
       "      <td>111</td>\n",
       "      <td>11.45</td>\n",
       "      <td>18.9</td>\n",
       "      <td>2</td>\n",
       "      <td>5.10</td>\n",
       "      <td>0</td>\n",
       "    </tr>\n",
       "  </tbody>\n",
       "</table>\n",
       "</div>"
      ],
      "text/plain": [
       "      Account Length  VMail Message  Day Mins  Day Calls  Day Charge  \\\n",
       "1881              76              0     272.7         97       46.36   \n",
       "48               119              0     159.1        114       27.05   \n",
       "2886              85              0     144.4         88       24.55   \n",
       "2294              59              0     189.7        100       32.25   \n",
       "314              128              0     125.2         99       21.28   \n",
       "\n",
       "      Eve Mins  Eve Calls  Eve Charge  Night Mins  Night Calls  Night Charge  \\\n",
       "1881     236.4         95       20.09       235.5          105         10.60   \n",
       "48       231.3        117       19.66       143.2           91          6.44   \n",
       "2886     264.6        105       22.49       185.4           94          8.34   \n",
       "2294     115.9        133        9.85       220.6          115          9.93   \n",
       "314      205.4        107       17.46       254.4          111         11.45   \n",
       "\n",
       "      Intl Mins  Intl Calls  Intl Charge  CustServ Calls  \n",
       "1881        7.7           2         2.08               0  \n",
       "48          8.8           3         2.38               5  \n",
       "2886        9.9           3         2.67               1  \n",
       "2294        7.4           4         2.00               0  \n",
       "314        18.9           2         5.10               0  "
      ]
     },
     "execution_count": 23,
     "metadata": {},
     "output_type": "execute_result"
    }
   ],
   "source": [
    "# check the top observations!\n",
    "\n",
    "X_train_num.head()"
   ]
  },
  {
   "cell_type": "markdown",
   "metadata": {},
   "source": [
    "### Make a function for Separating Numerical and Categorical"
   ]
  },
  {
   "cell_type": "code",
   "execution_count": 24,
   "metadata": {
    "collapsed": true
   },
   "outputs": [],
   "source": [
    "# Def a function that returns x_train categorical and x_train numerical\n",
    "\n",
    "def categorical_numerical_separation(data, categorical_columns, numerical_columns):\n",
    "    categorical_data = data[categorical_columns]\n",
    "    numerical_data = data[numerical_columns]\n",
    "    \n",
    "    return categorical_data, numerical_data\n",
    "\n",
    "X_train_cat, X_train_num = categorical_numerical_separation(data = X_train, \n",
    "                                                          categorical_columns = categories,\n",
    "                                                          numerical_columns = numerical)"
   ]
  },
  {
   "cell_type": "code",
   "execution_count": 25,
   "metadata": {
    "collapsed": false
   },
   "outputs": [
    {
     "data": {
      "text/html": [
       "<div>\n",
       "<table border=\"1\" class=\"dataframe\">\n",
       "  <thead>\n",
       "    <tr style=\"text-align: right;\">\n",
       "      <th></th>\n",
       "      <th>Int'l Plan</th>\n",
       "      <th>VMail Plan</th>\n",
       "    </tr>\n",
       "  </thead>\n",
       "  <tbody>\n",
       "    <tr>\n",
       "      <th>1881</th>\n",
       "      <td>no</td>\n",
       "      <td>no</td>\n",
       "    </tr>\n",
       "    <tr>\n",
       "      <th>48</th>\n",
       "      <td>no</td>\n",
       "      <td>no</td>\n",
       "    </tr>\n",
       "    <tr>\n",
       "      <th>2886</th>\n",
       "      <td>no</td>\n",
       "      <td>no</td>\n",
       "    </tr>\n",
       "    <tr>\n",
       "      <th>2294</th>\n",
       "      <td>no</td>\n",
       "      <td>no</td>\n",
       "    </tr>\n",
       "    <tr>\n",
       "      <th>314</th>\n",
       "      <td>no</td>\n",
       "      <td>no</td>\n",
       "    </tr>\n",
       "  </tbody>\n",
       "</table>\n",
       "</div>"
      ],
      "text/plain": [
       "     Int'l Plan VMail Plan\n",
       "1881         no         no\n",
       "48           no         no\n",
       "2886         no         no\n",
       "2294         no         no\n",
       "314          no         no"
      ]
     },
     "execution_count": 25,
     "metadata": {},
     "output_type": "execute_result"
    }
   ],
   "source": [
    "# check the top of the x_train categorical observations!\n",
    "\n",
    "X_train_cat.head()"
   ]
  },
  {
   "cell_type": "code",
   "execution_count": 26,
   "metadata": {
    "collapsed": false
   },
   "outputs": [
    {
     "data": {
      "text/html": [
       "<div>\n",
       "<table border=\"1\" class=\"dataframe\">\n",
       "  <thead>\n",
       "    <tr style=\"text-align: right;\">\n",
       "      <th></th>\n",
       "      <th>Account Length</th>\n",
       "      <th>VMail Message</th>\n",
       "      <th>Day Mins</th>\n",
       "      <th>Day Calls</th>\n",
       "      <th>Day Charge</th>\n",
       "      <th>Eve Mins</th>\n",
       "      <th>Eve Calls</th>\n",
       "      <th>Eve Charge</th>\n",
       "      <th>Night Mins</th>\n",
       "      <th>Night Calls</th>\n",
       "      <th>Night Charge</th>\n",
       "      <th>Intl Mins</th>\n",
       "      <th>Intl Calls</th>\n",
       "      <th>Intl Charge</th>\n",
       "      <th>CustServ Calls</th>\n",
       "    </tr>\n",
       "  </thead>\n",
       "  <tbody>\n",
       "    <tr>\n",
       "      <th>1881</th>\n",
       "      <td>76</td>\n",
       "      <td>0</td>\n",
       "      <td>272.7</td>\n",
       "      <td>97</td>\n",
       "      <td>46.36</td>\n",
       "      <td>236.4</td>\n",
       "      <td>95</td>\n",
       "      <td>20.09</td>\n",
       "      <td>235.5</td>\n",
       "      <td>105</td>\n",
       "      <td>10.60</td>\n",
       "      <td>7.7</td>\n",
       "      <td>2</td>\n",
       "      <td>2.08</td>\n",
       "      <td>0</td>\n",
       "    </tr>\n",
       "    <tr>\n",
       "      <th>48</th>\n",
       "      <td>119</td>\n",
       "      <td>0</td>\n",
       "      <td>159.1</td>\n",
       "      <td>114</td>\n",
       "      <td>27.05</td>\n",
       "      <td>231.3</td>\n",
       "      <td>117</td>\n",
       "      <td>19.66</td>\n",
       "      <td>143.2</td>\n",
       "      <td>91</td>\n",
       "      <td>6.44</td>\n",
       "      <td>8.8</td>\n",
       "      <td>3</td>\n",
       "      <td>2.38</td>\n",
       "      <td>5</td>\n",
       "    </tr>\n",
       "    <tr>\n",
       "      <th>2886</th>\n",
       "      <td>85</td>\n",
       "      <td>0</td>\n",
       "      <td>144.4</td>\n",
       "      <td>88</td>\n",
       "      <td>24.55</td>\n",
       "      <td>264.6</td>\n",
       "      <td>105</td>\n",
       "      <td>22.49</td>\n",
       "      <td>185.4</td>\n",
       "      <td>94</td>\n",
       "      <td>8.34</td>\n",
       "      <td>9.9</td>\n",
       "      <td>3</td>\n",
       "      <td>2.67</td>\n",
       "      <td>1</td>\n",
       "    </tr>\n",
       "    <tr>\n",
       "      <th>2294</th>\n",
       "      <td>59</td>\n",
       "      <td>0</td>\n",
       "      <td>189.7</td>\n",
       "      <td>100</td>\n",
       "      <td>32.25</td>\n",
       "      <td>115.9</td>\n",
       "      <td>133</td>\n",
       "      <td>9.85</td>\n",
       "      <td>220.6</td>\n",
       "      <td>115</td>\n",
       "      <td>9.93</td>\n",
       "      <td>7.4</td>\n",
       "      <td>4</td>\n",
       "      <td>2.00</td>\n",
       "      <td>0</td>\n",
       "    </tr>\n",
       "    <tr>\n",
       "      <th>314</th>\n",
       "      <td>128</td>\n",
       "      <td>0</td>\n",
       "      <td>125.2</td>\n",
       "      <td>99</td>\n",
       "      <td>21.28</td>\n",
       "      <td>205.4</td>\n",
       "      <td>107</td>\n",
       "      <td>17.46</td>\n",
       "      <td>254.4</td>\n",
       "      <td>111</td>\n",
       "      <td>11.45</td>\n",
       "      <td>18.9</td>\n",
       "      <td>2</td>\n",
       "      <td>5.10</td>\n",
       "      <td>0</td>\n",
       "    </tr>\n",
       "  </tbody>\n",
       "</table>\n",
       "</div>"
      ],
      "text/plain": [
       "      Account Length  VMail Message  Day Mins  Day Calls  Day Charge  \\\n",
       "1881              76              0     272.7         97       46.36   \n",
       "48               119              0     159.1        114       27.05   \n",
       "2886              85              0     144.4         88       24.55   \n",
       "2294              59              0     189.7        100       32.25   \n",
       "314              128              0     125.2         99       21.28   \n",
       "\n",
       "      Eve Mins  Eve Calls  Eve Charge  Night Mins  Night Calls  Night Charge  \\\n",
       "1881     236.4         95       20.09       235.5          105         10.60   \n",
       "48       231.3        117       19.66       143.2           91          6.44   \n",
       "2886     264.6        105       22.49       185.4           94          8.34   \n",
       "2294     115.9        133        9.85       220.6          115          9.93   \n",
       "314      205.4        107       17.46       254.4          111         11.45   \n",
       "\n",
       "      Intl Mins  Intl Calls  Intl Charge  CustServ Calls  \n",
       "1881        7.7           2         2.08               0  \n",
       "48          8.8           3         2.38               5  \n",
       "2886        9.9           3         2.67               1  \n",
       "2294        7.4           4         2.00               0  \n",
       "314        18.9           2         5.10               0  "
      ]
     },
     "execution_count": 26,
     "metadata": {},
     "output_type": "execute_result"
    }
   ],
   "source": [
    "# check the top of the x_train numerical observations!\n",
    "\n",
    "X_train_num.head()"
   ]
  },
  {
   "cell_type": "markdown",
   "metadata": {},
   "source": [
    "## Data Imputation"
   ]
  },
  {
   "cell_type": "markdown",
   "metadata": {},
   "source": [
    "Data imputation adalah proses pengisian data yang memiliki data yang kosong, biasanya diperlihatkan sebagai NaN\n",
    "\n",
    "Proses tersebut terbagi menjadi 2:\n",
    "* Numerical Imputation\n",
    "* Categorical Imputation"
   ]
  },
  {
   "cell_type": "code",
   "execution_count": 27,
   "metadata": {
    "collapsed": false
   },
   "outputs": [
    {
     "data": {
      "text/plain": [
       "Account Length    False\n",
       "Int'l Plan        False\n",
       "VMail Plan        False\n",
       "VMail Message     False\n",
       "Day Mins          False\n",
       "Day Calls         False\n",
       "Day Charge        False\n",
       "Eve Mins          False\n",
       "Eve Calls         False\n",
       "Eve Charge        False\n",
       "Night Mins        False\n",
       "Night Calls       False\n",
       "Night Charge      False\n",
       "Intl Mins         False\n",
       "Intl Calls        False\n",
       "Intl Charge       False\n",
       "CustServ Calls    False\n",
       "dtype: bool"
      ]
     },
     "execution_count": 27,
     "metadata": {},
     "output_type": "execute_result"
    }
   ],
   "source": [
    "# Cek data yang kosong di traininig set input\n",
    "\n",
    "X_train.isnull().any()"
   ]
  },
  {
   "cell_type": "markdown",
   "metadata": {},
   "source": [
    "## Finding Difference between Numerical and Categorical (Optional)"
   ]
  },
  {
   "cell_type": "code",
   "execution_count": 28,
   "metadata": {
    "collapsed": false
   },
   "outputs": [
    {
     "data": {
      "text/html": [
       "<div>\n",
       "<table border=\"1\" class=\"dataframe\">\n",
       "  <thead>\n",
       "    <tr style=\"text-align: right;\">\n",
       "      <th></th>\n",
       "      <th>Account Length</th>\n",
       "      <th>Int'l Plan</th>\n",
       "      <th>VMail Plan</th>\n",
       "      <th>VMail Message</th>\n",
       "      <th>Day Mins</th>\n",
       "      <th>Day Calls</th>\n",
       "      <th>Day Charge</th>\n",
       "      <th>Eve Mins</th>\n",
       "      <th>Eve Calls</th>\n",
       "      <th>Eve Charge</th>\n",
       "      <th>Night Mins</th>\n",
       "      <th>Night Calls</th>\n",
       "      <th>Night Charge</th>\n",
       "      <th>Intl Mins</th>\n",
       "      <th>Intl Calls</th>\n",
       "      <th>Intl Charge</th>\n",
       "      <th>CustServ Calls</th>\n",
       "    </tr>\n",
       "  </thead>\n",
       "  <tbody>\n",
       "    <tr>\n",
       "      <th>1881</th>\n",
       "      <td>76</td>\n",
       "      <td>no</td>\n",
       "      <td>no</td>\n",
       "      <td>0</td>\n",
       "      <td>272.7</td>\n",
       "      <td>97</td>\n",
       "      <td>46.36</td>\n",
       "      <td>236.4</td>\n",
       "      <td>95</td>\n",
       "      <td>20.09</td>\n",
       "      <td>235.5</td>\n",
       "      <td>105</td>\n",
       "      <td>10.60</td>\n",
       "      <td>7.7</td>\n",
       "      <td>2</td>\n",
       "      <td>2.08</td>\n",
       "      <td>0</td>\n",
       "    </tr>\n",
       "    <tr>\n",
       "      <th>48</th>\n",
       "      <td>119</td>\n",
       "      <td>no</td>\n",
       "      <td>no</td>\n",
       "      <td>0</td>\n",
       "      <td>159.1</td>\n",
       "      <td>114</td>\n",
       "      <td>27.05</td>\n",
       "      <td>231.3</td>\n",
       "      <td>117</td>\n",
       "      <td>19.66</td>\n",
       "      <td>143.2</td>\n",
       "      <td>91</td>\n",
       "      <td>6.44</td>\n",
       "      <td>8.8</td>\n",
       "      <td>3</td>\n",
       "      <td>2.38</td>\n",
       "      <td>5</td>\n",
       "    </tr>\n",
       "    <tr>\n",
       "      <th>2886</th>\n",
       "      <td>85</td>\n",
       "      <td>no</td>\n",
       "      <td>no</td>\n",
       "      <td>0</td>\n",
       "      <td>144.4</td>\n",
       "      <td>88</td>\n",
       "      <td>24.55</td>\n",
       "      <td>264.6</td>\n",
       "      <td>105</td>\n",
       "      <td>22.49</td>\n",
       "      <td>185.4</td>\n",
       "      <td>94</td>\n",
       "      <td>8.34</td>\n",
       "      <td>9.9</td>\n",
       "      <td>3</td>\n",
       "      <td>2.67</td>\n",
       "      <td>1</td>\n",
       "    </tr>\n",
       "    <tr>\n",
       "      <th>2294</th>\n",
       "      <td>59</td>\n",
       "      <td>no</td>\n",
       "      <td>no</td>\n",
       "      <td>0</td>\n",
       "      <td>189.7</td>\n",
       "      <td>100</td>\n",
       "      <td>32.25</td>\n",
       "      <td>115.9</td>\n",
       "      <td>133</td>\n",
       "      <td>9.85</td>\n",
       "      <td>220.6</td>\n",
       "      <td>115</td>\n",
       "      <td>9.93</td>\n",
       "      <td>7.4</td>\n",
       "      <td>4</td>\n",
       "      <td>2.00</td>\n",
       "      <td>0</td>\n",
       "    </tr>\n",
       "    <tr>\n",
       "      <th>314</th>\n",
       "      <td>128</td>\n",
       "      <td>no</td>\n",
       "      <td>no</td>\n",
       "      <td>0</td>\n",
       "      <td>125.2</td>\n",
       "      <td>99</td>\n",
       "      <td>21.28</td>\n",
       "      <td>205.4</td>\n",
       "      <td>107</td>\n",
       "      <td>17.46</td>\n",
       "      <td>254.4</td>\n",
       "      <td>111</td>\n",
       "      <td>11.45</td>\n",
       "      <td>18.9</td>\n",
       "      <td>2</td>\n",
       "      <td>5.10</td>\n",
       "      <td>0</td>\n",
       "    </tr>\n",
       "  </tbody>\n",
       "</table>\n",
       "</div>"
      ],
      "text/plain": [
       "      Account Length Int'l Plan VMail Plan  VMail Message  Day Mins  \\\n",
       "1881              76         no         no              0     272.7   \n",
       "48               119         no         no              0     159.1   \n",
       "2886              85         no         no              0     144.4   \n",
       "2294              59         no         no              0     189.7   \n",
       "314              128         no         no              0     125.2   \n",
       "\n",
       "      Day Calls  Day Charge  Eve Mins  Eve Calls  Eve Charge  Night Mins  \\\n",
       "1881         97       46.36     236.4         95       20.09       235.5   \n",
       "48          114       27.05     231.3        117       19.66       143.2   \n",
       "2886         88       24.55     264.6        105       22.49       185.4   \n",
       "2294        100       32.25     115.9        133        9.85       220.6   \n",
       "314          99       21.28     205.4        107       17.46       254.4   \n",
       "\n",
       "      Night Calls  Night Charge  Intl Mins  Intl Calls  Intl Charge  \\\n",
       "1881          105         10.60        7.7           2         2.08   \n",
       "48             91          6.44        8.8           3         2.38   \n",
       "2886           94          8.34        9.9           3         2.67   \n",
       "2294          115          9.93        7.4           4         2.00   \n",
       "314           111         11.45       18.9           2         5.10   \n",
       "\n",
       "      CustServ Calls  \n",
       "1881               0  \n",
       "48                 5  \n",
       "2886               1  \n",
       "2294               0  \n",
       "314                0  "
      ]
     },
     "execution_count": 28,
     "metadata": {},
     "output_type": "execute_result"
    }
   ],
   "source": [
    "X_train.head()"
   ]
  },
  {
   "cell_type": "code",
   "execution_count": 29,
   "metadata": {
    "collapsed": false
   },
   "outputs": [],
   "source": [
    "# Get Numerical\n",
    "\n",
    "X_train_num = X_train._get_numeric_data()\n",
    "#_get_numeric_data() hanya akan mengambil column berisikan integer dan float\n",
    "                                                # hati-hati dengan data kategoric yang berbentuk integer!!"
   ]
  },
  {
   "cell_type": "markdown",
   "metadata": {},
   "source": [
    "### Checking for Nan (Non-Value)"
   ]
  },
  {
   "cell_type": "code",
   "execution_count": 30,
   "metadata": {
    "collapsed": false
   },
   "outputs": [
    {
     "data": {
      "text/plain": [
       "Account Length    False\n",
       "VMail Message     False\n",
       "Day Mins          False\n",
       "Day Calls         False\n",
       "Day Charge        False\n",
       "Eve Mins          False\n",
       "Eve Calls         False\n",
       "Eve Charge        False\n",
       "Night Mins        False\n",
       "Night Calls       False\n",
       "Night Charge      False\n",
       "Intl Mins         False\n",
       "Intl Calls        False\n",
       "Intl Charge       False\n",
       "CustServ Calls    False\n",
       "dtype: bool"
      ]
     },
     "execution_count": 30,
     "metadata": {},
     "output_type": "execute_result"
    }
   ],
   "source": [
    "# check the missing value of the numerical x_train\n",
    "\n",
    "X_train_num.isnull().any()"
   ]
  },
  {
   "cell_type": "markdown",
   "metadata": {},
   "source": [
    "## Numerical Data Imputation"
   ]
  },
  {
   "cell_type": "code",
   "execution_count": 31,
   "metadata": {
    "collapsed": true
   },
   "outputs": [],
   "source": [
    "# Import library for imputation\n",
    "\n",
    "from sklearn.preprocessing import Imputer"
   ]
  },
  {
   "cell_type": "code",
   "execution_count": 32,
   "metadata": {
    "collapsed": true
   },
   "outputs": [],
   "source": [
    "# Get Numerical and Categorical Manualy\n",
    "\n",
    "X_train_cat, X_train_num = categorical_numerical_separation(data = X_train, \n",
    "                                                          categorical_columns = categories,\n",
    "                                                          numerical_columns = numerical)"
   ]
  },
  {
   "cell_type": "code",
   "execution_count": 33,
   "metadata": {
    "collapsed": true
   },
   "outputs": [],
   "source": [
    "imput = Imputer(missing_values='NaN', strategy='median')\n",
    "# namakan function Imputer menjadi imput, jangan lupa tanda kurung ()\n",
    "# missing_values adalah tanda missing values dalam data, bisa NaN, bisa 9999, bisa \"KOSONG\"\n",
    "# strategy median adalah stragegy imputasi, jika data kosong, maka data diganti dengan median\n",
    "# strategy bisa diganti dengan mean atau rata-rata\n",
    "# see median: https://en.wikipedia.org/wiki/Median"
   ]
  },
  {
   "cell_type": "markdown",
   "metadata": {},
   "source": [
    "* fit: imputer agar mengetahui mean atau median  dari setiap column\n",
    "* transform: isi data dengan median atau mean\n",
    "* output dari transform berupda pd dataframe\n",
    "* namakan column dari x_train_numerical_imputed sesuai dengan x_train_numerical.\n",
    "     - MENGAPA? karena kita kehilangan nama column setelah data imputation\n",
    "* beri index dari x_train_numerical_imputed sesuai dengan x_train_numerical.\n",
    "     - MENGAPA? karena kita kehilangan index setelah data imputation"
   ]
  },
  {
   "cell_type": "code",
   "execution_count": 34,
   "metadata": {
    "collapsed": true
   },
   "outputs": [],
   "source": [
    "# isi perintah yang akan dibuat di dalam fungsi baru\n",
    "# imputer perlu difitting ke data \n",
    "\n",
    "imput.fit(X_train_num)\n",
    "x_train_numerical_imputed = pd.DataFrame(imput.transform(X_train_num))\n",
    "x_train_numerical_imputed.columns = X_train_num.columns\n",
    "x_train_numerical_imputed.index = X_train_num.index"
   ]
  },
  {
   "cell_type": "code",
   "execution_count": 35,
   "metadata": {
    "collapsed": false
   },
   "outputs": [
    {
     "data": {
      "text/plain": [
       "Account Length    False\n",
       "VMail Message     False\n",
       "Day Mins          False\n",
       "Day Calls         False\n",
       "Day Charge        False\n",
       "Eve Mins          False\n",
       "Eve Calls         False\n",
       "Eve Charge        False\n",
       "Night Mins        False\n",
       "Night Calls       False\n",
       "Night Charge      False\n",
       "Intl Mins         False\n",
       "Intl Calls        False\n",
       "Intl Charge       False\n",
       "CustServ Calls    False\n",
       "dtype: bool"
      ]
     },
     "execution_count": 35,
     "metadata": {},
     "output_type": "execute_result"
    }
   ],
   "source": [
    "# cek kembali hasil imputer, apakah missing valuesnya masih ada atau tidak\n",
    "\n",
    "x_train_numerical_imputed.isnull().any()"
   ]
  },
  {
   "cell_type": "markdown",
   "metadata": {},
   "source": [
    "## Categorical Imputation"
   ]
  },
  {
   "cell_type": "code",
   "execution_count": 36,
   "metadata": {
    "collapsed": true
   },
   "outputs": [],
   "source": [
    "# Ambil daftar nama kolom categorical.\n",
    "# Anda bisa langsung menuliskan kolomnya atau mengambil listnya jika jumlah variabelnya sangat banyak. \n",
    "\n",
    "x_train_columns = list(X_train.columns)        # jadikan nama kolom sebagai list\n",
    "numerical_columns = list(X_train_num.columns)      # jadikan nama kolom numerical sebagai list\n",
    "cat_columns = list(X_train_cat.columns)            # cari nama kolom x_train yang bukan numerical"
   ]
  },
  {
   "cell_type": "code",
   "execution_count": 37,
   "metadata": {
    "collapsed": false
   },
   "outputs": [
    {
     "data": {
      "text/plain": [
       "[\"Int'l Plan\", 'VMail Plan']"
      ]
     },
     "execution_count": 37,
     "metadata": {},
     "output_type": "execute_result"
    }
   ],
   "source": [
    "cat_columns"
   ]
  },
  {
   "cell_type": "code",
   "execution_count": 38,
   "metadata": {
    "collapsed": false
   },
   "outputs": [
    {
     "data": {
      "text/plain": [
       "Int'l Plan    False\n",
       "VMail Plan    False\n",
       "dtype: bool"
      ]
     },
     "execution_count": 38,
     "metadata": {},
     "output_type": "execute_result"
    }
   ],
   "source": [
    "# ambil kolom kategori dari x_train, simpan sebagai DataFrame categorical_data\n",
    "\n",
    "categorical_data = X_train[cat_columns]     \n",
    "\n",
    "# periksa missing values dalam categorical data\n",
    "\n",
    "categorical_data.isnull().any()"
   ]
  },
  {
   "cell_type": "code",
   "execution_count": 39,
   "metadata": {
    "collapsed": true
   },
   "outputs": [],
   "source": [
    "categorical_data = X_train[cat_columns] # pilih column categorical dari data\n",
    "categorical_data = categorical_data.fillna(value='KOSONG')  # isi missing values dengan kategori \"KOSONG\""
   ]
  },
  {
   "cell_type": "code",
   "execution_count": 40,
   "metadata": {
    "collapsed": false
   },
   "outputs": [
    {
     "data": {
      "text/plain": [
       "Int'l Plan    False\n",
       "VMail Plan    False\n",
       "dtype: bool"
      ]
     },
     "execution_count": 40,
     "metadata": {},
     "output_type": "execute_result"
    }
   ],
   "source": [
    "# periksa kembali missing valuesnya\n",
    "\n",
    "categorical_data.isnull().any()"
   ]
  },
  {
   "cell_type": "markdown",
   "metadata": {},
   "source": [
    "## Make a Function\n",
    "* Make a function to get the numerical variable and imput the missing values\n",
    "* Make a function to get the categorical variable and imput the missing values"
   ]
  },
  {
   "cell_type": "code",
   "execution_count": 41,
   "metadata": {
    "collapsed": true
   },
   "outputs": [],
   "source": [
    "imput_numerical = Imputer(missing_values='NaN', strategy='median')\n",
    "\n",
    "def numericalImputation(data, numerical_columns):\n",
    "    numerical_data = data[numerical_columns]\n",
    "    imput_numerical.fit(numerical_data)\n",
    "    \n",
    "    numerical_data_imputed = pd.DataFrame(imput_numerical.transform(numerical_data))\n",
    "    numerical_data_imputed.columns = numerical_columns\n",
    "    numerical_data_imputed.index = numerical_data.index\n",
    "    \n",
    "    return numerical_data_imputed, imput_numerical\n",
    "\n",
    "def categoricalImputation(data, categorical_columns):\n",
    "    categorical_data = data[categorical_columns].fillna(value=\"KOSONG\")\n",
    "    \n",
    "    return categorical_data\n",
    "\n",
    "X_train_numerical, imput_numerical = numericalImputation(data = X_train, numerical_columns = numerical_columns)\n",
    "X_train_categorical = categoricalImputation(data = X_train, categorical_columns = cat_columns)"
   ]
  },
  {
   "cell_type": "markdown",
   "metadata": {},
   "source": [
    "## Preprocessing Categorical Variables\n",
    "\n",
    "* create dummy variable for each of categorical variable"
   ]
  },
  {
   "cell_type": "code",
   "execution_count": 42,
   "metadata": {
    "collapsed": true
   },
   "outputs": [],
   "source": [
    "categorical_dummies = pd.get_dummies(X_train_categorical)"
   ]
  },
  {
   "cell_type": "code",
   "execution_count": 43,
   "metadata": {
    "collapsed": false
   },
   "outputs": [
    {
     "data": {
      "text/html": [
       "<div>\n",
       "<table border=\"1\" class=\"dataframe\">\n",
       "  <thead>\n",
       "    <tr style=\"text-align: right;\">\n",
       "      <th></th>\n",
       "      <th>Int'l Plan_no</th>\n",
       "      <th>Int'l Plan_yes</th>\n",
       "      <th>VMail Plan_no</th>\n",
       "      <th>VMail Plan_yes</th>\n",
       "    </tr>\n",
       "  </thead>\n",
       "  <tbody>\n",
       "    <tr>\n",
       "      <th>1881</th>\n",
       "      <td>1</td>\n",
       "      <td>0</td>\n",
       "      <td>1</td>\n",
       "      <td>0</td>\n",
       "    </tr>\n",
       "    <tr>\n",
       "      <th>48</th>\n",
       "      <td>1</td>\n",
       "      <td>0</td>\n",
       "      <td>1</td>\n",
       "      <td>0</td>\n",
       "    </tr>\n",
       "    <tr>\n",
       "      <th>2886</th>\n",
       "      <td>1</td>\n",
       "      <td>0</td>\n",
       "      <td>1</td>\n",
       "      <td>0</td>\n",
       "    </tr>\n",
       "    <tr>\n",
       "      <th>2294</th>\n",
       "      <td>1</td>\n",
       "      <td>0</td>\n",
       "      <td>1</td>\n",
       "      <td>0</td>\n",
       "    </tr>\n",
       "    <tr>\n",
       "      <th>314</th>\n",
       "      <td>1</td>\n",
       "      <td>0</td>\n",
       "      <td>1</td>\n",
       "      <td>0</td>\n",
       "    </tr>\n",
       "  </tbody>\n",
       "</table>\n",
       "</div>"
      ],
      "text/plain": [
       "      Int'l Plan_no  Int'l Plan_yes  VMail Plan_no  VMail Plan_yes\n",
       "1881              1               0              1               0\n",
       "48                1               0              1               0\n",
       "2886              1               0              1               0\n",
       "2294              1               0              1               0\n",
       "314               1               0              1               0"
      ]
     },
     "execution_count": 43,
     "metadata": {},
     "output_type": "execute_result"
    }
   ],
   "source": [
    "# periksa top observations\n",
    "\n",
    "categorical_dummies.head()"
   ]
  },
  {
   "cell_type": "markdown",
   "metadata": {},
   "source": [
    "### Make a function to get the dummies"
   ]
  },
  {
   "cell_type": "code",
   "execution_count": 44,
   "metadata": {
    "collapsed": true
   },
   "outputs": [],
   "source": [
    "def extractCategorical(data, categorical_columns):\n",
    "    X_train_categorical = categoricalImputation(data, categorical_columns)\n",
    "    categorical_dummies = pd.get_dummies(X_train_categorical)\n",
    "    \n",
    "    return categorical_dummies\n",
    "\n",
    "X_train_cat_dummies = extractCategorical(data = X_train, categorical_columns = cat_columns)\n",
    "dummies_columns = X_train_cat_dummies.columns"
   ]
  },
  {
   "cell_type": "code",
   "execution_count": 45,
   "metadata": {
    "collapsed": false
   },
   "outputs": [
    {
     "data": {
      "text/html": [
       "<div>\n",
       "<table border=\"1\" class=\"dataframe\">\n",
       "  <thead>\n",
       "    <tr style=\"text-align: right;\">\n",
       "      <th></th>\n",
       "      <th>Int'l Plan_no</th>\n",
       "      <th>Int'l Plan_yes</th>\n",
       "      <th>VMail Plan_no</th>\n",
       "      <th>VMail Plan_yes</th>\n",
       "    </tr>\n",
       "  </thead>\n",
       "  <tbody>\n",
       "    <tr>\n",
       "      <th>1881</th>\n",
       "      <td>1</td>\n",
       "      <td>0</td>\n",
       "      <td>1</td>\n",
       "      <td>0</td>\n",
       "    </tr>\n",
       "    <tr>\n",
       "      <th>48</th>\n",
       "      <td>1</td>\n",
       "      <td>0</td>\n",
       "      <td>1</td>\n",
       "      <td>0</td>\n",
       "    </tr>\n",
       "    <tr>\n",
       "      <th>2886</th>\n",
       "      <td>1</td>\n",
       "      <td>0</td>\n",
       "      <td>1</td>\n",
       "      <td>0</td>\n",
       "    </tr>\n",
       "    <tr>\n",
       "      <th>2294</th>\n",
       "      <td>1</td>\n",
       "      <td>0</td>\n",
       "      <td>1</td>\n",
       "      <td>0</td>\n",
       "    </tr>\n",
       "    <tr>\n",
       "      <th>314</th>\n",
       "      <td>1</td>\n",
       "      <td>0</td>\n",
       "      <td>1</td>\n",
       "      <td>0</td>\n",
       "    </tr>\n",
       "  </tbody>\n",
       "</table>\n",
       "</div>"
      ],
      "text/plain": [
       "      Int'l Plan_no  Int'l Plan_yes  VMail Plan_no  VMail Plan_yes\n",
       "1881              1               0              1               0\n",
       "48                1               0              1               0\n",
       "2886              1               0              1               0\n",
       "2294              1               0              1               0\n",
       "314               1               0              1               0"
      ]
     },
     "execution_count": 45,
     "metadata": {},
     "output_type": "execute_result"
    }
   ],
   "source": [
    "# check the top observations\n",
    "\n",
    "X_train_cat_dummies.head()"
   ]
  },
  {
   "cell_type": "markdown",
   "metadata": {},
   "source": [
    "## Join data Numerical dan Categorical"
   ]
  },
  {
   "cell_type": "code",
   "execution_count": 46,
   "metadata": {
    "collapsed": true
   },
   "outputs": [],
   "source": [
    "# ambil variabel numerical yang sudah tidak memiliki missing values dan variabel kategori yang sudah menjadi dummy\n",
    "# satukan kembali kolom tersebut menjadi x_train_concat\n",
    "\n",
    "X_train_concat = pd.concat([X_train_numerical, X_train_cat_dummies], axis=1)"
   ]
  },
  {
   "cell_type": "code",
   "execution_count": 47,
   "metadata": {
    "collapsed": false
   },
   "outputs": [
    {
     "data": {
      "text/html": [
       "<div>\n",
       "<table border=\"1\" class=\"dataframe\">\n",
       "  <thead>\n",
       "    <tr style=\"text-align: right;\">\n",
       "      <th></th>\n",
       "      <th>Account Length</th>\n",
       "      <th>VMail Message</th>\n",
       "      <th>Day Mins</th>\n",
       "      <th>Day Calls</th>\n",
       "      <th>Day Charge</th>\n",
       "      <th>Eve Mins</th>\n",
       "      <th>Eve Calls</th>\n",
       "      <th>Eve Charge</th>\n",
       "      <th>Night Mins</th>\n",
       "      <th>Night Calls</th>\n",
       "      <th>Night Charge</th>\n",
       "      <th>Intl Mins</th>\n",
       "      <th>Intl Calls</th>\n",
       "      <th>Intl Charge</th>\n",
       "      <th>CustServ Calls</th>\n",
       "      <th>Int'l Plan_no</th>\n",
       "      <th>Int'l Plan_yes</th>\n",
       "      <th>VMail Plan_no</th>\n",
       "      <th>VMail Plan_yes</th>\n",
       "    </tr>\n",
       "  </thead>\n",
       "  <tbody>\n",
       "    <tr>\n",
       "      <th>1881</th>\n",
       "      <td>76.0</td>\n",
       "      <td>0.0</td>\n",
       "      <td>272.7</td>\n",
       "      <td>97.0</td>\n",
       "      <td>46.36</td>\n",
       "      <td>236.4</td>\n",
       "      <td>95.0</td>\n",
       "      <td>20.09</td>\n",
       "      <td>235.5</td>\n",
       "      <td>105.0</td>\n",
       "      <td>10.60</td>\n",
       "      <td>7.7</td>\n",
       "      <td>2.0</td>\n",
       "      <td>2.08</td>\n",
       "      <td>0.0</td>\n",
       "      <td>1</td>\n",
       "      <td>0</td>\n",
       "      <td>1</td>\n",
       "      <td>0</td>\n",
       "    </tr>\n",
       "    <tr>\n",
       "      <th>48</th>\n",
       "      <td>119.0</td>\n",
       "      <td>0.0</td>\n",
       "      <td>159.1</td>\n",
       "      <td>114.0</td>\n",
       "      <td>27.05</td>\n",
       "      <td>231.3</td>\n",
       "      <td>117.0</td>\n",
       "      <td>19.66</td>\n",
       "      <td>143.2</td>\n",
       "      <td>91.0</td>\n",
       "      <td>6.44</td>\n",
       "      <td>8.8</td>\n",
       "      <td>3.0</td>\n",
       "      <td>2.38</td>\n",
       "      <td>5.0</td>\n",
       "      <td>1</td>\n",
       "      <td>0</td>\n",
       "      <td>1</td>\n",
       "      <td>0</td>\n",
       "    </tr>\n",
       "    <tr>\n",
       "      <th>2886</th>\n",
       "      <td>85.0</td>\n",
       "      <td>0.0</td>\n",
       "      <td>144.4</td>\n",
       "      <td>88.0</td>\n",
       "      <td>24.55</td>\n",
       "      <td>264.6</td>\n",
       "      <td>105.0</td>\n",
       "      <td>22.49</td>\n",
       "      <td>185.4</td>\n",
       "      <td>94.0</td>\n",
       "      <td>8.34</td>\n",
       "      <td>9.9</td>\n",
       "      <td>3.0</td>\n",
       "      <td>2.67</td>\n",
       "      <td>1.0</td>\n",
       "      <td>1</td>\n",
       "      <td>0</td>\n",
       "      <td>1</td>\n",
       "      <td>0</td>\n",
       "    </tr>\n",
       "    <tr>\n",
       "      <th>2294</th>\n",
       "      <td>59.0</td>\n",
       "      <td>0.0</td>\n",
       "      <td>189.7</td>\n",
       "      <td>100.0</td>\n",
       "      <td>32.25</td>\n",
       "      <td>115.9</td>\n",
       "      <td>133.0</td>\n",
       "      <td>9.85</td>\n",
       "      <td>220.6</td>\n",
       "      <td>115.0</td>\n",
       "      <td>9.93</td>\n",
       "      <td>7.4</td>\n",
       "      <td>4.0</td>\n",
       "      <td>2.00</td>\n",
       "      <td>0.0</td>\n",
       "      <td>1</td>\n",
       "      <td>0</td>\n",
       "      <td>1</td>\n",
       "      <td>0</td>\n",
       "    </tr>\n",
       "    <tr>\n",
       "      <th>314</th>\n",
       "      <td>128.0</td>\n",
       "      <td>0.0</td>\n",
       "      <td>125.2</td>\n",
       "      <td>99.0</td>\n",
       "      <td>21.28</td>\n",
       "      <td>205.4</td>\n",
       "      <td>107.0</td>\n",
       "      <td>17.46</td>\n",
       "      <td>254.4</td>\n",
       "      <td>111.0</td>\n",
       "      <td>11.45</td>\n",
       "      <td>18.9</td>\n",
       "      <td>2.0</td>\n",
       "      <td>5.10</td>\n",
       "      <td>0.0</td>\n",
       "      <td>1</td>\n",
       "      <td>0</td>\n",
       "      <td>1</td>\n",
       "      <td>0</td>\n",
       "    </tr>\n",
       "  </tbody>\n",
       "</table>\n",
       "</div>"
      ],
      "text/plain": [
       "      Account Length  VMail Message  Day Mins  Day Calls  Day Charge  \\\n",
       "1881            76.0            0.0     272.7       97.0       46.36   \n",
       "48             119.0            0.0     159.1      114.0       27.05   \n",
       "2886            85.0            0.0     144.4       88.0       24.55   \n",
       "2294            59.0            0.0     189.7      100.0       32.25   \n",
       "314            128.0            0.0     125.2       99.0       21.28   \n",
       "\n",
       "      Eve Mins  Eve Calls  Eve Charge  Night Mins  Night Calls  Night Charge  \\\n",
       "1881     236.4       95.0       20.09       235.5        105.0         10.60   \n",
       "48       231.3      117.0       19.66       143.2         91.0          6.44   \n",
       "2886     264.6      105.0       22.49       185.4         94.0          8.34   \n",
       "2294     115.9      133.0        9.85       220.6        115.0          9.93   \n",
       "314      205.4      107.0       17.46       254.4        111.0         11.45   \n",
       "\n",
       "      Intl Mins  Intl Calls  Intl Charge  CustServ Calls  Int'l Plan_no  \\\n",
       "1881        7.7         2.0         2.08             0.0              1   \n",
       "48          8.8         3.0         2.38             5.0              1   \n",
       "2886        9.9         3.0         2.67             1.0              1   \n",
       "2294        7.4         4.0         2.00             0.0              1   \n",
       "314        18.9         2.0         5.10             0.0              1   \n",
       "\n",
       "      Int'l Plan_yes  VMail Plan_no  VMail Plan_yes  \n",
       "1881               0              1               0  \n",
       "48                 0              1               0  \n",
       "2886               0              1               0  \n",
       "2294               0              1               0  \n",
       "314                0              1               0  "
      ]
     },
     "execution_count": 47,
     "metadata": {},
     "output_type": "execute_result"
    }
   ],
   "source": [
    "X_train_concat.head()"
   ]
  },
  {
   "cell_type": "code",
   "execution_count": 48,
   "metadata": {
    "collapsed": false,
    "scrolled": false
   },
   "outputs": [
    {
     "data": {
      "text/plain": [
       "Account Length    False\n",
       "VMail Message     False\n",
       "Day Mins          False\n",
       "Day Calls         False\n",
       "Day Charge        False\n",
       "Eve Mins          False\n",
       "Eve Calls         False\n",
       "Eve Charge        False\n",
       "Night Mins        False\n",
       "Night Calls       False\n",
       "Night Charge      False\n",
       "Intl Mins         False\n",
       "Intl Calls        False\n",
       "Intl Charge       False\n",
       "CustServ Calls    False\n",
       "Int'l Plan_no     False\n",
       "Int'l Plan_yes    False\n",
       "VMail Plan_no     False\n",
       "VMail Plan_yes    False\n",
       "dtype: bool"
      ]
     },
     "execution_count": 48,
     "metadata": {},
     "output_type": "execute_result"
    }
   ],
   "source": [
    "# Check NaN values\n",
    "\n",
    "X_train_concat.isnull().any()"
   ]
  },
  {
   "cell_type": "markdown",
   "metadata": {},
   "source": [
    "## Standardizing Variables\n",
    "\n",
    "- KEGUNAAN: Menyamakan skala dari variable input\n",
    "- fit: imputer agar mengetahui mean standard deviasi dari setiap column\n",
    "- transform: isi data dengan value yang dinormalisasi\n",
    "- output dari transform berupda pd dataframe\n",
    "- normalize dikeluarkan karena akan dipakai di test"
   ]
  },
  {
   "cell_type": "code",
   "execution_count": 49,
   "metadata": {
    "collapsed": true
   },
   "outputs": [],
   "source": [
    "from sklearn.preprocessing import StandardScaler\n",
    "\n",
    "def standardizer(data):\n",
    "    data_columns = data.columns\n",
    "    data_index = data.index\n",
    "    normalize = StandardScaler()\n",
    "    normalize.fit(data)\n",
    "    \n",
    "    normalize_x = pd.DataFrame(normalize.transform(data))\n",
    "    normalize_x.columns = data_columns\n",
    "    normalize_x.index = data_index\n",
    "    \n",
    "    return normalize_x, normalize\n",
    "\n",
    "X_train_clean, normalize = standardizer(X_train_concat)"
   ]
  },
  {
   "cell_type": "code",
   "execution_count": 50,
   "metadata": {
    "collapsed": false
   },
   "outputs": [
    {
     "data": {
      "text/html": [
       "<div>\n",
       "<table border=\"1\" class=\"dataframe\">\n",
       "  <thead>\n",
       "    <tr style=\"text-align: right;\">\n",
       "      <th></th>\n",
       "      <th>Account Length</th>\n",
       "      <th>VMail Message</th>\n",
       "      <th>Day Mins</th>\n",
       "      <th>Day Calls</th>\n",
       "      <th>Day Charge</th>\n",
       "      <th>Eve Mins</th>\n",
       "      <th>Eve Calls</th>\n",
       "      <th>Eve Charge</th>\n",
       "      <th>Night Mins</th>\n",
       "      <th>Night Calls</th>\n",
       "      <th>Night Charge</th>\n",
       "      <th>Intl Mins</th>\n",
       "      <th>Intl Calls</th>\n",
       "      <th>Intl Charge</th>\n",
       "      <th>CustServ Calls</th>\n",
       "      <th>Int'l Plan_no</th>\n",
       "      <th>Int'l Plan_yes</th>\n",
       "      <th>VMail Plan_no</th>\n",
       "      <th>VMail Plan_yes</th>\n",
       "    </tr>\n",
       "  </thead>\n",
       "  <tbody>\n",
       "    <tr>\n",
       "      <th>1881</th>\n",
       "      <td>-0.607469</td>\n",
       "      <td>-0.58996</td>\n",
       "      <td>1.714374</td>\n",
       "      <td>-0.177334</td>\n",
       "      <td>1.714428</td>\n",
       "      <td>0.704097</td>\n",
       "      <td>-0.248097</td>\n",
       "      <td>0.703106</td>\n",
       "      <td>0.681734</td>\n",
       "      <td>0.250960</td>\n",
       "      <td>0.682777</td>\n",
       "      <td>-0.919537</td>\n",
       "      <td>-0.999315</td>\n",
       "      <td>-0.918985</td>\n",
       "      <td>-1.178748</td>\n",
       "      <td>0.32451</td>\n",
       "      <td>-0.32451</td>\n",
       "      <td>0.616374</td>\n",
       "      <td>-0.616374</td>\n",
       "    </tr>\n",
       "    <tr>\n",
       "      <th>48</th>\n",
       "      <td>0.476222</td>\n",
       "      <td>-0.58996</td>\n",
       "      <td>-0.380475</td>\n",
       "      <td>0.674057</td>\n",
       "      <td>-0.380209</td>\n",
       "      <td>0.602810</td>\n",
       "      <td>0.856959</td>\n",
       "      <td>0.602636</td>\n",
       "      <td>-1.141555</td>\n",
       "      <td>-0.470287</td>\n",
       "      <td>-1.143310</td>\n",
       "      <td>-0.523387</td>\n",
       "      <td>-0.598446</td>\n",
       "      <td>-0.518813</td>\n",
       "      <td>2.591097</td>\n",
       "      <td>0.32451</td>\n",
       "      <td>-0.32451</td>\n",
       "      <td>0.616374</td>\n",
       "      <td>-0.616374</td>\n",
       "    </tr>\n",
       "    <tr>\n",
       "      <th>2886</th>\n",
       "      <td>-0.380650</td>\n",
       "      <td>-0.58996</td>\n",
       "      <td>-0.651551</td>\n",
       "      <td>-0.628070</td>\n",
       "      <td>-0.651394</td>\n",
       "      <td>1.264154</td>\n",
       "      <td>0.254201</td>\n",
       "      <td>1.263865</td>\n",
       "      <td>-0.307939</td>\n",
       "      <td>-0.315734</td>\n",
       "      <td>-0.309280</td>\n",
       "      <td>-0.127237</td>\n",
       "      <td>-0.598446</td>\n",
       "      <td>-0.131980</td>\n",
       "      <td>-0.424779</td>\n",
       "      <td>0.32451</td>\n",
       "      <td>-0.32451</td>\n",
       "      <td>0.616374</td>\n",
       "      <td>-0.616374</td>\n",
       "    </tr>\n",
       "    <tr>\n",
       "      <th>2294</th>\n",
       "      <td>-1.035905</td>\n",
       "      <td>-0.58996</td>\n",
       "      <td>0.183807</td>\n",
       "      <td>-0.027089</td>\n",
       "      <td>0.183857</td>\n",
       "      <td>-1.689055</td>\n",
       "      <td>1.660636</td>\n",
       "      <td>-1.689469</td>\n",
       "      <td>0.387401</td>\n",
       "      <td>0.766136</td>\n",
       "      <td>0.388672</td>\n",
       "      <td>-1.027578</td>\n",
       "      <td>-0.197577</td>\n",
       "      <td>-1.025698</td>\n",
       "      <td>-1.178748</td>\n",
       "      <td>0.32451</td>\n",
       "      <td>-0.32451</td>\n",
       "      <td>0.616374</td>\n",
       "      <td>-0.616374</td>\n",
       "    </tr>\n",
       "    <tr>\n",
       "      <th>314</th>\n",
       "      <td>0.703041</td>\n",
       "      <td>-0.58996</td>\n",
       "      <td>-1.005610</td>\n",
       "      <td>-0.077170</td>\n",
       "      <td>-1.006105</td>\n",
       "      <td>0.088431</td>\n",
       "      <td>0.354661</td>\n",
       "      <td>0.088606</td>\n",
       "      <td>1.055084</td>\n",
       "      <td>0.560066</td>\n",
       "      <td>1.055896</td>\n",
       "      <td>3.113992</td>\n",
       "      <td>-0.999315</td>\n",
       "      <td>3.109416</td>\n",
       "      <td>-1.178748</td>\n",
       "      <td>0.32451</td>\n",
       "      <td>-0.32451</td>\n",
       "      <td>0.616374</td>\n",
       "      <td>-0.616374</td>\n",
       "    </tr>\n",
       "  </tbody>\n",
       "</table>\n",
       "</div>"
      ],
      "text/plain": [
       "      Account Length  VMail Message  Day Mins  Day Calls  Day Charge  \\\n",
       "1881       -0.607469       -0.58996  1.714374  -0.177334    1.714428   \n",
       "48          0.476222       -0.58996 -0.380475   0.674057   -0.380209   \n",
       "2886       -0.380650       -0.58996 -0.651551  -0.628070   -0.651394   \n",
       "2294       -1.035905       -0.58996  0.183807  -0.027089    0.183857   \n",
       "314         0.703041       -0.58996 -1.005610  -0.077170   -1.006105   \n",
       "\n",
       "      Eve Mins  Eve Calls  Eve Charge  Night Mins  Night Calls  Night Charge  \\\n",
       "1881  0.704097  -0.248097    0.703106    0.681734     0.250960      0.682777   \n",
       "48    0.602810   0.856959    0.602636   -1.141555    -0.470287     -1.143310   \n",
       "2886  1.264154   0.254201    1.263865   -0.307939    -0.315734     -0.309280   \n",
       "2294 -1.689055   1.660636   -1.689469    0.387401     0.766136      0.388672   \n",
       "314   0.088431   0.354661    0.088606    1.055084     0.560066      1.055896   \n",
       "\n",
       "      Intl Mins  Intl Calls  Intl Charge  CustServ Calls  Int'l Plan_no  \\\n",
       "1881  -0.919537   -0.999315    -0.918985       -1.178748        0.32451   \n",
       "48    -0.523387   -0.598446    -0.518813        2.591097        0.32451   \n",
       "2886  -0.127237   -0.598446    -0.131980       -0.424779        0.32451   \n",
       "2294  -1.027578   -0.197577    -1.025698       -1.178748        0.32451   \n",
       "314    3.113992   -0.999315     3.109416       -1.178748        0.32451   \n",
       "\n",
       "      Int'l Plan_yes  VMail Plan_no  VMail Plan_yes  \n",
       "1881        -0.32451       0.616374       -0.616374  \n",
       "48          -0.32451       0.616374       -0.616374  \n",
       "2886        -0.32451       0.616374       -0.616374  \n",
       "2294        -0.32451       0.616374       -0.616374  \n",
       "314         -0.32451       0.616374       -0.616374  "
      ]
     },
     "execution_count": 50,
     "metadata": {},
     "output_type": "execute_result"
    }
   ],
   "source": [
    "X_train_clean.head()"
   ]
  },
  {
   "cell_type": "markdown",
   "metadata": {},
   "source": [
    "## 3. Training Machine Learning\n",
    "\n",
    "* Choose Score to optimize and Hyperparameter Space\n",
    "* Cross-Validation: Random vs Grid Search CV (Optional for Beginner Class)\n",
    "* Kita harus mengalahkan benchmark"
   ]
  },
  {
   "cell_type": "markdown",
   "metadata": {},
   "source": [
    "### Benchmark:"
   ]
  },
  {
   "cell_type": "code",
   "execution_count": 51,
   "metadata": {
    "collapsed": false
   },
   "outputs": [
    {
     "data": {
      "text/plain": [
       "False.    0.855086\n",
       "True.     0.144914\n",
       "Name: Churn?, dtype: float64"
      ]
     },
     "execution_count": 51,
     "metadata": {},
     "output_type": "execute_result"
    }
   ],
   "source": [
    "# benchmark ini adalah proporsi kelas target yang terbesar\n",
    "\n",
    "y.value_counts(normalize=True)"
   ]
  },
  {
   "cell_type": "code",
   "execution_count": 52,
   "metadata": {
    "collapsed": false
   },
   "outputs": [
    {
     "data": {
      "text/plain": [
       "0.85508550855085508"
      ]
     },
     "execution_count": 52,
     "metadata": {},
     "output_type": "execute_result"
    }
   ],
   "source": [
    "benchmark = y.value_counts(normalize=True)[0]\n",
    "\n",
    "benchmark"
   ]
  },
  {
   "cell_type": "code",
   "execution_count": 53,
   "metadata": {
    "collapsed": true
   },
   "outputs": [],
   "source": [
    "# Import classifier\n",
    "\n",
    "from sklearn.neighbors import KNeighborsClassifier\n",
    "from sklearn.linear_model import LogisticRegression\n",
    "from sklearn.ensemble import RandomForestClassifier"
   ]
  },
  {
   "cell_type": "code",
   "execution_count": 54,
   "metadata": {
    "collapsed": false
   },
   "outputs": [
    {
     "data": {
      "text/plain": [
       "KNeighborsClassifier(algorithm='auto', leaf_size=30, metric='minkowski',\n",
       "           metric_params=None, n_jobs=1, n_neighbors=5, p=2,\n",
       "           weights='uniform')"
      ]
     },
     "execution_count": 54,
     "metadata": {},
     "output_type": "execute_result"
    }
   ],
   "source": [
    "# Kernel Nearest Neighbor Classifier: fitting\n",
    "\n",
    "knn = KNeighborsClassifier()\n",
    "knn.fit(X_train_clean, y_train)"
   ]
  },
  {
   "cell_type": "code",
   "execution_count": 55,
   "metadata": {
    "collapsed": false
   },
   "outputs": [
    {
     "data": {
      "text/plain": [
       "LogisticRegression(C=1.0, class_weight=None, dual=False, fit_intercept=True,\n",
       "          intercept_scaling=1, max_iter=100, multi_class='ovr', n_jobs=1,\n",
       "          penalty='l2', random_state=123, solver='liblinear', tol=0.0001,\n",
       "          verbose=0, warm_start=False)"
      ]
     },
     "execution_count": 55,
     "metadata": {},
     "output_type": "execute_result"
    }
   ],
   "source": [
    "# Logistic Regression : fitting\n",
    "\n",
    "logreg = LogisticRegression(random_state=123)\n",
    "logreg.fit(X_train_clean, y_train)"
   ]
  },
  {
   "cell_type": "code",
   "execution_count": 56,
   "metadata": {
    "collapsed": false
   },
   "outputs": [
    {
     "data": {
      "text/plain": [
       "RandomForestClassifier(bootstrap=True, class_weight=None, criterion='gini',\n",
       "            max_depth=None, max_features='auto', max_leaf_nodes=None,\n",
       "            min_impurity_split=1e-07, min_samples_leaf=1,\n",
       "            min_samples_split=2, min_weight_fraction_leaf=0.0,\n",
       "            n_estimators=10, n_jobs=1, oob_score=False, random_state=123,\n",
       "            verbose=0, warm_start=False)"
      ]
     },
     "execution_count": 56,
     "metadata": {},
     "output_type": "execute_result"
    }
   ],
   "source": [
    "# Random Forest : fitting\n",
    "\n",
    "rf = RandomForestClassifier(random_state=123)\n",
    "rf.fit(X_train_clean, y_train)"
   ]
  },
  {
   "cell_type": "code",
   "execution_count": 57,
   "metadata": {
    "collapsed": true,
    "scrolled": true
   },
   "outputs": [],
   "source": [
    "# Predict\n",
    "\n",
    "knn_train_predicted = knn.predict(X_train_clean)\n",
    "logreg_train_predicted = logreg.predict(X_train_clean)\n",
    "rf_train_predicted = rf.predict(X_train_clean)"
   ]
  },
  {
   "cell_type": "code",
   "execution_count": 58,
   "metadata": {
    "collapsed": true
   },
   "outputs": [],
   "source": [
    "from sklearn.metrics import confusion_matrix"
   ]
  },
  {
   "cell_type": "code",
   "execution_count": 59,
   "metadata": {
    "collapsed": false
   },
   "outputs": [
    {
     "data": {
      "text/html": [
       "<div>\n",
       "<table border=\"1\" class=\"dataframe\">\n",
       "  <thead>\n",
       "    <tr style=\"text-align: right;\">\n",
       "      <th></th>\n",
       "      <th>0</th>\n",
       "      <th>1</th>\n",
       "    </tr>\n",
       "  </thead>\n",
       "  <tbody>\n",
       "    <tr>\n",
       "      <th>0</th>\n",
       "      <td>2264</td>\n",
       "      <td>14</td>\n",
       "    </tr>\n",
       "    <tr>\n",
       "      <th>1</th>\n",
       "      <td>186</td>\n",
       "      <td>202</td>\n",
       "    </tr>\n",
       "  </tbody>\n",
       "</table>\n",
       "</div>"
      ],
      "text/plain": [
       "      0    1\n",
       "0  2264   14\n",
       "1   186  202"
      ]
     },
     "execution_count": 59,
     "metadata": {},
     "output_type": "execute_result"
    }
   ],
   "source": [
    "knn_train_matrix = pd.DataFrame(confusion_matrix(y_train, knn_train_predicted))\n",
    "knn_train_matrix"
   ]
  },
  {
   "cell_type": "code",
   "execution_count": 60,
   "metadata": {
    "collapsed": false
   },
   "outputs": [
    {
     "data": {
      "text/html": [
       "<div>\n",
       "<table border=\"1\" class=\"dataframe\">\n",
       "  <thead>\n",
       "    <tr style=\"text-align: right;\">\n",
       "      <th></th>\n",
       "      <th>0</th>\n",
       "      <th>1</th>\n",
       "    </tr>\n",
       "  </thead>\n",
       "  <tbody>\n",
       "    <tr>\n",
       "      <th>0</th>\n",
       "      <td>2217</td>\n",
       "      <td>61</td>\n",
       "    </tr>\n",
       "    <tr>\n",
       "      <th>1</th>\n",
       "      <td>308</td>\n",
       "      <td>80</td>\n",
       "    </tr>\n",
       "  </tbody>\n",
       "</table>\n",
       "</div>"
      ],
      "text/plain": [
       "      0   1\n",
       "0  2217  61\n",
       "1   308  80"
      ]
     },
     "execution_count": 60,
     "metadata": {},
     "output_type": "execute_result"
    }
   ],
   "source": [
    "logreg_train_matrix = pd.DataFrame(confusion_matrix(y_train, logreg_train_predicted))\n",
    "logreg_train_matrix"
   ]
  },
  {
   "cell_type": "code",
   "execution_count": 61,
   "metadata": {
    "collapsed": false
   },
   "outputs": [
    {
     "data": {
      "text/html": [
       "<div>\n",
       "<table border=\"1\" class=\"dataframe\">\n",
       "  <thead>\n",
       "    <tr style=\"text-align: right;\">\n",
       "      <th></th>\n",
       "      <th>0</th>\n",
       "      <th>1</th>\n",
       "    </tr>\n",
       "  </thead>\n",
       "  <tbody>\n",
       "    <tr>\n",
       "      <th>0</th>\n",
       "      <td>2278</td>\n",
       "      <td>0</td>\n",
       "    </tr>\n",
       "    <tr>\n",
       "      <th>1</th>\n",
       "      <td>15</td>\n",
       "      <td>373</td>\n",
       "    </tr>\n",
       "  </tbody>\n",
       "</table>\n",
       "</div>"
      ],
      "text/plain": [
       "      0    1\n",
       "0  2278    0\n",
       "1    15  373"
      ]
     },
     "execution_count": 61,
     "metadata": {},
     "output_type": "execute_result"
    }
   ],
   "source": [
    "rf_train_matrix = pd.DataFrame(confusion_matrix(y_train, rf_train_predicted))\n",
    "rf_train_matrix"
   ]
  },
  {
   "cell_type": "code",
   "execution_count": 62,
   "metadata": {
    "collapsed": false
   },
   "outputs": [
    {
     "name": "stdout",
     "output_type": "stream",
     "text": [
      "Score train knn : 0.924981245311\n",
      "Score train logreg : 0.861590397599\n",
      "Score train rf : 0.994373593398\n",
      "Benchmark : 0.855085508551\n"
     ]
    }
   ],
   "source": [
    "# Cek performa model di data training\n",
    "\n",
    "print(\"Score train knn :\", knn.score(X_train_clean, y_train))\n",
    "print(\"Score train logreg :\", logreg.score(X_train_clean, y_train))\n",
    "print(\"Score train rf :\", rf.score(X_train_clean, y_train))\n",
    "print(\"Benchmark :\", benchmark)"
   ]
  },
  {
   "cell_type": "markdown",
   "metadata": {},
   "source": [
    "## Export necessary object\n",
    "\n",
    "Beberapa objek akan diperlukan kembali untuk mengolah future data. Objek-objek tersebut dapat disimpan menggunakan package joblib."
   ]
  },
  {
   "cell_type": "code",
   "execution_count": 63,
   "metadata": {
    "collapsed": true
   },
   "outputs": [],
   "source": [
    "# import package joblib untuk save and load object python\n",
    "\n",
    "from sklearn.externals import joblib"
   ]
  },
  {
   "cell_type": "code",
   "execution_count": 64,
   "metadata": {
    "collapsed": false
   },
   "outputs": [
    {
     "data": {
      "text/plain": [
       "['imput_numerical.pkl']"
      ]
     },
     "execution_count": 64,
     "metadata": {},
     "output_type": "execute_result"
    }
   ],
   "source": [
    "# dump imput_numerical\n",
    "\n",
    "joblib.dump(imput_numerical, 'imput_numerical.pkl')"
   ]
  },
  {
   "cell_type": "code",
   "execution_count": 65,
   "metadata": {
    "collapsed": false
   },
   "outputs": [
    {
     "data": {
      "text/plain": [
       "['standardizer.pkl']"
      ]
     },
     "execution_count": 65,
     "metadata": {},
     "output_type": "execute_result"
    }
   ],
   "source": [
    "# dump standardizer\n",
    "\n",
    "joblib.dump(normalize, 'standardizer.pkl')"
   ]
  },
  {
   "cell_type": "code",
   "execution_count": 66,
   "metadata": {
    "collapsed": false
   },
   "outputs": [
    {
     "data": {
      "text/plain": [
       "['dummies_columns.pkl']"
      ]
     },
     "execution_count": 66,
     "metadata": {},
     "output_type": "execute_result"
    }
   ],
   "source": [
    "# dump dummy_columns\n",
    "\n",
    "joblib.dump(dummies_columns, 'dummies_columns.pkl')"
   ]
  },
  {
   "cell_type": "code",
   "execution_count": 67,
   "metadata": {
    "collapsed": false
   },
   "outputs": [
    {
     "data": {
      "text/plain": [
       "['rf.pkl']"
      ]
     },
     "execution_count": 67,
     "metadata": {},
     "output_type": "execute_result"
    }
   ],
   "source": [
    "# dump machine learning model\n",
    "\n",
    "joblib.dump(knn, 'knn.pkl')\n",
    "joblib.dump(logreg, 'logreg.pkl')\n",
    "joblib.dump(rf, 'rf.pkl')"
   ]
  },
  {
   "cell_type": "markdown",
   "metadata": {},
   "source": [
    "## 4. Test Prediction"
   ]
  },
  {
   "cell_type": "markdown",
   "metadata": {},
   "source": [
    "### Preprocessing Test Data\n",
    "\n",
    "Buat lah sebuah function untuk preprocessing data test. Preprocessing yang dilakukan yakni imputation (numeric and categorical) dan standardizing.\n",
    " \n",
    "\n",
    "Function dinamakan dengan `extract_test` dan menerima 6 argument yaitu:\n",
    " 1. `data` : Data yang ingin diolah\n",
    " 2. `numerical_columns`   : Nama kolom numerik\n",
    " 3. `categorical_columns` : Nama kolom kategorik\n",
    " 4. `dummies_columns`     : Nama kolom dummy\n",
    " 5. `imput_numericals`    : Imputer untuk data numerical (hasil preprocessing data training)\n",
    " 6. `standardizer`        : Standardizer (hasil preprocessing data training)\n",
    " \n",
    " \n",
    "Lalu assign function tersebut pada suatu variabel yang dengan nama `x_test_clean`\n",
    "\n"
   ]
  },
  {
   "cell_type": "code",
   "execution_count": 68,
   "metadata": {
    "collapsed": true
   },
   "outputs": [],
   "source": [
    "# function definition\n",
    "\n",
    "def extract_test(data, numerical_columns, categorical_columns, dummies_columns, imput_numericals, standardizer):\n",
    "        \n",
    "    numerical_data = data[numerical_columns]\n",
    "    categorical_data = data[categorical_columns]\n",
    "    \n",
    "    numerical_data = pd.DataFrame(imput_numericals.transform(numerical_data))\n",
    "    numerical_data.columns = numerical_columns\n",
    "    numerical_data.index = data.index\n",
    "    \n",
    "    categorical_data = categorical_data.fillna(value=\"KOSONG\")\n",
    "    categorical_data.index = data.index\n",
    "    categorical_data = pd.get_dummies(categorical_data) \n",
    "    categorical_data.reindex(categorical_data.index, dummies_columns)\n",
    "    x_test = pd.concat([ numerical_data, categorical_data], axis = 1)\n",
    "    x_test_transform = pd.DataFrame(standardizer.transform(x_test))\n",
    "    x_test_transform.columns = x_test.columns\n",
    "    \n",
    "    return x_test_transform"
   ]
  },
  {
   "cell_type": "code",
   "execution_count": 69,
   "metadata": {
    "collapsed": false
   },
   "outputs": [],
   "source": [
    "# load necessary object\n",
    "\n",
    "dummies_columns = joblib.load('dummies_columns.pkl')\n",
    "imput_numerical = joblib.load('imput_numerical.pkl')\n",
    "standardizer = joblib.load('standardizer.pkl')"
   ]
  },
  {
   "cell_type": "code",
   "execution_count": 70,
   "metadata": {
    "collapsed": false
   },
   "outputs": [],
   "source": [
    "# preprocess test data\n",
    "\n",
    "X_test_clean = extract_test(data = X_test, numerical_columns = numerical_columns, \n",
    "                            categorical_columns = cat_columns, dummies_columns = dummies_columns, \n",
    "                            imput_numericals = imput_numerical, standardizer = standardizer)"
   ]
  },
  {
   "cell_type": "code",
   "execution_count": 71,
   "metadata": {
    "collapsed": false
   },
   "outputs": [
    {
     "data": {
      "text/html": [
       "<div>\n",
       "<table border=\"1\" class=\"dataframe\">\n",
       "  <thead>\n",
       "    <tr style=\"text-align: right;\">\n",
       "      <th></th>\n",
       "      <th>Account Length</th>\n",
       "      <th>VMail Message</th>\n",
       "      <th>Day Mins</th>\n",
       "      <th>Day Calls</th>\n",
       "      <th>Day Charge</th>\n",
       "      <th>Eve Mins</th>\n",
       "      <th>Eve Calls</th>\n",
       "      <th>Eve Charge</th>\n",
       "      <th>Night Mins</th>\n",
       "      <th>Night Calls</th>\n",
       "      <th>Night Charge</th>\n",
       "      <th>Intl Mins</th>\n",
       "      <th>Intl Calls</th>\n",
       "      <th>Intl Charge</th>\n",
       "      <th>CustServ Calls</th>\n",
       "      <th>Int'l Plan_no</th>\n",
       "      <th>Int'l Plan_yes</th>\n",
       "      <th>VMail Plan_no</th>\n",
       "      <th>VMail Plan_yes</th>\n",
       "    </tr>\n",
       "  </thead>\n",
       "  <tbody>\n",
       "    <tr>\n",
       "      <th>0</th>\n",
       "      <td>-0.733480</td>\n",
       "      <td>-0.589960</td>\n",
       "      <td>-0.028260</td>\n",
       "      <td>0.623975</td>\n",
       "      <td>-0.028752</td>\n",
       "      <td>-0.658311</td>\n",
       "      <td>-0.298327</td>\n",
       "      <td>-0.659073</td>\n",
       "      <td>-0.373127</td>\n",
       "      <td>0.560066</td>\n",
       "      <td>-0.375124</td>\n",
       "      <td>1.205269</td>\n",
       "      <td>-0.598446</td>\n",
       "      <td>1.201928</td>\n",
       "      <td>1.083159</td>\n",
       "      <td>-3.081568</td>\n",
       "      <td>3.081568</td>\n",
       "      <td>0.616374</td>\n",
       "      <td>-0.616374</td>\n",
       "    </tr>\n",
       "    <tr>\n",
       "      <th>1</th>\n",
       "      <td>0.325009</td>\n",
       "      <td>-0.589960</td>\n",
       "      <td>-0.437640</td>\n",
       "      <td>2.026266</td>\n",
       "      <td>-0.437700</td>\n",
       "      <td>1.109245</td>\n",
       "      <td>-1.403383</td>\n",
       "      <td>1.109656</td>\n",
       "      <td>-0.507454</td>\n",
       "      <td>1.178277</td>\n",
       "      <td>-0.506813</td>\n",
       "      <td>0.593036</td>\n",
       "      <td>0.203291</td>\n",
       "      <td>0.588330</td>\n",
       "      <td>0.329190</td>\n",
       "      <td>0.324510</td>\n",
       "      <td>-0.324510</td>\n",
       "      <td>0.616374</td>\n",
       "      <td>-0.616374</td>\n",
       "    </tr>\n",
       "    <tr>\n",
       "      <th>2</th>\n",
       "      <td>-1.388735</td>\n",
       "      <td>1.530943</td>\n",
       "      <td>-0.810140</td>\n",
       "      <td>0.173239</td>\n",
       "      <td>-0.809766</td>\n",
       "      <td>0.428041</td>\n",
       "      <td>0.053282</td>\n",
       "      <td>0.427399</td>\n",
       "      <td>0.683710</td>\n",
       "      <td>-0.418769</td>\n",
       "      <td>0.682777</td>\n",
       "      <td>-0.847510</td>\n",
       "      <td>0.604160</td>\n",
       "      <td>-0.852290</td>\n",
       "      <td>0.329190</td>\n",
       "      <td>0.324510</td>\n",
       "      <td>-0.324510</td>\n",
       "      <td>-1.622391</td>\n",
       "      <td>1.622391</td>\n",
       "    </tr>\n",
       "    <tr>\n",
       "      <th>3</th>\n",
       "      <td>-2.270809</td>\n",
       "      <td>-0.589960</td>\n",
       "      <td>0.060255</td>\n",
       "      <td>0.123157</td>\n",
       "      <td>0.060197</td>\n",
       "      <td>0.275117</td>\n",
       "      <td>-1.152234</td>\n",
       "      <td>0.275526</td>\n",
       "      <td>0.106894</td>\n",
       "      <td>-1.397604</td>\n",
       "      <td>0.107735</td>\n",
       "      <td>-0.559400</td>\n",
       "      <td>0.604160</td>\n",
       "      <td>-0.558830</td>\n",
       "      <td>0.329190</td>\n",
       "      <td>0.324510</td>\n",
       "      <td>-0.324510</td>\n",
       "      <td>0.616374</td>\n",
       "      <td>-0.616374</td>\n",
       "    </tr>\n",
       "    <tr>\n",
       "      <th>4</th>\n",
       "      <td>-0.305044</td>\n",
       "      <td>-0.589960</td>\n",
       "      <td>-0.764038</td>\n",
       "      <td>0.774221</td>\n",
       "      <td>-0.764207</td>\n",
       "      <td>0.696153</td>\n",
       "      <td>1.911785</td>\n",
       "      <td>0.696096</td>\n",
       "      <td>-0.432389</td>\n",
       "      <td>0.508548</td>\n",
       "      <td>-0.432189</td>\n",
       "      <td>-0.235277</td>\n",
       "      <td>-0.197577</td>\n",
       "      <td>-0.238692</td>\n",
       "      <td>1.083159</td>\n",
       "      <td>0.324510</td>\n",
       "      <td>-0.324510</td>\n",
       "      <td>0.616374</td>\n",
       "      <td>-0.616374</td>\n",
       "    </tr>\n",
       "  </tbody>\n",
       "</table>\n",
       "</div>"
      ],
      "text/plain": [
       "   Account Length  VMail Message  Day Mins  Day Calls  Day Charge  Eve Mins  \\\n",
       "0       -0.733480      -0.589960 -0.028260   0.623975   -0.028752 -0.658311   \n",
       "1        0.325009      -0.589960 -0.437640   2.026266   -0.437700  1.109245   \n",
       "2       -1.388735       1.530943 -0.810140   0.173239   -0.809766  0.428041   \n",
       "3       -2.270809      -0.589960  0.060255   0.123157    0.060197  0.275117   \n",
       "4       -0.305044      -0.589960 -0.764038   0.774221   -0.764207  0.696153   \n",
       "\n",
       "   Eve Calls  Eve Charge  Night Mins  Night Calls  Night Charge  Intl Mins  \\\n",
       "0  -0.298327   -0.659073   -0.373127     0.560066     -0.375124   1.205269   \n",
       "1  -1.403383    1.109656   -0.507454     1.178277     -0.506813   0.593036   \n",
       "2   0.053282    0.427399    0.683710    -0.418769      0.682777  -0.847510   \n",
       "3  -1.152234    0.275526    0.106894    -1.397604      0.107735  -0.559400   \n",
       "4   1.911785    0.696096   -0.432389     0.508548     -0.432189  -0.235277   \n",
       "\n",
       "   Intl Calls  Intl Charge  CustServ Calls  Int'l Plan_no  Int'l Plan_yes  \\\n",
       "0   -0.598446     1.201928        1.083159      -3.081568        3.081568   \n",
       "1    0.203291     0.588330        0.329190       0.324510       -0.324510   \n",
       "2    0.604160    -0.852290        0.329190       0.324510       -0.324510   \n",
       "3    0.604160    -0.558830        0.329190       0.324510       -0.324510   \n",
       "4   -0.197577    -0.238692        1.083159       0.324510       -0.324510   \n",
       "\n",
       "   VMail Plan_no  VMail Plan_yes  \n",
       "0       0.616374       -0.616374  \n",
       "1       0.616374       -0.616374  \n",
       "2      -1.622391        1.622391  \n",
       "3       0.616374       -0.616374  \n",
       "4       0.616374       -0.616374  "
      ]
     },
     "execution_count": 71,
     "metadata": {},
     "output_type": "execute_result"
    }
   ],
   "source": [
    "X_test_clean.head()"
   ]
  },
  {
   "cell_type": "markdown",
   "metadata": {},
   "source": [
    "### Predict Test Data"
   ]
  },
  {
   "cell_type": "code",
   "execution_count": 72,
   "metadata": {
    "collapsed": true
   },
   "outputs": [],
   "source": [
    "# load necessary object\n",
    "\n",
    "knn = joblib.load('knn.pkl')\n",
    "logreg = joblib.load('logreg.pkl')\n",
    "rf = joblib.load('rf.pkl')"
   ]
  },
  {
   "cell_type": "code",
   "execution_count": 73,
   "metadata": {
    "collapsed": true
   },
   "outputs": [],
   "source": [
    "knn_test_predicted = knn.predict(X_test_clean)\n",
    "logreg_test_predicted = logreg.predict(X_test_clean)\n",
    "rf_test_predicted = rf.predict(X_test_clean)"
   ]
  },
  {
   "cell_type": "code",
   "execution_count": 74,
   "metadata": {
    "collapsed": false
   },
   "outputs": [
    {
     "data": {
      "text/html": [
       "<div>\n",
       "<table border=\"1\" class=\"dataframe\">\n",
       "  <thead>\n",
       "    <tr style=\"text-align: right;\">\n",
       "      <th></th>\n",
       "      <th>0</th>\n",
       "      <th>1</th>\n",
       "    </tr>\n",
       "  </thead>\n",
       "  <tbody>\n",
       "    <tr>\n",
       "      <th>0</th>\n",
       "      <td>563</td>\n",
       "      <td>9</td>\n",
       "    </tr>\n",
       "    <tr>\n",
       "      <th>1</th>\n",
       "      <td>63</td>\n",
       "      <td>32</td>\n",
       "    </tr>\n",
       "  </tbody>\n",
       "</table>\n",
       "</div>"
      ],
      "text/plain": [
       "     0   1\n",
       "0  563   9\n",
       "1   63  32"
      ]
     },
     "execution_count": 74,
     "metadata": {},
     "output_type": "execute_result"
    }
   ],
   "source": [
    "knn_test_matrix = pd.DataFrame(confusion_matrix(y_test, knn_test_predicted))\n",
    "knn_test_matrix"
   ]
  },
  {
   "cell_type": "code",
   "execution_count": 75,
   "metadata": {
    "collapsed": false
   },
   "outputs": [
    {
     "data": {
      "text/html": [
       "<div>\n",
       "<table border=\"1\" class=\"dataframe\">\n",
       "  <thead>\n",
       "    <tr style=\"text-align: right;\">\n",
       "      <th></th>\n",
       "      <th>0</th>\n",
       "      <th>1</th>\n",
       "    </tr>\n",
       "  </thead>\n",
       "  <tbody>\n",
       "    <tr>\n",
       "      <th>0</th>\n",
       "      <td>557</td>\n",
       "      <td>15</td>\n",
       "    </tr>\n",
       "    <tr>\n",
       "      <th>1</th>\n",
       "      <td>72</td>\n",
       "      <td>23</td>\n",
       "    </tr>\n",
       "  </tbody>\n",
       "</table>\n",
       "</div>"
      ],
      "text/plain": [
       "     0   1\n",
       "0  557  15\n",
       "1   72  23"
      ]
     },
     "execution_count": 75,
     "metadata": {},
     "output_type": "execute_result"
    }
   ],
   "source": [
    "logreg_train_matrix = pd.DataFrame(confusion_matrix(y_test, logreg_test_predicted))\n",
    "logreg_train_matrix"
   ]
  },
  {
   "cell_type": "code",
   "execution_count": 76,
   "metadata": {
    "collapsed": false
   },
   "outputs": [
    {
     "data": {
      "text/html": [
       "<div>\n",
       "<table border=\"1\" class=\"dataframe\">\n",
       "  <thead>\n",
       "    <tr style=\"text-align: right;\">\n",
       "      <th></th>\n",
       "      <th>0</th>\n",
       "      <th>1</th>\n",
       "    </tr>\n",
       "  </thead>\n",
       "  <tbody>\n",
       "    <tr>\n",
       "      <th>0</th>\n",
       "      <td>563</td>\n",
       "      <td>9</td>\n",
       "    </tr>\n",
       "    <tr>\n",
       "      <th>1</th>\n",
       "      <td>27</td>\n",
       "      <td>68</td>\n",
       "    </tr>\n",
       "  </tbody>\n",
       "</table>\n",
       "</div>"
      ],
      "text/plain": [
       "     0   1\n",
       "0  563   9\n",
       "1   27  68"
      ]
     },
     "execution_count": 76,
     "metadata": {},
     "output_type": "execute_result"
    }
   ],
   "source": [
    "rf_train_matrix = pd.DataFrame(confusion_matrix(y_test, rf_test_predicted))\n",
    "rf_train_matrix"
   ]
  },
  {
   "cell_type": "code",
   "execution_count": 77,
   "metadata": {
    "collapsed": false
   },
   "outputs": [
    {
     "name": "stdout",
     "output_type": "stream",
     "text": [
      "Score test knn : 0.892053973013\n",
      "Score test logreg : 0.869565217391\n",
      "Score test rf : 0.946026986507\n",
      "Benchmark : 0.855085508551\n"
     ]
    }
   ],
   "source": [
    "print(\"Score test knn :\", knn.score(X_test_clean, y_test))\n",
    "print(\"Score test logreg :\", logreg.score(X_test_clean, y_test))\n",
    "print(\"Score test rf :\", rf.score(X_test_clean, y_test))\n",
    "print(\"Benchmark :\", benchmark)"
   ]
  },
  {
   "cell_type": "markdown",
   "metadata": {},
   "source": [
    "### RandomizedSearchCV"
   ]
  },
  {
   "cell_type": "code",
   "execution_count": 78,
   "metadata": {
    "collapsed": true
   },
   "outputs": [],
   "source": [
    "from sklearn.model_selection import RandomizedSearchCV, GridSearchCV"
   ]
  },
  {
   "cell_type": "code",
   "execution_count": 79,
   "metadata": {
    "collapsed": true
   },
   "outputs": [],
   "source": [
    "knn_param = {'n_neighbors':[1,2,3,4,5], 'p':[1,2,3]}"
   ]
  },
  {
   "cell_type": "code",
   "execution_count": 80,
   "metadata": {
    "collapsed": true
   },
   "outputs": [],
   "source": [
    "random_knn = RandomizedSearchCV(knn, param_distributions=knn_param, n_iter=3, cv=5, n_jobs=4, random_state=123)"
   ]
  },
  {
   "cell_type": "code",
   "execution_count": 81,
   "metadata": {
    "collapsed": false
   },
   "outputs": [
    {
     "data": {
      "text/plain": [
       "RandomizedSearchCV(cv=5, error_score='raise',\n",
       "          estimator=KNeighborsClassifier(algorithm='auto', leaf_size=30, metric='minkowski',\n",
       "           metric_params=None, n_jobs=1, n_neighbors=5, p=2,\n",
       "           weights='uniform'),\n",
       "          fit_params={}, iid=True, n_iter=3, n_jobs=4,\n",
       "          param_distributions={'n_neighbors': [1, 2, 3, 4, 5], 'p': [1, 2, 3]},\n",
       "          pre_dispatch='2*n_jobs', random_state=123, refit=True,\n",
       "          return_train_score=True, scoring=None, verbose=0)"
      ]
     },
     "execution_count": 81,
     "metadata": {},
     "output_type": "execute_result"
    }
   ],
   "source": [
    "random_knn.fit(X_train_clean, y_train)"
   ]
  },
  {
   "cell_type": "code",
   "execution_count": 82,
   "metadata": {
    "collapsed": false
   },
   "outputs": [
    {
     "data": {
      "text/plain": [
       "{'n_neighbors': 3, 'p': 2}"
      ]
     },
     "execution_count": 82,
     "metadata": {},
     "output_type": "execute_result"
    }
   ],
   "source": [
    "random_knn.best_params_"
   ]
  },
  {
   "cell_type": "code",
   "execution_count": 83,
   "metadata": {
    "collapsed": false
   },
   "outputs": [
    {
     "data": {
      "text/plain": [
       "0.88859714928732181"
      ]
     },
     "execution_count": 83,
     "metadata": {},
     "output_type": "execute_result"
    }
   ],
   "source": [
    "random_knn.best_score_"
   ]
  },
  {
   "cell_type": "code",
   "execution_count": 84,
   "metadata": {
    "collapsed": false
   },
   "outputs": [],
   "source": [
    "best_random_knn = KNeighborsClassifier(n_neighbors=random_knn.best_params_.get('n_neighbors'),\n",
    "                                      p=random_knn.best_params_.get('p'))"
   ]
  },
  {
   "cell_type": "code",
   "execution_count": 85,
   "metadata": {
    "collapsed": false
   },
   "outputs": [
    {
     "data": {
      "text/plain": [
       "KNeighborsClassifier(algorithm='auto', leaf_size=30, metric='minkowski',\n",
       "           metric_params=None, n_jobs=1, n_neighbors=3, p=2,\n",
       "           weights='uniform')"
      ]
     },
     "execution_count": 85,
     "metadata": {},
     "output_type": "execute_result"
    }
   ],
   "source": [
    "best_random_knn.fit(X_train_clean, y_train)"
   ]
  },
  {
   "cell_type": "code",
   "execution_count": 86,
   "metadata": {
    "collapsed": false
   },
   "outputs": [
    {
     "data": {
      "text/plain": [
       "0.8935532233883059"
      ]
     },
     "execution_count": 86,
     "metadata": {},
     "output_type": "execute_result"
    }
   ],
   "source": [
    "best_random_knn.score(X_test_clean, y_test)"
   ]
  },
  {
   "cell_type": "markdown",
   "metadata": {},
   "source": [
    "### GridSearchCV"
   ]
  },
  {
   "cell_type": "code",
   "execution_count": 87,
   "metadata": {
    "collapsed": true
   },
   "outputs": [],
   "source": [
    "grid_knn = GridSearchCV(knn, param_grid=knn_param)"
   ]
  },
  {
   "cell_type": "code",
   "execution_count": 88,
   "metadata": {
    "collapsed": false
   },
   "outputs": [
    {
     "data": {
      "text/plain": [
       "GridSearchCV(cv=None, error_score='raise',\n",
       "       estimator=KNeighborsClassifier(algorithm='auto', leaf_size=30, metric='minkowski',\n",
       "           metric_params=None, n_jobs=1, n_neighbors=5, p=2,\n",
       "           weights='uniform'),\n",
       "       fit_params={}, iid=True, n_jobs=1,\n",
       "       param_grid={'n_neighbors': [1, 2, 3, 4, 5], 'p': [1, 2, 3]},\n",
       "       pre_dispatch='2*n_jobs', refit=True, return_train_score=True,\n",
       "       scoring=None, verbose=0)"
      ]
     },
     "execution_count": 88,
     "metadata": {},
     "output_type": "execute_result"
    }
   ],
   "source": [
    "grid_knn.fit(X_train_clean, y_train)"
   ]
  },
  {
   "cell_type": "code",
   "execution_count": 89,
   "metadata": {
    "collapsed": false
   },
   "outputs": [
    {
     "data": {
      "text/plain": [
       "{'n_neighbors': 5, 'p': 1}"
      ]
     },
     "execution_count": 89,
     "metadata": {},
     "output_type": "execute_result"
    }
   ],
   "source": [
    "grid_knn.best_params_"
   ]
  },
  {
   "cell_type": "code",
   "execution_count": 90,
   "metadata": {
    "collapsed": false
   },
   "outputs": [
    {
     "data": {
      "text/plain": [
       "0.89272318079519875"
      ]
     },
     "execution_count": 90,
     "metadata": {},
     "output_type": "execute_result"
    }
   ],
   "source": [
    "grid_knn.best_score_"
   ]
  },
  {
   "cell_type": "code",
   "execution_count": 91,
   "metadata": {
    "collapsed": true
   },
   "outputs": [],
   "source": [
    "best_grid_knn = KNeighborsClassifier(n_neighbors=grid_knn.best_params_.get('n_neighbors'),\n",
    "                                    p=grid_knn.best_params_.get('p'))"
   ]
  },
  {
   "cell_type": "code",
   "execution_count": 92,
   "metadata": {
    "collapsed": false
   },
   "outputs": [
    {
     "data": {
      "text/plain": [
       "KNeighborsClassifier(algorithm='auto', leaf_size=30, metric='minkowski',\n",
       "           metric_params=None, n_jobs=1, n_neighbors=5, p=1,\n",
       "           weights='uniform')"
      ]
     },
     "execution_count": 92,
     "metadata": {},
     "output_type": "execute_result"
    }
   ],
   "source": [
    "best_grid_knn.fit(X_train_clean, y_train)"
   ]
  },
  {
   "cell_type": "code",
   "execution_count": 93,
   "metadata": {
    "collapsed": false
   },
   "outputs": [
    {
     "data": {
      "text/plain": [
       "0.89805097451274363"
      ]
     },
     "execution_count": 93,
     "metadata": {},
     "output_type": "execute_result"
    }
   ],
   "source": [
    "best_grid_knn.score(X_test_clean, y_test)"
   ]
  },
  {
   "cell_type": "markdown",
   "metadata": {},
   "source": [
    "### RandomizeSearchCV vs GridSearchCV"
   ]
  },
  {
   "cell_type": "code",
   "execution_count": 94,
   "metadata": {
    "collapsed": false
   },
   "outputs": [
    {
     "name": "stdout",
     "output_type": "stream",
     "text": [
      "RandomizeSearchCV KNN = 0.893553223388\n",
      "GridSearchCV KNN = 0.898050974513\n"
     ]
    }
   ],
   "source": [
    "print('RandomizeSearchCV KNN =', best_random_knn.score(X_test_clean, y_test))\n",
    "print('GridSearchCV KNN =', best_grid_knn.score(X_test_clean, y_test))"
   ]
  },
  {
   "cell_type": "code",
   "execution_count": null,
   "metadata": {
    "collapsed": true
   },
   "outputs": [],
   "source": []
  }
 ],
 "metadata": {
  "kernelspec": {
   "display_name": "Python 3",
   "language": "python",
   "name": "python3"
  },
  "language_info": {
   "codemirror_mode": {
    "name": "ipython",
    "version": 3
   },
   "file_extension": ".py",
   "mimetype": "text/x-python",
   "name": "python",
   "nbconvert_exporter": "python",
   "pygments_lexer": "ipython3",
   "version": "3.6.0"
  }
 },
 "nbformat": 4,
 "nbformat_minor": 2
}
