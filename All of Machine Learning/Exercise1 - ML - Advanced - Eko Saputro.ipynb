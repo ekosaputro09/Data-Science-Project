{
 "cells": [
  {
   "cell_type": "markdown",
   "metadata": {},
   "source": [
    "# Tugas Python Machine Learning with <font color='orange'> PACMANN</font> AI"
   ]
  },
  {
   "cell_type": "markdown",
   "metadata": {},
   "source": [
    "## Machine Learning Process <font color='blue'> Flowchart </font>:\n",
    "### 1. <font color='blue'> Importing Data to Python</font> \n",
    "    * Drop Duplicates \n",
    "### 2. <font color='blue'> Data Preprocessing:</font> \n",
    "    * Input-Output Split, Train-Test Split\n",
    "    * Imputation, Processing Categorical, Normalization \n",
    "### 3. <font color='blue'> Training Machine Learning:</font> \n",
    "    * Choose Score to optimize and Hyperparameter Space\n",
    "    "
   ]
  },
  {
   "cell_type": "markdown",
   "metadata": {},
   "source": [
    "## 1. <font color='blue'> Importing Data to Python</font>"
   ]
  },
  {
   "cell_type": "code",
   "execution_count": 1,
   "metadata": {
    "collapsed": true
   },
   "outputs": [],
   "source": [
    "# Import libraries\n",
    "\n",
    "import numpy as np # Import Numpy sebagai np\n",
    "import pandas as pd # Lalu import pandas sebagai pd"
   ]
  },
  {
   "cell_type": "markdown",
   "metadata": {
    "collapsed": true
   },
   "source": [
    "## Get Dataset\n",
    "\n",
    "Dibawah merupakan dokumentasi mengenai dataet yang akan digunakan. Data terdiri atas 2 kategori yaitu Numerical dan Categorical.\n",
    "\n",
    "### Dataset Information\n",
    "\n",
    "This dataset contains information on default payments, demographic factors, credit data, history of payment, and bill statements of credit card clients in Taiwan from April 2005 to September 2005.\n",
    "\n",
    "### Content\n",
    "\n",
    "There are 25 variables:\n",
    "\n",
    "- ID: ID of each client\n",
    "- LIMIT_BAL: Amount of given credit in NT dollars (includes individual and family/supplementary credit\n",
    "- SEX: Gender (1=male, 2=female)\n",
    "- EDUCATION: (1=graduate school, 2=university, 3=high school, 4=others, 5=unknown, 6=unknown)\n",
    "- MARRIAGE: Marital status (1=married, 2=single, 3=others)\n",
    "- AGE: Age in years\n",
    "- PAY_0: Repayment status in September, 2005 (-1=pay duly, 1=payment delay for one month, 2=payment delay for two months, ... 8=payment delay for eight months, 9=payment delay for nine months and above)\n",
    "- PAY_2: Repayment status in August, 2005 (scale same as above)\n",
    "- PAY_3: Repayment status in July, 2005 (scale same as above)\n",
    "- PAY_4: Repayment status in June, 2005 (scale same as above)\n",
    "- PAY_5: Repayment status in May, 2005 (scale same as above)\n",
    "- PAY_6: Repayment status in April, 2005 (scale same as above)\n",
    "- BILL_AMT1: Amount of bill statement in September, 2005 (NT dollar)\n",
    "- BILL_AMT2: Amount of bill statement in August, 2005 (NT dollar)\n",
    "- BILL_AMT3: Amount of bill statement in July, 2005 (NT dollar)\n",
    "- BILL_AMT4: Amount of bill statement in June, 2005 (NT dollar)\n",
    "- BILL_AMT5: Amount of bill statement in May, 2005 (NT dollar)\n",
    "- BILL_AMT6: Amount of bill statement in April, 2005 (NT dollar)\n",
    "- PAY_AMT1: Amount of previous payment in September, 2005 (NT dollar)\n",
    "- PAY_AMT2: Amount of previous payment in August, 2005 (NT dollar)\n",
    "- PAY_AMT3: Amount of previous payment in July, 2005 (NT dollar)\n",
    "- PAY_AMT4: Amount of previous payment in June, 2005 (NT dollar)\n",
    "- PAY_AMT5: Amount of previous payment in May, 2005 (NT dollar)\n",
    "- PAY_AMT6: Amount of previous payment in April, 2005 (NT dollar)\n",
    "default.payment.next.month: Default payment (1=yes, 0=no)\n"
   ]
  },
  {
   "cell_type": "code",
   "execution_count": 2,
   "metadata": {
    "collapsed": false
   },
   "outputs": [
    {
     "data": {
      "text/html": [
       "<div>\n",
       "<table border=\"1\" class=\"dataframe\">\n",
       "  <thead>\n",
       "    <tr style=\"text-align: right;\">\n",
       "      <th></th>\n",
       "      <th>Unnamed: 0</th>\n",
       "      <th>LIMIT_BAL</th>\n",
       "      <th>SEX</th>\n",
       "      <th>EDUCATION</th>\n",
       "      <th>MARRIAGE</th>\n",
       "      <th>AGE</th>\n",
       "      <th>PAY_0</th>\n",
       "      <th>PAY_2</th>\n",
       "      <th>PAY_3</th>\n",
       "      <th>PAY_4</th>\n",
       "      <th>...</th>\n",
       "      <th>BILL_AMT4</th>\n",
       "      <th>BILL_AMT5</th>\n",
       "      <th>BILL_AMT6</th>\n",
       "      <th>PAY_AMT1</th>\n",
       "      <th>PAY_AMT2</th>\n",
       "      <th>PAY_AMT3</th>\n",
       "      <th>PAY_AMT4</th>\n",
       "      <th>PAY_AMT5</th>\n",
       "      <th>PAY_AMT6</th>\n",
       "      <th>default.payment.next.month</th>\n",
       "    </tr>\n",
       "  </thead>\n",
       "  <tbody>\n",
       "    <tr>\n",
       "      <th>0</th>\n",
       "      <td>0</td>\n",
       "      <td>NaN</td>\n",
       "      <td>2.0</td>\n",
       "      <td>2.0</td>\n",
       "      <td>1.0</td>\n",
       "      <td>24.0</td>\n",
       "      <td>2.0</td>\n",
       "      <td>2.0</td>\n",
       "      <td>-1.0</td>\n",
       "      <td>-1.0</td>\n",
       "      <td>...</td>\n",
       "      <td>0.0</td>\n",
       "      <td>0.0</td>\n",
       "      <td>0.0</td>\n",
       "      <td>0.0</td>\n",
       "      <td>689.0</td>\n",
       "      <td>0.0</td>\n",
       "      <td>0.0</td>\n",
       "      <td>0.0</td>\n",
       "      <td>0.0</td>\n",
       "      <td>1</td>\n",
       "    </tr>\n",
       "    <tr>\n",
       "      <th>1</th>\n",
       "      <td>1</td>\n",
       "      <td>120000.0</td>\n",
       "      <td>2.0</td>\n",
       "      <td>2.0</td>\n",
       "      <td>2.0</td>\n",
       "      <td>26.0</td>\n",
       "      <td>-1.0</td>\n",
       "      <td>2.0</td>\n",
       "      <td>NaN</td>\n",
       "      <td>0.0</td>\n",
       "      <td>...</td>\n",
       "      <td>3272.0</td>\n",
       "      <td>3455.0</td>\n",
       "      <td>3261.0</td>\n",
       "      <td>0.0</td>\n",
       "      <td>1000.0</td>\n",
       "      <td>1000.0</td>\n",
       "      <td>1000.0</td>\n",
       "      <td>0.0</td>\n",
       "      <td>NaN</td>\n",
       "      <td>1</td>\n",
       "    </tr>\n",
       "    <tr>\n",
       "      <th>2</th>\n",
       "      <td>2</td>\n",
       "      <td>NaN</td>\n",
       "      <td>2.0</td>\n",
       "      <td>2.0</td>\n",
       "      <td>2.0</td>\n",
       "      <td>34.0</td>\n",
       "      <td>0.0</td>\n",
       "      <td>0.0</td>\n",
       "      <td>0.0</td>\n",
       "      <td>0.0</td>\n",
       "      <td>...</td>\n",
       "      <td>14331.0</td>\n",
       "      <td>14948.0</td>\n",
       "      <td>15549.0</td>\n",
       "      <td>1518.0</td>\n",
       "      <td>1500.0</td>\n",
       "      <td>1000.0</td>\n",
       "      <td>1000.0</td>\n",
       "      <td>1000.0</td>\n",
       "      <td>5000.0</td>\n",
       "      <td>0</td>\n",
       "    </tr>\n",
       "    <tr>\n",
       "      <th>3</th>\n",
       "      <td>3</td>\n",
       "      <td>50000.0</td>\n",
       "      <td>2.0</td>\n",
       "      <td>NaN</td>\n",
       "      <td>1.0</td>\n",
       "      <td>37.0</td>\n",
       "      <td>0.0</td>\n",
       "      <td>NaN</td>\n",
       "      <td>0.0</td>\n",
       "      <td>0.0</td>\n",
       "      <td>...</td>\n",
       "      <td>28314.0</td>\n",
       "      <td>28959.0</td>\n",
       "      <td>29547.0</td>\n",
       "      <td>2000.0</td>\n",
       "      <td>2019.0</td>\n",
       "      <td>1200.0</td>\n",
       "      <td>NaN</td>\n",
       "      <td>1069.0</td>\n",
       "      <td>1000.0</td>\n",
       "      <td>0</td>\n",
       "    </tr>\n",
       "    <tr>\n",
       "      <th>4</th>\n",
       "      <td>4</td>\n",
       "      <td>50000.0</td>\n",
       "      <td>NaN</td>\n",
       "      <td>NaN</td>\n",
       "      <td>1.0</td>\n",
       "      <td>57.0</td>\n",
       "      <td>-1.0</td>\n",
       "      <td>0.0</td>\n",
       "      <td>-1.0</td>\n",
       "      <td>0.0</td>\n",
       "      <td>...</td>\n",
       "      <td>20940.0</td>\n",
       "      <td>19146.0</td>\n",
       "      <td>19131.0</td>\n",
       "      <td>2000.0</td>\n",
       "      <td>NaN</td>\n",
       "      <td>10000.0</td>\n",
       "      <td>9000.0</td>\n",
       "      <td>689.0</td>\n",
       "      <td>679.0</td>\n",
       "      <td>0</td>\n",
       "    </tr>\n",
       "  </tbody>\n",
       "</table>\n",
       "<p>5 rows × 25 columns</p>\n",
       "</div>"
      ],
      "text/plain": [
       "   Unnamed: 0  LIMIT_BAL  SEX  EDUCATION  MARRIAGE   AGE  PAY_0  PAY_2  PAY_3  \\\n",
       "0           0        NaN  2.0        2.0       1.0  24.0    2.0    2.0   -1.0   \n",
       "1           1   120000.0  2.0        2.0       2.0  26.0   -1.0    2.0    NaN   \n",
       "2           2        NaN  2.0        2.0       2.0  34.0    0.0    0.0    0.0   \n",
       "3           3    50000.0  2.0        NaN       1.0  37.0    0.0    NaN    0.0   \n",
       "4           4    50000.0  NaN        NaN       1.0  57.0   -1.0    0.0   -1.0   \n",
       "\n",
       "   PAY_4             ...              BILL_AMT4  BILL_AMT5  BILL_AMT6  \\\n",
       "0   -1.0             ...                    0.0        0.0        0.0   \n",
       "1    0.0             ...                 3272.0     3455.0     3261.0   \n",
       "2    0.0             ...                14331.0    14948.0    15549.0   \n",
       "3    0.0             ...                28314.0    28959.0    29547.0   \n",
       "4    0.0             ...                20940.0    19146.0    19131.0   \n",
       "\n",
       "   PAY_AMT1  PAY_AMT2  PAY_AMT3  PAY_AMT4  PAY_AMT5  PAY_AMT6  \\\n",
       "0       0.0     689.0       0.0       0.0       0.0       0.0   \n",
       "1       0.0    1000.0    1000.0    1000.0       0.0       NaN   \n",
       "2    1518.0    1500.0    1000.0    1000.0    1000.0    5000.0   \n",
       "3    2000.0    2019.0    1200.0       NaN    1069.0    1000.0   \n",
       "4    2000.0       NaN   10000.0    9000.0     689.0     679.0   \n",
       "\n",
       "   default.payment.next.month  \n",
       "0                           1  \n",
       "1                           1  \n",
       "2                           0  \n",
       "3                           0  \n",
       "4                           0  \n",
       "\n",
       "[5 rows x 25 columns]"
      ]
     },
     "execution_count": 2,
     "metadata": {},
     "output_type": "execute_result"
    }
   ],
   "source": [
    "# Baca dataset \"credit_data.csv\" dengan menggunakan function read_csv()\n",
    "\n",
    "data_credit = pd.read_csv(\"credit_data.csv\", delimiter=\";\")\n",
    "\n",
    "\n",
    "# Check 5 Observasi pertama dataset\n",
    "\n",
    "data_credit.head()"
   ]
  },
  {
   "cell_type": "markdown",
   "metadata": {},
   "source": [
    "## Droping Duplicates"
   ]
  },
  {
   "cell_type": "code",
   "execution_count": 3,
   "metadata": {
    "collapsed": false
   },
   "outputs": [
    {
     "data": {
      "text/plain": [
       "(30000, 25)"
      ]
     },
     "execution_count": 3,
     "metadata": {},
     "output_type": "execute_result"
    }
   ],
   "source": [
    "# Cek shape dari data yang akan di drop dulicate nya\n",
    "\n",
    "data_credit.shape"
   ]
  },
  {
   "cell_type": "code",
   "execution_count": 4,
   "metadata": {
    "collapsed": false
   },
   "outputs": [
    {
     "data": {
      "text/plain": [
       "0"
      ]
     },
     "execution_count": 4,
     "metadata": {},
     "output_type": "execute_result"
    }
   ],
   "source": [
    "# Cek jika ada atau tidak obsevasi yang duplikat\n",
    "\n",
    "data_credit.duplicated().sum()"
   ]
  },
  {
   "cell_type": "code",
   "execution_count": 5,
   "metadata": {
    "collapsed": true
   },
   "outputs": [],
   "source": [
    "# Drop data yang duplikat\n",
    "\n",
    "data_credit = data_credit.drop_duplicates()"
   ]
  },
  {
   "cell_type": "code",
   "execution_count": 6,
   "metadata": {
    "collapsed": false
   },
   "outputs": [
    {
     "data": {
      "text/plain": [
       "(30000, 25)"
      ]
     },
     "execution_count": 6,
     "metadata": {},
     "output_type": "execute_result"
    }
   ],
   "source": [
    "# Cek kembali shape\n",
    "\n",
    "data_credit.shape"
   ]
  },
  {
   "cell_type": "markdown",
   "metadata": {},
   "source": [
    "## Deleting Unnecassary Column\n",
    "\n",
    "Di datet kita akan ada sebuah kolom bernama `Unnamed: 0` yang tidak diperlukan. Hapus kolom tersebut menggunakan function `drop()` yang sudah ada di dalam paket pandas."
   ]
  },
  {
   "cell_type": "code",
   "execution_count": 7,
   "metadata": {
    "collapsed": false
   },
   "outputs": [
    {
     "data": {
      "text/plain": [
       "(30000, 25)"
      ]
     },
     "execution_count": 7,
     "metadata": {},
     "output_type": "execute_result"
    }
   ],
   "source": [
    "# Cek shape data\n",
    "\n",
    "data_credit.shape"
   ]
  },
  {
   "cell_type": "code",
   "execution_count": 8,
   "metadata": {
    "collapsed": false
   },
   "outputs": [
    {
     "data": {
      "text/html": [
       "<div>\n",
       "<table border=\"1\" class=\"dataframe\">\n",
       "  <thead>\n",
       "    <tr style=\"text-align: right;\">\n",
       "      <th></th>\n",
       "      <th>Unnamed: 0</th>\n",
       "      <th>LIMIT_BAL</th>\n",
       "      <th>SEX</th>\n",
       "      <th>EDUCATION</th>\n",
       "      <th>MARRIAGE</th>\n",
       "      <th>AGE</th>\n",
       "      <th>PAY_0</th>\n",
       "      <th>PAY_2</th>\n",
       "      <th>PAY_3</th>\n",
       "      <th>PAY_4</th>\n",
       "      <th>...</th>\n",
       "      <th>BILL_AMT4</th>\n",
       "      <th>BILL_AMT5</th>\n",
       "      <th>BILL_AMT6</th>\n",
       "      <th>PAY_AMT1</th>\n",
       "      <th>PAY_AMT2</th>\n",
       "      <th>PAY_AMT3</th>\n",
       "      <th>PAY_AMT4</th>\n",
       "      <th>PAY_AMT5</th>\n",
       "      <th>PAY_AMT6</th>\n",
       "      <th>default.payment.next.month</th>\n",
       "    </tr>\n",
       "  </thead>\n",
       "  <tbody>\n",
       "    <tr>\n",
       "      <th>0</th>\n",
       "      <td>0</td>\n",
       "      <td>NaN</td>\n",
       "      <td>2.0</td>\n",
       "      <td>2.0</td>\n",
       "      <td>1.0</td>\n",
       "      <td>24.0</td>\n",
       "      <td>2.0</td>\n",
       "      <td>2.0</td>\n",
       "      <td>-1.0</td>\n",
       "      <td>-1.0</td>\n",
       "      <td>...</td>\n",
       "      <td>0.0</td>\n",
       "      <td>0.0</td>\n",
       "      <td>0.0</td>\n",
       "      <td>0.0</td>\n",
       "      <td>689.0</td>\n",
       "      <td>0.0</td>\n",
       "      <td>0.0</td>\n",
       "      <td>0.0</td>\n",
       "      <td>0.0</td>\n",
       "      <td>1</td>\n",
       "    </tr>\n",
       "    <tr>\n",
       "      <th>1</th>\n",
       "      <td>1</td>\n",
       "      <td>120000.0</td>\n",
       "      <td>2.0</td>\n",
       "      <td>2.0</td>\n",
       "      <td>2.0</td>\n",
       "      <td>26.0</td>\n",
       "      <td>-1.0</td>\n",
       "      <td>2.0</td>\n",
       "      <td>NaN</td>\n",
       "      <td>0.0</td>\n",
       "      <td>...</td>\n",
       "      <td>3272.0</td>\n",
       "      <td>3455.0</td>\n",
       "      <td>3261.0</td>\n",
       "      <td>0.0</td>\n",
       "      <td>1000.0</td>\n",
       "      <td>1000.0</td>\n",
       "      <td>1000.0</td>\n",
       "      <td>0.0</td>\n",
       "      <td>NaN</td>\n",
       "      <td>1</td>\n",
       "    </tr>\n",
       "    <tr>\n",
       "      <th>2</th>\n",
       "      <td>2</td>\n",
       "      <td>NaN</td>\n",
       "      <td>2.0</td>\n",
       "      <td>2.0</td>\n",
       "      <td>2.0</td>\n",
       "      <td>34.0</td>\n",
       "      <td>0.0</td>\n",
       "      <td>0.0</td>\n",
       "      <td>0.0</td>\n",
       "      <td>0.0</td>\n",
       "      <td>...</td>\n",
       "      <td>14331.0</td>\n",
       "      <td>14948.0</td>\n",
       "      <td>15549.0</td>\n",
       "      <td>1518.0</td>\n",
       "      <td>1500.0</td>\n",
       "      <td>1000.0</td>\n",
       "      <td>1000.0</td>\n",
       "      <td>1000.0</td>\n",
       "      <td>5000.0</td>\n",
       "      <td>0</td>\n",
       "    </tr>\n",
       "    <tr>\n",
       "      <th>3</th>\n",
       "      <td>3</td>\n",
       "      <td>50000.0</td>\n",
       "      <td>2.0</td>\n",
       "      <td>NaN</td>\n",
       "      <td>1.0</td>\n",
       "      <td>37.0</td>\n",
       "      <td>0.0</td>\n",
       "      <td>NaN</td>\n",
       "      <td>0.0</td>\n",
       "      <td>0.0</td>\n",
       "      <td>...</td>\n",
       "      <td>28314.0</td>\n",
       "      <td>28959.0</td>\n",
       "      <td>29547.0</td>\n",
       "      <td>2000.0</td>\n",
       "      <td>2019.0</td>\n",
       "      <td>1200.0</td>\n",
       "      <td>NaN</td>\n",
       "      <td>1069.0</td>\n",
       "      <td>1000.0</td>\n",
       "      <td>0</td>\n",
       "    </tr>\n",
       "    <tr>\n",
       "      <th>4</th>\n",
       "      <td>4</td>\n",
       "      <td>50000.0</td>\n",
       "      <td>NaN</td>\n",
       "      <td>NaN</td>\n",
       "      <td>1.0</td>\n",
       "      <td>57.0</td>\n",
       "      <td>-1.0</td>\n",
       "      <td>0.0</td>\n",
       "      <td>-1.0</td>\n",
       "      <td>0.0</td>\n",
       "      <td>...</td>\n",
       "      <td>20940.0</td>\n",
       "      <td>19146.0</td>\n",
       "      <td>19131.0</td>\n",
       "      <td>2000.0</td>\n",
       "      <td>NaN</td>\n",
       "      <td>10000.0</td>\n",
       "      <td>9000.0</td>\n",
       "      <td>689.0</td>\n",
       "      <td>679.0</td>\n",
       "      <td>0</td>\n",
       "    </tr>\n",
       "  </tbody>\n",
       "</table>\n",
       "<p>5 rows × 25 columns</p>\n",
       "</div>"
      ],
      "text/plain": [
       "   Unnamed: 0  LIMIT_BAL  SEX  EDUCATION  MARRIAGE   AGE  PAY_0  PAY_2  PAY_3  \\\n",
       "0           0        NaN  2.0        2.0       1.0  24.0    2.0    2.0   -1.0   \n",
       "1           1   120000.0  2.0        2.0       2.0  26.0   -1.0    2.0    NaN   \n",
       "2           2        NaN  2.0        2.0       2.0  34.0    0.0    0.0    0.0   \n",
       "3           3    50000.0  2.0        NaN       1.0  37.0    0.0    NaN    0.0   \n",
       "4           4    50000.0  NaN        NaN       1.0  57.0   -1.0    0.0   -1.0   \n",
       "\n",
       "   PAY_4             ...              BILL_AMT4  BILL_AMT5  BILL_AMT6  \\\n",
       "0   -1.0             ...                    0.0        0.0        0.0   \n",
       "1    0.0             ...                 3272.0     3455.0     3261.0   \n",
       "2    0.0             ...                14331.0    14948.0    15549.0   \n",
       "3    0.0             ...                28314.0    28959.0    29547.0   \n",
       "4    0.0             ...                20940.0    19146.0    19131.0   \n",
       "\n",
       "   PAY_AMT1  PAY_AMT2  PAY_AMT3  PAY_AMT4  PAY_AMT5  PAY_AMT6  \\\n",
       "0       0.0     689.0       0.0       0.0       0.0       0.0   \n",
       "1       0.0    1000.0    1000.0    1000.0       0.0       NaN   \n",
       "2    1518.0    1500.0    1000.0    1000.0    1000.0    5000.0   \n",
       "3    2000.0    2019.0    1200.0       NaN    1069.0    1000.0   \n",
       "4    2000.0       NaN   10000.0    9000.0     689.0     679.0   \n",
       "\n",
       "   default.payment.next.month  \n",
       "0                           1  \n",
       "1                           1  \n",
       "2                           0  \n",
       "3                           0  \n",
       "4                           0  \n",
       "\n",
       "[5 rows x 25 columns]"
      ]
     },
     "execution_count": 8,
     "metadata": {},
     "output_type": "execute_result"
    }
   ],
   "source": [
    "# Gunakan head() untuk menampilkan kolom yang tidak diperlukan\n",
    "\n",
    "data_credit.head()"
   ]
  },
  {
   "cell_type": "code",
   "execution_count": 9,
   "metadata": {
    "collapsed": false
   },
   "outputs": [],
   "source": [
    "# Drop Kolom tersebut\n",
    "\n",
    "data_credit = data_credit.drop('Unnamed: 0', axis=1)"
   ]
  },
  {
   "cell_type": "code",
   "execution_count": 10,
   "metadata": {
    "collapsed": false
   },
   "outputs": [
    {
     "data": {
      "text/html": [
       "<div>\n",
       "<table border=\"1\" class=\"dataframe\">\n",
       "  <thead>\n",
       "    <tr style=\"text-align: right;\">\n",
       "      <th></th>\n",
       "      <th>LIMIT_BAL</th>\n",
       "      <th>SEX</th>\n",
       "      <th>EDUCATION</th>\n",
       "      <th>MARRIAGE</th>\n",
       "      <th>AGE</th>\n",
       "      <th>PAY_0</th>\n",
       "      <th>PAY_2</th>\n",
       "      <th>PAY_3</th>\n",
       "      <th>PAY_4</th>\n",
       "      <th>PAY_5</th>\n",
       "      <th>...</th>\n",
       "      <th>BILL_AMT4</th>\n",
       "      <th>BILL_AMT5</th>\n",
       "      <th>BILL_AMT6</th>\n",
       "      <th>PAY_AMT1</th>\n",
       "      <th>PAY_AMT2</th>\n",
       "      <th>PAY_AMT3</th>\n",
       "      <th>PAY_AMT4</th>\n",
       "      <th>PAY_AMT5</th>\n",
       "      <th>PAY_AMT6</th>\n",
       "      <th>default.payment.next.month</th>\n",
       "    </tr>\n",
       "  </thead>\n",
       "  <tbody>\n",
       "    <tr>\n",
       "      <th>0</th>\n",
       "      <td>NaN</td>\n",
       "      <td>2.0</td>\n",
       "      <td>2.0</td>\n",
       "      <td>1.0</td>\n",
       "      <td>24.0</td>\n",
       "      <td>2.0</td>\n",
       "      <td>2.0</td>\n",
       "      <td>-1.0</td>\n",
       "      <td>-1.0</td>\n",
       "      <td>-2.0</td>\n",
       "      <td>...</td>\n",
       "      <td>0.0</td>\n",
       "      <td>0.0</td>\n",
       "      <td>0.0</td>\n",
       "      <td>0.0</td>\n",
       "      <td>689.0</td>\n",
       "      <td>0.0</td>\n",
       "      <td>0.0</td>\n",
       "      <td>0.0</td>\n",
       "      <td>0.0</td>\n",
       "      <td>1</td>\n",
       "    </tr>\n",
       "    <tr>\n",
       "      <th>1</th>\n",
       "      <td>120000.0</td>\n",
       "      <td>2.0</td>\n",
       "      <td>2.0</td>\n",
       "      <td>2.0</td>\n",
       "      <td>26.0</td>\n",
       "      <td>-1.0</td>\n",
       "      <td>2.0</td>\n",
       "      <td>NaN</td>\n",
       "      <td>0.0</td>\n",
       "      <td>0.0</td>\n",
       "      <td>...</td>\n",
       "      <td>3272.0</td>\n",
       "      <td>3455.0</td>\n",
       "      <td>3261.0</td>\n",
       "      <td>0.0</td>\n",
       "      <td>1000.0</td>\n",
       "      <td>1000.0</td>\n",
       "      <td>1000.0</td>\n",
       "      <td>0.0</td>\n",
       "      <td>NaN</td>\n",
       "      <td>1</td>\n",
       "    </tr>\n",
       "    <tr>\n",
       "      <th>2</th>\n",
       "      <td>NaN</td>\n",
       "      <td>2.0</td>\n",
       "      <td>2.0</td>\n",
       "      <td>2.0</td>\n",
       "      <td>34.0</td>\n",
       "      <td>0.0</td>\n",
       "      <td>0.0</td>\n",
       "      <td>0.0</td>\n",
       "      <td>0.0</td>\n",
       "      <td>0.0</td>\n",
       "      <td>...</td>\n",
       "      <td>14331.0</td>\n",
       "      <td>14948.0</td>\n",
       "      <td>15549.0</td>\n",
       "      <td>1518.0</td>\n",
       "      <td>1500.0</td>\n",
       "      <td>1000.0</td>\n",
       "      <td>1000.0</td>\n",
       "      <td>1000.0</td>\n",
       "      <td>5000.0</td>\n",
       "      <td>0</td>\n",
       "    </tr>\n",
       "    <tr>\n",
       "      <th>3</th>\n",
       "      <td>50000.0</td>\n",
       "      <td>2.0</td>\n",
       "      <td>NaN</td>\n",
       "      <td>1.0</td>\n",
       "      <td>37.0</td>\n",
       "      <td>0.0</td>\n",
       "      <td>NaN</td>\n",
       "      <td>0.0</td>\n",
       "      <td>0.0</td>\n",
       "      <td>0.0</td>\n",
       "      <td>...</td>\n",
       "      <td>28314.0</td>\n",
       "      <td>28959.0</td>\n",
       "      <td>29547.0</td>\n",
       "      <td>2000.0</td>\n",
       "      <td>2019.0</td>\n",
       "      <td>1200.0</td>\n",
       "      <td>NaN</td>\n",
       "      <td>1069.0</td>\n",
       "      <td>1000.0</td>\n",
       "      <td>0</td>\n",
       "    </tr>\n",
       "    <tr>\n",
       "      <th>4</th>\n",
       "      <td>50000.0</td>\n",
       "      <td>NaN</td>\n",
       "      <td>NaN</td>\n",
       "      <td>1.0</td>\n",
       "      <td>57.0</td>\n",
       "      <td>-1.0</td>\n",
       "      <td>0.0</td>\n",
       "      <td>-1.0</td>\n",
       "      <td>0.0</td>\n",
       "      <td>0.0</td>\n",
       "      <td>...</td>\n",
       "      <td>20940.0</td>\n",
       "      <td>19146.0</td>\n",
       "      <td>19131.0</td>\n",
       "      <td>2000.0</td>\n",
       "      <td>NaN</td>\n",
       "      <td>10000.0</td>\n",
       "      <td>9000.0</td>\n",
       "      <td>689.0</td>\n",
       "      <td>679.0</td>\n",
       "      <td>0</td>\n",
       "    </tr>\n",
       "  </tbody>\n",
       "</table>\n",
       "<p>5 rows × 24 columns</p>\n",
       "</div>"
      ],
      "text/plain": [
       "   LIMIT_BAL  SEX  EDUCATION  MARRIAGE   AGE  PAY_0  PAY_2  PAY_3  PAY_4  \\\n",
       "0        NaN  2.0        2.0       1.0  24.0    2.0    2.0   -1.0   -1.0   \n",
       "1   120000.0  2.0        2.0       2.0  26.0   -1.0    2.0    NaN    0.0   \n",
       "2        NaN  2.0        2.0       2.0  34.0    0.0    0.0    0.0    0.0   \n",
       "3    50000.0  2.0        NaN       1.0  37.0    0.0    NaN    0.0    0.0   \n",
       "4    50000.0  NaN        NaN       1.0  57.0   -1.0    0.0   -1.0    0.0   \n",
       "\n",
       "   PAY_5             ...              BILL_AMT4  BILL_AMT5  BILL_AMT6  \\\n",
       "0   -2.0             ...                    0.0        0.0        0.0   \n",
       "1    0.0             ...                 3272.0     3455.0     3261.0   \n",
       "2    0.0             ...                14331.0    14948.0    15549.0   \n",
       "3    0.0             ...                28314.0    28959.0    29547.0   \n",
       "4    0.0             ...                20940.0    19146.0    19131.0   \n",
       "\n",
       "   PAY_AMT1  PAY_AMT2  PAY_AMT3  PAY_AMT4  PAY_AMT5  PAY_AMT6  \\\n",
       "0       0.0     689.0       0.0       0.0       0.0       0.0   \n",
       "1       0.0    1000.0    1000.0    1000.0       0.0       NaN   \n",
       "2    1518.0    1500.0    1000.0    1000.0    1000.0    5000.0   \n",
       "3    2000.0    2019.0    1200.0       NaN    1069.0    1000.0   \n",
       "4    2000.0       NaN   10000.0    9000.0     689.0     679.0   \n",
       "\n",
       "   default.payment.next.month  \n",
       "0                           1  \n",
       "1                           1  \n",
       "2                           0  \n",
       "3                           0  \n",
       "4                           0  \n",
       "\n",
       "[5 rows x 24 columns]"
      ]
     },
     "execution_count": 10,
     "metadata": {},
     "output_type": "execute_result"
    }
   ],
   "source": [
    "# Cek kembali data\n",
    "\n",
    "data_credit.head()"
   ]
  },
  {
   "cell_type": "markdown",
   "metadata": {},
   "source": [
    "### Make function to import and drop \n",
    "\n",
    "Buat lah sebuah function dengan spesifikasi:\n",
    "\n",
    " 1. import data\n",
    " 2. cek JUMLAH OBSERVASI dan JUMLAH COLUMN\n",
    " 3. drop duplicate\n",
    " 4. drop unnecassary column\n",
    " 5. cek JUMLAH OBSERVASI dan JUMLAH COLUMN, setelah di-drop\n",
    " 6. return data setelah di-drop\n",
    "\n",
    "Function dinamakan dengan `import_data` dan menerima 3 argument yaitu:\n",
    "\n",
    " 1. `filename`: Direktori dimana data tersimpan\n",
    " 2. `drop`    : Nama kolom yang ingin di hapus\n",
    " 3. `axis`    : Argument untuk `drop()`\n",
    " \n",
    "Lalu assign function tersebut pada suatu variabel yang dengan nama `data_credit`"
   ]
  },
  {
   "cell_type": "code",
   "execution_count": 11,
   "metadata": {
    "collapsed": false
   },
   "outputs": [
    {
     "name": "stdout",
     "output_type": "stream",
     "text": [
      "Data asli (Jumlah Observasi, Jumlah Column) : (30000, 25)\n",
      "Banyaknya data duplicate : 0\n",
      "Data setelah di drop (Jumlah Observasi, Jumlah Column) : (30000, 24)\n"
     ]
    }
   ],
   "source": [
    "# Buatlah function \n",
    "\n",
    "def import_data(filename, drop, axis):\n",
    "    data = pd.read_csv(filename, delimiter=';')\n",
    "    print(\"Data asli (Jumlah Observasi, Jumlah Column) :\", data.shape)\n",
    "    print(\"Banyaknya data duplicate :\", data.duplicated().sum())\n",
    "    data_drop = data.drop_duplicates()\n",
    "    data_drop = data_drop.drop(drop, axis)\n",
    "    print(\"Data setelah di drop (Jumlah Observasi, Jumlah Column) :\", data_drop.shape)\n",
    "    \n",
    "    return data_drop\n",
    "\n",
    "\n",
    "# Assign fuction kepada variabel data_credit\n",
    "\n",
    "data_credit = import_data(filename = 'credit_data.csv', drop = 'Unnamed: 0', axis = 1)  # hasil dari function"
   ]
  },
  {
   "cell_type": "markdown",
   "metadata": {},
   "source": [
    "## Input-Output Split\n",
    "\n",
    "Disini kita akan memisahkan kolom berdasarkan input dan output.\n",
    "\n",
    "Data yang digunakan untuk input akan dinamakan dengan `X`, sedangkan untuk output dengan `y`.\n",
    "\n",
    "Pada dataset ini, kita hanya perlu meggunakan kolom `default.payment.next.month` sebagai output kita. "
   ]
  },
  {
   "cell_type": "code",
   "execution_count": 12,
   "metadata": {
    "collapsed": false
   },
   "outputs": [
    {
     "data": {
      "text/html": [
       "<div>\n",
       "<table border=\"1\" class=\"dataframe\">\n",
       "  <thead>\n",
       "    <tr style=\"text-align: right;\">\n",
       "      <th></th>\n",
       "      <th>LIMIT_BAL</th>\n",
       "      <th>SEX</th>\n",
       "      <th>EDUCATION</th>\n",
       "      <th>MARRIAGE</th>\n",
       "      <th>AGE</th>\n",
       "      <th>PAY_0</th>\n",
       "      <th>PAY_2</th>\n",
       "      <th>PAY_3</th>\n",
       "      <th>PAY_4</th>\n",
       "      <th>PAY_5</th>\n",
       "      <th>...</th>\n",
       "      <th>BILL_AMT4</th>\n",
       "      <th>BILL_AMT5</th>\n",
       "      <th>BILL_AMT6</th>\n",
       "      <th>PAY_AMT1</th>\n",
       "      <th>PAY_AMT2</th>\n",
       "      <th>PAY_AMT3</th>\n",
       "      <th>PAY_AMT4</th>\n",
       "      <th>PAY_AMT5</th>\n",
       "      <th>PAY_AMT6</th>\n",
       "      <th>default.payment.next.month</th>\n",
       "    </tr>\n",
       "  </thead>\n",
       "  <tbody>\n",
       "    <tr>\n",
       "      <th>0</th>\n",
       "      <td>NaN</td>\n",
       "      <td>2.0</td>\n",
       "      <td>2.0</td>\n",
       "      <td>1.0</td>\n",
       "      <td>24.0</td>\n",
       "      <td>2.0</td>\n",
       "      <td>2.0</td>\n",
       "      <td>-1.0</td>\n",
       "      <td>-1.0</td>\n",
       "      <td>-2.0</td>\n",
       "      <td>...</td>\n",
       "      <td>0.0</td>\n",
       "      <td>0.0</td>\n",
       "      <td>0.0</td>\n",
       "      <td>0.0</td>\n",
       "      <td>689.0</td>\n",
       "      <td>0.0</td>\n",
       "      <td>0.0</td>\n",
       "      <td>0.0</td>\n",
       "      <td>0.0</td>\n",
       "      <td>1</td>\n",
       "    </tr>\n",
       "    <tr>\n",
       "      <th>1</th>\n",
       "      <td>120000.0</td>\n",
       "      <td>2.0</td>\n",
       "      <td>2.0</td>\n",
       "      <td>2.0</td>\n",
       "      <td>26.0</td>\n",
       "      <td>-1.0</td>\n",
       "      <td>2.0</td>\n",
       "      <td>NaN</td>\n",
       "      <td>0.0</td>\n",
       "      <td>0.0</td>\n",
       "      <td>...</td>\n",
       "      <td>3272.0</td>\n",
       "      <td>3455.0</td>\n",
       "      <td>3261.0</td>\n",
       "      <td>0.0</td>\n",
       "      <td>1000.0</td>\n",
       "      <td>1000.0</td>\n",
       "      <td>1000.0</td>\n",
       "      <td>0.0</td>\n",
       "      <td>NaN</td>\n",
       "      <td>1</td>\n",
       "    </tr>\n",
       "    <tr>\n",
       "      <th>2</th>\n",
       "      <td>NaN</td>\n",
       "      <td>2.0</td>\n",
       "      <td>2.0</td>\n",
       "      <td>2.0</td>\n",
       "      <td>34.0</td>\n",
       "      <td>0.0</td>\n",
       "      <td>0.0</td>\n",
       "      <td>0.0</td>\n",
       "      <td>0.0</td>\n",
       "      <td>0.0</td>\n",
       "      <td>...</td>\n",
       "      <td>14331.0</td>\n",
       "      <td>14948.0</td>\n",
       "      <td>15549.0</td>\n",
       "      <td>1518.0</td>\n",
       "      <td>1500.0</td>\n",
       "      <td>1000.0</td>\n",
       "      <td>1000.0</td>\n",
       "      <td>1000.0</td>\n",
       "      <td>5000.0</td>\n",
       "      <td>0</td>\n",
       "    </tr>\n",
       "    <tr>\n",
       "      <th>3</th>\n",
       "      <td>50000.0</td>\n",
       "      <td>2.0</td>\n",
       "      <td>NaN</td>\n",
       "      <td>1.0</td>\n",
       "      <td>37.0</td>\n",
       "      <td>0.0</td>\n",
       "      <td>NaN</td>\n",
       "      <td>0.0</td>\n",
       "      <td>0.0</td>\n",
       "      <td>0.0</td>\n",
       "      <td>...</td>\n",
       "      <td>28314.0</td>\n",
       "      <td>28959.0</td>\n",
       "      <td>29547.0</td>\n",
       "      <td>2000.0</td>\n",
       "      <td>2019.0</td>\n",
       "      <td>1200.0</td>\n",
       "      <td>NaN</td>\n",
       "      <td>1069.0</td>\n",
       "      <td>1000.0</td>\n",
       "      <td>0</td>\n",
       "    </tr>\n",
       "    <tr>\n",
       "      <th>4</th>\n",
       "      <td>50000.0</td>\n",
       "      <td>NaN</td>\n",
       "      <td>NaN</td>\n",
       "      <td>1.0</td>\n",
       "      <td>57.0</td>\n",
       "      <td>-1.0</td>\n",
       "      <td>0.0</td>\n",
       "      <td>-1.0</td>\n",
       "      <td>0.0</td>\n",
       "      <td>0.0</td>\n",
       "      <td>...</td>\n",
       "      <td>20940.0</td>\n",
       "      <td>19146.0</td>\n",
       "      <td>19131.0</td>\n",
       "      <td>2000.0</td>\n",
       "      <td>NaN</td>\n",
       "      <td>10000.0</td>\n",
       "      <td>9000.0</td>\n",
       "      <td>689.0</td>\n",
       "      <td>679.0</td>\n",
       "      <td>0</td>\n",
       "    </tr>\n",
       "  </tbody>\n",
       "</table>\n",
       "<p>5 rows × 24 columns</p>\n",
       "</div>"
      ],
      "text/plain": [
       "   LIMIT_BAL  SEX  EDUCATION  MARRIAGE   AGE  PAY_0  PAY_2  PAY_3  PAY_4  \\\n",
       "0        NaN  2.0        2.0       1.0  24.0    2.0    2.0   -1.0   -1.0   \n",
       "1   120000.0  2.0        2.0       2.0  26.0   -1.0    2.0    NaN    0.0   \n",
       "2        NaN  2.0        2.0       2.0  34.0    0.0    0.0    0.0    0.0   \n",
       "3    50000.0  2.0        NaN       1.0  37.0    0.0    NaN    0.0    0.0   \n",
       "4    50000.0  NaN        NaN       1.0  57.0   -1.0    0.0   -1.0    0.0   \n",
       "\n",
       "   PAY_5             ...              BILL_AMT4  BILL_AMT5  BILL_AMT6  \\\n",
       "0   -2.0             ...                    0.0        0.0        0.0   \n",
       "1    0.0             ...                 3272.0     3455.0     3261.0   \n",
       "2    0.0             ...                14331.0    14948.0    15549.0   \n",
       "3    0.0             ...                28314.0    28959.0    29547.0   \n",
       "4    0.0             ...                20940.0    19146.0    19131.0   \n",
       "\n",
       "   PAY_AMT1  PAY_AMT2  PAY_AMT3  PAY_AMT4  PAY_AMT5  PAY_AMT6  \\\n",
       "0       0.0     689.0       0.0       0.0       0.0       0.0   \n",
       "1       0.0    1000.0    1000.0    1000.0       0.0       NaN   \n",
       "2    1518.0    1500.0    1000.0    1000.0    1000.0    5000.0   \n",
       "3    2000.0    2019.0    1200.0       NaN    1069.0    1000.0   \n",
       "4    2000.0       NaN   10000.0    9000.0     689.0     679.0   \n",
       "\n",
       "   default.payment.next.month  \n",
       "0                           1  \n",
       "1                           1  \n",
       "2                           0  \n",
       "3                           0  \n",
       "4                           0  \n",
       "\n",
       "[5 rows x 24 columns]"
      ]
     },
     "execution_count": 12,
     "metadata": {},
     "output_type": "execute_result"
    }
   ],
   "source": [
    "# Cek data menggunakan head()\n",
    "\n",
    "data_credit.head()"
   ]
  },
  {
   "cell_type": "code",
   "execution_count": 13,
   "metadata": {
    "collapsed": true
   },
   "outputs": [],
   "source": [
    "# Assign kolom `default.payment.next.month` sebagai output\n",
    "\n",
    "data_output = data_credit['default.payment.next.month']"
   ]
  },
  {
   "cell_type": "code",
   "execution_count": 14,
   "metadata": {
    "collapsed": false
   },
   "outputs": [],
   "source": [
    "# data input hanyalah semua kolom tanpa kolom yang digunakan untuk ouput\n",
    "\n",
    "data_input = data_credit.drop(['default.payment.next.month'], axis=1)"
   ]
  },
  {
   "cell_type": "markdown",
   "metadata": {},
   "source": [
    "### Make function for input and output\n",
    "\n",
    "Buatlah sebuah ufntion dengan kriteria dibawah ini:\n",
    "\n",
    "1. data_input\n",
    "2. data_output\n",
    "3. return data_input dan data_output\n",
    "* Tujuan dari pembuatan function adalah agar function ini dapat digunakan kembali di cases berbeda. \n",
    "\n",
    "Function dinamakan dengan `extract_input_output` dan menerima 3 argument yaitu:\n",
    "\n",
    "1. `data`        : Dataset yang ingin di split\n",
    "2. `column_name` : Nama kolom yang ingin di jadikan output\n",
    "3. `axis`        : Argument untuk drop()"
   ]
  },
  {
   "cell_type": "code",
   "execution_count": 15,
   "metadata": {
    "collapsed": true
   },
   "outputs": [],
   "source": [
    "# Buatlah function tersebut disini\n",
    "\n",
    "def extract_input_output(data, column_name, axis):\n",
    "    data_output = data[column_name]\n",
    "    data_input = data.drop(column_name, axis)\n",
    "    \n",
    "    return data_input, data_output\n",
    "\n",
    "# Assign hasil dari funtion tersebut kepada X, y.\n",
    "# X: data input\n",
    "# y: data output\n",
    "X, y = extract_input_output(data = data_credit, column_name = 'default.payment.next.month', axis=1)"
   ]
  },
  {
   "cell_type": "markdown",
   "metadata": {},
   "source": [
    "## Train and Test Split\n",
    "\n",
    "Pada bagian ini, X dan y akan dibagi menjadi 2 set yaitu trainin dan tes. Kita akan menggunakan function dari linaray Scikit Learn yaitu `train_test_split`."
   ]
  },
  {
   "cell_type": "code",
   "execution_count": 16,
   "metadata": {
    "collapsed": false
   },
   "outputs": [],
   "source": [
    "# import function train_test_split dari library Scikit Learn\n",
    "\n",
    "from sklearn.model_selection import train_test_split"
   ]
  },
  {
   "cell_type": "markdown",
   "metadata": {},
   "source": [
    "#### Train Test Split Function\n",
    "1. x adalah input\n",
    "2. y adalah output\n",
    "3. test size = seberapa besar test, contoh 0.20 untuk 20% test dari data\n",
    "4. random state adalah kunci untuk random, harus disetting sama, misal random_state = 123\n",
    "5. Output: \n",
    "    * x_train = input dari data training\n",
    "    * x_test = input dari data test\n",
    "    * y_train = output dari training data\n",
    "    * y_test = output dari training data\n",
    "6. urutan dari x_train, x_test, y_train dan y_test tidak boleh terbalik"
   ]
  },
  {
   "cell_type": "code",
   "execution_count": 17,
   "metadata": {
    "collapsed": true
   },
   "outputs": [],
   "source": [
    "# Split dataset\n",
    "\n",
    "X_train, X_test, y_train, y_test = train_test_split(X, y, test_size = 0.20, random_state = 123)"
   ]
  },
  {
   "cell_type": "code",
   "execution_count": 18,
   "metadata": {
    "collapsed": false
   },
   "outputs": [
    {
     "name": "stdout",
     "output_type": "stream",
     "text": [
      "Input data training : (24000, 23)\n",
      "Input data test : (6000, 23)\n",
      "Output data training : (24000,)\n",
      "Output data test : (6000,)\n"
     ]
    }
   ],
   "source": [
    "# Cek shape untuk tiap set (X_train, X_test, y_train, y_test)\n",
    "\n",
    "print(\"Input data training :\", X_train.shape)\n",
    "print(\"Input data test :\", X_test.shape)\n",
    "print(\"Output data training :\", y_train.shape)\n",
    "print(\"Output data test :\", y_test.shape)"
   ]
  },
  {
   "cell_type": "markdown",
   "metadata": {},
   "source": [
    "==================================================\n",
    "##### This is the end of the homework for Beginner Class\n",
    "=================================================="
   ]
  },
  {
   "cell_type": "markdown",
   "metadata": {},
   "source": [
    "## Separating Categorical and Numerical Data Manually"
   ]
  },
  {
   "cell_type": "markdown",
   "metadata": {},
   "source": [
    "## Getting Categorical\n",
    "\n",
    "According to the Dataset's content, the categorical variables are `SEX`, `EDUCATION`, `MARRIAGE`, `PAY_0`, `PAY_2`, `PAY_3`, `PAY_4`, `PAY_5`, and `PAY_6`."
   ]
  },
  {
   "cell_type": "code",
   "execution_count": 19,
   "metadata": {
    "collapsed": false
   },
   "outputs": [],
   "source": [
    "# Get Categorical\n",
    "\n",
    "\n",
    "# list of categorical columns\n",
    "\n",
    "categories = list(X_train[['SEX', 'EDUCATION', 'MARRIAGE', 'PAY_0', 'PAY_2', 'PAY_3', 'PAY_4', 'PAY_5', 'PAY_6']])\n",
    "\n",
    "# define the categorical columns from x_train dataset\n",
    "\n",
    "X_train_cat = X_train[categories]"
   ]
  },
  {
   "cell_type": "code",
   "execution_count": 20,
   "metadata": {
    "collapsed": false
   },
   "outputs": [
    {
     "data": {
      "text/html": [
       "<div>\n",
       "<table border=\"1\" class=\"dataframe\">\n",
       "  <thead>\n",
       "    <tr style=\"text-align: right;\">\n",
       "      <th></th>\n",
       "      <th>SEX</th>\n",
       "      <th>EDUCATION</th>\n",
       "      <th>MARRIAGE</th>\n",
       "      <th>PAY_0</th>\n",
       "      <th>PAY_2</th>\n",
       "      <th>PAY_3</th>\n",
       "      <th>PAY_4</th>\n",
       "      <th>PAY_5</th>\n",
       "      <th>PAY_6</th>\n",
       "    </tr>\n",
       "  </thead>\n",
       "  <tbody>\n",
       "    <tr>\n",
       "      <th>19682</th>\n",
       "      <td>2.0</td>\n",
       "      <td>2.0</td>\n",
       "      <td>NaN</td>\n",
       "      <td>0.0</td>\n",
       "      <td>0.0</td>\n",
       "      <td>0.0</td>\n",
       "      <td>0.0</td>\n",
       "      <td>0.0</td>\n",
       "      <td>0.0</td>\n",
       "    </tr>\n",
       "    <tr>\n",
       "      <th>11062</th>\n",
       "      <td>2.0</td>\n",
       "      <td>1.0</td>\n",
       "      <td>1.0</td>\n",
       "      <td>-1.0</td>\n",
       "      <td>-1.0</td>\n",
       "      <td>-1.0</td>\n",
       "      <td>-1.0</td>\n",
       "      <td>-1.0</td>\n",
       "      <td>2.0</td>\n",
       "    </tr>\n",
       "    <tr>\n",
       "      <th>197</th>\n",
       "      <td>2.0</td>\n",
       "      <td>NaN</td>\n",
       "      <td>2.0</td>\n",
       "      <td>0.0</td>\n",
       "      <td>0.0</td>\n",
       "      <td>0.0</td>\n",
       "      <td>0.0</td>\n",
       "      <td>NaN</td>\n",
       "      <td>0.0</td>\n",
       "    </tr>\n",
       "    <tr>\n",
       "      <th>23620</th>\n",
       "      <td>2.0</td>\n",
       "      <td>5.0</td>\n",
       "      <td>2.0</td>\n",
       "      <td>0.0</td>\n",
       "      <td>0.0</td>\n",
       "      <td>0.0</td>\n",
       "      <td>0.0</td>\n",
       "      <td>0.0</td>\n",
       "      <td>-1.0</td>\n",
       "    </tr>\n",
       "    <tr>\n",
       "      <th>26031</th>\n",
       "      <td>2.0</td>\n",
       "      <td>2.0</td>\n",
       "      <td>2.0</td>\n",
       "      <td>0.0</td>\n",
       "      <td>0.0</td>\n",
       "      <td>0.0</td>\n",
       "      <td>0.0</td>\n",
       "      <td>NaN</td>\n",
       "      <td>0.0</td>\n",
       "    </tr>\n",
       "  </tbody>\n",
       "</table>\n",
       "</div>"
      ],
      "text/plain": [
       "       SEX  EDUCATION  MARRIAGE  PAY_0  PAY_2  PAY_3  PAY_4  PAY_5  PAY_6\n",
       "19682  2.0        2.0       NaN    0.0    0.0    0.0    0.0    0.0    0.0\n",
       "11062  2.0        1.0       1.0   -1.0   -1.0   -1.0   -1.0   -1.0    2.0\n",
       "197    2.0        NaN       2.0    0.0    0.0    0.0    0.0    NaN    0.0\n",
       "23620  2.0        5.0       2.0    0.0    0.0    0.0    0.0    0.0   -1.0\n",
       "26031  2.0        2.0       2.0    0.0    0.0    0.0    0.0    NaN    0.0"
      ]
     },
     "execution_count": 20,
     "metadata": {},
     "output_type": "execute_result"
    }
   ],
   "source": [
    "# check the top observations!\n",
    "\n",
    "X_train_cat.head()"
   ]
  },
  {
   "cell_type": "code",
   "execution_count": 21,
   "metadata": {
    "collapsed": true
   },
   "outputs": [],
   "source": [
    "# Get numerical\n",
    "\n",
    "X_train_columns = list(X_train.columns)\n",
    "numerical = list(set(X_train_columns).difference(set(categories)))\n",
    "X_train_num = X_train[numerical]"
   ]
  },
  {
   "cell_type": "code",
   "execution_count": 22,
   "metadata": {
    "collapsed": false
   },
   "outputs": [
    {
     "data": {
      "text/html": [
       "<div>\n",
       "<table border=\"1\" class=\"dataframe\">\n",
       "  <thead>\n",
       "    <tr style=\"text-align: right;\">\n",
       "      <th></th>\n",
       "      <th>BILL_AMT4</th>\n",
       "      <th>BILL_AMT2</th>\n",
       "      <th>BILL_AMT3</th>\n",
       "      <th>PAY_AMT1</th>\n",
       "      <th>PAY_AMT6</th>\n",
       "      <th>PAY_AMT5</th>\n",
       "      <th>BILL_AMT1</th>\n",
       "      <th>BILL_AMT5</th>\n",
       "      <th>LIMIT_BAL</th>\n",
       "      <th>PAY_AMT2</th>\n",
       "      <th>PAY_AMT4</th>\n",
       "      <th>AGE</th>\n",
       "      <th>BILL_AMT6</th>\n",
       "      <th>PAY_AMT3</th>\n",
       "    </tr>\n",
       "  </thead>\n",
       "  <tbody>\n",
       "    <tr>\n",
       "      <th>19682</th>\n",
       "      <td>103422.0</td>\n",
       "      <td>103173.0</td>\n",
       "      <td>104137.0</td>\n",
       "      <td>3692.0</td>\n",
       "      <td>1500.0</td>\n",
       "      <td>2930.0</td>\n",
       "      <td>106651.0</td>\n",
       "      <td>95206.0</td>\n",
       "      <td>200000.0</td>\n",
       "      <td>5000.0</td>\n",
       "      <td>2500.0</td>\n",
       "      <td>46.0</td>\n",
       "      <td>65108.0</td>\n",
       "      <td>3300.0</td>\n",
       "    </tr>\n",
       "    <tr>\n",
       "      <th>11062</th>\n",
       "      <td>476.0</td>\n",
       "      <td>NaN</td>\n",
       "      <td>NaN</td>\n",
       "      <td>652.0</td>\n",
       "      <td>326.0</td>\n",
       "      <td>0.0</td>\n",
       "      <td>3556.0</td>\n",
       "      <td>802.0</td>\n",
       "      <td>120000.0</td>\n",
       "      <td>326.0</td>\n",
       "      <td>802.0</td>\n",
       "      <td>32.0</td>\n",
       "      <td>326.0</td>\n",
       "      <td>476.0</td>\n",
       "    </tr>\n",
       "    <tr>\n",
       "      <th>197</th>\n",
       "      <td>8332.0</td>\n",
       "      <td>19446.0</td>\n",
       "      <td>19065.0</td>\n",
       "      <td>1500.0</td>\n",
       "      <td>1000.0</td>\n",
       "      <td>693.0</td>\n",
       "      <td>18553.0</td>\n",
       "      <td>18868.0</td>\n",
       "      <td>20000.0</td>\n",
       "      <td>1032.0</td>\n",
       "      <td>20000.0</td>\n",
       "      <td>22.0</td>\n",
       "      <td>19247.0</td>\n",
       "      <td>NaN</td>\n",
       "    </tr>\n",
       "    <tr>\n",
       "      <th>23620</th>\n",
       "      <td>23181.0</td>\n",
       "      <td>91348.0</td>\n",
       "      <td>87244.0</td>\n",
       "      <td>5004.0</td>\n",
       "      <td>1864.0</td>\n",
       "      <td>3219.0</td>\n",
       "      <td>91674.0</td>\n",
       "      <td>7721.0</td>\n",
       "      <td>100000.0</td>\n",
       "      <td>3811.0</td>\n",
       "      <td>4000.0</td>\n",
       "      <td>34.0</td>\n",
       "      <td>NaN</td>\n",
       "      <td>3002.0</td>\n",
       "    </tr>\n",
       "    <tr>\n",
       "      <th>26031</th>\n",
       "      <td>8770.0</td>\n",
       "      <td>8174.0</td>\n",
       "      <td>8389.0</td>\n",
       "      <td>1130.0</td>\n",
       "      <td>1001.0</td>\n",
       "      <td>1000.0</td>\n",
       "      <td>7324.0</td>\n",
       "      <td>9145.0</td>\n",
       "      <td>290000.0</td>\n",
       "      <td>1502.0</td>\n",
       "      <td>NaN</td>\n",
       "      <td>29.0</td>\n",
       "      <td>10016.0</td>\n",
       "      <td>1300.0</td>\n",
       "    </tr>\n",
       "  </tbody>\n",
       "</table>\n",
       "</div>"
      ],
      "text/plain": [
       "       BILL_AMT4  BILL_AMT2  BILL_AMT3  PAY_AMT1  PAY_AMT6  PAY_AMT5  \\\n",
       "19682   103422.0   103173.0   104137.0    3692.0    1500.0    2930.0   \n",
       "11062      476.0        NaN        NaN     652.0     326.0       0.0   \n",
       "197       8332.0    19446.0    19065.0    1500.0    1000.0     693.0   \n",
       "23620    23181.0    91348.0    87244.0    5004.0    1864.0    3219.0   \n",
       "26031     8770.0     8174.0     8389.0    1130.0    1001.0    1000.0   \n",
       "\n",
       "       BILL_AMT1  BILL_AMT5  LIMIT_BAL  PAY_AMT2  PAY_AMT4   AGE  BILL_AMT6  \\\n",
       "19682   106651.0    95206.0   200000.0    5000.0    2500.0  46.0    65108.0   \n",
       "11062     3556.0      802.0   120000.0     326.0     802.0  32.0      326.0   \n",
       "197      18553.0    18868.0    20000.0    1032.0   20000.0  22.0    19247.0   \n",
       "23620    91674.0     7721.0   100000.0    3811.0    4000.0  34.0        NaN   \n",
       "26031     7324.0     9145.0   290000.0    1502.0       NaN  29.0    10016.0   \n",
       "\n",
       "       PAY_AMT3  \n",
       "19682    3300.0  \n",
       "11062     476.0  \n",
       "197         NaN  \n",
       "23620    3002.0  \n",
       "26031    1300.0  "
      ]
     },
     "execution_count": 22,
     "metadata": {},
     "output_type": "execute_result"
    }
   ],
   "source": [
    "# check the top observations!\n",
    "\n",
    "X_train_num.head()"
   ]
  },
  {
   "cell_type": "markdown",
   "metadata": {},
   "source": [
    "### Make a function for Separating Numerical and Categorical"
   ]
  },
  {
   "cell_type": "code",
   "execution_count": 23,
   "metadata": {
    "collapsed": false
   },
   "outputs": [],
   "source": [
    "# Def a function that returns x_train categorical and x_train numerical\n",
    "\n",
    "categories = list(X_train[['SEX', 'EDUCATION', 'MARRIAGE', 'PAY_0', 'PAY_2', 'PAY_3', 'PAY_4', 'PAY_5', 'PAY_6']])\n",
    "X_train_columns = list(X_train.columns)\n",
    "numerical = list(set(X_train_columns).difference(set(categories)))\n",
    "\n",
    "def categorical_numerical_separation(data, categorical_columns, numerical_columns):\n",
    "    categorical_data = data[categorical_columns]\n",
    "    numerical_data = data[numerical]\n",
    "    \n",
    "    return categorical_data, numerical_data\n",
    "    \n",
    "X_train_cat, X_train_num = categorical_numerical_separation(data = X_train, \n",
    "                                                          categorical_columns = categories,\n",
    "                                                          numerical_columns = numerical)"
   ]
  },
  {
   "cell_type": "code",
   "execution_count": 24,
   "metadata": {
    "collapsed": false
   },
   "outputs": [
    {
     "data": {
      "text/html": [
       "<div>\n",
       "<table border=\"1\" class=\"dataframe\">\n",
       "  <thead>\n",
       "    <tr style=\"text-align: right;\">\n",
       "      <th></th>\n",
       "      <th>SEX</th>\n",
       "      <th>EDUCATION</th>\n",
       "      <th>MARRIAGE</th>\n",
       "      <th>PAY_0</th>\n",
       "      <th>PAY_2</th>\n",
       "      <th>PAY_3</th>\n",
       "      <th>PAY_4</th>\n",
       "      <th>PAY_5</th>\n",
       "      <th>PAY_6</th>\n",
       "    </tr>\n",
       "  </thead>\n",
       "  <tbody>\n",
       "    <tr>\n",
       "      <th>19682</th>\n",
       "      <td>2.0</td>\n",
       "      <td>2.0</td>\n",
       "      <td>NaN</td>\n",
       "      <td>0.0</td>\n",
       "      <td>0.0</td>\n",
       "      <td>0.0</td>\n",
       "      <td>0.0</td>\n",
       "      <td>0.0</td>\n",
       "      <td>0.0</td>\n",
       "    </tr>\n",
       "    <tr>\n",
       "      <th>11062</th>\n",
       "      <td>2.0</td>\n",
       "      <td>1.0</td>\n",
       "      <td>1.0</td>\n",
       "      <td>-1.0</td>\n",
       "      <td>-1.0</td>\n",
       "      <td>-1.0</td>\n",
       "      <td>-1.0</td>\n",
       "      <td>-1.0</td>\n",
       "      <td>2.0</td>\n",
       "    </tr>\n",
       "    <tr>\n",
       "      <th>197</th>\n",
       "      <td>2.0</td>\n",
       "      <td>NaN</td>\n",
       "      <td>2.0</td>\n",
       "      <td>0.0</td>\n",
       "      <td>0.0</td>\n",
       "      <td>0.0</td>\n",
       "      <td>0.0</td>\n",
       "      <td>NaN</td>\n",
       "      <td>0.0</td>\n",
       "    </tr>\n",
       "    <tr>\n",
       "      <th>23620</th>\n",
       "      <td>2.0</td>\n",
       "      <td>5.0</td>\n",
       "      <td>2.0</td>\n",
       "      <td>0.0</td>\n",
       "      <td>0.0</td>\n",
       "      <td>0.0</td>\n",
       "      <td>0.0</td>\n",
       "      <td>0.0</td>\n",
       "      <td>-1.0</td>\n",
       "    </tr>\n",
       "    <tr>\n",
       "      <th>26031</th>\n",
       "      <td>2.0</td>\n",
       "      <td>2.0</td>\n",
       "      <td>2.0</td>\n",
       "      <td>0.0</td>\n",
       "      <td>0.0</td>\n",
       "      <td>0.0</td>\n",
       "      <td>0.0</td>\n",
       "      <td>NaN</td>\n",
       "      <td>0.0</td>\n",
       "    </tr>\n",
       "  </tbody>\n",
       "</table>\n",
       "</div>"
      ],
      "text/plain": [
       "       SEX  EDUCATION  MARRIAGE  PAY_0  PAY_2  PAY_3  PAY_4  PAY_5  PAY_6\n",
       "19682  2.0        2.0       NaN    0.0    0.0    0.0    0.0    0.0    0.0\n",
       "11062  2.0        1.0       1.0   -1.0   -1.0   -1.0   -1.0   -1.0    2.0\n",
       "197    2.0        NaN       2.0    0.0    0.0    0.0    0.0    NaN    0.0\n",
       "23620  2.0        5.0       2.0    0.0    0.0    0.0    0.0    0.0   -1.0\n",
       "26031  2.0        2.0       2.0    0.0    0.0    0.0    0.0    NaN    0.0"
      ]
     },
     "execution_count": 24,
     "metadata": {},
     "output_type": "execute_result"
    }
   ],
   "source": [
    "# check the top of the x_train categorical observations!\n",
    "\n",
    "X_train_cat.head()"
   ]
  },
  {
   "cell_type": "code",
   "execution_count": 25,
   "metadata": {
    "collapsed": false
   },
   "outputs": [
    {
     "data": {
      "text/html": [
       "<div>\n",
       "<table border=\"1\" class=\"dataframe\">\n",
       "  <thead>\n",
       "    <tr style=\"text-align: right;\">\n",
       "      <th></th>\n",
       "      <th>BILL_AMT4</th>\n",
       "      <th>BILL_AMT2</th>\n",
       "      <th>BILL_AMT3</th>\n",
       "      <th>PAY_AMT1</th>\n",
       "      <th>PAY_AMT6</th>\n",
       "      <th>PAY_AMT5</th>\n",
       "      <th>BILL_AMT1</th>\n",
       "      <th>BILL_AMT5</th>\n",
       "      <th>LIMIT_BAL</th>\n",
       "      <th>PAY_AMT2</th>\n",
       "      <th>PAY_AMT4</th>\n",
       "      <th>AGE</th>\n",
       "      <th>BILL_AMT6</th>\n",
       "      <th>PAY_AMT3</th>\n",
       "    </tr>\n",
       "  </thead>\n",
       "  <tbody>\n",
       "    <tr>\n",
       "      <th>19682</th>\n",
       "      <td>103422.0</td>\n",
       "      <td>103173.0</td>\n",
       "      <td>104137.0</td>\n",
       "      <td>3692.0</td>\n",
       "      <td>1500.0</td>\n",
       "      <td>2930.0</td>\n",
       "      <td>106651.0</td>\n",
       "      <td>95206.0</td>\n",
       "      <td>200000.0</td>\n",
       "      <td>5000.0</td>\n",
       "      <td>2500.0</td>\n",
       "      <td>46.0</td>\n",
       "      <td>65108.0</td>\n",
       "      <td>3300.0</td>\n",
       "    </tr>\n",
       "    <tr>\n",
       "      <th>11062</th>\n",
       "      <td>476.0</td>\n",
       "      <td>NaN</td>\n",
       "      <td>NaN</td>\n",
       "      <td>652.0</td>\n",
       "      <td>326.0</td>\n",
       "      <td>0.0</td>\n",
       "      <td>3556.0</td>\n",
       "      <td>802.0</td>\n",
       "      <td>120000.0</td>\n",
       "      <td>326.0</td>\n",
       "      <td>802.0</td>\n",
       "      <td>32.0</td>\n",
       "      <td>326.0</td>\n",
       "      <td>476.0</td>\n",
       "    </tr>\n",
       "    <tr>\n",
       "      <th>197</th>\n",
       "      <td>8332.0</td>\n",
       "      <td>19446.0</td>\n",
       "      <td>19065.0</td>\n",
       "      <td>1500.0</td>\n",
       "      <td>1000.0</td>\n",
       "      <td>693.0</td>\n",
       "      <td>18553.0</td>\n",
       "      <td>18868.0</td>\n",
       "      <td>20000.0</td>\n",
       "      <td>1032.0</td>\n",
       "      <td>20000.0</td>\n",
       "      <td>22.0</td>\n",
       "      <td>19247.0</td>\n",
       "      <td>NaN</td>\n",
       "    </tr>\n",
       "    <tr>\n",
       "      <th>23620</th>\n",
       "      <td>23181.0</td>\n",
       "      <td>91348.0</td>\n",
       "      <td>87244.0</td>\n",
       "      <td>5004.0</td>\n",
       "      <td>1864.0</td>\n",
       "      <td>3219.0</td>\n",
       "      <td>91674.0</td>\n",
       "      <td>7721.0</td>\n",
       "      <td>100000.0</td>\n",
       "      <td>3811.0</td>\n",
       "      <td>4000.0</td>\n",
       "      <td>34.0</td>\n",
       "      <td>NaN</td>\n",
       "      <td>3002.0</td>\n",
       "    </tr>\n",
       "    <tr>\n",
       "      <th>26031</th>\n",
       "      <td>8770.0</td>\n",
       "      <td>8174.0</td>\n",
       "      <td>8389.0</td>\n",
       "      <td>1130.0</td>\n",
       "      <td>1001.0</td>\n",
       "      <td>1000.0</td>\n",
       "      <td>7324.0</td>\n",
       "      <td>9145.0</td>\n",
       "      <td>290000.0</td>\n",
       "      <td>1502.0</td>\n",
       "      <td>NaN</td>\n",
       "      <td>29.0</td>\n",
       "      <td>10016.0</td>\n",
       "      <td>1300.0</td>\n",
       "    </tr>\n",
       "  </tbody>\n",
       "</table>\n",
       "</div>"
      ],
      "text/plain": [
       "       BILL_AMT4  BILL_AMT2  BILL_AMT3  PAY_AMT1  PAY_AMT6  PAY_AMT5  \\\n",
       "19682   103422.0   103173.0   104137.0    3692.0    1500.0    2930.0   \n",
       "11062      476.0        NaN        NaN     652.0     326.0       0.0   \n",
       "197       8332.0    19446.0    19065.0    1500.0    1000.0     693.0   \n",
       "23620    23181.0    91348.0    87244.0    5004.0    1864.0    3219.0   \n",
       "26031     8770.0     8174.0     8389.0    1130.0    1001.0    1000.0   \n",
       "\n",
       "       BILL_AMT1  BILL_AMT5  LIMIT_BAL  PAY_AMT2  PAY_AMT4   AGE  BILL_AMT6  \\\n",
       "19682   106651.0    95206.0   200000.0    5000.0    2500.0  46.0    65108.0   \n",
       "11062     3556.0      802.0   120000.0     326.0     802.0  32.0      326.0   \n",
       "197      18553.0    18868.0    20000.0    1032.0   20000.0  22.0    19247.0   \n",
       "23620    91674.0     7721.0   100000.0    3811.0    4000.0  34.0        NaN   \n",
       "26031     7324.0     9145.0   290000.0    1502.0       NaN  29.0    10016.0   \n",
       "\n",
       "       PAY_AMT3  \n",
       "19682    3300.0  \n",
       "11062     476.0  \n",
       "197         NaN  \n",
       "23620    3002.0  \n",
       "26031    1300.0  "
      ]
     },
     "execution_count": 25,
     "metadata": {},
     "output_type": "execute_result"
    }
   ],
   "source": [
    "# check the top of the x_train numerical observations!\n",
    "\n",
    "X_train_num.head()"
   ]
  },
  {
   "cell_type": "markdown",
   "metadata": {},
   "source": [
    "## Data Imputation"
   ]
  },
  {
   "cell_type": "markdown",
   "metadata": {},
   "source": [
    "Data imputation adalah proses pengisian data yang memiliki data yang kosong, biasanya diperlihatkan sebagai NaN\n",
    "\n",
    "Proses tersebut terbagi menjadi 2:\n",
    "* Numerical Imputation\n",
    "* Categorical Imputation"
   ]
  },
  {
   "cell_type": "code",
   "execution_count": 26,
   "metadata": {
    "collapsed": false
   },
   "outputs": [
    {
     "data": {
      "text/plain": [
       "LIMIT_BAL    1942\n",
       "SEX          1864\n",
       "EDUCATION    1945\n",
       "MARRIAGE     1837\n",
       "AGE          1922\n",
       "PAY_0        1977\n",
       "PAY_2        1954\n",
       "PAY_3        1881\n",
       "PAY_4        1931\n",
       "PAY_5        1909\n",
       "PAY_6        1891\n",
       "BILL_AMT1    1867\n",
       "BILL_AMT2    1965\n",
       "BILL_AMT3    1884\n",
       "BILL_AMT4    1886\n",
       "BILL_AMT5    1996\n",
       "BILL_AMT6    1984\n",
       "PAY_AMT1     2011\n",
       "PAY_AMT2     2017\n",
       "PAY_AMT3     1888\n",
       "PAY_AMT4     1880\n",
       "PAY_AMT5     1950\n",
       "PAY_AMT6     1923\n",
       "dtype: int64"
      ]
     },
     "execution_count": 26,
     "metadata": {},
     "output_type": "execute_result"
    }
   ],
   "source": [
    "# Cek data yang kosong di traininig set input\n",
    "\n",
    "X_train.isnull().sum()"
   ]
  },
  {
   "cell_type": "markdown",
   "metadata": {},
   "source": [
    "## Finding Difference between Numerical and Categorical (Optional)"
   ]
  },
  {
   "cell_type": "code",
   "execution_count": 27,
   "metadata": {
    "collapsed": false
   },
   "outputs": [
    {
     "data": {
      "text/html": [
       "<div>\n",
       "<table border=\"1\" class=\"dataframe\">\n",
       "  <thead>\n",
       "    <tr style=\"text-align: right;\">\n",
       "      <th></th>\n",
       "      <th>LIMIT_BAL</th>\n",
       "      <th>SEX</th>\n",
       "      <th>EDUCATION</th>\n",
       "      <th>MARRIAGE</th>\n",
       "      <th>AGE</th>\n",
       "      <th>PAY_0</th>\n",
       "      <th>PAY_2</th>\n",
       "      <th>PAY_3</th>\n",
       "      <th>PAY_4</th>\n",
       "      <th>PAY_5</th>\n",
       "      <th>...</th>\n",
       "      <th>BILL_AMT3</th>\n",
       "      <th>BILL_AMT4</th>\n",
       "      <th>BILL_AMT5</th>\n",
       "      <th>BILL_AMT6</th>\n",
       "      <th>PAY_AMT1</th>\n",
       "      <th>PAY_AMT2</th>\n",
       "      <th>PAY_AMT3</th>\n",
       "      <th>PAY_AMT4</th>\n",
       "      <th>PAY_AMT5</th>\n",
       "      <th>PAY_AMT6</th>\n",
       "    </tr>\n",
       "  </thead>\n",
       "  <tbody>\n",
       "    <tr>\n",
       "      <th>19682</th>\n",
       "      <td>200000.0</td>\n",
       "      <td>2.0</td>\n",
       "      <td>2.0</td>\n",
       "      <td>NaN</td>\n",
       "      <td>46.0</td>\n",
       "      <td>0.0</td>\n",
       "      <td>0.0</td>\n",
       "      <td>0.0</td>\n",
       "      <td>0.0</td>\n",
       "      <td>0.0</td>\n",
       "      <td>...</td>\n",
       "      <td>104137.0</td>\n",
       "      <td>103422.0</td>\n",
       "      <td>95206.0</td>\n",
       "      <td>65108.0</td>\n",
       "      <td>3692.0</td>\n",
       "      <td>5000.0</td>\n",
       "      <td>3300.0</td>\n",
       "      <td>2500.0</td>\n",
       "      <td>2930.0</td>\n",
       "      <td>1500.0</td>\n",
       "    </tr>\n",
       "    <tr>\n",
       "      <th>11062</th>\n",
       "      <td>120000.0</td>\n",
       "      <td>2.0</td>\n",
       "      <td>1.0</td>\n",
       "      <td>1.0</td>\n",
       "      <td>32.0</td>\n",
       "      <td>-1.0</td>\n",
       "      <td>-1.0</td>\n",
       "      <td>-1.0</td>\n",
       "      <td>-1.0</td>\n",
       "      <td>-1.0</td>\n",
       "      <td>...</td>\n",
       "      <td>NaN</td>\n",
       "      <td>476.0</td>\n",
       "      <td>802.0</td>\n",
       "      <td>326.0</td>\n",
       "      <td>652.0</td>\n",
       "      <td>326.0</td>\n",
       "      <td>476.0</td>\n",
       "      <td>802.0</td>\n",
       "      <td>0.0</td>\n",
       "      <td>326.0</td>\n",
       "    </tr>\n",
       "    <tr>\n",
       "      <th>197</th>\n",
       "      <td>20000.0</td>\n",
       "      <td>2.0</td>\n",
       "      <td>NaN</td>\n",
       "      <td>2.0</td>\n",
       "      <td>22.0</td>\n",
       "      <td>0.0</td>\n",
       "      <td>0.0</td>\n",
       "      <td>0.0</td>\n",
       "      <td>0.0</td>\n",
       "      <td>NaN</td>\n",
       "      <td>...</td>\n",
       "      <td>19065.0</td>\n",
       "      <td>8332.0</td>\n",
       "      <td>18868.0</td>\n",
       "      <td>19247.0</td>\n",
       "      <td>1500.0</td>\n",
       "      <td>1032.0</td>\n",
       "      <td>NaN</td>\n",
       "      <td>20000.0</td>\n",
       "      <td>693.0</td>\n",
       "      <td>1000.0</td>\n",
       "    </tr>\n",
       "    <tr>\n",
       "      <th>23620</th>\n",
       "      <td>100000.0</td>\n",
       "      <td>2.0</td>\n",
       "      <td>5.0</td>\n",
       "      <td>2.0</td>\n",
       "      <td>34.0</td>\n",
       "      <td>0.0</td>\n",
       "      <td>0.0</td>\n",
       "      <td>0.0</td>\n",
       "      <td>0.0</td>\n",
       "      <td>0.0</td>\n",
       "      <td>...</td>\n",
       "      <td>87244.0</td>\n",
       "      <td>23181.0</td>\n",
       "      <td>7721.0</td>\n",
       "      <td>NaN</td>\n",
       "      <td>5004.0</td>\n",
       "      <td>3811.0</td>\n",
       "      <td>3002.0</td>\n",
       "      <td>4000.0</td>\n",
       "      <td>3219.0</td>\n",
       "      <td>1864.0</td>\n",
       "    </tr>\n",
       "    <tr>\n",
       "      <th>26031</th>\n",
       "      <td>290000.0</td>\n",
       "      <td>2.0</td>\n",
       "      <td>2.0</td>\n",
       "      <td>2.0</td>\n",
       "      <td>29.0</td>\n",
       "      <td>0.0</td>\n",
       "      <td>0.0</td>\n",
       "      <td>0.0</td>\n",
       "      <td>0.0</td>\n",
       "      <td>NaN</td>\n",
       "      <td>...</td>\n",
       "      <td>8389.0</td>\n",
       "      <td>8770.0</td>\n",
       "      <td>9145.0</td>\n",
       "      <td>10016.0</td>\n",
       "      <td>1130.0</td>\n",
       "      <td>1502.0</td>\n",
       "      <td>1300.0</td>\n",
       "      <td>NaN</td>\n",
       "      <td>1000.0</td>\n",
       "      <td>1001.0</td>\n",
       "    </tr>\n",
       "  </tbody>\n",
       "</table>\n",
       "<p>5 rows × 23 columns</p>\n",
       "</div>"
      ],
      "text/plain": [
       "       LIMIT_BAL  SEX  EDUCATION  MARRIAGE   AGE  PAY_0  PAY_2  PAY_3  PAY_4  \\\n",
       "19682   200000.0  2.0        2.0       NaN  46.0    0.0    0.0    0.0    0.0   \n",
       "11062   120000.0  2.0        1.0       1.0  32.0   -1.0   -1.0   -1.0   -1.0   \n",
       "197      20000.0  2.0        NaN       2.0  22.0    0.0    0.0    0.0    0.0   \n",
       "23620   100000.0  2.0        5.0       2.0  34.0    0.0    0.0    0.0    0.0   \n",
       "26031   290000.0  2.0        2.0       2.0  29.0    0.0    0.0    0.0    0.0   \n",
       "\n",
       "       PAY_5    ...     BILL_AMT3  BILL_AMT4  BILL_AMT5  BILL_AMT6  PAY_AMT1  \\\n",
       "19682    0.0    ...      104137.0   103422.0    95206.0    65108.0    3692.0   \n",
       "11062   -1.0    ...           NaN      476.0      802.0      326.0     652.0   \n",
       "197      NaN    ...       19065.0     8332.0    18868.0    19247.0    1500.0   \n",
       "23620    0.0    ...       87244.0    23181.0     7721.0        NaN    5004.0   \n",
       "26031    NaN    ...        8389.0     8770.0     9145.0    10016.0    1130.0   \n",
       "\n",
       "       PAY_AMT2  PAY_AMT3  PAY_AMT4  PAY_AMT5  PAY_AMT6  \n",
       "19682    5000.0    3300.0    2500.0    2930.0    1500.0  \n",
       "11062     326.0     476.0     802.0       0.0     326.0  \n",
       "197      1032.0       NaN   20000.0     693.0    1000.0  \n",
       "23620    3811.0    3002.0    4000.0    3219.0    1864.0  \n",
       "26031    1502.0    1300.0       NaN    1000.0    1001.0  \n",
       "\n",
       "[5 rows x 23 columns]"
      ]
     },
     "execution_count": 27,
     "metadata": {},
     "output_type": "execute_result"
    }
   ],
   "source": [
    "X_train.head()"
   ]
  },
  {
   "cell_type": "code",
   "execution_count": 28,
   "metadata": {
    "collapsed": false
   },
   "outputs": [],
   "source": [
    "# Get Numerical\n",
    "\n",
    "X_train_numerical = X_train._get_numeric_data()\n",
    "#_get_numeric_data() hanya akan mengambil column berisikan integer dan float\n",
    "                                                # hati-hati dengan data kategoric yang berbentuk integer!!"
   ]
  },
  {
   "cell_type": "markdown",
   "metadata": {},
   "source": [
    "### Checking for Nan (Non-Value)"
   ]
  },
  {
   "cell_type": "code",
   "execution_count": 29,
   "metadata": {
    "collapsed": false
   },
   "outputs": [
    {
     "data": {
      "text/plain": [
       "LIMIT_BAL    True\n",
       "SEX          True\n",
       "EDUCATION    True\n",
       "MARRIAGE     True\n",
       "AGE          True\n",
       "PAY_0        True\n",
       "PAY_2        True\n",
       "PAY_3        True\n",
       "PAY_4        True\n",
       "PAY_5        True\n",
       "PAY_6        True\n",
       "BILL_AMT1    True\n",
       "BILL_AMT2    True\n",
       "BILL_AMT3    True\n",
       "BILL_AMT4    True\n",
       "BILL_AMT5    True\n",
       "BILL_AMT6    True\n",
       "PAY_AMT1     True\n",
       "PAY_AMT2     True\n",
       "PAY_AMT3     True\n",
       "PAY_AMT4     True\n",
       "PAY_AMT5     True\n",
       "PAY_AMT6     True\n",
       "dtype: bool"
      ]
     },
     "execution_count": 29,
     "metadata": {},
     "output_type": "execute_result"
    }
   ],
   "source": [
    "# check the missing value of the numerical x_train\n",
    "\n",
    "X_train_numerical.isnull().any()"
   ]
  },
  {
   "cell_type": "markdown",
   "metadata": {},
   "source": [
    "## Numerical Data Imputation"
   ]
  },
  {
   "cell_type": "code",
   "execution_count": 30,
   "metadata": {
    "collapsed": true
   },
   "outputs": [],
   "source": [
    "# Import library for imputation\n",
    "\n",
    "from sklearn.preprocessing import Imputer"
   ]
  },
  {
   "cell_type": "code",
   "execution_count": 31,
   "metadata": {
    "collapsed": false
   },
   "outputs": [],
   "source": [
    "# Get Numerical and Categorical Manualy\n",
    "\n",
    "X_train_cat, X_train_num = categorical_numerical_separation(data = X_train,\n",
    "                                                         categorical_columns = categories,\n",
    "                                                         numerical_columns = numerical)"
   ]
  },
  {
   "cell_type": "code",
   "execution_count": 32,
   "metadata": {
    "collapsed": true
   },
   "outputs": [],
   "source": [
    "imput = Imputer(missing_values='NaN', strategy='median')\n",
    "# namakan function Imputer menjadi imput, jangan lupa tanda kurung ()\n",
    "# missing_values adalah tanda missing values dalam data, bisa NaN, bisa 9999, bisa \"KOSONG\"\n",
    "# strategy median adalah stragegy imputasi, jika data kosong, maka data diganti dengan median\n",
    "# strategy bisa diganti dengan mean atau rata-rata\n",
    "# see median: https://en.wikipedia.org/wiki/Median"
   ]
  },
  {
   "cell_type": "markdown",
   "metadata": {},
   "source": [
    "* fit: imputer agar mengetahui mean atau median  dari setiap column\n",
    "* transform: isi data dengan median atau mean\n",
    "* output dari transform berupda pd dataframe\n",
    "* namakan column dari x_train_numerical_imputed sesuai dengan x_train_numerical.\n",
    "     - MENGAPA? karena kita kehilangan nama column setelah data imputation\n",
    "* beri index dari x_train_numerical_imputed sesuai dengan x_train_numerical.\n",
    "     - MENGAPA? karena kita kehilangan index setelah data imputation"
   ]
  },
  {
   "cell_type": "code",
   "execution_count": 33,
   "metadata": {
    "collapsed": true
   },
   "outputs": [],
   "source": [
    "# isi perintah yang akan dibuat di dalam fungsi baru\n",
    "# imputer perlu difitting ke data \n",
    "\n",
    "imput.fit(X_train_num)\n",
    "x_train_numerical_imputed = pd.DataFrame(imput.transform(X_train_num))\n",
    "x_train_numerical_imputed.columns = X_train_num.columns\n",
    "x_train_numerical_imputed.index = X_train_num.index"
   ]
  },
  {
   "cell_type": "code",
   "execution_count": 34,
   "metadata": {
    "collapsed": false
   },
   "outputs": [
    {
     "data": {
      "text/plain": [
       "BILL_AMT4    False\n",
       "BILL_AMT2    False\n",
       "BILL_AMT3    False\n",
       "PAY_AMT1     False\n",
       "PAY_AMT6     False\n",
       "PAY_AMT5     False\n",
       "BILL_AMT1    False\n",
       "BILL_AMT5    False\n",
       "LIMIT_BAL    False\n",
       "PAY_AMT2     False\n",
       "PAY_AMT4     False\n",
       "AGE          False\n",
       "BILL_AMT6    False\n",
       "PAY_AMT3     False\n",
       "dtype: bool"
      ]
     },
     "execution_count": 34,
     "metadata": {},
     "output_type": "execute_result"
    }
   ],
   "source": [
    "# cek kembali hasil imputer, apakah missing valuesnya masih ada atau tidak\n",
    "\n",
    "x_train_numerical_imputed.isnull().any()"
   ]
  },
  {
   "cell_type": "markdown",
   "metadata": {},
   "source": [
    "## Categorical Imputation"
   ]
  },
  {
   "cell_type": "code",
   "execution_count": 35,
   "metadata": {
    "collapsed": true
   },
   "outputs": [],
   "source": [
    "# Ambil daftar nama kolom categorical.\n",
    "# Anda bisa langsung menuliskan kolomnya atau mengambil listnya jika jumlah variabelnya sangat banyak. \n",
    "\n",
    "x_train_columns = list(X_train.columns)        # jadikan nama kolom sebagai list\n",
    "numerical_columns = list(X_train_num.columns)      # jadikan nama kolom numerical sebagai list\n",
    "cat_columns = list(set(X_train_columns).difference(set(numerical_columns))) # cari nama kolom x_train yang bukan numerical"
   ]
  },
  {
   "cell_type": "code",
   "execution_count": 36,
   "metadata": {
    "collapsed": false
   },
   "outputs": [
    {
     "data": {
      "text/plain": [
       "['PAY_2',\n",
       " 'EDUCATION',\n",
       " 'PAY_4',\n",
       " 'SEX',\n",
       " 'PAY_5',\n",
       " 'MARRIAGE',\n",
       " 'PAY_0',\n",
       " 'PAY_6',\n",
       " 'PAY_3']"
      ]
     },
     "execution_count": 36,
     "metadata": {},
     "output_type": "execute_result"
    }
   ],
   "source": [
    "cat_columns"
   ]
  },
  {
   "cell_type": "code",
   "execution_count": 37,
   "metadata": {
    "collapsed": false
   },
   "outputs": [
    {
     "data": {
      "text/plain": [
       "PAY_2        True\n",
       "EDUCATION    True\n",
       "PAY_4        True\n",
       "SEX          True\n",
       "PAY_5        True\n",
       "MARRIAGE     True\n",
       "PAY_0        True\n",
       "PAY_6        True\n",
       "PAY_3        True\n",
       "dtype: bool"
      ]
     },
     "execution_count": 37,
     "metadata": {},
     "output_type": "execute_result"
    }
   ],
   "source": [
    "# ambil kolom kategori dari x_train, simpan sebagai DataFrame categorical_data\n",
    "\n",
    "categorical_data = X_train[cat_columns]\n",
    "\n",
    "\n",
    "# periksa missing values dalam categorical data\n",
    "\n",
    "categorical_data.isnull().any()"
   ]
  },
  {
   "cell_type": "code",
   "execution_count": 38,
   "metadata": {
    "collapsed": true
   },
   "outputs": [],
   "source": [
    "categorical_data = X_train[cat_columns] # pilih column categorical dari data\n",
    "categorical_data = categorical_data.fillna(value=\"KOSONG\")  # isi missing values dengan kategori \"KOSONG\""
   ]
  },
  {
   "cell_type": "code",
   "execution_count": 39,
   "metadata": {
    "collapsed": false
   },
   "outputs": [
    {
     "data": {
      "text/plain": [
       "PAY_2        False\n",
       "EDUCATION    False\n",
       "PAY_4        False\n",
       "SEX          False\n",
       "PAY_5        False\n",
       "MARRIAGE     False\n",
       "PAY_0        False\n",
       "PAY_6        False\n",
       "PAY_3        False\n",
       "dtype: bool"
      ]
     },
     "execution_count": 39,
     "metadata": {},
     "output_type": "execute_result"
    }
   ],
   "source": [
    "# periksa kembali missing valuesnya\n",
    "\n",
    "categorical_data.isnull().any()"
   ]
  },
  {
   "cell_type": "markdown",
   "metadata": {},
   "source": [
    "## Make a Function\n",
    "* Make a function to get the numerical variable and imput the missing values\n",
    "* Make a function to get the categorical variable and imput the missing values"
   ]
  },
  {
   "cell_type": "code",
   "execution_count": 40,
   "metadata": {
    "collapsed": true
   },
   "outputs": [],
   "source": [
    "imput_numerical = Imputer(missing_values='NaN', strategy='median')\n",
    "\n",
    "def numericalImputation(data, numerical_columns):\n",
    "    numerical_data = data[numerical_columns]\n",
    "    imput_numerical.fit(numerical_data)\n",
    "    \n",
    "    numerical_data_imputed = pd.DataFrame(imput_numerical.transform(numerical_data))\n",
    "    numerical_data_imputed.columns = numerical_columns\n",
    "    numerical_data_imputed.index = numerical_data.index\n",
    "    \n",
    "    return numerical_data_imputed, imput_numerical\n",
    "\n",
    "def categoricalImputation(data, categorical_columns):\n",
    "    categorical_data = data[categorical_columns].fillna(value=\"KOSONG\")\n",
    "    \n",
    "    return categorical_data\n",
    "\n",
    "X_train_numerical, imput_numerical = numericalImputation(data = X_train, numerical_columns = numerical_columns)\n",
    "X_train_categorical = categoricalImputation(data = X_train, categorical_columns = cat_columns)"
   ]
  },
  {
   "cell_type": "markdown",
   "metadata": {},
   "source": [
    "## Preprocessing Categorical Variables\n",
    "\n",
    "* create dummy variable for each of categorical variable"
   ]
  },
  {
   "cell_type": "code",
   "execution_count": 41,
   "metadata": {
    "collapsed": true
   },
   "outputs": [],
   "source": [
    "categorical_dummies = pd.get_dummies(X_train_categorical)"
   ]
  },
  {
   "cell_type": "code",
   "execution_count": 42,
   "metadata": {
    "collapsed": false
   },
   "outputs": [
    {
     "data": {
      "text/html": [
       "<div>\n",
       "<table border=\"1\" class=\"dataframe\">\n",
       "  <thead>\n",
       "    <tr style=\"text-align: right;\">\n",
       "      <th></th>\n",
       "      <th>PAY_2_-2.0</th>\n",
       "      <th>PAY_2_-1.0</th>\n",
       "      <th>PAY_2_0.0</th>\n",
       "      <th>PAY_2_1.0</th>\n",
       "      <th>PAY_2_2.0</th>\n",
       "      <th>PAY_2_3.0</th>\n",
       "      <th>PAY_2_4.0</th>\n",
       "      <th>PAY_2_5.0</th>\n",
       "      <th>PAY_2_6.0</th>\n",
       "      <th>PAY_2_7.0</th>\n",
       "      <th>...</th>\n",
       "      <th>PAY_3_0.0</th>\n",
       "      <th>PAY_3_1.0</th>\n",
       "      <th>PAY_3_2.0</th>\n",
       "      <th>PAY_3_3.0</th>\n",
       "      <th>PAY_3_4.0</th>\n",
       "      <th>PAY_3_5.0</th>\n",
       "      <th>PAY_3_6.0</th>\n",
       "      <th>PAY_3_7.0</th>\n",
       "      <th>PAY_3_8.0</th>\n",
       "      <th>PAY_3_KOSONG</th>\n",
       "    </tr>\n",
       "  </thead>\n",
       "  <tbody>\n",
       "    <tr>\n",
       "      <th>19682</th>\n",
       "      <td>0</td>\n",
       "      <td>0</td>\n",
       "      <td>1</td>\n",
       "      <td>0</td>\n",
       "      <td>0</td>\n",
       "      <td>0</td>\n",
       "      <td>0</td>\n",
       "      <td>0</td>\n",
       "      <td>0</td>\n",
       "      <td>0</td>\n",
       "      <td>...</td>\n",
       "      <td>1</td>\n",
       "      <td>0</td>\n",
       "      <td>0</td>\n",
       "      <td>0</td>\n",
       "      <td>0</td>\n",
       "      <td>0</td>\n",
       "      <td>0</td>\n",
       "      <td>0</td>\n",
       "      <td>0</td>\n",
       "      <td>0</td>\n",
       "    </tr>\n",
       "    <tr>\n",
       "      <th>11062</th>\n",
       "      <td>0</td>\n",
       "      <td>1</td>\n",
       "      <td>0</td>\n",
       "      <td>0</td>\n",
       "      <td>0</td>\n",
       "      <td>0</td>\n",
       "      <td>0</td>\n",
       "      <td>0</td>\n",
       "      <td>0</td>\n",
       "      <td>0</td>\n",
       "      <td>...</td>\n",
       "      <td>0</td>\n",
       "      <td>0</td>\n",
       "      <td>0</td>\n",
       "      <td>0</td>\n",
       "      <td>0</td>\n",
       "      <td>0</td>\n",
       "      <td>0</td>\n",
       "      <td>0</td>\n",
       "      <td>0</td>\n",
       "      <td>0</td>\n",
       "    </tr>\n",
       "    <tr>\n",
       "      <th>197</th>\n",
       "      <td>0</td>\n",
       "      <td>0</td>\n",
       "      <td>1</td>\n",
       "      <td>0</td>\n",
       "      <td>0</td>\n",
       "      <td>0</td>\n",
       "      <td>0</td>\n",
       "      <td>0</td>\n",
       "      <td>0</td>\n",
       "      <td>0</td>\n",
       "      <td>...</td>\n",
       "      <td>1</td>\n",
       "      <td>0</td>\n",
       "      <td>0</td>\n",
       "      <td>0</td>\n",
       "      <td>0</td>\n",
       "      <td>0</td>\n",
       "      <td>0</td>\n",
       "      <td>0</td>\n",
       "      <td>0</td>\n",
       "      <td>0</td>\n",
       "    </tr>\n",
       "    <tr>\n",
       "      <th>23620</th>\n",
       "      <td>0</td>\n",
       "      <td>0</td>\n",
       "      <td>1</td>\n",
       "      <td>0</td>\n",
       "      <td>0</td>\n",
       "      <td>0</td>\n",
       "      <td>0</td>\n",
       "      <td>0</td>\n",
       "      <td>0</td>\n",
       "      <td>0</td>\n",
       "      <td>...</td>\n",
       "      <td>1</td>\n",
       "      <td>0</td>\n",
       "      <td>0</td>\n",
       "      <td>0</td>\n",
       "      <td>0</td>\n",
       "      <td>0</td>\n",
       "      <td>0</td>\n",
       "      <td>0</td>\n",
       "      <td>0</td>\n",
       "      <td>0</td>\n",
       "    </tr>\n",
       "    <tr>\n",
       "      <th>26031</th>\n",
       "      <td>0</td>\n",
       "      <td>0</td>\n",
       "      <td>1</td>\n",
       "      <td>0</td>\n",
       "      <td>0</td>\n",
       "      <td>0</td>\n",
       "      <td>0</td>\n",
       "      <td>0</td>\n",
       "      <td>0</td>\n",
       "      <td>0</td>\n",
       "      <td>...</td>\n",
       "      <td>1</td>\n",
       "      <td>0</td>\n",
       "      <td>0</td>\n",
       "      <td>0</td>\n",
       "      <td>0</td>\n",
       "      <td>0</td>\n",
       "      <td>0</td>\n",
       "      <td>0</td>\n",
       "      <td>0</td>\n",
       "      <td>0</td>\n",
       "    </tr>\n",
       "  </tbody>\n",
       "</table>\n",
       "<p>5 rows × 86 columns</p>\n",
       "</div>"
      ],
      "text/plain": [
       "       PAY_2_-2.0  PAY_2_-1.0  PAY_2_0.0  PAY_2_1.0  PAY_2_2.0  PAY_2_3.0  \\\n",
       "19682           0           0          1          0          0          0   \n",
       "11062           0           1          0          0          0          0   \n",
       "197             0           0          1          0          0          0   \n",
       "23620           0           0          1          0          0          0   \n",
       "26031           0           0          1          0          0          0   \n",
       "\n",
       "       PAY_2_4.0  PAY_2_5.0  PAY_2_6.0  PAY_2_7.0      ...       PAY_3_0.0  \\\n",
       "19682          0          0          0          0      ...               1   \n",
       "11062          0          0          0          0      ...               0   \n",
       "197            0          0          0          0      ...               1   \n",
       "23620          0          0          0          0      ...               1   \n",
       "26031          0          0          0          0      ...               1   \n",
       "\n",
       "       PAY_3_1.0  PAY_3_2.0  PAY_3_3.0  PAY_3_4.0  PAY_3_5.0  PAY_3_6.0  \\\n",
       "19682          0          0          0          0          0          0   \n",
       "11062          0          0          0          0          0          0   \n",
       "197            0          0          0          0          0          0   \n",
       "23620          0          0          0          0          0          0   \n",
       "26031          0          0          0          0          0          0   \n",
       "\n",
       "       PAY_3_7.0  PAY_3_8.0  PAY_3_KOSONG  \n",
       "19682          0          0             0  \n",
       "11062          0          0             0  \n",
       "197            0          0             0  \n",
       "23620          0          0             0  \n",
       "26031          0          0             0  \n",
       "\n",
       "[5 rows x 86 columns]"
      ]
     },
     "execution_count": 42,
     "metadata": {},
     "output_type": "execute_result"
    }
   ],
   "source": [
    "# periksa top observations\n",
    "\n",
    "categorical_dummies.head()"
   ]
  },
  {
   "cell_type": "markdown",
   "metadata": {},
   "source": [
    "### Make A function to get the dummies"
   ]
  },
  {
   "cell_type": "code",
   "execution_count": 43,
   "metadata": {
    "collapsed": false
   },
   "outputs": [],
   "source": [
    "def extractCategorical(data, categorical_columns):\n",
    "    X_train_categorical = categoricalImputation(data, categorical_columns)\n",
    "    categorical_dummies = pd.get_dummies(X_train_categorical)\n",
    "    \n",
    "    return categorical_dummies\n",
    "\n",
    "X_train_cat_dummies = extractCategorical(data = X_train, categorical_columns = cat_columns)\n",
    "dummies_columns = X_train_cat_dummies.columns"
   ]
  },
  {
   "cell_type": "code",
   "execution_count": 44,
   "metadata": {
    "collapsed": false
   },
   "outputs": [
    {
     "data": {
      "text/html": [
       "<div>\n",
       "<table border=\"1\" class=\"dataframe\">\n",
       "  <thead>\n",
       "    <tr style=\"text-align: right;\">\n",
       "      <th></th>\n",
       "      <th>PAY_2_-2.0</th>\n",
       "      <th>PAY_2_-1.0</th>\n",
       "      <th>PAY_2_0.0</th>\n",
       "      <th>PAY_2_1.0</th>\n",
       "      <th>PAY_2_2.0</th>\n",
       "      <th>PAY_2_3.0</th>\n",
       "      <th>PAY_2_4.0</th>\n",
       "      <th>PAY_2_5.0</th>\n",
       "      <th>PAY_2_6.0</th>\n",
       "      <th>PAY_2_7.0</th>\n",
       "      <th>...</th>\n",
       "      <th>PAY_3_0.0</th>\n",
       "      <th>PAY_3_1.0</th>\n",
       "      <th>PAY_3_2.0</th>\n",
       "      <th>PAY_3_3.0</th>\n",
       "      <th>PAY_3_4.0</th>\n",
       "      <th>PAY_3_5.0</th>\n",
       "      <th>PAY_3_6.0</th>\n",
       "      <th>PAY_3_7.0</th>\n",
       "      <th>PAY_3_8.0</th>\n",
       "      <th>PAY_3_KOSONG</th>\n",
       "    </tr>\n",
       "  </thead>\n",
       "  <tbody>\n",
       "    <tr>\n",
       "      <th>19682</th>\n",
       "      <td>0</td>\n",
       "      <td>0</td>\n",
       "      <td>1</td>\n",
       "      <td>0</td>\n",
       "      <td>0</td>\n",
       "      <td>0</td>\n",
       "      <td>0</td>\n",
       "      <td>0</td>\n",
       "      <td>0</td>\n",
       "      <td>0</td>\n",
       "      <td>...</td>\n",
       "      <td>1</td>\n",
       "      <td>0</td>\n",
       "      <td>0</td>\n",
       "      <td>0</td>\n",
       "      <td>0</td>\n",
       "      <td>0</td>\n",
       "      <td>0</td>\n",
       "      <td>0</td>\n",
       "      <td>0</td>\n",
       "      <td>0</td>\n",
       "    </tr>\n",
       "    <tr>\n",
       "      <th>11062</th>\n",
       "      <td>0</td>\n",
       "      <td>1</td>\n",
       "      <td>0</td>\n",
       "      <td>0</td>\n",
       "      <td>0</td>\n",
       "      <td>0</td>\n",
       "      <td>0</td>\n",
       "      <td>0</td>\n",
       "      <td>0</td>\n",
       "      <td>0</td>\n",
       "      <td>...</td>\n",
       "      <td>0</td>\n",
       "      <td>0</td>\n",
       "      <td>0</td>\n",
       "      <td>0</td>\n",
       "      <td>0</td>\n",
       "      <td>0</td>\n",
       "      <td>0</td>\n",
       "      <td>0</td>\n",
       "      <td>0</td>\n",
       "      <td>0</td>\n",
       "    </tr>\n",
       "    <tr>\n",
       "      <th>197</th>\n",
       "      <td>0</td>\n",
       "      <td>0</td>\n",
       "      <td>1</td>\n",
       "      <td>0</td>\n",
       "      <td>0</td>\n",
       "      <td>0</td>\n",
       "      <td>0</td>\n",
       "      <td>0</td>\n",
       "      <td>0</td>\n",
       "      <td>0</td>\n",
       "      <td>...</td>\n",
       "      <td>1</td>\n",
       "      <td>0</td>\n",
       "      <td>0</td>\n",
       "      <td>0</td>\n",
       "      <td>0</td>\n",
       "      <td>0</td>\n",
       "      <td>0</td>\n",
       "      <td>0</td>\n",
       "      <td>0</td>\n",
       "      <td>0</td>\n",
       "    </tr>\n",
       "    <tr>\n",
       "      <th>23620</th>\n",
       "      <td>0</td>\n",
       "      <td>0</td>\n",
       "      <td>1</td>\n",
       "      <td>0</td>\n",
       "      <td>0</td>\n",
       "      <td>0</td>\n",
       "      <td>0</td>\n",
       "      <td>0</td>\n",
       "      <td>0</td>\n",
       "      <td>0</td>\n",
       "      <td>...</td>\n",
       "      <td>1</td>\n",
       "      <td>0</td>\n",
       "      <td>0</td>\n",
       "      <td>0</td>\n",
       "      <td>0</td>\n",
       "      <td>0</td>\n",
       "      <td>0</td>\n",
       "      <td>0</td>\n",
       "      <td>0</td>\n",
       "      <td>0</td>\n",
       "    </tr>\n",
       "    <tr>\n",
       "      <th>26031</th>\n",
       "      <td>0</td>\n",
       "      <td>0</td>\n",
       "      <td>1</td>\n",
       "      <td>0</td>\n",
       "      <td>0</td>\n",
       "      <td>0</td>\n",
       "      <td>0</td>\n",
       "      <td>0</td>\n",
       "      <td>0</td>\n",
       "      <td>0</td>\n",
       "      <td>...</td>\n",
       "      <td>1</td>\n",
       "      <td>0</td>\n",
       "      <td>0</td>\n",
       "      <td>0</td>\n",
       "      <td>0</td>\n",
       "      <td>0</td>\n",
       "      <td>0</td>\n",
       "      <td>0</td>\n",
       "      <td>0</td>\n",
       "      <td>0</td>\n",
       "    </tr>\n",
       "  </tbody>\n",
       "</table>\n",
       "<p>5 rows × 86 columns</p>\n",
       "</div>"
      ],
      "text/plain": [
       "       PAY_2_-2.0  PAY_2_-1.0  PAY_2_0.0  PAY_2_1.0  PAY_2_2.0  PAY_2_3.0  \\\n",
       "19682           0           0          1          0          0          0   \n",
       "11062           0           1          0          0          0          0   \n",
       "197             0           0          1          0          0          0   \n",
       "23620           0           0          1          0          0          0   \n",
       "26031           0           0          1          0          0          0   \n",
       "\n",
       "       PAY_2_4.0  PAY_2_5.0  PAY_2_6.0  PAY_2_7.0      ...       PAY_3_0.0  \\\n",
       "19682          0          0          0          0      ...               1   \n",
       "11062          0          0          0          0      ...               0   \n",
       "197            0          0          0          0      ...               1   \n",
       "23620          0          0          0          0      ...               1   \n",
       "26031          0          0          0          0      ...               1   \n",
       "\n",
       "       PAY_3_1.0  PAY_3_2.0  PAY_3_3.0  PAY_3_4.0  PAY_3_5.0  PAY_3_6.0  \\\n",
       "19682          0          0          0          0          0          0   \n",
       "11062          0          0          0          0          0          0   \n",
       "197            0          0          0          0          0          0   \n",
       "23620          0          0          0          0          0          0   \n",
       "26031          0          0          0          0          0          0   \n",
       "\n",
       "       PAY_3_7.0  PAY_3_8.0  PAY_3_KOSONG  \n",
       "19682          0          0             0  \n",
       "11062          0          0             0  \n",
       "197            0          0             0  \n",
       "23620          0          0             0  \n",
       "26031          0          0             0  \n",
       "\n",
       "[5 rows x 86 columns]"
      ]
     },
     "execution_count": 44,
     "metadata": {},
     "output_type": "execute_result"
    }
   ],
   "source": [
    "# check the top observations\n",
    "\n",
    "X_train_cat_dummies.head()"
   ]
  },
  {
   "cell_type": "markdown",
   "metadata": {},
   "source": [
    "## Join data Numerical dan Categorical"
   ]
  },
  {
   "cell_type": "code",
   "execution_count": 45,
   "metadata": {
    "collapsed": true
   },
   "outputs": [],
   "source": [
    "# ambil variabel numerical yang sudah tidak memiliki missing values dan variabel kategori yang sudah menjadi dummy\n",
    "# satukan kembali kolom tersebut menjadi x_train_concat\n",
    "\n",
    "X_train_concat = pd.concat([X_train_numerical, X_train_cat_dummies], axis=1)"
   ]
  },
  {
   "cell_type": "code",
   "execution_count": 46,
   "metadata": {
    "collapsed": false,
    "scrolled": false
   },
   "outputs": [
    {
     "data": {
      "text/plain": [
       "BILL_AMT4        False\n",
       "BILL_AMT2        False\n",
       "BILL_AMT3        False\n",
       "PAY_AMT1         False\n",
       "PAY_AMT6         False\n",
       "PAY_AMT5         False\n",
       "BILL_AMT1        False\n",
       "BILL_AMT5        False\n",
       "LIMIT_BAL        False\n",
       "PAY_AMT2         False\n",
       "PAY_AMT4         False\n",
       "AGE              False\n",
       "BILL_AMT6        False\n",
       "PAY_AMT3         False\n",
       "PAY_2_-2.0       False\n",
       "PAY_2_-1.0       False\n",
       "PAY_2_0.0        False\n",
       "PAY_2_1.0        False\n",
       "PAY_2_2.0        False\n",
       "PAY_2_3.0        False\n",
       "PAY_2_4.0        False\n",
       "PAY_2_5.0        False\n",
       "PAY_2_6.0        False\n",
       "PAY_2_7.0        False\n",
       "PAY_2_8.0        False\n",
       "PAY_2_KOSONG     False\n",
       "EDUCATION_0.0    False\n",
       "EDUCATION_1.0    False\n",
       "EDUCATION_2.0    False\n",
       "EDUCATION_3.0    False\n",
       "                 ...  \n",
       "PAY_0_3.0        False\n",
       "PAY_0_4.0        False\n",
       "PAY_0_5.0        False\n",
       "PAY_0_6.0        False\n",
       "PAY_0_7.0        False\n",
       "PAY_0_8.0        False\n",
       "PAY_0_KOSONG     False\n",
       "PAY_6_-2.0       False\n",
       "PAY_6_-1.0       False\n",
       "PAY_6_0.0        False\n",
       "PAY_6_2.0        False\n",
       "PAY_6_3.0        False\n",
       "PAY_6_4.0        False\n",
       "PAY_6_5.0        False\n",
       "PAY_6_6.0        False\n",
       "PAY_6_7.0        False\n",
       "PAY_6_8.0        False\n",
       "PAY_6_KOSONG     False\n",
       "PAY_3_-2.0       False\n",
       "PAY_3_-1.0       False\n",
       "PAY_3_0.0        False\n",
       "PAY_3_1.0        False\n",
       "PAY_3_2.0        False\n",
       "PAY_3_3.0        False\n",
       "PAY_3_4.0        False\n",
       "PAY_3_5.0        False\n",
       "PAY_3_6.0        False\n",
       "PAY_3_7.0        False\n",
       "PAY_3_8.0        False\n",
       "PAY_3_KOSONG     False\n",
       "dtype: bool"
      ]
     },
     "execution_count": 46,
     "metadata": {},
     "output_type": "execute_result"
    }
   ],
   "source": [
    "# Check NaN values\n",
    "\n",
    "X_train_concat.isnull().any()"
   ]
  },
  {
   "cell_type": "markdown",
   "metadata": {},
   "source": [
    "## Standardizing Variables\n",
    "\n",
    "- KEGUNAAN: Menyamakan skala dari variable input\n",
    "- fit: imputer agar mengetahui mean standard deviasi dari setiap column\n",
    "- transform: isi data dengan value yang dinormalisasi\n",
    "- output dari transform berupda pd dataframe\n",
    "- normalize dikeluarkan karena akan dipakai di test"
   ]
  },
  {
   "cell_type": "code",
   "execution_count": 47,
   "metadata": {
    "collapsed": true
   },
   "outputs": [],
   "source": [
    "from sklearn.preprocessing import StandardScaler\n",
    "\n",
    "def standardizer(data):\n",
    "    data_columns = data.columns\n",
    "    data_index = data.index\n",
    "    normalize = StandardScaler()\n",
    "    normalize.fit(data)\n",
    "    \n",
    "    normalize_x = pd.DataFrame(normalize.transform(data))\n",
    "    normalize_x.columns = data_columns\n",
    "    normalize_x.index = data_index\n",
    "    \n",
    "    return normalize_x, normalize\n",
    "\n",
    "X_train_clean, normalize = standardizer(X_train_concat)"
   ]
  },
  {
   "cell_type": "markdown",
   "metadata": {},
   "source": [
    "## Training Machine Learning\n",
    "\n",
    "* Choose Score to optimize and Hyperparameter Space\n",
    "* Cross-Validation: Random vs Grid Search CV\n",
    "* Kita harus mengalahkan benchmark"
   ]
  },
  {
   "cell_type": "markdown",
   "metadata": {},
   "source": [
    "### Benchmark:"
   ]
  },
  {
   "cell_type": "code",
   "execution_count": 48,
   "metadata": {
    "collapsed": false
   },
   "outputs": [
    {
     "data": {
      "text/plain": [
       "0    0.7788\n",
       "1    0.2212\n",
       "Name: default.payment.next.month, dtype: float64"
      ]
     },
     "execution_count": 48,
     "metadata": {},
     "output_type": "execute_result"
    }
   ],
   "source": [
    "# benchmark ini adalah proporsi kelas target yang terbesar\n",
    "\n",
    "y.value_counts(normalize=True)"
   ]
  },
  {
   "cell_type": "code",
   "execution_count": 49,
   "metadata": {
    "collapsed": true
   },
   "outputs": [],
   "source": [
    "# Import classifier\n",
    "\n",
    "from sklearn.neighbors import KNeighborsClassifier"
   ]
  },
  {
   "cell_type": "code",
   "execution_count": 50,
   "metadata": {
    "collapsed": false
   },
   "outputs": [
    {
     "data": {
      "text/plain": [
       "KNeighborsClassifier(algorithm='auto', leaf_size=30, metric='minkowski',\n",
       "           metric_params=None, n_jobs=1, n_neighbors=5, p=2,\n",
       "           weights='uniform')"
      ]
     },
     "execution_count": 50,
     "metadata": {},
     "output_type": "execute_result"
    }
   ],
   "source": [
    "# Kernel Nearest Neighbor Classifier: fitting\n",
    "\n",
    "knn = KNeighborsClassifier()\n",
    "knn.fit(X_train_clean, y_train)"
   ]
  },
  {
   "cell_type": "code",
   "execution_count": 51,
   "metadata": {
    "collapsed": false,
    "scrolled": true
   },
   "outputs": [
    {
     "data": {
      "text/html": [
       "<div>\n",
       "<table border=\"1\" class=\"dataframe\">\n",
       "  <thead>\n",
       "    <tr style=\"text-align: right;\">\n",
       "      <th></th>\n",
       "      <th>0</th>\n",
       "    </tr>\n",
       "  </thead>\n",
       "  <tbody>\n",
       "    <tr>\n",
       "      <th>0</th>\n",
       "      <td>0</td>\n",
       "    </tr>\n",
       "    <tr>\n",
       "      <th>1</th>\n",
       "      <td>0</td>\n",
       "    </tr>\n",
       "    <tr>\n",
       "      <th>2</th>\n",
       "      <td>0</td>\n",
       "    </tr>\n",
       "    <tr>\n",
       "      <th>3</th>\n",
       "      <td>0</td>\n",
       "    </tr>\n",
       "    <tr>\n",
       "      <th>4</th>\n",
       "      <td>0</td>\n",
       "    </tr>\n",
       "  </tbody>\n",
       "</table>\n",
       "</div>"
      ],
      "text/plain": [
       "   0\n",
       "0  0\n",
       "1  0\n",
       "2  0\n",
       "3  0\n",
       "4  0"
      ]
     },
     "execution_count": 51,
     "metadata": {},
     "output_type": "execute_result"
    }
   ],
   "source": [
    "# Predict\n",
    "\n",
    "predicted_knn = pd.DataFrame(knn.predict(X_train_clean))\n",
    "predicted_knn.head()"
   ]
  },
  {
   "cell_type": "code",
   "execution_count": 52,
   "metadata": {
    "collapsed": false
   },
   "outputs": [
    {
     "data": {
      "text/plain": [
       "0.84062499999999996"
      ]
     },
     "execution_count": 52,
     "metadata": {},
     "output_type": "execute_result"
    }
   ],
   "source": [
    "# Cek performa model di data training\n",
    "\n",
    "knn.score(X_train_clean, y_train)"
   ]
  },
  {
   "cell_type": "code",
   "execution_count": null,
   "metadata": {
    "collapsed": true
   },
   "outputs": [],
   "source": []
  }
 ],
 "metadata": {
  "kernelspec": {
   "display_name": "Python 3",
   "language": "python",
   "name": "python3"
  },
  "language_info": {
   "codemirror_mode": {
    "name": "ipython",
    "version": 3
   },
   "file_extension": ".py",
   "mimetype": "text/x-python",
   "name": "python",
   "nbconvert_exporter": "python",
   "pygments_lexer": "ipython3",
   "version": "3.6.0"
  }
 },
 "nbformat": 4,
 "nbformat_minor": 2
}
