{
 "cells": [
  {
   "cell_type": "markdown",
   "metadata": {},
   "source": [
    "# Tugas Python Machine Learning with PACMANN AI\n"
   ]
  },
  {
   "cell_type": "markdown",
   "metadata": {},
   "source": [
    "## Unsupervised Learning : PCA and Clustering"
   ]
  },
  {
   "cell_type": "markdown",
   "metadata": {},
   "source": [
    "## 1. Importing Data to Python"
   ]
  },
  {
   "cell_type": "code",
   "execution_count": 1,
   "metadata": {
    "collapsed": true
   },
   "outputs": [],
   "source": [
    "# Import pandas\n",
    "\n",
    "import pandas as pd"
   ]
  },
  {
   "cell_type": "markdown",
   "metadata": {},
   "source": [
    "##  Dataset Information\n",
    "\n",
    "The data is related with direct marketing campaigns of a Portuguese banking institution. \n",
    "   The marketing campaigns were based on phone calls. Often, more than one contact to the same client was required, \n",
    "   in order to access if the product (bank term deposit) would be (or not) subscribed. Dataset bank-full.csv ordered by date (from May 2008 to November 2010). The exercise goal is to discover interesting things about the measurement.\n",
    "   \n",
    "   \n",
    "   ### Content\n",
    "Variables:<br>\n",
    "  1. age (numeric)\n",
    "  2. job : type of job (categorical) \n",
    "  3. marital : marital status (categorical)\n",
    "  4. education (categorical)\n",
    "  5. default: has credit in default? (binary: \"yes\",\"no\")\n",
    "  6. balance: average yearly balance, in euros (numeric) \n",
    "  7. housing: has housing loan? (binary: \"yes\",\"no\")\n",
    "  8. loan: has personal loan? (binary: \"yes\",\"no\")\n",
    "  9. contact: contact communication type (categorical) \n",
    "  10. day: last contact day of the month (numeric)\n",
    "  11. month: last contact month of year (categorical)\n",
    "  12. duration: last contact duration, in seconds (numeric)\n",
    "  13. campaign: number of contacts performed during this campaign and for this client (numeric, includes last contact)\n",
    "  14. pdays: number of days that passed by after the client was last contacted from a previous campaign (numeric, -1 means client was not previously contacted)\n",
    "  15. previous: number of contacts performed before this campaign and for this client (numeric)\n",
    "  16. poutcome: outcome of the previous marketing campaign (categorical)\n",
    "<br><br>\n",
    "Source :  S. Moro, R. Laureano and P. Cortez. Using Data Mining for Bank Direct Marketing: An Application of the CRISP-DM Methodology. <br>\n",
    "  In P. Novais et al. (Eds.), Proceedings of the European Simulation and Modelling Conference - ESM'2011, pp. 117-121, Guimarães, Portugal, October, 2011. EUROSIS.\n",
    "\n"
   ]
  },
  {
   "cell_type": "code",
   "execution_count": 2,
   "metadata": {
    "collapsed": false
   },
   "outputs": [],
   "source": [
    "# Baca dataset \n",
    "\n",
    "data = pd.read_csv(\"../datasets/bank.csv\")"
   ]
  },
  {
   "cell_type": "code",
   "execution_count": 3,
   "metadata": {
    "collapsed": false
   },
   "outputs": [
    {
     "data": {
      "text/html": [
       "<div>\n",
       "<table border=\"1\" class=\"dataframe\">\n",
       "  <thead>\n",
       "    <tr style=\"text-align: right;\">\n",
       "      <th></th>\n",
       "      <th>Unnamed: 0</th>\n",
       "      <th>age</th>\n",
       "      <th>job</th>\n",
       "      <th>marital</th>\n",
       "      <th>education</th>\n",
       "      <th>default</th>\n",
       "      <th>balance</th>\n",
       "      <th>housing</th>\n",
       "      <th>loan</th>\n",
       "      <th>contact</th>\n",
       "      <th>day</th>\n",
       "      <th>month</th>\n",
       "      <th>duration</th>\n",
       "      <th>campaign</th>\n",
       "      <th>pdays</th>\n",
       "      <th>previous</th>\n",
       "      <th>poutcome</th>\n",
       "    </tr>\n",
       "  </thead>\n",
       "  <tbody>\n",
       "    <tr>\n",
       "      <th>0</th>\n",
       "      <td>0</td>\n",
       "      <td>58</td>\n",
       "      <td>management</td>\n",
       "      <td>married</td>\n",
       "      <td>tertiary</td>\n",
       "      <td>no</td>\n",
       "      <td>2143</td>\n",
       "      <td>yes</td>\n",
       "      <td>no</td>\n",
       "      <td>unknown</td>\n",
       "      <td>5</td>\n",
       "      <td>may</td>\n",
       "      <td>261</td>\n",
       "      <td>1</td>\n",
       "      <td>-1</td>\n",
       "      <td>0</td>\n",
       "      <td>unknown</td>\n",
       "    </tr>\n",
       "    <tr>\n",
       "      <th>1</th>\n",
       "      <td>1</td>\n",
       "      <td>44</td>\n",
       "      <td>technician</td>\n",
       "      <td>single</td>\n",
       "      <td>secondary</td>\n",
       "      <td>no</td>\n",
       "      <td>29</td>\n",
       "      <td>yes</td>\n",
       "      <td>no</td>\n",
       "      <td>unknown</td>\n",
       "      <td>5</td>\n",
       "      <td>may</td>\n",
       "      <td>151</td>\n",
       "      <td>1</td>\n",
       "      <td>-1</td>\n",
       "      <td>0</td>\n",
       "      <td>unknown</td>\n",
       "    </tr>\n",
       "    <tr>\n",
       "      <th>2</th>\n",
       "      <td>2</td>\n",
       "      <td>33</td>\n",
       "      <td>entrepreneur</td>\n",
       "      <td>married</td>\n",
       "      <td>secondary</td>\n",
       "      <td>no</td>\n",
       "      <td>2</td>\n",
       "      <td>yes</td>\n",
       "      <td>yes</td>\n",
       "      <td>unknown</td>\n",
       "      <td>5</td>\n",
       "      <td>may</td>\n",
       "      <td>76</td>\n",
       "      <td>1</td>\n",
       "      <td>-1</td>\n",
       "      <td>0</td>\n",
       "      <td>unknown</td>\n",
       "    </tr>\n",
       "    <tr>\n",
       "      <th>3</th>\n",
       "      <td>3</td>\n",
       "      <td>47</td>\n",
       "      <td>blue-collar</td>\n",
       "      <td>married</td>\n",
       "      <td>unknown</td>\n",
       "      <td>no</td>\n",
       "      <td>1506</td>\n",
       "      <td>yes</td>\n",
       "      <td>no</td>\n",
       "      <td>unknown</td>\n",
       "      <td>5</td>\n",
       "      <td>may</td>\n",
       "      <td>92</td>\n",
       "      <td>1</td>\n",
       "      <td>-1</td>\n",
       "      <td>0</td>\n",
       "      <td>unknown</td>\n",
       "    </tr>\n",
       "    <tr>\n",
       "      <th>4</th>\n",
       "      <td>4</td>\n",
       "      <td>33</td>\n",
       "      <td>unknown</td>\n",
       "      <td>single</td>\n",
       "      <td>unknown</td>\n",
       "      <td>no</td>\n",
       "      <td>1</td>\n",
       "      <td>no</td>\n",
       "      <td>no</td>\n",
       "      <td>unknown</td>\n",
       "      <td>5</td>\n",
       "      <td>may</td>\n",
       "      <td>198</td>\n",
       "      <td>1</td>\n",
       "      <td>-1</td>\n",
       "      <td>0</td>\n",
       "      <td>unknown</td>\n",
       "    </tr>\n",
       "  </tbody>\n",
       "</table>\n",
       "</div>"
      ],
      "text/plain": [
       "   Unnamed: 0  age           job  marital  education default  balance housing  \\\n",
       "0           0   58    management  married   tertiary      no     2143     yes   \n",
       "1           1   44    technician   single  secondary      no       29     yes   \n",
       "2           2   33  entrepreneur  married  secondary      no        2     yes   \n",
       "3           3   47   blue-collar  married    unknown      no     1506     yes   \n",
       "4           4   33       unknown   single    unknown      no        1      no   \n",
       "\n",
       "  loan  contact  day month  duration  campaign  pdays  previous poutcome  \n",
       "0   no  unknown    5   may       261         1     -1         0  unknown  \n",
       "1   no  unknown    5   may       151         1     -1         0  unknown  \n",
       "2  yes  unknown    5   may        76         1     -1         0  unknown  \n",
       "3   no  unknown    5   may        92         1     -1         0  unknown  \n",
       "4   no  unknown    5   may       198         1     -1         0  unknown  "
      ]
     },
     "execution_count": 3,
     "metadata": {},
     "output_type": "execute_result"
    }
   ],
   "source": [
    "# Check 5 Observasi pertama dataset\n",
    "\n",
    "data.head()"
   ]
  },
  {
   "cell_type": "markdown",
   "metadata": {},
   "source": [
    "## Droping Duplicates"
   ]
  },
  {
   "cell_type": "code",
   "execution_count": 4,
   "metadata": {
    "collapsed": false
   },
   "outputs": [
    {
     "data": {
      "text/plain": [
       "(45211, 17)"
      ]
     },
     "execution_count": 4,
     "metadata": {},
     "output_type": "execute_result"
    }
   ],
   "source": [
    "# Cek shape dari data yang akan di drop duplicate nya\n",
    "\n",
    "data.shape"
   ]
  },
  {
   "cell_type": "code",
   "execution_count": 5,
   "metadata": {
    "collapsed": false
   },
   "outputs": [
    {
     "data": {
      "text/plain": [
       "0"
      ]
     },
     "execution_count": 5,
     "metadata": {},
     "output_type": "execute_result"
    }
   ],
   "source": [
    "# Cek jika ada atau tidak observasi yang duplikat\n",
    "\n",
    "data.duplicated().sum()"
   ]
  },
  {
   "cell_type": "code",
   "execution_count": 6,
   "metadata": {
    "collapsed": false
   },
   "outputs": [],
   "source": [
    "# Drop data yang duplikat\n",
    "\n",
    "data = data.drop_duplicates()"
   ]
  },
  {
   "cell_type": "code",
   "execution_count": 7,
   "metadata": {
    "collapsed": false
   },
   "outputs": [
    {
     "data": {
      "text/plain": [
       "(45211, 17)"
      ]
     },
     "execution_count": 7,
     "metadata": {},
     "output_type": "execute_result"
    }
   ],
   "source": [
    "# Cek kembali shape\n",
    "\n",
    "data.shape"
   ]
  },
  {
   "cell_type": "code",
   "execution_count": 8,
   "metadata": {
    "collapsed": false
   },
   "outputs": [
    {
     "data": {
      "text/html": [
       "<div>\n",
       "<table border=\"1\" class=\"dataframe\">\n",
       "  <thead>\n",
       "    <tr style=\"text-align: right;\">\n",
       "      <th></th>\n",
       "      <th>Unnamed: 0</th>\n",
       "      <th>age</th>\n",
       "      <th>job</th>\n",
       "      <th>marital</th>\n",
       "      <th>education</th>\n",
       "      <th>default</th>\n",
       "      <th>balance</th>\n",
       "      <th>housing</th>\n",
       "      <th>loan</th>\n",
       "      <th>contact</th>\n",
       "      <th>day</th>\n",
       "      <th>month</th>\n",
       "      <th>duration</th>\n",
       "      <th>campaign</th>\n",
       "      <th>pdays</th>\n",
       "      <th>previous</th>\n",
       "      <th>poutcome</th>\n",
       "    </tr>\n",
       "  </thead>\n",
       "  <tbody>\n",
       "    <tr>\n",
       "      <th>0</th>\n",
       "      <td>0</td>\n",
       "      <td>58</td>\n",
       "      <td>management</td>\n",
       "      <td>married</td>\n",
       "      <td>tertiary</td>\n",
       "      <td>no</td>\n",
       "      <td>2143</td>\n",
       "      <td>yes</td>\n",
       "      <td>no</td>\n",
       "      <td>unknown</td>\n",
       "      <td>5</td>\n",
       "      <td>may</td>\n",
       "      <td>261</td>\n",
       "      <td>1</td>\n",
       "      <td>-1</td>\n",
       "      <td>0</td>\n",
       "      <td>unknown</td>\n",
       "    </tr>\n",
       "    <tr>\n",
       "      <th>1</th>\n",
       "      <td>1</td>\n",
       "      <td>44</td>\n",
       "      <td>technician</td>\n",
       "      <td>single</td>\n",
       "      <td>secondary</td>\n",
       "      <td>no</td>\n",
       "      <td>29</td>\n",
       "      <td>yes</td>\n",
       "      <td>no</td>\n",
       "      <td>unknown</td>\n",
       "      <td>5</td>\n",
       "      <td>may</td>\n",
       "      <td>151</td>\n",
       "      <td>1</td>\n",
       "      <td>-1</td>\n",
       "      <td>0</td>\n",
       "      <td>unknown</td>\n",
       "    </tr>\n",
       "    <tr>\n",
       "      <th>2</th>\n",
       "      <td>2</td>\n",
       "      <td>33</td>\n",
       "      <td>entrepreneur</td>\n",
       "      <td>married</td>\n",
       "      <td>secondary</td>\n",
       "      <td>no</td>\n",
       "      <td>2</td>\n",
       "      <td>yes</td>\n",
       "      <td>yes</td>\n",
       "      <td>unknown</td>\n",
       "      <td>5</td>\n",
       "      <td>may</td>\n",
       "      <td>76</td>\n",
       "      <td>1</td>\n",
       "      <td>-1</td>\n",
       "      <td>0</td>\n",
       "      <td>unknown</td>\n",
       "    </tr>\n",
       "    <tr>\n",
       "      <th>3</th>\n",
       "      <td>3</td>\n",
       "      <td>47</td>\n",
       "      <td>blue-collar</td>\n",
       "      <td>married</td>\n",
       "      <td>unknown</td>\n",
       "      <td>no</td>\n",
       "      <td>1506</td>\n",
       "      <td>yes</td>\n",
       "      <td>no</td>\n",
       "      <td>unknown</td>\n",
       "      <td>5</td>\n",
       "      <td>may</td>\n",
       "      <td>92</td>\n",
       "      <td>1</td>\n",
       "      <td>-1</td>\n",
       "      <td>0</td>\n",
       "      <td>unknown</td>\n",
       "    </tr>\n",
       "    <tr>\n",
       "      <th>4</th>\n",
       "      <td>4</td>\n",
       "      <td>33</td>\n",
       "      <td>unknown</td>\n",
       "      <td>single</td>\n",
       "      <td>unknown</td>\n",
       "      <td>no</td>\n",
       "      <td>1</td>\n",
       "      <td>no</td>\n",
       "      <td>no</td>\n",
       "      <td>unknown</td>\n",
       "      <td>5</td>\n",
       "      <td>may</td>\n",
       "      <td>198</td>\n",
       "      <td>1</td>\n",
       "      <td>-1</td>\n",
       "      <td>0</td>\n",
       "      <td>unknown</td>\n",
       "    </tr>\n",
       "  </tbody>\n",
       "</table>\n",
       "</div>"
      ],
      "text/plain": [
       "   Unnamed: 0  age           job  marital  education default  balance housing  \\\n",
       "0           0   58    management  married   tertiary      no     2143     yes   \n",
       "1           1   44    technician   single  secondary      no       29     yes   \n",
       "2           2   33  entrepreneur  married  secondary      no        2     yes   \n",
       "3           3   47   blue-collar  married    unknown      no     1506     yes   \n",
       "4           4   33       unknown   single    unknown      no        1      no   \n",
       "\n",
       "  loan  contact  day month  duration  campaign  pdays  previous poutcome  \n",
       "0   no  unknown    5   may       261         1     -1         0  unknown  \n",
       "1   no  unknown    5   may       151         1     -1         0  unknown  \n",
       "2  yes  unknown    5   may        76         1     -1         0  unknown  \n",
       "3   no  unknown    5   may        92         1     -1         0  unknown  \n",
       "4   no  unknown    5   may       198         1     -1         0  unknown  "
      ]
     },
     "execution_count": 8,
     "metadata": {},
     "output_type": "execute_result"
    }
   ],
   "source": [
    "# Cek kembali data\n",
    "\n",
    "data.head()"
   ]
  },
  {
   "cell_type": "markdown",
   "metadata": {},
   "source": [
    "### Make function to import and drop \n",
    "\n",
    "Buat lah sebuah function dengan spesifikasi:\n",
    "\n",
    " 1. import data\n",
    " 2. cek JUMLAH OBSERVASI dan JUMLAH COLUMN\n",
    " 3. drop duplicate\n",
    " 4. drop unnecassary column\n",
    " 5. cek JUMLAH OBSERVASI dan JUMLAH COLUMN, setelah di-drop\n",
    " 6. return data setelah di-drop\n",
    "\n",
    "Function dinamakan dengan `import_data` dan menerima 2 argument yaitu:\n",
    "\n",
    " 1. `filepath`: Direktori dimana data tersimpan\n",
    " 2. `drop`    : Nama kolom yang ingin di hapus\n",
    " \n",
    "Lalu assign function tersebut pada suatu variabel yang dengan nama `data_bank`"
   ]
  },
  {
   "cell_type": "code",
   "execution_count": 9,
   "metadata": {
    "collapsed": true
   },
   "outputs": [],
   "source": [
    "# Buatlah function \n",
    "\n",
    "def importData(path, drop):\n",
    "    data = pd.read_csv(path)\n",
    "    print(\"Data asli : %d Observasi, %d Kolom.\" %data.shape, '\\n')   \n",
    "    print(\"Kolom yang di drop :\", drop, '\\n')\n",
    "    data_drop = data.drop(drop, axis=1)\n",
    "    print(\"Banyaknya data duplicate :\", data_drop.duplicated().sum(), '\\n')\n",
    "    data_unique = data_drop.drop_duplicates()\n",
    "    print(\"Data setelah di drop : %d Observasi, %d Kolom.\" %data_unique.shape)    \n",
    "    \n",
    "    return data_unique"
   ]
  },
  {
   "cell_type": "code",
   "execution_count": 10,
   "metadata": {
    "collapsed": false
   },
   "outputs": [
    {
     "name": "stdout",
     "output_type": "stream",
     "text": [
      "Data asli : 45211 Observasi, 17 Kolom. \n",
      "\n",
      "Kolom yang di drop : ['Unnamed: 0'] \n",
      "\n",
      "Banyaknya data duplicate : 0 \n",
      "\n",
      "Data setelah di drop : 45211 Observasi, 16 Kolom.\n"
     ]
    }
   ],
   "source": [
    "# Assign fuction kepada variabel data\n",
    "\n",
    "drop = ['Unnamed: 0']\n",
    "\n",
    "data_bank = importData(\"bank.csv\", drop)"
   ]
  },
  {
   "cell_type": "markdown",
   "metadata": {},
   "source": [
    "## 2. Data Preprocessing\n",
    "### Input-Output Split\n",
    "\n",
    "Disini kita akan memisahkan kolom berdasarkan input dan output.\n",
    "\n",
    "Data yang digunakan untuk input akan dinamakan dengan `X`, sedangkan untuk output dengan `y`.\n",
    "\n",
    "Pada dataset ini, kita hanya perlu menggunakan kolom `target` sebagai output kita. "
   ]
  },
  {
   "cell_type": "code",
   "execution_count": 11,
   "metadata": {
    "collapsed": false
   },
   "outputs": [
    {
     "data": {
      "text/html": [
       "<div>\n",
       "<table border=\"1\" class=\"dataframe\">\n",
       "  <thead>\n",
       "    <tr style=\"text-align: right;\">\n",
       "      <th></th>\n",
       "      <th>age</th>\n",
       "      <th>job</th>\n",
       "      <th>marital</th>\n",
       "      <th>education</th>\n",
       "      <th>default</th>\n",
       "      <th>balance</th>\n",
       "      <th>housing</th>\n",
       "      <th>loan</th>\n",
       "      <th>contact</th>\n",
       "      <th>day</th>\n",
       "      <th>month</th>\n",
       "      <th>duration</th>\n",
       "      <th>campaign</th>\n",
       "      <th>pdays</th>\n",
       "      <th>previous</th>\n",
       "      <th>poutcome</th>\n",
       "    </tr>\n",
       "  </thead>\n",
       "  <tbody>\n",
       "    <tr>\n",
       "      <th>0</th>\n",
       "      <td>58</td>\n",
       "      <td>management</td>\n",
       "      <td>married</td>\n",
       "      <td>tertiary</td>\n",
       "      <td>no</td>\n",
       "      <td>2143</td>\n",
       "      <td>yes</td>\n",
       "      <td>no</td>\n",
       "      <td>unknown</td>\n",
       "      <td>5</td>\n",
       "      <td>may</td>\n",
       "      <td>261</td>\n",
       "      <td>1</td>\n",
       "      <td>-1</td>\n",
       "      <td>0</td>\n",
       "      <td>unknown</td>\n",
       "    </tr>\n",
       "    <tr>\n",
       "      <th>1</th>\n",
       "      <td>44</td>\n",
       "      <td>technician</td>\n",
       "      <td>single</td>\n",
       "      <td>secondary</td>\n",
       "      <td>no</td>\n",
       "      <td>29</td>\n",
       "      <td>yes</td>\n",
       "      <td>no</td>\n",
       "      <td>unknown</td>\n",
       "      <td>5</td>\n",
       "      <td>may</td>\n",
       "      <td>151</td>\n",
       "      <td>1</td>\n",
       "      <td>-1</td>\n",
       "      <td>0</td>\n",
       "      <td>unknown</td>\n",
       "    </tr>\n",
       "    <tr>\n",
       "      <th>2</th>\n",
       "      <td>33</td>\n",
       "      <td>entrepreneur</td>\n",
       "      <td>married</td>\n",
       "      <td>secondary</td>\n",
       "      <td>no</td>\n",
       "      <td>2</td>\n",
       "      <td>yes</td>\n",
       "      <td>yes</td>\n",
       "      <td>unknown</td>\n",
       "      <td>5</td>\n",
       "      <td>may</td>\n",
       "      <td>76</td>\n",
       "      <td>1</td>\n",
       "      <td>-1</td>\n",
       "      <td>0</td>\n",
       "      <td>unknown</td>\n",
       "    </tr>\n",
       "    <tr>\n",
       "      <th>3</th>\n",
       "      <td>47</td>\n",
       "      <td>blue-collar</td>\n",
       "      <td>married</td>\n",
       "      <td>unknown</td>\n",
       "      <td>no</td>\n",
       "      <td>1506</td>\n",
       "      <td>yes</td>\n",
       "      <td>no</td>\n",
       "      <td>unknown</td>\n",
       "      <td>5</td>\n",
       "      <td>may</td>\n",
       "      <td>92</td>\n",
       "      <td>1</td>\n",
       "      <td>-1</td>\n",
       "      <td>0</td>\n",
       "      <td>unknown</td>\n",
       "    </tr>\n",
       "    <tr>\n",
       "      <th>4</th>\n",
       "      <td>33</td>\n",
       "      <td>unknown</td>\n",
       "      <td>single</td>\n",
       "      <td>unknown</td>\n",
       "      <td>no</td>\n",
       "      <td>1</td>\n",
       "      <td>no</td>\n",
       "      <td>no</td>\n",
       "      <td>unknown</td>\n",
       "      <td>5</td>\n",
       "      <td>may</td>\n",
       "      <td>198</td>\n",
       "      <td>1</td>\n",
       "      <td>-1</td>\n",
       "      <td>0</td>\n",
       "      <td>unknown</td>\n",
       "    </tr>\n",
       "  </tbody>\n",
       "</table>\n",
       "</div>"
      ],
      "text/plain": [
       "   age           job  marital  education default  balance housing loan  \\\n",
       "0   58    management  married   tertiary      no     2143     yes   no   \n",
       "1   44    technician   single  secondary      no       29     yes   no   \n",
       "2   33  entrepreneur  married  secondary      no        2     yes  yes   \n",
       "3   47   blue-collar  married    unknown      no     1506     yes   no   \n",
       "4   33       unknown   single    unknown      no        1      no   no   \n",
       "\n",
       "   contact  day month  duration  campaign  pdays  previous poutcome  \n",
       "0  unknown    5   may       261         1     -1         0  unknown  \n",
       "1  unknown    5   may       151         1     -1         0  unknown  \n",
       "2  unknown    5   may        76         1     -1         0  unknown  \n",
       "3  unknown    5   may        92         1     -1         0  unknown  \n",
       "4  unknown    5   may       198         1     -1         0  unknown  "
      ]
     },
     "execution_count": 11,
     "metadata": {},
     "output_type": "execute_result"
    }
   ],
   "source": [
    "# Cek data menggunakan head()\n",
    "\n",
    "data_bank.head()"
   ]
  },
  {
   "cell_type": "markdown",
   "metadata": {},
   "source": [
    "## Train and Test Split\n",
    "\n",
    "Pada bagian ini, data_bank akan dibagi menjadi 2 set yaitu training dan tes. Kita akan menggunakan function dari library Scikit Learn yaitu `train_test_split`."
   ]
  },
  {
   "cell_type": "code",
   "execution_count": 12,
   "metadata": {
    "collapsed": true
   },
   "outputs": [],
   "source": [
    "# import train_test_split\n",
    "\n",
    "from sklearn.model_selection import train_test_split"
   ]
  },
  {
   "cell_type": "code",
   "execution_count": 13,
   "metadata": {
    "collapsed": true
   },
   "outputs": [],
   "source": [
    "# Split dataset\n",
    "\n",
    "data_train, data_test = train_test_split(data_bank, test_size = 0.20, random_state = 123)"
   ]
  },
  {
   "cell_type": "code",
   "execution_count": 14,
   "metadata": {
    "collapsed": false
   },
   "outputs": [
    {
     "name": "stdout",
     "output_type": "stream",
     "text": [
      "data train (36168, 16)\n",
      "data test (9043, 16)\n"
     ]
    }
   ],
   "source": [
    "# Cek shape untuk tiap set (data_train, data_test)\n",
    "\n",
    "print(\"data train\", data_train.shape)\n",
    "print(\"data test\", data_test.shape)"
   ]
  },
  {
   "cell_type": "code",
   "execution_count": 15,
   "metadata": {
    "collapsed": false
   },
   "outputs": [
    {
     "data": {
      "text/html": [
       "<div>\n",
       "<table border=\"1\" class=\"dataframe\">\n",
       "  <thead>\n",
       "    <tr style=\"text-align: right;\">\n",
       "      <th></th>\n",
       "      <th>age</th>\n",
       "      <th>job</th>\n",
       "      <th>marital</th>\n",
       "      <th>education</th>\n",
       "      <th>default</th>\n",
       "      <th>balance</th>\n",
       "      <th>housing</th>\n",
       "      <th>loan</th>\n",
       "      <th>contact</th>\n",
       "      <th>day</th>\n",
       "      <th>month</th>\n",
       "      <th>duration</th>\n",
       "      <th>campaign</th>\n",
       "      <th>pdays</th>\n",
       "      <th>previous</th>\n",
       "      <th>poutcome</th>\n",
       "    </tr>\n",
       "  </thead>\n",
       "  <tbody>\n",
       "    <tr>\n",
       "      <th>28686</th>\n",
       "      <td>29</td>\n",
       "      <td>services</td>\n",
       "      <td>single</td>\n",
       "      <td>secondary</td>\n",
       "      <td>no</td>\n",
       "      <td>-205</td>\n",
       "      <td>no</td>\n",
       "      <td>no</td>\n",
       "      <td>cellular</td>\n",
       "      <td>30</td>\n",
       "      <td>jan</td>\n",
       "      <td>194</td>\n",
       "      <td>1</td>\n",
       "      <td>-1</td>\n",
       "      <td>0</td>\n",
       "      <td>unknown</td>\n",
       "    </tr>\n",
       "    <tr>\n",
       "      <th>9304</th>\n",
       "      <td>53</td>\n",
       "      <td>blue-collar</td>\n",
       "      <td>married</td>\n",
       "      <td>primary</td>\n",
       "      <td>no</td>\n",
       "      <td>0</td>\n",
       "      <td>yes</td>\n",
       "      <td>no</td>\n",
       "      <td>unknown</td>\n",
       "      <td>5</td>\n",
       "      <td>jun</td>\n",
       "      <td>285</td>\n",
       "      <td>2</td>\n",
       "      <td>-1</td>\n",
       "      <td>0</td>\n",
       "      <td>unknown</td>\n",
       "    </tr>\n",
       "    <tr>\n",
       "      <th>41425</th>\n",
       "      <td>55</td>\n",
       "      <td>management</td>\n",
       "      <td>married</td>\n",
       "      <td>primary</td>\n",
       "      <td>no</td>\n",
       "      <td>2587</td>\n",
       "      <td>no</td>\n",
       "      <td>no</td>\n",
       "      <td>cellular</td>\n",
       "      <td>4</td>\n",
       "      <td>sep</td>\n",
       "      <td>328</td>\n",
       "      <td>2</td>\n",
       "      <td>94</td>\n",
       "      <td>2</td>\n",
       "      <td>success</td>\n",
       "    </tr>\n",
       "    <tr>\n",
       "      <th>44803</th>\n",
       "      <td>30</td>\n",
       "      <td>technician</td>\n",
       "      <td>single</td>\n",
       "      <td>tertiary</td>\n",
       "      <td>no</td>\n",
       "      <td>0</td>\n",
       "      <td>no</td>\n",
       "      <td>no</td>\n",
       "      <td>cellular</td>\n",
       "      <td>15</td>\n",
       "      <td>sep</td>\n",
       "      <td>214</td>\n",
       "      <td>2</td>\n",
       "      <td>-1</td>\n",
       "      <td>0</td>\n",
       "      <td>unknown</td>\n",
       "    </tr>\n",
       "    <tr>\n",
       "      <th>5878</th>\n",
       "      <td>30</td>\n",
       "      <td>unemployed</td>\n",
       "      <td>married</td>\n",
       "      <td>secondary</td>\n",
       "      <td>no</td>\n",
       "      <td>529</td>\n",
       "      <td>yes</td>\n",
       "      <td>yes</td>\n",
       "      <td>unknown</td>\n",
       "      <td>26</td>\n",
       "      <td>may</td>\n",
       "      <td>107</td>\n",
       "      <td>3</td>\n",
       "      <td>-1</td>\n",
       "      <td>0</td>\n",
       "      <td>unknown</td>\n",
       "    </tr>\n",
       "  </tbody>\n",
       "</table>\n",
       "</div>"
      ],
      "text/plain": [
       "       age          job  marital  education default  balance housing loan  \\\n",
       "28686   29     services   single  secondary      no     -205      no   no   \n",
       "9304    53  blue-collar  married    primary      no        0     yes   no   \n",
       "41425   55   management  married    primary      no     2587      no   no   \n",
       "44803   30   technician   single   tertiary      no        0      no   no   \n",
       "5878    30   unemployed  married  secondary      no      529     yes  yes   \n",
       "\n",
       "        contact  day month  duration  campaign  pdays  previous poutcome  \n",
       "28686  cellular   30   jan       194         1     -1         0  unknown  \n",
       "9304    unknown    5   jun       285         2     -1         0  unknown  \n",
       "41425  cellular    4   sep       328         2     94         2  success  \n",
       "44803  cellular   15   sep       214         2     -1         0  unknown  \n",
       "5878    unknown   26   may       107         3     -1         0  unknown  "
      ]
     },
     "execution_count": 15,
     "metadata": {},
     "output_type": "execute_result"
    }
   ],
   "source": [
    "data_train.head()"
   ]
  },
  {
   "cell_type": "code",
   "execution_count": 16,
   "metadata": {
    "collapsed": false
   },
   "outputs": [
    {
     "data": {
      "text/plain": [
       "['input_col.pkl']"
      ]
     },
     "execution_count": 16,
     "metadata": {},
     "output_type": "execute_result"
    }
   ],
   "source": [
    "# dump data_train columns\n",
    "\n",
    "from sklearn.externals import joblib\n",
    "joblib.dump(data_train.columns,'input_col.pkl')"
   ]
  },
  {
   "cell_type": "markdown",
   "metadata": {},
   "source": [
    "### Preprocessing Month "
   ]
  },
  {
   "cell_type": "code",
   "execution_count": 17,
   "metadata": {
    "collapsed": false
   },
   "outputs": [
    {
     "data": {
      "text/plain": [
       "28686    jan\n",
       "9304     jun\n",
       "41425    sep\n",
       "44803    sep\n",
       "5878     may\n",
       "Name: month, dtype: object"
      ]
     },
     "execution_count": 17,
     "metadata": {},
     "output_type": "execute_result"
    }
   ],
   "source": [
    "data_month = data_train['month']\n",
    "data_month.head()"
   ]
  },
  {
   "cell_type": "code",
   "execution_count": 18,
   "metadata": {
    "collapsed": false
   },
   "outputs": [
    {
     "data": {
      "text/plain": [
       "may    0.306182\n",
       "jul    0.153312\n",
       "aug    0.136751\n",
       "jun    0.118309\n",
       "nov    0.087177\n",
       "apr    0.064587\n",
       "feb    0.057675\n",
       "jan    0.031188\n",
       "oct    0.016479\n",
       "sep    0.012608\n",
       "mar    0.011087\n",
       "dec    0.004645\n",
       "Name: month, dtype: float64"
      ]
     },
     "execution_count": 18,
     "metadata": {},
     "output_type": "execute_result"
    }
   ],
   "source": [
    "data_month.value_counts(normalize=True)"
   ]
  },
  {
   "cell_type": "code",
   "execution_count": 19,
   "metadata": {
    "collapsed": true
   },
   "outputs": [],
   "source": [
    "data_month = data_month.replace(['jan','feb','mar','apr','may','jun','jul','aug','sep','oct','nov','dec'],[1, 2, 3, 4, 5, 6, 7, 8, 9, 10, 11, 12])"
   ]
  },
  {
   "cell_type": "code",
   "execution_count": 20,
   "metadata": {
    "collapsed": false
   },
   "outputs": [
    {
     "data": {
      "text/plain": [
       "5     0.306182\n",
       "7     0.153312\n",
       "8     0.136751\n",
       "6     0.118309\n",
       "11    0.087177\n",
       "4     0.064587\n",
       "2     0.057675\n",
       "1     0.031188\n",
       "10    0.016479\n",
       "9     0.012608\n",
       "3     0.011087\n",
       "12    0.004645\n",
       "Name: month, dtype: float64"
      ]
     },
     "execution_count": 20,
     "metadata": {},
     "output_type": "execute_result"
    }
   ],
   "source": [
    "data_month.value_counts(normalize=True)"
   ]
  },
  {
   "cell_type": "code",
   "execution_count": 21,
   "metadata": {
    "collapsed": false
   },
   "outputs": [
    {
     "name": "stderr",
     "output_type": "stream",
     "text": [
      "C:\\Anaconda3\\lib\\site-packages\\ipykernel\\__main__.py:1: SettingWithCopyWarning: \n",
      "A value is trying to be set on a copy of a slice from a DataFrame.\n",
      "Try using .loc[row_indexer,col_indexer] = value instead\n",
      "\n",
      "See the caveats in the documentation: http://pandas.pydata.org/pandas-docs/stable/indexing.html#indexing-view-versus-copy\n",
      "  if __name__ == '__main__':\n"
     ]
    }
   ],
   "source": [
    "data_train['month'] = data_train['month'].replace(['jan','feb','mar','apr','may','jun','jul','aug','sep','oct','nov','dec'],[1, 2, 3, 4, 5, 6, 7, 8, 9, 10, 11, 12])"
   ]
  },
  {
   "cell_type": "code",
   "execution_count": 22,
   "metadata": {
    "collapsed": false
   },
   "outputs": [
    {
     "data": {
      "text/html": [
       "<div>\n",
       "<table border=\"1\" class=\"dataframe\">\n",
       "  <thead>\n",
       "    <tr style=\"text-align: right;\">\n",
       "      <th></th>\n",
       "      <th>age</th>\n",
       "      <th>job</th>\n",
       "      <th>marital</th>\n",
       "      <th>education</th>\n",
       "      <th>default</th>\n",
       "      <th>balance</th>\n",
       "      <th>housing</th>\n",
       "      <th>loan</th>\n",
       "      <th>contact</th>\n",
       "      <th>day</th>\n",
       "      <th>month</th>\n",
       "      <th>duration</th>\n",
       "      <th>campaign</th>\n",
       "      <th>pdays</th>\n",
       "      <th>previous</th>\n",
       "      <th>poutcome</th>\n",
       "    </tr>\n",
       "  </thead>\n",
       "  <tbody>\n",
       "    <tr>\n",
       "      <th>28686</th>\n",
       "      <td>29</td>\n",
       "      <td>services</td>\n",
       "      <td>single</td>\n",
       "      <td>secondary</td>\n",
       "      <td>no</td>\n",
       "      <td>-205</td>\n",
       "      <td>no</td>\n",
       "      <td>no</td>\n",
       "      <td>cellular</td>\n",
       "      <td>30</td>\n",
       "      <td>1</td>\n",
       "      <td>194</td>\n",
       "      <td>1</td>\n",
       "      <td>-1</td>\n",
       "      <td>0</td>\n",
       "      <td>unknown</td>\n",
       "    </tr>\n",
       "    <tr>\n",
       "      <th>9304</th>\n",
       "      <td>53</td>\n",
       "      <td>blue-collar</td>\n",
       "      <td>married</td>\n",
       "      <td>primary</td>\n",
       "      <td>no</td>\n",
       "      <td>0</td>\n",
       "      <td>yes</td>\n",
       "      <td>no</td>\n",
       "      <td>unknown</td>\n",
       "      <td>5</td>\n",
       "      <td>6</td>\n",
       "      <td>285</td>\n",
       "      <td>2</td>\n",
       "      <td>-1</td>\n",
       "      <td>0</td>\n",
       "      <td>unknown</td>\n",
       "    </tr>\n",
       "    <tr>\n",
       "      <th>41425</th>\n",
       "      <td>55</td>\n",
       "      <td>management</td>\n",
       "      <td>married</td>\n",
       "      <td>primary</td>\n",
       "      <td>no</td>\n",
       "      <td>2587</td>\n",
       "      <td>no</td>\n",
       "      <td>no</td>\n",
       "      <td>cellular</td>\n",
       "      <td>4</td>\n",
       "      <td>9</td>\n",
       "      <td>328</td>\n",
       "      <td>2</td>\n",
       "      <td>94</td>\n",
       "      <td>2</td>\n",
       "      <td>success</td>\n",
       "    </tr>\n",
       "    <tr>\n",
       "      <th>44803</th>\n",
       "      <td>30</td>\n",
       "      <td>technician</td>\n",
       "      <td>single</td>\n",
       "      <td>tertiary</td>\n",
       "      <td>no</td>\n",
       "      <td>0</td>\n",
       "      <td>no</td>\n",
       "      <td>no</td>\n",
       "      <td>cellular</td>\n",
       "      <td>15</td>\n",
       "      <td>9</td>\n",
       "      <td>214</td>\n",
       "      <td>2</td>\n",
       "      <td>-1</td>\n",
       "      <td>0</td>\n",
       "      <td>unknown</td>\n",
       "    </tr>\n",
       "    <tr>\n",
       "      <th>5878</th>\n",
       "      <td>30</td>\n",
       "      <td>unemployed</td>\n",
       "      <td>married</td>\n",
       "      <td>secondary</td>\n",
       "      <td>no</td>\n",
       "      <td>529</td>\n",
       "      <td>yes</td>\n",
       "      <td>yes</td>\n",
       "      <td>unknown</td>\n",
       "      <td>26</td>\n",
       "      <td>5</td>\n",
       "      <td>107</td>\n",
       "      <td>3</td>\n",
       "      <td>-1</td>\n",
       "      <td>0</td>\n",
       "      <td>unknown</td>\n",
       "    </tr>\n",
       "  </tbody>\n",
       "</table>\n",
       "</div>"
      ],
      "text/plain": [
       "       age          job  marital  education default  balance housing loan  \\\n",
       "28686   29     services   single  secondary      no     -205      no   no   \n",
       "9304    53  blue-collar  married    primary      no        0     yes   no   \n",
       "41425   55   management  married    primary      no     2587      no   no   \n",
       "44803   30   technician   single   tertiary      no        0      no   no   \n",
       "5878    30   unemployed  married  secondary      no      529     yes  yes   \n",
       "\n",
       "        contact  day  month  duration  campaign  pdays  previous poutcome  \n",
       "28686  cellular   30      1       194         1     -1         0  unknown  \n",
       "9304    unknown    5      6       285         2     -1         0  unknown  \n",
       "41425  cellular    4      9       328         2     94         2  success  \n",
       "44803  cellular   15      9       214         2     -1         0  unknown  \n",
       "5878    unknown   26      5       107         3     -1         0  unknown  "
      ]
     },
     "execution_count": 22,
     "metadata": {},
     "output_type": "execute_result"
    }
   ],
   "source": [
    "data_train.head()"
   ]
  },
  {
   "cell_type": "markdown",
   "metadata": {},
   "source": [
    "## Separating Numerical and Categorical Data Manually"
   ]
  },
  {
   "cell_type": "markdown",
   "metadata": {},
   "source": [
    "## Getting Numerical"
   ]
  },
  {
   "cell_type": "code",
   "execution_count": 23,
   "metadata": {
    "collapsed": true
   },
   "outputs": [],
   "source": [
    "# get numeric using ._get_numeric_data()\n",
    "\n",
    "data_train_num = data_train._get_numeric_data()"
   ]
  },
  {
   "cell_type": "code",
   "execution_count": 24,
   "metadata": {
    "collapsed": false
   },
   "outputs": [
    {
     "data": {
      "text/html": [
       "<div>\n",
       "<table border=\"1\" class=\"dataframe\">\n",
       "  <thead>\n",
       "    <tr style=\"text-align: right;\">\n",
       "      <th></th>\n",
       "      <th>age</th>\n",
       "      <th>balance</th>\n",
       "      <th>day</th>\n",
       "      <th>month</th>\n",
       "      <th>duration</th>\n",
       "      <th>campaign</th>\n",
       "      <th>pdays</th>\n",
       "      <th>previous</th>\n",
       "    </tr>\n",
       "  </thead>\n",
       "  <tbody>\n",
       "    <tr>\n",
       "      <th>28686</th>\n",
       "      <td>29</td>\n",
       "      <td>-205</td>\n",
       "      <td>30</td>\n",
       "      <td>1</td>\n",
       "      <td>194</td>\n",
       "      <td>1</td>\n",
       "      <td>-1</td>\n",
       "      <td>0</td>\n",
       "    </tr>\n",
       "    <tr>\n",
       "      <th>9304</th>\n",
       "      <td>53</td>\n",
       "      <td>0</td>\n",
       "      <td>5</td>\n",
       "      <td>6</td>\n",
       "      <td>285</td>\n",
       "      <td>2</td>\n",
       "      <td>-1</td>\n",
       "      <td>0</td>\n",
       "    </tr>\n",
       "    <tr>\n",
       "      <th>41425</th>\n",
       "      <td>55</td>\n",
       "      <td>2587</td>\n",
       "      <td>4</td>\n",
       "      <td>9</td>\n",
       "      <td>328</td>\n",
       "      <td>2</td>\n",
       "      <td>94</td>\n",
       "      <td>2</td>\n",
       "    </tr>\n",
       "    <tr>\n",
       "      <th>44803</th>\n",
       "      <td>30</td>\n",
       "      <td>0</td>\n",
       "      <td>15</td>\n",
       "      <td>9</td>\n",
       "      <td>214</td>\n",
       "      <td>2</td>\n",
       "      <td>-1</td>\n",
       "      <td>0</td>\n",
       "    </tr>\n",
       "    <tr>\n",
       "      <th>5878</th>\n",
       "      <td>30</td>\n",
       "      <td>529</td>\n",
       "      <td>26</td>\n",
       "      <td>5</td>\n",
       "      <td>107</td>\n",
       "      <td>3</td>\n",
       "      <td>-1</td>\n",
       "      <td>0</td>\n",
       "    </tr>\n",
       "  </tbody>\n",
       "</table>\n",
       "</div>"
      ],
      "text/plain": [
       "       age  balance  day  month  duration  campaign  pdays  previous\n",
       "28686   29     -205   30      1       194         1     -1         0\n",
       "9304    53        0    5      6       285         2     -1         0\n",
       "41425   55     2587    4      9       328         2     94         2\n",
       "44803   30        0   15      9       214         2     -1         0\n",
       "5878    30      529   26      5       107         3     -1         0"
      ]
     },
     "execution_count": 24,
     "metadata": {},
     "output_type": "execute_result"
    }
   ],
   "source": [
    "# check the columns\n",
    "\n",
    "data_train_num.head()"
   ]
  },
  {
   "cell_type": "code",
   "execution_count": 25,
   "metadata": {
    "collapsed": true
   },
   "outputs": [],
   "source": [
    "# drop unexpected numerical column if any\n",
    "# num_categorical = [....]\n",
    "# data_train_num = data_train_num.drop(num_categorical, axis = 1)"
   ]
  },
  {
   "cell_type": "code",
   "execution_count": 26,
   "metadata": {
    "collapsed": false
   },
   "outputs": [
    {
     "data": {
      "text/html": [
       "<div>\n",
       "<table border=\"1\" class=\"dataframe\">\n",
       "  <thead>\n",
       "    <tr style=\"text-align: right;\">\n",
       "      <th></th>\n",
       "      <th>age</th>\n",
       "      <th>balance</th>\n",
       "      <th>day</th>\n",
       "      <th>month</th>\n",
       "      <th>duration</th>\n",
       "      <th>campaign</th>\n",
       "      <th>pdays</th>\n",
       "      <th>previous</th>\n",
       "    </tr>\n",
       "  </thead>\n",
       "  <tbody>\n",
       "    <tr>\n",
       "      <th>28686</th>\n",
       "      <td>29</td>\n",
       "      <td>-205</td>\n",
       "      <td>30</td>\n",
       "      <td>1</td>\n",
       "      <td>194</td>\n",
       "      <td>1</td>\n",
       "      <td>-1</td>\n",
       "      <td>0</td>\n",
       "    </tr>\n",
       "    <tr>\n",
       "      <th>9304</th>\n",
       "      <td>53</td>\n",
       "      <td>0</td>\n",
       "      <td>5</td>\n",
       "      <td>6</td>\n",
       "      <td>285</td>\n",
       "      <td>2</td>\n",
       "      <td>-1</td>\n",
       "      <td>0</td>\n",
       "    </tr>\n",
       "    <tr>\n",
       "      <th>41425</th>\n",
       "      <td>55</td>\n",
       "      <td>2587</td>\n",
       "      <td>4</td>\n",
       "      <td>9</td>\n",
       "      <td>328</td>\n",
       "      <td>2</td>\n",
       "      <td>94</td>\n",
       "      <td>2</td>\n",
       "    </tr>\n",
       "    <tr>\n",
       "      <th>44803</th>\n",
       "      <td>30</td>\n",
       "      <td>0</td>\n",
       "      <td>15</td>\n",
       "      <td>9</td>\n",
       "      <td>214</td>\n",
       "      <td>2</td>\n",
       "      <td>-1</td>\n",
       "      <td>0</td>\n",
       "    </tr>\n",
       "    <tr>\n",
       "      <th>5878</th>\n",
       "      <td>30</td>\n",
       "      <td>529</td>\n",
       "      <td>26</td>\n",
       "      <td>5</td>\n",
       "      <td>107</td>\n",
       "      <td>3</td>\n",
       "      <td>-1</td>\n",
       "      <td>0</td>\n",
       "    </tr>\n",
       "  </tbody>\n",
       "</table>\n",
       "</div>"
      ],
      "text/plain": [
       "       age  balance  day  month  duration  campaign  pdays  previous\n",
       "28686   29     -205   30      1       194         1     -1         0\n",
       "9304    53        0    5      6       285         2     -1         0\n",
       "41425   55     2587    4      9       328         2     94         2\n",
       "44803   30        0   15      9       214         2     -1         0\n",
       "5878    30      529   26      5       107         3     -1         0"
      ]
     },
     "execution_count": 26,
     "metadata": {},
     "output_type": "execute_result"
    }
   ],
   "source": [
    "data_train_num.head()"
   ]
  },
  {
   "cell_type": "markdown",
   "metadata": {},
   "source": [
    "## Getting Categorical\n"
   ]
  },
  {
   "cell_type": "code",
   "execution_count": 27,
   "metadata": {
    "collapsed": false
   },
   "outputs": [],
   "source": [
    "# Get Categorical\n",
    "\n",
    "categorical = [x for x in data_train.columns if x not in data_train_num.columns]\n",
    "data_train_cat = data_train[categorical]"
   ]
  },
  {
   "cell_type": "code",
   "execution_count": 28,
   "metadata": {
    "collapsed": false
   },
   "outputs": [
    {
     "data": {
      "text/html": [
       "<div>\n",
       "<table border=\"1\" class=\"dataframe\">\n",
       "  <thead>\n",
       "    <tr style=\"text-align: right;\">\n",
       "      <th></th>\n",
       "      <th>job</th>\n",
       "      <th>marital</th>\n",
       "      <th>education</th>\n",
       "      <th>default</th>\n",
       "      <th>housing</th>\n",
       "      <th>loan</th>\n",
       "      <th>contact</th>\n",
       "      <th>poutcome</th>\n",
       "    </tr>\n",
       "  </thead>\n",
       "  <tbody>\n",
       "    <tr>\n",
       "      <th>28686</th>\n",
       "      <td>services</td>\n",
       "      <td>single</td>\n",
       "      <td>secondary</td>\n",
       "      <td>no</td>\n",
       "      <td>no</td>\n",
       "      <td>no</td>\n",
       "      <td>cellular</td>\n",
       "      <td>unknown</td>\n",
       "    </tr>\n",
       "    <tr>\n",
       "      <th>9304</th>\n",
       "      <td>blue-collar</td>\n",
       "      <td>married</td>\n",
       "      <td>primary</td>\n",
       "      <td>no</td>\n",
       "      <td>yes</td>\n",
       "      <td>no</td>\n",
       "      <td>unknown</td>\n",
       "      <td>unknown</td>\n",
       "    </tr>\n",
       "    <tr>\n",
       "      <th>41425</th>\n",
       "      <td>management</td>\n",
       "      <td>married</td>\n",
       "      <td>primary</td>\n",
       "      <td>no</td>\n",
       "      <td>no</td>\n",
       "      <td>no</td>\n",
       "      <td>cellular</td>\n",
       "      <td>success</td>\n",
       "    </tr>\n",
       "    <tr>\n",
       "      <th>44803</th>\n",
       "      <td>technician</td>\n",
       "      <td>single</td>\n",
       "      <td>tertiary</td>\n",
       "      <td>no</td>\n",
       "      <td>no</td>\n",
       "      <td>no</td>\n",
       "      <td>cellular</td>\n",
       "      <td>unknown</td>\n",
       "    </tr>\n",
       "    <tr>\n",
       "      <th>5878</th>\n",
       "      <td>unemployed</td>\n",
       "      <td>married</td>\n",
       "      <td>secondary</td>\n",
       "      <td>no</td>\n",
       "      <td>yes</td>\n",
       "      <td>yes</td>\n",
       "      <td>unknown</td>\n",
       "      <td>unknown</td>\n",
       "    </tr>\n",
       "  </tbody>\n",
       "</table>\n",
       "</div>"
      ],
      "text/plain": [
       "               job  marital  education default housing loan   contact poutcome\n",
       "28686     services   single  secondary      no      no   no  cellular  unknown\n",
       "9304   blue-collar  married    primary      no     yes   no   unknown  unknown\n",
       "41425   management  married    primary      no      no   no  cellular  success\n",
       "44803   technician   single   tertiary      no      no   no  cellular  unknown\n",
       "5878    unemployed  married  secondary      no     yes  yes   unknown  unknown"
      ]
     },
     "execution_count": 28,
     "metadata": {},
     "output_type": "execute_result"
    }
   ],
   "source": [
    "# check the top observations!\n",
    "\n",
    "data_train_cat.head()"
   ]
  },
  {
   "cell_type": "markdown",
   "metadata": {},
   "source": [
    "### Make a function for Separating Numerical and Categorical"
   ]
  },
  {
   "cell_type": "code",
   "execution_count": 29,
   "metadata": {
    "collapsed": true
   },
   "outputs": [],
   "source": [
    "# Def a function that returns data_train numerical and data_train categorical\n",
    "\n",
    "def splitNumCat(data, num_categorical):\n",
    "    data_num = data._get_numeric_data()\n",
    "    data_num = data_num.drop(num_categorical, axis = 1)\n",
    "    data_cat = data.drop(list(data_num.columns.values) , axis = 1)\n",
    "\n",
    "    return data_num, data_cat"
   ]
  },
  {
   "cell_type": "code",
   "execution_count": 30,
   "metadata": {
    "collapsed": true
   },
   "outputs": [],
   "source": [
    "# call function\n",
    "\n",
    "data_train_num, data_train_cat = splitNumCat(data_train, [])"
   ]
  },
  {
   "cell_type": "code",
   "execution_count": 31,
   "metadata": {
    "collapsed": false
   },
   "outputs": [
    {
     "data": {
      "text/html": [
       "<div>\n",
       "<table border=\"1\" class=\"dataframe\">\n",
       "  <thead>\n",
       "    <tr style=\"text-align: right;\">\n",
       "      <th></th>\n",
       "      <th>age</th>\n",
       "      <th>balance</th>\n",
       "      <th>day</th>\n",
       "      <th>month</th>\n",
       "      <th>duration</th>\n",
       "      <th>campaign</th>\n",
       "      <th>pdays</th>\n",
       "      <th>previous</th>\n",
       "    </tr>\n",
       "  </thead>\n",
       "  <tbody>\n",
       "    <tr>\n",
       "      <th>28686</th>\n",
       "      <td>29</td>\n",
       "      <td>-205</td>\n",
       "      <td>30</td>\n",
       "      <td>1</td>\n",
       "      <td>194</td>\n",
       "      <td>1</td>\n",
       "      <td>-1</td>\n",
       "      <td>0</td>\n",
       "    </tr>\n",
       "    <tr>\n",
       "      <th>9304</th>\n",
       "      <td>53</td>\n",
       "      <td>0</td>\n",
       "      <td>5</td>\n",
       "      <td>6</td>\n",
       "      <td>285</td>\n",
       "      <td>2</td>\n",
       "      <td>-1</td>\n",
       "      <td>0</td>\n",
       "    </tr>\n",
       "    <tr>\n",
       "      <th>41425</th>\n",
       "      <td>55</td>\n",
       "      <td>2587</td>\n",
       "      <td>4</td>\n",
       "      <td>9</td>\n",
       "      <td>328</td>\n",
       "      <td>2</td>\n",
       "      <td>94</td>\n",
       "      <td>2</td>\n",
       "    </tr>\n",
       "    <tr>\n",
       "      <th>44803</th>\n",
       "      <td>30</td>\n",
       "      <td>0</td>\n",
       "      <td>15</td>\n",
       "      <td>9</td>\n",
       "      <td>214</td>\n",
       "      <td>2</td>\n",
       "      <td>-1</td>\n",
       "      <td>0</td>\n",
       "    </tr>\n",
       "    <tr>\n",
       "      <th>5878</th>\n",
       "      <td>30</td>\n",
       "      <td>529</td>\n",
       "      <td>26</td>\n",
       "      <td>5</td>\n",
       "      <td>107</td>\n",
       "      <td>3</td>\n",
       "      <td>-1</td>\n",
       "      <td>0</td>\n",
       "    </tr>\n",
       "  </tbody>\n",
       "</table>\n",
       "</div>"
      ],
      "text/plain": [
       "       age  balance  day  month  duration  campaign  pdays  previous\n",
       "28686   29     -205   30      1       194         1     -1         0\n",
       "9304    53        0    5      6       285         2     -1         0\n",
       "41425   55     2587    4      9       328         2     94         2\n",
       "44803   30        0   15      9       214         2     -1         0\n",
       "5878    30      529   26      5       107         3     -1         0"
      ]
     },
     "execution_count": 31,
     "metadata": {},
     "output_type": "execute_result"
    }
   ],
   "source": [
    "# check the top of the data_train numerical observations!\n",
    "\n",
    "data_train_num.head()"
   ]
  },
  {
   "cell_type": "code",
   "execution_count": 32,
   "metadata": {
    "collapsed": false
   },
   "outputs": [
    {
     "data": {
      "text/plain": [
       "['numerical_cols.pkl']"
      ]
     },
     "execution_count": 32,
     "metadata": {},
     "output_type": "execute_result"
    }
   ],
   "source": [
    "# dump numerical columns\n",
    "\n",
    "joblib.dump(data_train_num.columns, \"numerical_cols.pkl\")"
   ]
  },
  {
   "cell_type": "code",
   "execution_count": 33,
   "metadata": {
    "collapsed": false
   },
   "outputs": [
    {
     "data": {
      "text/html": [
       "<div>\n",
       "<table border=\"1\" class=\"dataframe\">\n",
       "  <thead>\n",
       "    <tr style=\"text-align: right;\">\n",
       "      <th></th>\n",
       "      <th>job</th>\n",
       "      <th>marital</th>\n",
       "      <th>education</th>\n",
       "      <th>default</th>\n",
       "      <th>housing</th>\n",
       "      <th>loan</th>\n",
       "      <th>contact</th>\n",
       "      <th>poutcome</th>\n",
       "    </tr>\n",
       "  </thead>\n",
       "  <tbody>\n",
       "    <tr>\n",
       "      <th>28686</th>\n",
       "      <td>services</td>\n",
       "      <td>single</td>\n",
       "      <td>secondary</td>\n",
       "      <td>no</td>\n",
       "      <td>no</td>\n",
       "      <td>no</td>\n",
       "      <td>cellular</td>\n",
       "      <td>unknown</td>\n",
       "    </tr>\n",
       "    <tr>\n",
       "      <th>9304</th>\n",
       "      <td>blue-collar</td>\n",
       "      <td>married</td>\n",
       "      <td>primary</td>\n",
       "      <td>no</td>\n",
       "      <td>yes</td>\n",
       "      <td>no</td>\n",
       "      <td>unknown</td>\n",
       "      <td>unknown</td>\n",
       "    </tr>\n",
       "    <tr>\n",
       "      <th>41425</th>\n",
       "      <td>management</td>\n",
       "      <td>married</td>\n",
       "      <td>primary</td>\n",
       "      <td>no</td>\n",
       "      <td>no</td>\n",
       "      <td>no</td>\n",
       "      <td>cellular</td>\n",
       "      <td>success</td>\n",
       "    </tr>\n",
       "    <tr>\n",
       "      <th>44803</th>\n",
       "      <td>technician</td>\n",
       "      <td>single</td>\n",
       "      <td>tertiary</td>\n",
       "      <td>no</td>\n",
       "      <td>no</td>\n",
       "      <td>no</td>\n",
       "      <td>cellular</td>\n",
       "      <td>unknown</td>\n",
       "    </tr>\n",
       "    <tr>\n",
       "      <th>5878</th>\n",
       "      <td>unemployed</td>\n",
       "      <td>married</td>\n",
       "      <td>secondary</td>\n",
       "      <td>no</td>\n",
       "      <td>yes</td>\n",
       "      <td>yes</td>\n",
       "      <td>unknown</td>\n",
       "      <td>unknown</td>\n",
       "    </tr>\n",
       "  </tbody>\n",
       "</table>\n",
       "</div>"
      ],
      "text/plain": [
       "               job  marital  education default housing loan   contact poutcome\n",
       "28686     services   single  secondary      no      no   no  cellular  unknown\n",
       "9304   blue-collar  married    primary      no     yes   no   unknown  unknown\n",
       "41425   management  married    primary      no      no   no  cellular  success\n",
       "44803   technician   single   tertiary      no      no   no  cellular  unknown\n",
       "5878    unemployed  married  secondary      no     yes  yes   unknown  unknown"
      ]
     },
     "execution_count": 33,
     "metadata": {},
     "output_type": "execute_result"
    }
   ],
   "source": [
    "# check the top of the data_train categorical observations!\n",
    "\n",
    "data_train_cat.head()"
   ]
  },
  {
   "cell_type": "code",
   "execution_count": 34,
   "metadata": {
    "collapsed": false
   },
   "outputs": [
    {
     "data": {
      "text/plain": [
       "['categorical_cols.pkl']"
      ]
     },
     "execution_count": 34,
     "metadata": {},
     "output_type": "execute_result"
    }
   ],
   "source": [
    "# dump categorical columns\n",
    "\n",
    "joblib.dump(data_train_cat.columns, \"categorical_cols.pkl\")"
   ]
  },
  {
   "cell_type": "markdown",
   "metadata": {},
   "source": [
    "## !!!! Exercise kali ini hanya akan menggunakan feature numeric untuk input clustering !!!!\n"
   ]
  },
  {
   "cell_type": "markdown",
   "metadata": {},
   "source": [
    "## Numerical Data Imputation"
   ]
  },
  {
   "cell_type": "code",
   "execution_count": 35,
   "metadata": {
    "collapsed": false
   },
   "outputs": [
    {
     "data": {
      "text/plain": [
       "age         0\n",
       "balance     0\n",
       "day         0\n",
       "month       0\n",
       "duration    0\n",
       "campaign    0\n",
       "pdays       0\n",
       "previous    0\n",
       "dtype: int64"
      ]
     },
     "execution_count": 35,
     "metadata": {},
     "output_type": "execute_result"
    }
   ],
   "source": [
    "# check the missing value of the data_train_num\n",
    "\n",
    "data_train_num.isnull().sum()"
   ]
  },
  {
   "cell_type": "markdown",
   "metadata": {},
   "source": [
    "* Make a function for numerical imputation"
   ]
  },
  {
   "cell_type": "code",
   "execution_count": 36,
   "metadata": {
    "collapsed": true
   },
   "outputs": [],
   "source": [
    "# Import Imputer\n",
    "\n",
    "from sklearn.preprocessing import Imputer"
   ]
  },
  {
   "cell_type": "code",
   "execution_count": 37,
   "metadata": {
    "collapsed": true
   },
   "outputs": [],
   "source": [
    "# Define a function only to fit Imputer\n",
    "#\n",
    "# input argument : data, missing_values, strategy\n",
    "#\n",
    "# return fitted Imputer\n",
    "\n",
    "def fitImputNum(data, missing_values, strategy):\n",
    "    # define imput\n",
    "    imput = Imputer(missing_values=missing_values, strategy=strategy)\n",
    "    \n",
    "    # fit\n",
    "    imput.fit(data)\n",
    "\n",
    "    return imput"
   ]
  },
  {
   "cell_type": "code",
   "execution_count": 38,
   "metadata": {
    "collapsed": true
   },
   "outputs": [],
   "source": [
    "# Call function for fitting Imputer\n",
    "\n",
    "imputer = fitImputNum(data_train_num, 'NaN', 'median')"
   ]
  },
  {
   "cell_type": "code",
   "execution_count": 39,
   "metadata": {
    "collapsed": false
   },
   "outputs": [
    {
     "data": {
      "text/plain": [
       "['imputer.pkl']"
      ]
     },
     "execution_count": 39,
     "metadata": {},
     "output_type": "execute_result"
    }
   ],
   "source": [
    "# dump imputer\n",
    "\n",
    "joblib.dump(imputer, 'imputer.pkl')"
   ]
  },
  {
   "cell_type": "code",
   "execution_count": 40,
   "metadata": {
    "collapsed": true
   },
   "outputs": [],
   "source": [
    "# Define a function to transform Numerical data using Imputer\n",
    "#\n",
    "# input argument : data, imputer\n",
    "#\n",
    "# return data_num_imputed\n",
    "\n",
    "def transformNumerical(data, imputer):\n",
    "    # transform\n",
    "    data_numeric = pd.DataFrame(imputer.transform(data))\n",
    "\n",
    "    # replace broken column and index\n",
    "    data_numeric.columns = data.columns\n",
    "    data_numeric.index = data.index\n",
    "\n",
    "    return data_numeric"
   ]
  },
  {
   "cell_type": "code",
   "execution_count": 41,
   "metadata": {
    "collapsed": true
   },
   "outputs": [],
   "source": [
    "# Call function for transform Numerical data\n",
    "\n",
    "data_train_num_imputed = transformNumerical(data_train_num, imputer)"
   ]
  },
  {
   "cell_type": "code",
   "execution_count": 42,
   "metadata": {
    "collapsed": false
   },
   "outputs": [
    {
     "data": {
      "text/plain": [
       "age         0\n",
       "balance     0\n",
       "day         0\n",
       "month       0\n",
       "duration    0\n",
       "campaign    0\n",
       "pdays       0\n",
       "previous    0\n",
       "dtype: int64"
      ]
     },
     "execution_count": 42,
     "metadata": {},
     "output_type": "execute_result"
    }
   ],
   "source": [
    "# check the missing value of the imputed data\n",
    "\n",
    "data_train_num_imputed.isnull().sum()"
   ]
  },
  {
   "cell_type": "markdown",
   "metadata": {},
   "source": [
    "## Standardizing Numerical Variables\n",
    "\n",
    "- KEGUNAAN: Menyamakan skala dari variable input\n",
    "- fit: imputer agar mengetahui mean standard deviasi dari setiap column\n",
    "- transform: isi data dengan value yang dinormalisasi\n",
    "- output dari transform berupda pd dataframe\n",
    "- normalize dikeluarkan karena akan dipakai di test"
   ]
  },
  {
   "cell_type": "code",
   "execution_count": 43,
   "metadata": {
    "collapsed": true
   },
   "outputs": [],
   "source": [
    "#Import Standard Scaler\n",
    "\n",
    "from sklearn.preprocessing import StandardScaler"
   ]
  },
  {
   "cell_type": "code",
   "execution_count": 44,
   "metadata": {
    "collapsed": true
   },
   "outputs": [],
   "source": [
    "# def fitStandardize(data)\n",
    "#\n",
    "# return fitted standardizer\n",
    "\n",
    "def fitStandardize(data):    \n",
    "    #define standardizer\n",
    "    standard = StandardScaler()\n",
    "\n",
    "    #fit\n",
    "    standard.fit(data)\n",
    "\n",
    "    return standard"
   ]
  },
  {
   "cell_type": "code",
   "execution_count": 45,
   "metadata": {
    "collapsed": true
   },
   "outputs": [],
   "source": [
    "# def transformStandardize(data, standardizer)\n",
    "#\n",
    "# return standardized_data\n",
    "\n",
    "def transformStandardize(data, standard):\n",
    "    # transform data\n",
    "    data_standard = pd.DataFrame(standard.transform(data))\n",
    "\n",
    "    # replace broken column and index\n",
    "    data_standard.columns = data.columns\n",
    "    data_standard.index = data.index\n",
    "\n",
    "    return data_standard"
   ]
  },
  {
   "cell_type": "code",
   "execution_count": 46,
   "metadata": {
    "collapsed": true
   },
   "outputs": [],
   "source": [
    "# call fitStandardize\n",
    "\n",
    "normalizer = fitStandardize(data_train_num_imputed)"
   ]
  },
  {
   "cell_type": "code",
   "execution_count": 47,
   "metadata": {
    "collapsed": false
   },
   "outputs": [
    {
     "data": {
      "text/plain": [
       "['normalizer.pkl']"
      ]
     },
     "execution_count": 47,
     "metadata": {},
     "output_type": "execute_result"
    }
   ],
   "source": [
    "# dump standardizer\n",
    "\n",
    "joblib.dump(normalizer, 'normalizer.pkl')"
   ]
  },
  {
   "cell_type": "code",
   "execution_count": 48,
   "metadata": {
    "collapsed": true
   },
   "outputs": [],
   "source": [
    "# call transformStandardize\n",
    "\n",
    "data_train_standardized = transformStandardize(data_train_num_imputed, normalizer)"
   ]
  },
  {
   "cell_type": "code",
   "execution_count": 49,
   "metadata": {
    "collapsed": false
   },
   "outputs": [
    {
     "data": {
      "text/html": [
       "<div>\n",
       "<table border=\"1\" class=\"dataframe\">\n",
       "  <thead>\n",
       "    <tr style=\"text-align: right;\">\n",
       "      <th></th>\n",
       "      <th>age</th>\n",
       "      <th>balance</th>\n",
       "      <th>day</th>\n",
       "      <th>month</th>\n",
       "      <th>duration</th>\n",
       "      <th>campaign</th>\n",
       "      <th>pdays</th>\n",
       "      <th>previous</th>\n",
       "    </tr>\n",
       "  </thead>\n",
       "  <tbody>\n",
       "    <tr>\n",
       "      <th>28686</th>\n",
       "      <td>-1.125848</td>\n",
       "      <td>-0.525607</td>\n",
       "      <td>1.708742</td>\n",
       "      <td>-2.139124</td>\n",
       "      <td>-0.250585</td>\n",
       "      <td>-0.568295</td>\n",
       "      <td>-0.411533</td>\n",
       "      <td>-0.245565</td>\n",
       "    </tr>\n",
       "    <tr>\n",
       "      <th>9304</th>\n",
       "      <td>1.136220</td>\n",
       "      <td>-0.457253</td>\n",
       "      <td>-1.299839</td>\n",
       "      <td>-0.057878</td>\n",
       "      <td>0.100475</td>\n",
       "      <td>-0.245219</td>\n",
       "      <td>-0.411533</td>\n",
       "      <td>-0.245565</td>\n",
       "    </tr>\n",
       "    <tr>\n",
       "      <th>41425</th>\n",
       "      <td>1.324725</td>\n",
       "      <td>0.405335</td>\n",
       "      <td>-1.420182</td>\n",
       "      <td>1.190870</td>\n",
       "      <td>0.266360</td>\n",
       "      <td>-0.245219</td>\n",
       "      <td>0.537396</td>\n",
       "      <td>0.600341</td>\n",
       "    </tr>\n",
       "    <tr>\n",
       "      <th>44803</th>\n",
       "      <td>-1.031595</td>\n",
       "      <td>-0.457253</td>\n",
       "      <td>-0.096406</td>\n",
       "      <td>1.190870</td>\n",
       "      <td>-0.173429</td>\n",
       "      <td>-0.245219</td>\n",
       "      <td>-0.411533</td>\n",
       "      <td>-0.245565</td>\n",
       "    </tr>\n",
       "    <tr>\n",
       "      <th>5878</th>\n",
       "      <td>-1.031595</td>\n",
       "      <td>-0.280868</td>\n",
       "      <td>1.227369</td>\n",
       "      <td>-0.474127</td>\n",
       "      <td>-0.586213</td>\n",
       "      <td>0.077857</td>\n",
       "      <td>-0.411533</td>\n",
       "      <td>-0.245565</td>\n",
       "    </tr>\n",
       "  </tbody>\n",
       "</table>\n",
       "</div>"
      ],
      "text/plain": [
       "            age   balance       day     month  duration  campaign     pdays  \\\n",
       "28686 -1.125848 -0.525607  1.708742 -2.139124 -0.250585 -0.568295 -0.411533   \n",
       "9304   1.136220 -0.457253 -1.299839 -0.057878  0.100475 -0.245219 -0.411533   \n",
       "41425  1.324725  0.405335 -1.420182  1.190870  0.266360 -0.245219  0.537396   \n",
       "44803 -1.031595 -0.457253 -0.096406  1.190870 -0.173429 -0.245219 -0.411533   \n",
       "5878  -1.031595 -0.280868  1.227369 -0.474127 -0.586213  0.077857 -0.411533   \n",
       "\n",
       "       previous  \n",
       "28686 -0.245565  \n",
       "9304  -0.245565  \n",
       "41425  0.600341  \n",
       "44803 -0.245565  \n",
       "5878  -0.245565  "
      ]
     },
     "execution_count": 49,
     "metadata": {},
     "output_type": "execute_result"
    }
   ],
   "source": [
    "# check data\n",
    "\n",
    "data_train_standardized.head()"
   ]
  },
  {
   "cell_type": "code",
   "execution_count": 50,
   "metadata": {
    "collapsed": true
   },
   "outputs": [],
   "source": [
    "data_train_clean = data_train_standardized"
   ]
  },
  {
   "cell_type": "code",
   "execution_count": 51,
   "metadata": {
    "collapsed": false
   },
   "outputs": [
    {
     "data": {
      "text/html": [
       "<div>\n",
       "<table border=\"1\" class=\"dataframe\">\n",
       "  <thead>\n",
       "    <tr style=\"text-align: right;\">\n",
       "      <th></th>\n",
       "      <th>age</th>\n",
       "      <th>balance</th>\n",
       "      <th>day</th>\n",
       "      <th>month</th>\n",
       "      <th>duration</th>\n",
       "      <th>campaign</th>\n",
       "      <th>pdays</th>\n",
       "      <th>previous</th>\n",
       "    </tr>\n",
       "  </thead>\n",
       "  <tbody>\n",
       "    <tr>\n",
       "      <th>28686</th>\n",
       "      <td>-1.125848</td>\n",
       "      <td>-0.525607</td>\n",
       "      <td>1.708742</td>\n",
       "      <td>-2.139124</td>\n",
       "      <td>-0.250585</td>\n",
       "      <td>-0.568295</td>\n",
       "      <td>-0.411533</td>\n",
       "      <td>-0.245565</td>\n",
       "    </tr>\n",
       "    <tr>\n",
       "      <th>9304</th>\n",
       "      <td>1.136220</td>\n",
       "      <td>-0.457253</td>\n",
       "      <td>-1.299839</td>\n",
       "      <td>-0.057878</td>\n",
       "      <td>0.100475</td>\n",
       "      <td>-0.245219</td>\n",
       "      <td>-0.411533</td>\n",
       "      <td>-0.245565</td>\n",
       "    </tr>\n",
       "    <tr>\n",
       "      <th>41425</th>\n",
       "      <td>1.324725</td>\n",
       "      <td>0.405335</td>\n",
       "      <td>-1.420182</td>\n",
       "      <td>1.190870</td>\n",
       "      <td>0.266360</td>\n",
       "      <td>-0.245219</td>\n",
       "      <td>0.537396</td>\n",
       "      <td>0.600341</td>\n",
       "    </tr>\n",
       "    <tr>\n",
       "      <th>44803</th>\n",
       "      <td>-1.031595</td>\n",
       "      <td>-0.457253</td>\n",
       "      <td>-0.096406</td>\n",
       "      <td>1.190870</td>\n",
       "      <td>-0.173429</td>\n",
       "      <td>-0.245219</td>\n",
       "      <td>-0.411533</td>\n",
       "      <td>-0.245565</td>\n",
       "    </tr>\n",
       "    <tr>\n",
       "      <th>5878</th>\n",
       "      <td>-1.031595</td>\n",
       "      <td>-0.280868</td>\n",
       "      <td>1.227369</td>\n",
       "      <td>-0.474127</td>\n",
       "      <td>-0.586213</td>\n",
       "      <td>0.077857</td>\n",
       "      <td>-0.411533</td>\n",
       "      <td>-0.245565</td>\n",
       "    </tr>\n",
       "  </tbody>\n",
       "</table>\n",
       "</div>"
      ],
      "text/plain": [
       "            age   balance       day     month  duration  campaign     pdays  \\\n",
       "28686 -1.125848 -0.525607  1.708742 -2.139124 -0.250585 -0.568295 -0.411533   \n",
       "9304   1.136220 -0.457253 -1.299839 -0.057878  0.100475 -0.245219 -0.411533   \n",
       "41425  1.324725  0.405335 -1.420182  1.190870  0.266360 -0.245219  0.537396   \n",
       "44803 -1.031595 -0.457253 -0.096406  1.190870 -0.173429 -0.245219 -0.411533   \n",
       "5878  -1.031595 -0.280868  1.227369 -0.474127 -0.586213  0.077857 -0.411533   \n",
       "\n",
       "       previous  \n",
       "28686 -0.245565  \n",
       "9304  -0.245565  \n",
       "41425  0.600341  \n",
       "44803 -0.245565  \n",
       "5878  -0.245565  "
      ]
     },
     "execution_count": 51,
     "metadata": {},
     "output_type": "execute_result"
    }
   ],
   "source": [
    "data_train_clean.head()"
   ]
  },
  {
   "cell_type": "markdown",
   "metadata": {},
   "source": [
    "## 3. Dimensionality Reduction\n",
    "> * Dataset typically high dimension<br>\n",
    "* As Dimensionality grows : fewer observation per region<br>\n",
    ">1 Dimension  : 3 region<br>\n",
    "2 Dimension : 3^2 region<br>\n",
    "3 Dimension : 3^3 region<br>\n",
    "N Dimension : 3^n region\n",
    "![Save curseofdimesionality.png from gdrive in same folder, then run this cell](curseofdimesionality.png)\n",
    "\n",
    "Goal: represent data in fewer variables\n",
    "\n"
   ]
  },
  {
   "cell_type": "code",
   "execution_count": 52,
   "metadata": {
    "collapsed": true
   },
   "outputs": [],
   "source": [
    "# import package PCA :\n",
    "\n",
    "from sklearn.decomposition import PCA"
   ]
  },
  {
   "cell_type": "code",
   "execution_count": 53,
   "metadata": {
    "collapsed": true
   },
   "outputs": [],
   "source": [
    "# define PCA with random_state=123\n",
    "\n",
    "principal_comp = PCA(random_state=123)"
   ]
  },
  {
   "cell_type": "code",
   "execution_count": 54,
   "metadata": {
    "collapsed": false
   },
   "outputs": [
    {
     "data": {
      "text/plain": [
       "PCA(copy=True, iterated_power='auto', n_components=None, random_state=123,\n",
       "  svd_solver='auto', tol=0.0, whiten=False)"
      ]
     },
     "execution_count": 54,
     "metadata": {},
     "output_type": "execute_result"
    }
   ],
   "source": [
    "# fit to data_train_clean\n",
    "\n",
    "principal_comp.fit(data_train_clean)"
   ]
  },
  {
   "cell_type": "code",
   "execution_count": 55,
   "metadata": {
    "collapsed": false
   },
   "outputs": [
    {
     "data": {
      "text/html": [
       "<div>\n",
       "<table border=\"1\" class=\"dataframe\">\n",
       "  <thead>\n",
       "    <tr style=\"text-align: right;\">\n",
       "      <th></th>\n",
       "      <th>age</th>\n",
       "      <th>balance</th>\n",
       "      <th>day</th>\n",
       "      <th>month</th>\n",
       "      <th>duration</th>\n",
       "      <th>campaign</th>\n",
       "      <th>pdays</th>\n",
       "      <th>previous</th>\n",
       "    </tr>\n",
       "  </thead>\n",
       "  <tbody>\n",
       "    <tr>\n",
       "      <th>0</th>\n",
       "      <td>-0.072674</td>\n",
       "      <td>-0.033138</td>\n",
       "      <td>-0.295619</td>\n",
       "      <td>-0.270644</td>\n",
       "      <td>0.055614</td>\n",
       "      <td>-0.261045</td>\n",
       "      <td>0.641095</td>\n",
       "      <td>0.592234</td>\n",
       "    </tr>\n",
       "    <tr>\n",
       "      <th>1</th>\n",
       "      <td>0.461428</td>\n",
       "      <td>0.497870</td>\n",
       "      <td>0.277747</td>\n",
       "      <td>0.489020</td>\n",
       "      <td>-0.111163</td>\n",
       "      <td>0.235318</td>\n",
       "      <td>0.210279</td>\n",
       "      <td>0.333131</td>\n",
       "    </tr>\n",
       "    <tr>\n",
       "      <th>2</th>\n",
       "      <td>-0.338021</td>\n",
       "      <td>-0.372603</td>\n",
       "      <td>0.423951</td>\n",
       "      <td>-0.113402</td>\n",
       "      <td>-0.427458</td>\n",
       "      <td>0.550972</td>\n",
       "      <td>0.164501</td>\n",
       "      <td>0.202393</td>\n",
       "    </tr>\n",
       "    <tr>\n",
       "      <th>3</th>\n",
       "      <td>-0.372058</td>\n",
       "      <td>0.025495</td>\n",
       "      <td>0.430029</td>\n",
       "      <td>0.136764</td>\n",
       "      <td>0.799088</td>\n",
       "      <td>0.046519</td>\n",
       "      <td>0.059064</td>\n",
       "      <td>0.114452</td>\n",
       "    </tr>\n",
       "    <tr>\n",
       "      <th>4</th>\n",
       "      <td>-0.694448</td>\n",
       "      <td>0.542764</td>\n",
       "      <td>-0.013474</td>\n",
       "      <td>0.191360</td>\n",
       "      <td>-0.343777</td>\n",
       "      <td>-0.256294</td>\n",
       "      <td>-0.004848</td>\n",
       "      <td>-0.049562</td>\n",
       "    </tr>\n",
       "    <tr>\n",
       "      <th>5</th>\n",
       "      <td>0.069562</td>\n",
       "      <td>0.560564</td>\n",
       "      <td>0.074476</td>\n",
       "      <td>-0.739734</td>\n",
       "      <td>0.097257</td>\n",
       "      <td>0.330492</td>\n",
       "      <td>-0.029035</td>\n",
       "      <td>-0.093000</td>\n",
       "    </tr>\n",
       "    <tr>\n",
       "      <th>6</th>\n",
       "      <td>-0.203245</td>\n",
       "      <td>0.051963</td>\n",
       "      <td>-0.681618</td>\n",
       "      <td>0.250872</td>\n",
       "      <td>0.187089</td>\n",
       "      <td>0.624711</td>\n",
       "      <td>-0.032940</td>\n",
       "      <td>0.045826</td>\n",
       "    </tr>\n",
       "    <tr>\n",
       "      <th>7</th>\n",
       "      <td>-0.026686</td>\n",
       "      <td>0.004248</td>\n",
       "      <td>-0.021824</td>\n",
       "      <td>-0.096359</td>\n",
       "      <td>-0.025374</td>\n",
       "      <td>-0.074637</td>\n",
       "      <td>-0.715736</td>\n",
       "      <td>0.686305</td>\n",
       "    </tr>\n",
       "  </tbody>\n",
       "</table>\n",
       "</div>"
      ],
      "text/plain": [
       "        age   balance       day     month  duration  campaign     pdays  \\\n",
       "0 -0.072674 -0.033138 -0.295619 -0.270644  0.055614 -0.261045  0.641095   \n",
       "1  0.461428  0.497870  0.277747  0.489020 -0.111163  0.235318  0.210279   \n",
       "2 -0.338021 -0.372603  0.423951 -0.113402 -0.427458  0.550972  0.164501   \n",
       "3 -0.372058  0.025495  0.430029  0.136764  0.799088  0.046519  0.059064   \n",
       "4 -0.694448  0.542764 -0.013474  0.191360 -0.343777 -0.256294 -0.004848   \n",
       "5  0.069562  0.560564  0.074476 -0.739734  0.097257  0.330492 -0.029035   \n",
       "6 -0.203245  0.051963 -0.681618  0.250872  0.187089  0.624711 -0.032940   \n",
       "7 -0.026686  0.004248 -0.021824 -0.096359 -0.025374 -0.074637 -0.715736   \n",
       "\n",
       "   previous  \n",
       "0  0.592234  \n",
       "1  0.333131  \n",
       "2  0.202393  \n",
       "3  0.114452  \n",
       "4 -0.049562  \n",
       "5 -0.093000  \n",
       "6  0.045826  \n",
       "7  0.686305  "
      ]
     },
     "execution_count": 55,
     "metadata": {},
     "output_type": "execute_result"
    }
   ],
   "source": [
    "# component of PCA\n",
    "\n",
    "component = pd.DataFrame(principal_comp.components_)\n",
    "component.columns = data_train_clean.columns\n",
    "component"
   ]
  },
  {
   "cell_type": "code",
   "execution_count": 56,
   "metadata": {
    "collapsed": true
   },
   "outputs": [],
   "source": [
    "# transform data_train_clean to data_pca\n",
    "\n",
    "data_pca = pd.DataFrame(principal_comp.transform(data_train_clean))"
   ]
  },
  {
   "cell_type": "code",
   "execution_count": 57,
   "metadata": {
    "collapsed": false
   },
   "outputs": [
    {
     "data": {
      "text/html": [
       "<div>\n",
       "<table border=\"1\" class=\"dataframe\">\n",
       "  <thead>\n",
       "    <tr style=\"text-align: right;\">\n",
       "      <th></th>\n",
       "      <th>0</th>\n",
       "      <th>1</th>\n",
       "      <th>2</th>\n",
       "      <th>3</th>\n",
       "      <th>4</th>\n",
       "      <th>5</th>\n",
       "      <th>6</th>\n",
       "      <th>7</th>\n",
       "    </tr>\n",
       "  </thead>\n",
       "  <tbody>\n",
       "    <tr>\n",
       "      <th>0</th>\n",
       "      <td>-0.101808</td>\n",
       "      <td>-1.626875</td>\n",
       "      <td>1.220008</td>\n",
       "      <td>0.568645</td>\n",
       "      <td>0.310156</td>\n",
       "      <td>1.159288</td>\n",
       "      <td>-1.899443</td>\n",
       "      <td>0.371434</td>\n",
       "    </tr>\n",
       "    <tr>\n",
       "      <th>1</th>\n",
       "      <td>-0.007162</td>\n",
       "      <td>-0.329914</td>\n",
       "      <td>-1.053652</td>\n",
       "      <td>-0.984813</td>\n",
       "      <td>-0.988314</td>\n",
       "      <td>-0.267760</td>\n",
       "      <td>0.484691</td>\n",
       "      <td>0.143451</td>\n",
       "    </tr>\n",
       "    <tr>\n",
       "      <th>2</th>\n",
       "      <td>0.766717</td>\n",
       "      <td>1.226660</td>\n",
       "      <td>-1.375008</td>\n",
       "      <td>-0.628502</td>\n",
       "      <td>-0.514009</td>\n",
       "      <td>-0.793902</td>\n",
       "      <td>0.925047</td>\n",
       "      <td>-0.078459</td>\n",
       "    </tr>\n",
       "    <tr>\n",
       "      <th>3</th>\n",
       "      <td>-0.558575</td>\n",
       "      <td>-0.354845</td>\n",
       "      <td>0.164782</td>\n",
       "      <td>0.291162</td>\n",
       "      <td>0.834027</td>\n",
       "      <td>-1.279310</td>\n",
       "      <td>0.367039</td>\n",
       "      <td>0.061660</td>\n",
       "    </tr>\n",
       "    <tr>\n",
       "      <th>4</th>\n",
       "      <td>-0.612426</td>\n",
       "      <td>-0.591658</td>\n",
       "      <td>1.203544</td>\n",
       "      <td>0.322387</td>\n",
       "      <td>0.652415</td>\n",
       "      <td>0.216437</td>\n",
       "      <td>-0.819203</td>\n",
       "      <td>0.180316</td>\n",
       "    </tr>\n",
       "  </tbody>\n",
       "</table>\n",
       "</div>"
      ],
      "text/plain": [
       "          0         1         2         3         4         5         6  \\\n",
       "0 -0.101808 -1.626875  1.220008  0.568645  0.310156  1.159288 -1.899443   \n",
       "1 -0.007162 -0.329914 -1.053652 -0.984813 -0.988314 -0.267760  0.484691   \n",
       "2  0.766717  1.226660 -1.375008 -0.628502 -0.514009 -0.793902  0.925047   \n",
       "3 -0.558575 -0.354845  0.164782  0.291162  0.834027 -1.279310  0.367039   \n",
       "4 -0.612426 -0.591658  1.203544  0.322387  0.652415  0.216437 -0.819203   \n",
       "\n",
       "          7  \n",
       "0  0.371434  \n",
       "1  0.143451  \n",
       "2 -0.078459  \n",
       "3  0.061660  \n",
       "4  0.180316  "
      ]
     },
     "execution_count": 57,
     "metadata": {},
     "output_type": "execute_result"
    }
   ],
   "source": [
    "# check top observation\n",
    "\n",
    "data_pca.head()"
   ]
  },
  {
   "cell_type": "code",
   "execution_count": 58,
   "metadata": {
    "collapsed": false,
    "scrolled": true
   },
   "outputs": [
    {
     "data": {
      "text/html": [
       "<div>\n",
       "<table border=\"1\" class=\"dataframe\">\n",
       "  <thead>\n",
       "    <tr style=\"text-align: right;\">\n",
       "      <th></th>\n",
       "      <th>PC_1</th>\n",
       "      <th>PC_2</th>\n",
       "      <th>PC_3</th>\n",
       "      <th>PC_4</th>\n",
       "      <th>PC_5</th>\n",
       "      <th>PC_6</th>\n",
       "      <th>PC_7</th>\n",
       "      <th>PC_8</th>\n",
       "    </tr>\n",
       "  </thead>\n",
       "  <tbody>\n",
       "    <tr>\n",
       "      <th>0</th>\n",
       "      <td>-0.101808</td>\n",
       "      <td>-1.626875</td>\n",
       "      <td>1.220008</td>\n",
       "      <td>0.568645</td>\n",
       "      <td>0.310156</td>\n",
       "      <td>1.159288</td>\n",
       "      <td>-1.899443</td>\n",
       "      <td>0.371434</td>\n",
       "    </tr>\n",
       "    <tr>\n",
       "      <th>1</th>\n",
       "      <td>-0.007162</td>\n",
       "      <td>-0.329914</td>\n",
       "      <td>-1.053652</td>\n",
       "      <td>-0.984813</td>\n",
       "      <td>-0.988314</td>\n",
       "      <td>-0.267760</td>\n",
       "      <td>0.484691</td>\n",
       "      <td>0.143451</td>\n",
       "    </tr>\n",
       "    <tr>\n",
       "      <th>2</th>\n",
       "      <td>0.766717</td>\n",
       "      <td>1.226660</td>\n",
       "      <td>-1.375008</td>\n",
       "      <td>-0.628502</td>\n",
       "      <td>-0.514009</td>\n",
       "      <td>-0.793902</td>\n",
       "      <td>0.925047</td>\n",
       "      <td>-0.078459</td>\n",
       "    </tr>\n",
       "    <tr>\n",
       "      <th>3</th>\n",
       "      <td>-0.558575</td>\n",
       "      <td>-0.354845</td>\n",
       "      <td>0.164782</td>\n",
       "      <td>0.291162</td>\n",
       "      <td>0.834027</td>\n",
       "      <td>-1.279310</td>\n",
       "      <td>0.367039</td>\n",
       "      <td>0.061660</td>\n",
       "    </tr>\n",
       "    <tr>\n",
       "      <th>4</th>\n",
       "      <td>-0.612426</td>\n",
       "      <td>-0.591658</td>\n",
       "      <td>1.203544</td>\n",
       "      <td>0.322387</td>\n",
       "      <td>0.652415</td>\n",
       "      <td>0.216437</td>\n",
       "      <td>-0.819203</td>\n",
       "      <td>0.180316</td>\n",
       "    </tr>\n",
       "  </tbody>\n",
       "</table>\n",
       "</div>"
      ],
      "text/plain": [
       "       PC_1      PC_2      PC_3      PC_4      PC_5      PC_6      PC_7  \\\n",
       "0 -0.101808 -1.626875  1.220008  0.568645  0.310156  1.159288 -1.899443   \n",
       "1 -0.007162 -0.329914 -1.053652 -0.984813 -0.988314 -0.267760  0.484691   \n",
       "2  0.766717  1.226660 -1.375008 -0.628502 -0.514009 -0.793902  0.925047   \n",
       "3 -0.558575 -0.354845  0.164782  0.291162  0.834027 -1.279310  0.367039   \n",
       "4 -0.612426 -0.591658  1.203544  0.322387  0.652415  0.216437 -0.819203   \n",
       "\n",
       "       PC_8  \n",
       "0  0.371434  \n",
       "1  0.143451  \n",
       "2 -0.078459  \n",
       "3  0.061660  \n",
       "4  0.180316  "
      ]
     },
     "execution_count": 58,
     "metadata": {},
     "output_type": "execute_result"
    }
   ],
   "source": [
    "# rename columns\n",
    "\n",
    "data_pca.columns = range(1,data_pca.shape[1]+1)\n",
    "data_pca = data_pca.add_prefix(\"PC_\")\n",
    "data_pca.head()"
   ]
  },
  {
   "cell_type": "code",
   "execution_count": 59,
   "metadata": {
    "collapsed": true
   },
   "outputs": [],
   "source": [
    "# replace broken index\n",
    "\n",
    "data_pca.index = data_train_clean.index"
   ]
  },
  {
   "cell_type": "code",
   "execution_count": 60,
   "metadata": {
    "collapsed": false,
    "scrolled": true
   },
   "outputs": [
    {
     "data": {
      "text/html": [
       "<div>\n",
       "<table border=\"1\" class=\"dataframe\">\n",
       "  <thead>\n",
       "    <tr style=\"text-align: right;\">\n",
       "      <th></th>\n",
       "      <th>PC_1</th>\n",
       "      <th>PC_2</th>\n",
       "      <th>PC_3</th>\n",
       "      <th>PC_4</th>\n",
       "      <th>PC_5</th>\n",
       "      <th>PC_6</th>\n",
       "      <th>PC_7</th>\n",
       "      <th>PC_8</th>\n",
       "    </tr>\n",
       "  </thead>\n",
       "  <tbody>\n",
       "    <tr>\n",
       "      <th>28686</th>\n",
       "      <td>-0.101808</td>\n",
       "      <td>-1.626875</td>\n",
       "      <td>1.220008</td>\n",
       "      <td>0.568645</td>\n",
       "      <td>0.310156</td>\n",
       "      <td>1.159288</td>\n",
       "      <td>-1.899443</td>\n",
       "      <td>0.371434</td>\n",
       "    </tr>\n",
       "    <tr>\n",
       "      <th>9304</th>\n",
       "      <td>-0.007162</td>\n",
       "      <td>-0.329914</td>\n",
       "      <td>-1.053652</td>\n",
       "      <td>-0.984813</td>\n",
       "      <td>-0.988314</td>\n",
       "      <td>-0.267760</td>\n",
       "      <td>0.484691</td>\n",
       "      <td>0.143451</td>\n",
       "    </tr>\n",
       "    <tr>\n",
       "      <th>41425</th>\n",
       "      <td>0.766717</td>\n",
       "      <td>1.226660</td>\n",
       "      <td>-1.375008</td>\n",
       "      <td>-0.628502</td>\n",
       "      <td>-0.514009</td>\n",
       "      <td>-0.793902</td>\n",
       "      <td>0.925047</td>\n",
       "      <td>-0.078459</td>\n",
       "    </tr>\n",
       "    <tr>\n",
       "      <th>44803</th>\n",
       "      <td>-0.558575</td>\n",
       "      <td>-0.354845</td>\n",
       "      <td>0.164782</td>\n",
       "      <td>0.291162</td>\n",
       "      <td>0.834027</td>\n",
       "      <td>-1.279310</td>\n",
       "      <td>0.367039</td>\n",
       "      <td>0.061660</td>\n",
       "    </tr>\n",
       "    <tr>\n",
       "      <th>5878</th>\n",
       "      <td>-0.612426</td>\n",
       "      <td>-0.591658</td>\n",
       "      <td>1.203544</td>\n",
       "      <td>0.322387</td>\n",
       "      <td>0.652415</td>\n",
       "      <td>0.216437</td>\n",
       "      <td>-0.819203</td>\n",
       "      <td>0.180316</td>\n",
       "    </tr>\n",
       "  </tbody>\n",
       "</table>\n",
       "</div>"
      ],
      "text/plain": [
       "           PC_1      PC_2      PC_3      PC_4      PC_5      PC_6      PC_7  \\\n",
       "28686 -0.101808 -1.626875  1.220008  0.568645  0.310156  1.159288 -1.899443   \n",
       "9304  -0.007162 -0.329914 -1.053652 -0.984813 -0.988314 -0.267760  0.484691   \n",
       "41425  0.766717  1.226660 -1.375008 -0.628502 -0.514009 -0.793902  0.925047   \n",
       "44803 -0.558575 -0.354845  0.164782  0.291162  0.834027 -1.279310  0.367039   \n",
       "5878  -0.612426 -0.591658  1.203544  0.322387  0.652415  0.216437 -0.819203   \n",
       "\n",
       "           PC_8  \n",
       "28686  0.371434  \n",
       "9304   0.143451  \n",
       "41425 -0.078459  \n",
       "44803  0.061660  \n",
       "5878   0.180316  "
      ]
     },
     "execution_count": 60,
     "metadata": {},
     "output_type": "execute_result"
    }
   ],
   "source": [
    "# check top observations\n",
    "\n",
    "data_pca.head()"
   ]
  },
  {
   "cell_type": "markdown",
   "metadata": {},
   "source": [
    "#### Best n_components?"
   ]
  },
  {
   "cell_type": "code",
   "execution_count": 61,
   "metadata": {
    "collapsed": false
   },
   "outputs": [
    {
     "data": {
      "text/plain": [
       "0.99999999999999989"
      ]
     },
     "execution_count": 61,
     "metadata": {},
     "output_type": "execute_result"
    }
   ],
   "source": [
    "# using all components will explain all variance\n",
    "\n",
    "sum(principal_comp.explained_variance_ratio_)"
   ]
  },
  {
   "cell_type": "code",
   "execution_count": 62,
   "metadata": {
    "collapsed": false
   },
   "outputs": [
    {
     "name": "stdout",
     "output_type": "stream",
     "text": [
      "1 0.191535761713\n",
      "2 0.340651197112\n",
      "3 0.485097617576\n",
      "4 0.607705589499\n",
      "5 0.71960343072\n",
      "6 0.82924401823\n",
      "7 0.931400107743\n",
      "8 1.0\n"
     ]
    }
   ],
   "source": [
    "# variance ratio explained by n_components :\n",
    "\n",
    "for i in range(1, len(principal_comp.explained_variance_ratio_)+1):\n",
    "    print (i, sum(principal_comp.explained_variance_ratio_[0:i]))"
   ]
  },
  {
   "cell_type": "markdown",
   "metadata": {},
   "source": [
    "## Exercise! \n",
    "PCA fitting & transform using user-defined function"
   ]
  },
  {
   "cell_type": "code",
   "execution_count": 63,
   "metadata": {
    "collapsed": true
   },
   "outputs": [],
   "source": [
    "# def fitPCA(data):\n",
    "#\n",
    "# return PCA(by selected n_components), component\n",
    "\n",
    "def fitPCA(data):\n",
    "    # define PCA using all component\n",
    "    principal_comp = PCA(random_state=123)\n",
    "    \n",
    "    # fit\n",
    "    principal_comp.fit(data)\n",
    "        \n",
    "    # Observe explained variance\n",
    "    print ('Explained variance using n_components :')\n",
    "    for i in range(1, len(principal_comp.explained_variance_ratio_)+1):\n",
    "        print (i, sum(principal_comp.explained_variance_ratio_[0:i]))\n",
    "    print()\n",
    "        \n",
    "    # Select desired n_components\n",
    "    n_comp = int(input('n_components :'))\n",
    "        \n",
    "    # define n_components PCA\n",
    "    principal_comp = PCA(n_components=n_comp)\n",
    "                         \n",
    "    # fit\n",
    "    principal_comp.fit(data)\n",
    "    \n",
    "    # new PCA component\n",
    "    component = pd.DataFrame(principal_comp.components_)\n",
    "    component.columns = data.columns\n",
    "    \n",
    "    return principal_comp, component"
   ]
  },
  {
   "cell_type": "code",
   "execution_count": 64,
   "metadata": {
    "collapsed": true
   },
   "outputs": [],
   "source": [
    "# def transformPCA(data, principal_comp):\n",
    "#\n",
    "# return transformedData\n",
    "\n",
    "def transformPCA(data, principal_comp):\n",
    "    # transform\n",
    "    data_pca = pd.DataFrame(principal_comp.transform(data))\n",
    "\n",
    "    # rename columns\n",
    "    data_pca.columns = range(1,data_pca.shape[1]+1)\n",
    "    data_pca = data_pca.add_prefix(\"PC_\")\n",
    "\n",
    "    # replace broken index\n",
    "    data_pca.index = data.index\n",
    "\n",
    "    return data_pca"
   ]
  },
  {
   "cell_type": "code",
   "execution_count": 65,
   "metadata": {
    "collapsed": false,
    "scrolled": false
   },
   "outputs": [
    {
     "name": "stdout",
     "output_type": "stream",
     "text": [
      "Explained variance using n_components :\n",
      "1 0.191535761713\n",
      "2 0.340651197112\n",
      "3 0.485097617576\n",
      "4 0.607705589499\n",
      "5 0.71960343072\n",
      "6 0.82924401823\n",
      "7 0.931400107743\n",
      "8 1.0\n",
      "\n",
      "n_components :7\n"
     ]
    }
   ],
   "source": [
    "# call fitPCA\n",
    "\n",
    "principal_comp, component = fitPCA(data_train_clean)"
   ]
  },
  {
   "cell_type": "code",
   "execution_count": 66,
   "metadata": {
    "collapsed": true
   },
   "outputs": [],
   "source": [
    "# call transformPCA\n",
    "\n",
    "data_train_pca = transformPCA(data_train_clean, principal_comp)"
   ]
  },
  {
   "cell_type": "code",
   "execution_count": 67,
   "metadata": {
    "collapsed": false
   },
   "outputs": [
    {
     "data": {
      "text/html": [
       "<div>\n",
       "<table border=\"1\" class=\"dataframe\">\n",
       "  <thead>\n",
       "    <tr style=\"text-align: right;\">\n",
       "      <th></th>\n",
       "      <th>PC_1</th>\n",
       "      <th>PC_2</th>\n",
       "      <th>PC_3</th>\n",
       "      <th>PC_4</th>\n",
       "      <th>PC_5</th>\n",
       "      <th>PC_6</th>\n",
       "      <th>PC_7</th>\n",
       "    </tr>\n",
       "  </thead>\n",
       "  <tbody>\n",
       "    <tr>\n",
       "      <th>28686</th>\n",
       "      <td>-0.101808</td>\n",
       "      <td>-1.626875</td>\n",
       "      <td>1.220008</td>\n",
       "      <td>0.568645</td>\n",
       "      <td>0.310156</td>\n",
       "      <td>1.159288</td>\n",
       "      <td>-1.899443</td>\n",
       "    </tr>\n",
       "    <tr>\n",
       "      <th>9304</th>\n",
       "      <td>-0.007162</td>\n",
       "      <td>-0.329914</td>\n",
       "      <td>-1.053652</td>\n",
       "      <td>-0.984813</td>\n",
       "      <td>-0.988314</td>\n",
       "      <td>-0.267760</td>\n",
       "      <td>0.484691</td>\n",
       "    </tr>\n",
       "    <tr>\n",
       "      <th>41425</th>\n",
       "      <td>0.766717</td>\n",
       "      <td>1.226660</td>\n",
       "      <td>-1.375008</td>\n",
       "      <td>-0.628502</td>\n",
       "      <td>-0.514009</td>\n",
       "      <td>-0.793902</td>\n",
       "      <td>0.925047</td>\n",
       "    </tr>\n",
       "    <tr>\n",
       "      <th>44803</th>\n",
       "      <td>-0.558575</td>\n",
       "      <td>-0.354845</td>\n",
       "      <td>0.164782</td>\n",
       "      <td>0.291162</td>\n",
       "      <td>0.834027</td>\n",
       "      <td>-1.279310</td>\n",
       "      <td>0.367039</td>\n",
       "    </tr>\n",
       "    <tr>\n",
       "      <th>5878</th>\n",
       "      <td>-0.612426</td>\n",
       "      <td>-0.591658</td>\n",
       "      <td>1.203544</td>\n",
       "      <td>0.322387</td>\n",
       "      <td>0.652415</td>\n",
       "      <td>0.216437</td>\n",
       "      <td>-0.819203</td>\n",
       "    </tr>\n",
       "  </tbody>\n",
       "</table>\n",
       "</div>"
      ],
      "text/plain": [
       "           PC_1      PC_2      PC_3      PC_4      PC_5      PC_6      PC_7\n",
       "28686 -0.101808 -1.626875  1.220008  0.568645  0.310156  1.159288 -1.899443\n",
       "9304  -0.007162 -0.329914 -1.053652 -0.984813 -0.988314 -0.267760  0.484691\n",
       "41425  0.766717  1.226660 -1.375008 -0.628502 -0.514009 -0.793902  0.925047\n",
       "44803 -0.558575 -0.354845  0.164782  0.291162  0.834027 -1.279310  0.367039\n",
       "5878  -0.612426 -0.591658  1.203544  0.322387  0.652415  0.216437 -0.819203"
      ]
     },
     "execution_count": 67,
     "metadata": {},
     "output_type": "execute_result"
    }
   ],
   "source": [
    "# check top observations, due to indexing in python (start from 0) n_components will have PC_0 ~ PC_(n_components-1)\n",
    "\n",
    "data_train_pca.head()"
   ]
  },
  {
   "cell_type": "code",
   "execution_count": 68,
   "metadata": {
    "collapsed": false
   },
   "outputs": [
    {
     "data": {
      "text/html": [
       "<div>\n",
       "<table border=\"1\" class=\"dataframe\">\n",
       "  <thead>\n",
       "    <tr style=\"text-align: right;\">\n",
       "      <th></th>\n",
       "      <th>age</th>\n",
       "      <th>balance</th>\n",
       "      <th>day</th>\n",
       "      <th>month</th>\n",
       "      <th>duration</th>\n",
       "      <th>campaign</th>\n",
       "      <th>pdays</th>\n",
       "      <th>previous</th>\n",
       "    </tr>\n",
       "  </thead>\n",
       "  <tbody>\n",
       "    <tr>\n",
       "      <th>0</th>\n",
       "      <td>-0.072674</td>\n",
       "      <td>-0.033138</td>\n",
       "      <td>-0.295619</td>\n",
       "      <td>-0.270644</td>\n",
       "      <td>0.055614</td>\n",
       "      <td>-0.261045</td>\n",
       "      <td>0.641095</td>\n",
       "      <td>0.592234</td>\n",
       "    </tr>\n",
       "    <tr>\n",
       "      <th>1</th>\n",
       "      <td>0.461428</td>\n",
       "      <td>0.497870</td>\n",
       "      <td>0.277747</td>\n",
       "      <td>0.489020</td>\n",
       "      <td>-0.111163</td>\n",
       "      <td>0.235318</td>\n",
       "      <td>0.210279</td>\n",
       "      <td>0.333131</td>\n",
       "    </tr>\n",
       "    <tr>\n",
       "      <th>2</th>\n",
       "      <td>-0.338021</td>\n",
       "      <td>-0.372603</td>\n",
       "      <td>0.423951</td>\n",
       "      <td>-0.113402</td>\n",
       "      <td>-0.427458</td>\n",
       "      <td>0.550972</td>\n",
       "      <td>0.164501</td>\n",
       "      <td>0.202393</td>\n",
       "    </tr>\n",
       "    <tr>\n",
       "      <th>3</th>\n",
       "      <td>-0.372058</td>\n",
       "      <td>0.025495</td>\n",
       "      <td>0.430029</td>\n",
       "      <td>0.136764</td>\n",
       "      <td>0.799088</td>\n",
       "      <td>0.046519</td>\n",
       "      <td>0.059064</td>\n",
       "      <td>0.114452</td>\n",
       "    </tr>\n",
       "    <tr>\n",
       "      <th>4</th>\n",
       "      <td>-0.694448</td>\n",
       "      <td>0.542764</td>\n",
       "      <td>-0.013474</td>\n",
       "      <td>0.191360</td>\n",
       "      <td>-0.343777</td>\n",
       "      <td>-0.256294</td>\n",
       "      <td>-0.004848</td>\n",
       "      <td>-0.049562</td>\n",
       "    </tr>\n",
       "    <tr>\n",
       "      <th>5</th>\n",
       "      <td>0.069562</td>\n",
       "      <td>0.560564</td>\n",
       "      <td>0.074476</td>\n",
       "      <td>-0.739734</td>\n",
       "      <td>0.097257</td>\n",
       "      <td>0.330492</td>\n",
       "      <td>-0.029035</td>\n",
       "      <td>-0.093000</td>\n",
       "    </tr>\n",
       "    <tr>\n",
       "      <th>6</th>\n",
       "      <td>-0.203245</td>\n",
       "      <td>0.051963</td>\n",
       "      <td>-0.681618</td>\n",
       "      <td>0.250872</td>\n",
       "      <td>0.187089</td>\n",
       "      <td>0.624711</td>\n",
       "      <td>-0.032940</td>\n",
       "      <td>0.045826</td>\n",
       "    </tr>\n",
       "  </tbody>\n",
       "</table>\n",
       "</div>"
      ],
      "text/plain": [
       "        age   balance       day     month  duration  campaign     pdays  \\\n",
       "0 -0.072674 -0.033138 -0.295619 -0.270644  0.055614 -0.261045  0.641095   \n",
       "1  0.461428  0.497870  0.277747  0.489020 -0.111163  0.235318  0.210279   \n",
       "2 -0.338021 -0.372603  0.423951 -0.113402 -0.427458  0.550972  0.164501   \n",
       "3 -0.372058  0.025495  0.430029  0.136764  0.799088  0.046519  0.059064   \n",
       "4 -0.694448  0.542764 -0.013474  0.191360 -0.343777 -0.256294 -0.004848   \n",
       "5  0.069562  0.560564  0.074476 -0.739734  0.097257  0.330492 -0.029035   \n",
       "6 -0.203245  0.051963 -0.681618  0.250872  0.187089  0.624711 -0.032940   \n",
       "\n",
       "   previous  \n",
       "0  0.592234  \n",
       "1  0.333131  \n",
       "2  0.202393  \n",
       "3  0.114452  \n",
       "4 -0.049562  \n",
       "5 -0.093000  \n",
       "6  0.045826  "
      ]
     },
     "execution_count": 68,
     "metadata": {},
     "output_type": "execute_result"
    }
   ],
   "source": [
    "# check components\n",
    "\n",
    "component"
   ]
  },
  {
   "cell_type": "code",
   "execution_count": 69,
   "metadata": {
    "collapsed": false
   },
   "outputs": [
    {
     "data": {
      "text/plain": [
       "['pca.pkl']"
      ]
     },
     "execution_count": 69,
     "metadata": {},
     "output_type": "execute_result"
    }
   ],
   "source": [
    "# dump PCA\n",
    "\n",
    "joblib.dump(principal_comp, 'pca.pkl')"
   ]
  },
  {
   "cell_type": "markdown",
   "metadata": {},
   "source": [
    "## 4. Clustering\n",
    "> * Goal : Make separate group with similar character, and assign them into cluster\n",
    "* Task of clustering is subjective.<br>\n",
    "![Save clustering.png from gdrive in same folder, then run this cell](clustering.png)"
   ]
  },
  {
   "cell_type": "code",
   "execution_count": 70,
   "metadata": {
    "collapsed": true
   },
   "outputs": [],
   "source": [
    "# import KMeans package from sklearn.cluster :\n",
    "\n",
    "from sklearn.cluster import KMeans"
   ]
  },
  {
   "cell_type": "code",
   "execution_count": 71,
   "metadata": {
    "collapsed": true
   },
   "outputs": [],
   "source": [
    "# define KMeans, use n_cluster=3 as initial try\n",
    "\n",
    "kmeans_clust = KMeans(n_clusters = 3, random_state = 123)"
   ]
  },
  {
   "cell_type": "code",
   "execution_count": 72,
   "metadata": {
    "collapsed": false
   },
   "outputs": [
    {
     "data": {
      "text/plain": [
       "KMeans(algorithm='auto', copy_x=True, init='k-means++', max_iter=300,\n",
       "    n_clusters=3, n_init=10, n_jobs=1, precompute_distances='auto',\n",
       "    random_state=123, tol=0.0001, verbose=0)"
      ]
     },
     "execution_count": 72,
     "metadata": {},
     "output_type": "execute_result"
    }
   ],
   "source": [
    "# fit\n",
    "\n",
    "kmeans_clust.fit(data_train_clean)"
   ]
  },
  {
   "cell_type": "code",
   "execution_count": 73,
   "metadata": {
    "collapsed": false
   },
   "outputs": [
    {
     "data": {
      "text/plain": [
       "array([1, 2, 2, ..., 1, 1, 1])"
      ]
     },
     "execution_count": 73,
     "metadata": {},
     "output_type": "execute_result"
    }
   ],
   "source": [
    "# predict cluster\n",
    "\n",
    "kmeans_clust.predict(data_train_clean)"
   ]
  },
  {
   "cell_type": "code",
   "execution_count": 74,
   "metadata": {
    "collapsed": true
   },
   "outputs": [],
   "source": [
    "# reshape predicted cluster to DataFrame\n",
    "\n",
    "cluster = pd.DataFrame(kmeans_clust.predict(data_train_clean), columns=['Cluster'], index = data_train_clean.index)"
   ]
  },
  {
   "cell_type": "code",
   "execution_count": 75,
   "metadata": {
    "collapsed": false
   },
   "outputs": [
    {
     "data": {
      "text/html": [
       "<div>\n",
       "<table border=\"1\" class=\"dataframe\">\n",
       "  <thead>\n",
       "    <tr style=\"text-align: right;\">\n",
       "      <th></th>\n",
       "      <th>Cluster</th>\n",
       "    </tr>\n",
       "  </thead>\n",
       "  <tbody>\n",
       "    <tr>\n",
       "      <th>28686</th>\n",
       "      <td>1</td>\n",
       "    </tr>\n",
       "    <tr>\n",
       "      <th>9304</th>\n",
       "      <td>2</td>\n",
       "    </tr>\n",
       "    <tr>\n",
       "      <th>41425</th>\n",
       "      <td>2</td>\n",
       "    </tr>\n",
       "    <tr>\n",
       "      <th>44803</th>\n",
       "      <td>1</td>\n",
       "    </tr>\n",
       "    <tr>\n",
       "      <th>5878</th>\n",
       "      <td>1</td>\n",
       "    </tr>\n",
       "  </tbody>\n",
       "</table>\n",
       "</div>"
      ],
      "text/plain": [
       "       Cluster\n",
       "28686        1\n",
       "9304         2\n",
       "41425        2\n",
       "44803        1\n",
       "5878         1"
      ]
     },
     "execution_count": 75,
     "metadata": {},
     "output_type": "execute_result"
    }
   ],
   "source": [
    "# check top observations\n",
    "\n",
    "cluster.head()"
   ]
  },
  {
   "cell_type": "code",
   "execution_count": 76,
   "metadata": {
    "collapsed": false
   },
   "outputs": [
    {
     "data": {
      "text/plain": [
       "1    0.442380\n",
       "2    0.429523\n",
       "0    0.128097\n",
       "Name: Cluster, dtype: float64"
      ]
     },
     "execution_count": 76,
     "metadata": {},
     "output_type": "execute_result"
    }
   ],
   "source": [
    "# check cluster proportion\n",
    "\n",
    "cluster['Cluster'].value_counts(normalize=True)"
   ]
  },
  {
   "cell_type": "code",
   "execution_count": 77,
   "metadata": {
    "collapsed": false
   },
   "outputs": [
    {
     "data": {
      "text/plain": [
       "array([[ -5.08046849e-02,   2.96384018e-04,  -2.77076998e-01,\n",
       "         -5.38144454e-01,   4.58737803e-03,  -1.90722590e-01,\n",
       "          2.31231392e+00,   1.29680831e+00],\n",
       "       [  2.80762791e-02,   7.94931911e-02,   8.52865435e-01,\n",
       "          3.62818889e-01,  -1.03261744e-01,   2.42937555e-01,\n",
       "         -3.08432938e-01,  -1.74266656e-01],\n",
       "       [ -1.37715159e-02,  -8.20288890e-02,  -7.96392241e-01,\n",
       "         -2.13310918e-01,   1.05070981e-01,  -1.93471092e-01,\n",
       "         -3.72474926e-01,  -2.07565240e-01]])"
      ]
     },
     "execution_count": 77,
     "metadata": {},
     "output_type": "execute_result"
    }
   ],
   "source": [
    "# check centroid\n",
    "\n",
    "kmeans_clust.cluster_centers_"
   ]
  },
  {
   "cell_type": "code",
   "execution_count": 78,
   "metadata": {
    "collapsed": false
   },
   "outputs": [
    {
     "data": {
      "text/html": [
       "<div>\n",
       "<table border=\"1\" class=\"dataframe\">\n",
       "  <thead>\n",
       "    <tr style=\"text-align: right;\">\n",
       "      <th></th>\n",
       "      <th>age</th>\n",
       "      <th>balance</th>\n",
       "      <th>day</th>\n",
       "      <th>month</th>\n",
       "      <th>duration</th>\n",
       "      <th>campaign</th>\n",
       "      <th>pdays</th>\n",
       "      <th>previous</th>\n",
       "    </tr>\n",
       "  </thead>\n",
       "  <tbody>\n",
       "    <tr>\n",
       "      <th>0</th>\n",
       "      <td>-0.050805</td>\n",
       "      <td>0.000296</td>\n",
       "      <td>-0.277077</td>\n",
       "      <td>-0.538144</td>\n",
       "      <td>0.004587</td>\n",
       "      <td>-0.190723</td>\n",
       "      <td>2.312314</td>\n",
       "      <td>1.296808</td>\n",
       "    </tr>\n",
       "    <tr>\n",
       "      <th>1</th>\n",
       "      <td>0.028076</td>\n",
       "      <td>0.079493</td>\n",
       "      <td>0.852865</td>\n",
       "      <td>0.362819</td>\n",
       "      <td>-0.103262</td>\n",
       "      <td>0.242938</td>\n",
       "      <td>-0.308433</td>\n",
       "      <td>-0.174267</td>\n",
       "    </tr>\n",
       "    <tr>\n",
       "      <th>2</th>\n",
       "      <td>-0.013772</td>\n",
       "      <td>-0.082029</td>\n",
       "      <td>-0.796392</td>\n",
       "      <td>-0.213311</td>\n",
       "      <td>0.105071</td>\n",
       "      <td>-0.193471</td>\n",
       "      <td>-0.372475</td>\n",
       "      <td>-0.207565</td>\n",
       "    </tr>\n",
       "  </tbody>\n",
       "</table>\n",
       "</div>"
      ],
      "text/plain": [
       "        age   balance       day     month  duration  campaign     pdays  \\\n",
       "0 -0.050805  0.000296 -0.277077 -0.538144  0.004587 -0.190723  2.312314   \n",
       "1  0.028076  0.079493  0.852865  0.362819 -0.103262  0.242938 -0.308433   \n",
       "2 -0.013772 -0.082029 -0.796392 -0.213311  0.105071 -0.193471 -0.372475   \n",
       "\n",
       "   previous  \n",
       "0  1.296808  \n",
       "1 -0.174267  \n",
       "2 -0.207565  "
      ]
     },
     "execution_count": 78,
     "metadata": {},
     "output_type": "execute_result"
    }
   ],
   "source": [
    "# reshape to DataFrame\n",
    "\n",
    "centroid = pd.DataFrame(kmeans_clust.cluster_centers_, columns = data_train_clean.columns)\n",
    "centroid"
   ]
  },
  {
   "cell_type": "markdown",
   "metadata": {},
   "source": [
    "#### Inverse transform from standardizer"
   ]
  },
  {
   "cell_type": "code",
   "execution_count": 79,
   "metadata": {
    "collapsed": true
   },
   "outputs": [],
   "source": [
    "# inverse transform\n",
    "\n",
    "centroid_real = pd.DataFrame(normalizer.inverse_transform(centroid), columns=data_train_clean.columns)"
   ]
  },
  {
   "cell_type": "code",
   "execution_count": 80,
   "metadata": {
    "collapsed": false
   },
   "outputs": [
    {
     "data": {
      "text/html": [
       "<div>\n",
       "<table border=\"1\" class=\"dataframe\">\n",
       "  <thead>\n",
       "    <tr style=\"text-align: right;\">\n",
       "      <th></th>\n",
       "      <th>age</th>\n",
       "      <th>balance</th>\n",
       "      <th>day</th>\n",
       "      <th>month</th>\n",
       "      <th>duration</th>\n",
       "      <th>campaign</th>\n",
       "      <th>pdays</th>\n",
       "      <th>previous</th>\n",
       "    </tr>\n",
       "  </thead>\n",
       "  <tbody>\n",
       "    <tr>\n",
       "      <th>0</th>\n",
       "      <td>40.405953</td>\n",
       "      <td>1372.243097</td>\n",
       "      <td>13.498706</td>\n",
       "      <td>4.846204</td>\n",
       "      <td>260.144521</td>\n",
       "      <td>2.168680</td>\n",
       "      <td>271.692192</td>\n",
       "      <td>3.646678</td>\n",
       "    </tr>\n",
       "    <tr>\n",
       "      <th>1</th>\n",
       "      <td>41.242862</td>\n",
       "      <td>1609.763324</td>\n",
       "      <td>22.888035</td>\n",
       "      <td>7.010684</td>\n",
       "      <td>232.188379</td>\n",
       "      <td>3.510965</td>\n",
       "      <td>9.321649</td>\n",
       "      <td>0.168572</td>\n",
       "    </tr>\n",
       "    <tr>\n",
       "      <th>2</th>\n",
       "      <td>40.798866</td>\n",
       "      <td>1125.340246</td>\n",
       "      <td>9.183422</td>\n",
       "      <td>5.626586</td>\n",
       "      <td>286.191409</td>\n",
       "      <td>2.160173</td>\n",
       "      <td>2.910221</td>\n",
       "      <td>0.089843</td>\n",
       "    </tr>\n",
       "  </tbody>\n",
       "</table>\n",
       "</div>"
      ],
      "text/plain": [
       "         age      balance        day     month    duration  campaign  \\\n",
       "0  40.405953  1372.243097  13.498706  4.846204  260.144521  2.168680   \n",
       "1  41.242862  1609.763324  22.888035  7.010684  232.188379  3.510965   \n",
       "2  40.798866  1125.340246   9.183422  5.626586  286.191409  2.160173   \n",
       "\n",
       "        pdays  previous  \n",
       "0  271.692192  3.646678  \n",
       "1    9.321649  0.168572  \n",
       "2    2.910221  0.089843  "
      ]
     },
     "execution_count": 80,
     "metadata": {},
     "output_type": "execute_result"
    }
   ],
   "source": [
    "# real centroid\n",
    "\n",
    "centroid_real"
   ]
  },
  {
   "cell_type": "markdown",
   "metadata": {},
   "source": [
    "#### Best K?"
   ]
  },
  {
   "cell_type": "code",
   "execution_count": 81,
   "metadata": {
    "collapsed": true
   },
   "outputs": [],
   "source": [
    "?kmeans_clust.score"
   ]
  },
  {
   "cell_type": "code",
   "execution_count": 82,
   "metadata": {
    "collapsed": false
   },
   "outputs": [
    {
     "name": "stdout",
     "output_type": "stream",
     "text": [
      "2    -249522.285987\n",
      "3    -223656.564766\n",
      "4    -204761.120220\n",
      "5    -186619.944837\n",
      "6    -170554.182625\n",
      "7    -155279.838579\n",
      "8    -142104.978481\n",
      "9    -130670.020751\n",
      "10   -123124.149316\n",
      "dtype: float64\n"
     ]
    }
   ],
   "source": [
    "# Evaluate score for K in range 2-10\n",
    "\n",
    "score = pd.Series([])\n",
    "for i in range(2,11):\n",
    "    kmeans_clust = KMeans(n_clusters=i, max_iter=1000, n_jobs = -1, random_state = 123)\n",
    "    kmeans_clust.fit(data_train_clean)\n",
    "    score[i] = kmeans_clust.score(data_train_clean)\n",
    "    \n",
    "print (score)"
   ]
  },
  {
   "cell_type": "code",
   "execution_count": 83,
   "metadata": {
    "collapsed": false
   },
   "outputs": [
    {
     "data": {
      "text/plain": [
       "[<matplotlib.lines.Line2D at 0x269283533c8>]"
      ]
     },
     "execution_count": 83,
     "metadata": {},
     "output_type": "execute_result"
    },
    {
     "data": {
      "image/png": "[encoded data removed]",
      "text/plain": [
       "<matplotlib.figure.Figure at 0x269308dd860>"
      ]
     },
     "metadata": {},
     "output_type": "display_data"
    }
   ],
   "source": [
    "# import necessary library\n",
    "\n",
    "from matplotlib import pyplot as plt\n",
    "%matplotlib inline\n",
    "\n",
    "# plot score\n",
    "plt.plot(range(2,11),-1*score)"
   ]
  },
  {
   "cell_type": "code",
   "execution_count": 84,
   "metadata": {
    "collapsed": true
   },
   "outputs": [],
   "source": [
    "# choose best(subjective) n_clusters, for example n_clusters=9\n",
    "\n",
    "kmeans_clust9 = KMeans(n_clusters=9,random_state=123)"
   ]
  },
  {
   "cell_type": "code",
   "execution_count": 85,
   "metadata": {
    "collapsed": false
   },
   "outputs": [
    {
     "data": {
      "text/plain": [
       "KMeans(algorithm='auto', copy_x=True, init='k-means++', max_iter=300,\n",
       "    n_clusters=9, n_init=10, n_jobs=1, precompute_distances='auto',\n",
       "    random_state=123, tol=0.0001, verbose=0)"
      ]
     },
     "execution_count": 85,
     "metadata": {},
     "output_type": "execute_result"
    }
   ],
   "source": [
    "# fit\n",
    "\n",
    "kmeans_clust9.fit(data_train_clean)"
   ]
  },
  {
   "cell_type": "markdown",
   "metadata": {
    "collapsed": true
   },
   "source": [
    "#### Predict Cluster"
   ]
  },
  {
   "cell_type": "code",
   "execution_count": 86,
   "metadata": {
    "collapsed": false
   },
   "outputs": [
    {
     "data": {
      "text/html": [
       "<div>\n",
       "<table border=\"1\" class=\"dataframe\">\n",
       "  <thead>\n",
       "    <tr style=\"text-align: right;\">\n",
       "      <th></th>\n",
       "      <th>Cluster</th>\n",
       "    </tr>\n",
       "  </thead>\n",
       "  <tbody>\n",
       "    <tr>\n",
       "      <th>28686</th>\n",
       "      <td>2</td>\n",
       "    </tr>\n",
       "    <tr>\n",
       "      <th>9304</th>\n",
       "      <td>4</td>\n",
       "    </tr>\n",
       "    <tr>\n",
       "      <th>41425</th>\n",
       "      <td>4</td>\n",
       "    </tr>\n",
       "    <tr>\n",
       "      <th>44803</th>\n",
       "      <td>1</td>\n",
       "    </tr>\n",
       "    <tr>\n",
       "      <th>5878</th>\n",
       "      <td>2</td>\n",
       "    </tr>\n",
       "  </tbody>\n",
       "</table>\n",
       "</div>"
      ],
      "text/plain": [
       "       Cluster\n",
       "28686        2\n",
       "9304         4\n",
       "41425        4\n",
       "44803        1\n",
       "5878         2"
      ]
     },
     "execution_count": 86,
     "metadata": {},
     "output_type": "execute_result"
    }
   ],
   "source": [
    "# predict cluster\n",
    "\n",
    "cluster9 = pd.DataFrame(kmeans_clust9.predict(data_train_clean), columns=['Cluster'], index = data_train_clean.index)\n",
    "cluster9.head()"
   ]
  },
  {
   "cell_type": "code",
   "execution_count": 87,
   "metadata": {
    "collapsed": false
   },
   "outputs": [
    {
     "data": {
      "text/plain": [
       "['kmeans_clust9.pkl']"
      ]
     },
     "execution_count": 87,
     "metadata": {},
     "output_type": "execute_result"
    }
   ],
   "source": [
    "# dump best kmeans\n",
    "\n",
    "joblib.dump(kmeans_clust9,'kmeans_clust9.pkl')"
   ]
  },
  {
   "cell_type": "markdown",
   "metadata": {},
   "source": [
    "## Exercise!\n",
    "Clustering data_train_pca"
   ]
  },
  {
   "cell_type": "code",
   "execution_count": 88,
   "metadata": {
    "collapsed": false
   },
   "outputs": [
    {
     "name": "stdout",
     "output_type": "stream",
     "text": [
      "2    -231970.132410\n",
      "3    -206286.289010\n",
      "4    -187073.043132\n",
      "5    -169316.435501\n",
      "6    -153555.203949\n",
      "7    -138197.839333\n",
      "8    -126940.681598\n",
      "9    -121260.566833\n",
      "10   -115870.177258\n",
      "dtype: float64\n"
     ]
    }
   ],
   "source": [
    "# best K in data_train_pca\n",
    "    # Evaluate score for K in range 2-10\n",
    "\n",
    "score = pd.Series([])\n",
    "for i in range(2,11):\n",
    "    kmeans_clust = KMeans(n_clusters=i, max_iter=1000, n_jobs = -1, random_state = 123)\n",
    "    kmeans_clust.fit(data_train_pca)\n",
    "    score[i] = kmeans_clust.score(data_train_pca)\n",
    "print(score)"
   ]
  },
  {
   "cell_type": "code",
   "execution_count": 89,
   "metadata": {
    "collapsed": false
   },
   "outputs": [
    {
     "data": {
      "text/plain": [
       "[<matplotlib.lines.Line2D at 0x26932d85fd0>]"
      ]
     },
     "execution_count": 89,
     "metadata": {},
     "output_type": "execute_result"
    },
    {
     "data": {
      "image/png": "[encoded data removed]",
      "text/plain": [
       "<matplotlib.figure.Figure at 0x26932cd4390>"
      ]
     },
     "metadata": {},
     "output_type": "display_data"
    }
   ],
   "source": [
    "# plot score\n",
    "\n",
    "plt.plot(range(2,11),-1*score)"
   ]
  },
  {
   "cell_type": "code",
   "execution_count": 90,
   "metadata": {
    "collapsed": true
   },
   "outputs": [],
   "source": [
    "# define KMeans\n",
    "\n",
    "kmeans_clust_pca = KMeans(n_clusters=8, random_state=123)"
   ]
  },
  {
   "cell_type": "code",
   "execution_count": 91,
   "metadata": {
    "collapsed": false
   },
   "outputs": [
    {
     "data": {
      "text/plain": [
       "KMeans(algorithm='auto', copy_x=True, init='k-means++', max_iter=300,\n",
       "    n_clusters=8, n_init=10, n_jobs=1, precompute_distances='auto',\n",
       "    random_state=123, tol=0.0001, verbose=0)"
      ]
     },
     "execution_count": 91,
     "metadata": {},
     "output_type": "execute_result"
    }
   ],
   "source": [
    "# fit to data_train_pca\n",
    "\n",
    "kmeans_clust_pca.fit(data_train_pca)"
   ]
  },
  {
   "cell_type": "code",
   "execution_count": 92,
   "metadata": {
    "collapsed": false
   },
   "outputs": [
    {
     "data": {
      "text/html": [
       "<div>\n",
       "<table border=\"1\" class=\"dataframe\">\n",
       "  <thead>\n",
       "    <tr style=\"text-align: right;\">\n",
       "      <th></th>\n",
       "      <th>Cluster</th>\n",
       "    </tr>\n",
       "  </thead>\n",
       "  <tbody>\n",
       "    <tr>\n",
       "      <th>28686</th>\n",
       "      <td>7</td>\n",
       "    </tr>\n",
       "    <tr>\n",
       "      <th>9304</th>\n",
       "      <td>1</td>\n",
       "    </tr>\n",
       "    <tr>\n",
       "      <th>41425</th>\n",
       "      <td>1</td>\n",
       "    </tr>\n",
       "    <tr>\n",
       "      <th>44803</th>\n",
       "      <td>4</td>\n",
       "    </tr>\n",
       "    <tr>\n",
       "      <th>5878</th>\n",
       "      <td>7</td>\n",
       "    </tr>\n",
       "  </tbody>\n",
       "</table>\n",
       "</div>"
      ],
      "text/plain": [
       "       Cluster\n",
       "28686        7\n",
       "9304         1\n",
       "41425        1\n",
       "44803        4\n",
       "5878         7"
      ]
     },
     "execution_count": 92,
     "metadata": {},
     "output_type": "execute_result"
    }
   ],
   "source": [
    "# predict (and reshape to DataFrame)\n",
    "\n",
    "cluster_pca = pd.DataFrame(kmeans_clust_pca.predict(data_train_pca), columns=['Cluster'], index = data_train_pca.index)\n",
    "cluster_pca.head()"
   ]
  },
  {
   "cell_type": "code",
   "execution_count": 93,
   "metadata": {
    "collapsed": false
   },
   "outputs": [
    {
     "data": {
      "text/html": [
       "<div>\n",
       "<table border=\"1\" class=\"dataframe\">\n",
       "  <thead>\n",
       "    <tr style=\"text-align: right;\">\n",
       "      <th></th>\n",
       "      <th>PC_1</th>\n",
       "      <th>PC_2</th>\n",
       "      <th>PC_3</th>\n",
       "      <th>PC_4</th>\n",
       "      <th>PC_5</th>\n",
       "      <th>PC_6</th>\n",
       "      <th>PC_7</th>\n",
       "    </tr>\n",
       "  </thead>\n",
       "  <tbody>\n",
       "    <tr>\n",
       "      <th>0</th>\n",
       "      <td>-0.380305</td>\n",
       "      <td>2.868699</td>\n",
       "      <td>-2.125143</td>\n",
       "      <td>0.003482</td>\n",
       "      <td>2.676897</td>\n",
       "      <td>2.611759</td>\n",
       "      <td>0.193051</td>\n",
       "    </tr>\n",
       "    <tr>\n",
       "      <th>1</th>\n",
       "      <td>-0.301645</td>\n",
       "      <td>0.339469</td>\n",
       "      <td>-0.612918</td>\n",
       "      <td>-0.813133</td>\n",
       "      <td>-0.804840</td>\n",
       "      <td>0.022068</td>\n",
       "      <td>-0.139501</td>\n",
       "    </tr>\n",
       "    <tr>\n",
       "      <th>2</th>\n",
       "      <td>2.713242</td>\n",
       "      <td>0.403445</td>\n",
       "      <td>0.651066</td>\n",
       "      <td>0.034084</td>\n",
       "      <td>-0.078580</td>\n",
       "      <td>0.151683</td>\n",
       "      <td>-0.081775</td>\n",
       "    </tr>\n",
       "    <tr>\n",
       "      <th>3</th>\n",
       "      <td>-1.812084</td>\n",
       "      <td>1.135712</td>\n",
       "      <td>2.759321</td>\n",
       "      <td>0.164795</td>\n",
       "      <td>-0.939174</td>\n",
       "      <td>1.184133</td>\n",
       "      <td>2.110074</td>\n",
       "    </tr>\n",
       "    <tr>\n",
       "      <th>4</th>\n",
       "      <td>-0.423576</td>\n",
       "      <td>1.116383</td>\n",
       "      <td>-0.207245</td>\n",
       "      <td>0.257189</td>\n",
       "      <td>0.573984</td>\n",
       "      <td>-1.433984</td>\n",
       "      <td>0.061339</td>\n",
       "    </tr>\n",
       "    <tr>\n",
       "      <th>5</th>\n",
       "      <td>0.057386</td>\n",
       "      <td>-0.918566</td>\n",
       "      <td>-0.200995</td>\n",
       "      <td>-0.373007</td>\n",
       "      <td>0.384985</td>\n",
       "      <td>-0.040846</td>\n",
       "      <td>0.472801</td>\n",
       "    </tr>\n",
       "    <tr>\n",
       "      <th>6</th>\n",
       "      <td>-0.040158</td>\n",
       "      <td>-0.461661</td>\n",
       "      <td>-1.349492</td>\n",
       "      <td>2.275316</td>\n",
       "      <td>-0.952834</td>\n",
       "      <td>0.252705</td>\n",
       "      <td>0.490482</td>\n",
       "    </tr>\n",
       "    <tr>\n",
       "      <th>7</th>\n",
       "      <td>-0.606967</td>\n",
       "      <td>-0.189183</td>\n",
       "      <td>0.646866</td>\n",
       "      <td>0.334550</td>\n",
       "      <td>0.185357</td>\n",
       "      <td>0.130342</td>\n",
       "      <td>-0.789669</td>\n",
       "    </tr>\n",
       "  </tbody>\n",
       "</table>\n",
       "</div>"
      ],
      "text/plain": [
       "       PC_1      PC_2      PC_3      PC_4      PC_5      PC_6      PC_7\n",
       "0 -0.380305  2.868699 -2.125143  0.003482  2.676897  2.611759  0.193051\n",
       "1 -0.301645  0.339469 -0.612918 -0.813133 -0.804840  0.022068 -0.139501\n",
       "2  2.713242  0.403445  0.651066  0.034084 -0.078580  0.151683 -0.081775\n",
       "3 -1.812084  1.135712  2.759321  0.164795 -0.939174  1.184133  2.110074\n",
       "4 -0.423576  1.116383 -0.207245  0.257189  0.573984 -1.433984  0.061339\n",
       "5  0.057386 -0.918566 -0.200995 -0.373007  0.384985 -0.040846  0.472801\n",
       "6 -0.040158 -0.461661 -1.349492  2.275316 -0.952834  0.252705  0.490482\n",
       "7 -0.606967 -0.189183  0.646866  0.334550  0.185357  0.130342 -0.789669"
      ]
     },
     "execution_count": 93,
     "metadata": {},
     "output_type": "execute_result"
    }
   ],
   "source": [
    "# centroid (in DataFrame)\n",
    "\n",
    "centroid_pca = pd.DataFrame(kmeans_clust_pca.cluster_centers_, columns = data_train_pca.columns)\n",
    "centroid_pca"
   ]
  },
  {
   "cell_type": "code",
   "execution_count": 94,
   "metadata": {
    "collapsed": false,
    "scrolled": true
   },
   "outputs": [
    {
     "data": {
      "text/html": [
       "<div>\n",
       "<table border=\"1\" class=\"dataframe\">\n",
       "  <thead>\n",
       "    <tr style=\"text-align: right;\">\n",
       "      <th></th>\n",
       "      <th>age</th>\n",
       "      <th>balance</th>\n",
       "      <th>day</th>\n",
       "      <th>month</th>\n",
       "      <th>duration</th>\n",
       "      <th>campaign</th>\n",
       "      <th>pdays</th>\n",
       "      <th>previous</th>\n",
       "    </tr>\n",
       "  </thead>\n",
       "  <tbody>\n",
       "    <tr>\n",
       "      <th>0</th>\n",
       "      <td>0.351862</td>\n",
       "      <td>5.159782</td>\n",
       "      <td>0.036597</td>\n",
       "      <td>0.375928</td>\n",
       "      <td>-0.058978</td>\n",
       "      <td>-0.098706</td>\n",
       "      <td>-0.085135</td>\n",
       "      <td>-0.066011</td>\n",
       "    </tr>\n",
       "    <tr>\n",
       "      <th>1</th>\n",
       "      <td>1.277082</td>\n",
       "      <td>-0.045064</td>\n",
       "      <td>-0.318485</td>\n",
       "      <td>0.000608</td>\n",
       "      <td>-0.189547</td>\n",
       "      <td>-0.090480</td>\n",
       "      <td>-0.262997</td>\n",
       "      <td>-0.251228</td>\n",
       "    </tr>\n",
       "    <tr>\n",
       "      <th>2</th>\n",
       "      <td>-0.162034</td>\n",
       "      <td>-0.092640</td>\n",
       "      <td>-0.331258</td>\n",
       "      <td>-0.753958</td>\n",
       "      <td>-0.118556</td>\n",
       "      <td>-0.233852</td>\n",
       "      <td>1.932067</td>\n",
       "      <td>1.862987</td>\n",
       "    </tr>\n",
       "    <tr>\n",
       "      <th>3</th>\n",
       "      <td>-0.032566</td>\n",
       "      <td>-0.134765</td>\n",
       "      <td>0.754390</td>\n",
       "      <td>0.229135</td>\n",
       "      <td>-0.442031</td>\n",
       "      <td>4.218502</td>\n",
       "      <td>-0.558591</td>\n",
       "      <td>-0.084388</td>\n",
       "    </tr>\n",
       "    <tr>\n",
       "      <th>4</th>\n",
       "      <td>0.009457</td>\n",
       "      <td>0.164512</td>\n",
       "      <td>0.301684</td>\n",
       "      <td>1.905241</td>\n",
       "      <td>-0.178863</td>\n",
       "      <td>-0.311654</td>\n",
       "      <td>-0.018869</td>\n",
       "      <td>0.216259</td>\n",
       "    </tr>\n",
       "    <tr>\n",
       "      <th>5</th>\n",
       "      <td>-0.587589</td>\n",
       "      <td>-0.183219</td>\n",
       "      <td>-0.848208</td>\n",
       "      <td>-0.270450</td>\n",
       "      <td>-0.154712</td>\n",
       "      <td>-0.176035</td>\n",
       "      <td>-0.227715</td>\n",
       "      <td>-0.349003</td>\n",
       "    </tr>\n",
       "    <tr>\n",
       "      <th>6</th>\n",
       "      <td>-0.020913</td>\n",
       "      <td>-0.017702</td>\n",
       "      <td>-0.012681</td>\n",
       "      <td>0.003104</td>\n",
       "      <td>2.888019</td>\n",
       "      <td>-0.101710</td>\n",
       "      <td>-0.229300</td>\n",
       "      <td>-0.144089</td>\n",
       "    </tr>\n",
       "    <tr>\n",
       "      <th>7</th>\n",
       "      <td>-0.345468</td>\n",
       "      <td>-0.173933</td>\n",
       "      <td>1.090454</td>\n",
       "      <td>-0.214898</td>\n",
       "      <td>-0.220682</td>\n",
       "      <td>-0.011849</td>\n",
       "      <td>-0.281406</td>\n",
       "      <td>-0.310774</td>\n",
       "    </tr>\n",
       "  </tbody>\n",
       "</table>\n",
       "</div>"
      ],
      "text/plain": [
       "        age   balance       day     month  duration  campaign     pdays  \\\n",
       "0  0.351862  5.159782  0.036597  0.375928 -0.058978 -0.098706 -0.085135   \n",
       "1  1.277082 -0.045064 -0.318485  0.000608 -0.189547 -0.090480 -0.262997   \n",
       "2 -0.162034 -0.092640 -0.331258 -0.753958 -0.118556 -0.233852  1.932067   \n",
       "3 -0.032566 -0.134765  0.754390  0.229135 -0.442031  4.218502 -0.558591   \n",
       "4  0.009457  0.164512  0.301684  1.905241 -0.178863 -0.311654 -0.018869   \n",
       "5 -0.587589 -0.183219 -0.848208 -0.270450 -0.154712 -0.176035 -0.227715   \n",
       "6 -0.020913 -0.017702 -0.012681  0.003104  2.888019 -0.101710 -0.229300   \n",
       "7 -0.345468 -0.173933  1.090454 -0.214898 -0.220682 -0.011849 -0.281406   \n",
       "\n",
       "   previous  \n",
       "0 -0.066011  \n",
       "1 -0.251228  \n",
       "2  1.862987  \n",
       "3 -0.084388  \n",
       "4  0.216259  \n",
       "5 -0.349003  \n",
       "6 -0.144089  \n",
       "7 -0.310774  "
      ]
     },
     "execution_count": 94,
     "metadata": {},
     "output_type": "execute_result"
    }
   ],
   "source": [
    "# inverse transform centroid_pca (using PCA_NAME.inverse_transform())\n",
    "\n",
    "centroid_pca_inv = pd.DataFrame(principal_comp.inverse_transform(centroid_pca), columns=data_train_clean.columns)\n",
    "centroid_pca_inv"
   ]
  },
  {
   "cell_type": "code",
   "execution_count": 95,
   "metadata": {
    "collapsed": false
   },
   "outputs": [
    {
     "data": {
      "text/html": [
       "<div>\n",
       "<table border=\"1\" class=\"dataframe\">\n",
       "  <thead>\n",
       "    <tr style=\"text-align: right;\">\n",
       "      <th></th>\n",
       "      <th>age</th>\n",
       "      <th>balance</th>\n",
       "      <th>day</th>\n",
       "      <th>month</th>\n",
       "      <th>duration</th>\n",
       "      <th>campaign</th>\n",
       "      <th>pdays</th>\n",
       "      <th>previous</th>\n",
       "    </tr>\n",
       "  </thead>\n",
       "  <tbody>\n",
       "    <tr>\n",
       "      <th>0</th>\n",
       "      <td>0.351862</td>\n",
       "      <td>5.159782</td>\n",
       "      <td>0.036597</td>\n",
       "      <td>0.375928</td>\n",
       "      <td>-0.058978</td>\n",
       "      <td>-0.098706</td>\n",
       "      <td>-0.085135</td>\n",
       "      <td>-0.066011</td>\n",
       "    </tr>\n",
       "    <tr>\n",
       "      <th>1</th>\n",
       "      <td>1.277082</td>\n",
       "      <td>-0.045064</td>\n",
       "      <td>-0.318485</td>\n",
       "      <td>0.000608</td>\n",
       "      <td>-0.189547</td>\n",
       "      <td>-0.090480</td>\n",
       "      <td>-0.262997</td>\n",
       "      <td>-0.251228</td>\n",
       "    </tr>\n",
       "    <tr>\n",
       "      <th>2</th>\n",
       "      <td>-0.162034</td>\n",
       "      <td>-0.092640</td>\n",
       "      <td>-0.331258</td>\n",
       "      <td>-0.753958</td>\n",
       "      <td>-0.118556</td>\n",
       "      <td>-0.233852</td>\n",
       "      <td>1.932067</td>\n",
       "      <td>1.862987</td>\n",
       "    </tr>\n",
       "    <tr>\n",
       "      <th>3</th>\n",
       "      <td>-0.032566</td>\n",
       "      <td>-0.134765</td>\n",
       "      <td>0.754390</td>\n",
       "      <td>0.229135</td>\n",
       "      <td>-0.442031</td>\n",
       "      <td>4.218502</td>\n",
       "      <td>-0.558591</td>\n",
       "      <td>-0.084388</td>\n",
       "    </tr>\n",
       "    <tr>\n",
       "      <th>4</th>\n",
       "      <td>0.009457</td>\n",
       "      <td>0.164512</td>\n",
       "      <td>0.301684</td>\n",
       "      <td>1.905241</td>\n",
       "      <td>-0.178863</td>\n",
       "      <td>-0.311654</td>\n",
       "      <td>-0.018869</td>\n",
       "      <td>0.216259</td>\n",
       "    </tr>\n",
       "  </tbody>\n",
       "</table>\n",
       "</div>"
      ],
      "text/plain": [
       "        age   balance       day     month  duration  campaign     pdays  \\\n",
       "0  0.351862  5.159782  0.036597  0.375928 -0.058978 -0.098706 -0.085135   \n",
       "1  1.277082 -0.045064 -0.318485  0.000608 -0.189547 -0.090480 -0.262997   \n",
       "2 -0.162034 -0.092640 -0.331258 -0.753958 -0.118556 -0.233852  1.932067   \n",
       "3 -0.032566 -0.134765  0.754390  0.229135 -0.442031  4.218502 -0.558591   \n",
       "4  0.009457  0.164512  0.301684  1.905241 -0.178863 -0.311654 -0.018869   \n",
       "\n",
       "   previous  \n",
       "0 -0.066011  \n",
       "1 -0.251228  \n",
       "2  1.862987  \n",
       "3 -0.084388  \n",
       "4  0.216259  "
      ]
     },
     "execution_count": 95,
     "metadata": {},
     "output_type": "execute_result"
    }
   ],
   "source": [
    "centroid_num_pca = centroid_pca_inv[data_train_num_imputed.columns]\n",
    "centroid_num_pca.head()"
   ]
  },
  {
   "cell_type": "code",
   "execution_count": 96,
   "metadata": {
    "collapsed": false
   },
   "outputs": [
    {
     "data": {
      "text/html": [
       "<div>\n",
       "<table border=\"1\" class=\"dataframe\">\n",
       "  <thead>\n",
       "    <tr style=\"text-align: right;\">\n",
       "      <th></th>\n",
       "      <th>age</th>\n",
       "      <th>balance</th>\n",
       "      <th>day</th>\n",
       "      <th>month</th>\n",
       "      <th>duration</th>\n",
       "      <th>campaign</th>\n",
       "      <th>pdays</th>\n",
       "      <th>previous</th>\n",
       "    </tr>\n",
       "  </thead>\n",
       "  <tbody>\n",
       "    <tr>\n",
       "      <th>0</th>\n",
       "      <td>44.678150</td>\n",
       "      <td>16846.125603</td>\n",
       "      <td>16.105196</td>\n",
       "      <td>7.042179</td>\n",
       "      <td>243.667386</td>\n",
       "      <td>2.453495</td>\n",
       "      <td>31.676662</td>\n",
       "      <td>0.424524</td>\n",
       "    </tr>\n",
       "    <tr>\n",
       "      <th>1</th>\n",
       "      <td>54.494511</td>\n",
       "      <td>1236.200814</td>\n",
       "      <td>13.154626</td>\n",
       "      <td>6.140507</td>\n",
       "      <td>209.821812</td>\n",
       "      <td>2.478955</td>\n",
       "      <td>13.870393</td>\n",
       "      <td>-0.013389</td>\n",
       "    </tr>\n",
       "    <tr>\n",
       "      <th>2</th>\n",
       "      <td>39.225833</td>\n",
       "      <td>1093.516195</td>\n",
       "      <td>13.048483</td>\n",
       "      <td>4.327732</td>\n",
       "      <td>228.223984</td>\n",
       "      <td>2.035183</td>\n",
       "      <td>233.624587</td>\n",
       "      <td>4.985310</td>\n",
       "    </tr>\n",
       "    <tr>\n",
       "      <th>3</th>\n",
       "      <td>40.599466</td>\n",
       "      <td>967.178580</td>\n",
       "      <td>22.069744</td>\n",
       "      <td>6.689521</td>\n",
       "      <td>144.374332</td>\n",
       "      <td>15.816322</td>\n",
       "      <td>-15.722414</td>\n",
       "      <td>0.381074</td>\n",
       "    </tr>\n",
       "    <tr>\n",
       "      <th>4</th>\n",
       "      <td>41.045313</td>\n",
       "      <td>1864.745880</td>\n",
       "      <td>18.307957</td>\n",
       "      <td>10.716210</td>\n",
       "      <td>212.591277</td>\n",
       "      <td>1.794367</td>\n",
       "      <td>38.310766</td>\n",
       "      <td>1.091905</td>\n",
       "    </tr>\n",
       "    <tr>\n",
       "      <th>5</th>\n",
       "      <td>34.710795</td>\n",
       "      <td>821.858539</td>\n",
       "      <td>8.752857</td>\n",
       "      <td>5.489314</td>\n",
       "      <td>218.851736</td>\n",
       "      <td>2.214143</td>\n",
       "      <td>17.402551</td>\n",
       "      <td>-0.244562</td>\n",
       "    </tr>\n",
       "    <tr>\n",
       "      <th>6</th>\n",
       "      <td>40.723093</td>\n",
       "      <td>1318.262668</td>\n",
       "      <td>15.695720</td>\n",
       "      <td>6.146502</td>\n",
       "      <td>1007.574110</td>\n",
       "      <td>2.444197</td>\n",
       "      <td>17.243903</td>\n",
       "      <td>0.239922</td>\n",
       "    </tr>\n",
       "    <tr>\n",
       "      <th>7</th>\n",
       "      <td>37.279647</td>\n",
       "      <td>849.707931</td>\n",
       "      <td>24.862292</td>\n",
       "      <td>5.622773</td>\n",
       "      <td>201.751174</td>\n",
       "      <td>2.722339</td>\n",
       "      <td>12.027356</td>\n",
       "      <td>-0.154176</td>\n",
       "    </tr>\n",
       "  </tbody>\n",
       "</table>\n",
       "</div>"
      ],
      "text/plain": [
       "         age       balance        day      month     duration   campaign  \\\n",
       "0  44.678150  16846.125603  16.105196   7.042179   243.667386   2.453495   \n",
       "1  54.494511   1236.200814  13.154626   6.140507   209.821812   2.478955   \n",
       "2  39.225833   1093.516195  13.048483   4.327732   228.223984   2.035183   \n",
       "3  40.599466    967.178580  22.069744   6.689521   144.374332  15.816322   \n",
       "4  41.045313   1864.745880  18.307957  10.716210   212.591277   1.794367   \n",
       "5  34.710795    821.858539   8.752857   5.489314   218.851736   2.214143   \n",
       "6  40.723093   1318.262668  15.695720   6.146502  1007.574110   2.444197   \n",
       "7  37.279647    849.707931  24.862292   5.622773   201.751174   2.722339   \n",
       "\n",
       "        pdays  previous  \n",
       "0   31.676662  0.424524  \n",
       "1   13.870393 -0.013389  \n",
       "2  233.624587  4.985310  \n",
       "3  -15.722414  0.381074  \n",
       "4   38.310766  1.091905  \n",
       "5   17.402551 -0.244562  \n",
       "6   17.243903  0.239922  \n",
       "7   12.027356 -0.154176  "
      ]
     },
     "execution_count": 96,
     "metadata": {},
     "output_type": "execute_result"
    }
   ],
   "source": [
    "# inverse transform from standardizer\n",
    "\n",
    "centroid_real_pca = pd.DataFrame(normalizer.inverse_transform(centroid_num_pca), columns=data_train_num_imputed.columns)\n",
    "centroid_real_pca"
   ]
  },
  {
   "cell_type": "code",
   "execution_count": 97,
   "metadata": {
    "collapsed": false
   },
   "outputs": [
    {
     "data": {
      "text/plain": [
       "['kmeans_clust_pca.pkl']"
      ]
     },
     "execution_count": 97,
     "metadata": {},
     "output_type": "execute_result"
    }
   ],
   "source": [
    "# dump kmeans for data_pca\n",
    "\n",
    "joblib.dump(kmeans_clust_pca, 'kmeans_clust_pca.pkl')"
   ]
  },
  {
   "cell_type": "markdown",
   "metadata": {},
   "source": [
    "## 5. Clustering Test Data"
   ]
  },
  {
   "cell_type": "markdown",
   "metadata": {},
   "source": [
    "### Preprocessing Test Data\n"
   ]
  },
  {
   "cell_type": "code",
   "execution_count": 98,
   "metadata": {
    "collapsed": true
   },
   "outputs": [],
   "source": [
    "# def validData(data and all necessary object)\n",
    "#\n",
    "# return clean_data\n",
    "\n",
    "def validData(data, numerical_columns,  imputer, standardizer):\n",
    "    # replace month\n",
    "    data['month'] = data['month'].replace(['jan','feb','mar','apr','may','jun','jul','aug','sep','oct','nov','dec'],[1, 2, 3, 4, 5, 6, 7, 8, 9, 10, 11, 12])\n",
    "    \n",
    "    # preprocess numerical data using transformNumerical()\n",
    "    data_num_imputed = transformNumerical(data[numerical_columns], imputer=imputer)\n",
    "\n",
    "    # standardize using transformStandardize()\n",
    "    data_valid = transformStandardize(data_num_imputed, standard=standardizer)\n",
    "\n",
    "    \n",
    "    return data_valid"
   ]
  },
  {
   "cell_type": "code",
   "execution_count": 99,
   "metadata": {
    "collapsed": true
   },
   "outputs": [],
   "source": [
    "# load necessary object\n",
    "# object = joblib.load(\"filename.pkl\")\n",
    "\n",
    "numerical_columns = joblib.load('numerical_cols.pkl')\n",
    "imputer = joblib.load('imputer.pkl')\n",
    "standardizer = joblib.load('normalizer.pkl')\n",
    "pca = joblib.load('pca.pkl')"
   ]
  },
  {
   "cell_type": "code",
   "execution_count": 100,
   "metadata": {
    "collapsed": false
   },
   "outputs": [
    {
     "name": "stderr",
     "output_type": "stream",
     "text": [
      "C:\\Anaconda3\\lib\\site-packages\\ipykernel\\__main__.py:7: SettingWithCopyWarning: \n",
      "A value is trying to be set on a copy of a slice from a DataFrame.\n",
      "Try using .loc[row_indexer,col_indexer] = value instead\n",
      "\n",
      "See the caveats in the documentation: http://pandas.pydata.org/pandas-docs/stable/indexing.html#indexing-view-versus-copy\n"
     ]
    }
   ],
   "source": [
    "# preprocess test data\n",
    "\n",
    "data_test_clean = validData(data_test, numerical_columns, imputer, standardizer)"
   ]
  },
  {
   "cell_type": "code",
   "execution_count": 101,
   "metadata": {
    "collapsed": false,
    "scrolled": false
   },
   "outputs": [
    {
     "data": {
      "text/html": [
       "<div>\n",
       "<table border=\"1\" class=\"dataframe\">\n",
       "  <thead>\n",
       "    <tr style=\"text-align: right;\">\n",
       "      <th></th>\n",
       "      <th>age</th>\n",
       "      <th>balance</th>\n",
       "      <th>day</th>\n",
       "      <th>month</th>\n",
       "      <th>duration</th>\n",
       "      <th>campaign</th>\n",
       "      <th>pdays</th>\n",
       "      <th>previous</th>\n",
       "    </tr>\n",
       "  </thead>\n",
       "  <tbody>\n",
       "    <tr>\n",
       "      <th>7281</th>\n",
       "      <td>1.418978</td>\n",
       "      <td>-0.260862</td>\n",
       "      <td>1.588399</td>\n",
       "      <td>-0.474127</td>\n",
       "      <td>1.064924</td>\n",
       "      <td>-0.245219</td>\n",
       "      <td>-0.411533</td>\n",
       "      <td>-0.245565</td>\n",
       "    </tr>\n",
       "    <tr>\n",
       "      <th>19469</th>\n",
       "      <td>-0.371825</td>\n",
       "      <td>-0.240856</td>\n",
       "      <td>-1.059152</td>\n",
       "      <td>0.774621</td>\n",
       "      <td>-0.752098</td>\n",
       "      <td>-0.245219</td>\n",
       "      <td>-0.411533</td>\n",
       "      <td>-0.245565</td>\n",
       "    </tr>\n",
       "    <tr>\n",
       "      <th>31637</th>\n",
       "      <td>-1.314354</td>\n",
       "      <td>0.200274</td>\n",
       "      <td>-1.179496</td>\n",
       "      <td>-0.890376</td>\n",
       "      <td>-0.624791</td>\n",
       "      <td>-0.568295</td>\n",
       "      <td>-0.411533</td>\n",
       "      <td>-0.245565</td>\n",
       "    </tr>\n",
       "    <tr>\n",
       "      <th>22484</th>\n",
       "      <td>0.193692</td>\n",
       "      <td>-0.456920</td>\n",
       "      <td>0.745996</td>\n",
       "      <td>0.774621</td>\n",
       "      <td>-0.076984</td>\n",
       "      <td>0.400933</td>\n",
       "      <td>-0.411533</td>\n",
       "      <td>-0.245565</td>\n",
       "    </tr>\n",
       "    <tr>\n",
       "      <th>35919</th>\n",
       "      <td>1.607484</td>\n",
       "      <td>-0.726666</td>\n",
       "      <td>-0.938809</td>\n",
       "      <td>-0.474127</td>\n",
       "      <td>-0.709663</td>\n",
       "      <td>0.400933</td>\n",
       "      <td>-0.411533</td>\n",
       "      <td>-0.245565</td>\n",
       "    </tr>\n",
       "  </tbody>\n",
       "</table>\n",
       "</div>"
      ],
      "text/plain": [
       "            age   balance       day     month  duration  campaign     pdays  \\\n",
       "7281   1.418978 -0.260862  1.588399 -0.474127  1.064924 -0.245219 -0.411533   \n",
       "19469 -0.371825 -0.240856 -1.059152  0.774621 -0.752098 -0.245219 -0.411533   \n",
       "31637 -1.314354  0.200274 -1.179496 -0.890376 -0.624791 -0.568295 -0.411533   \n",
       "22484  0.193692 -0.456920  0.745996  0.774621 -0.076984  0.400933 -0.411533   \n",
       "35919  1.607484 -0.726666 -0.938809 -0.474127 -0.709663  0.400933 -0.411533   \n",
       "\n",
       "       previous  \n",
       "7281  -0.245565  \n",
       "19469 -0.245565  \n",
       "31637 -0.245565  \n",
       "22484 -0.245565  \n",
       "35919 -0.245565  "
      ]
     },
     "execution_count": 101,
     "metadata": {},
     "output_type": "execute_result"
    }
   ],
   "source": [
    "# check top observation\n",
    "\n",
    "data_test_clean.head()"
   ]
  },
  {
   "cell_type": "code",
   "execution_count": 102,
   "metadata": {
    "collapsed": true
   },
   "outputs": [],
   "source": [
    "# transform test data using PCA\n",
    "\n",
    "data_test_clean_pca = transformPCA(data_test_clean, pca)"
   ]
  },
  {
   "cell_type": "code",
   "execution_count": 103,
   "metadata": {
    "collapsed": false
   },
   "outputs": [
    {
     "data": {
      "text/html": [
       "<div>\n",
       "<table border=\"1\" class=\"dataframe\">\n",
       "  <thead>\n",
       "    <tr style=\"text-align: right;\">\n",
       "      <th></th>\n",
       "      <th>PC_1</th>\n",
       "      <th>PC_2</th>\n",
       "      <th>PC_3</th>\n",
       "      <th>PC_4</th>\n",
       "      <th>PC_5</th>\n",
       "      <th>PC_6</th>\n",
       "      <th>PC_7</th>\n",
       "    </tr>\n",
       "  </thead>\n",
       "  <tbody>\n",
       "    <tr>\n",
       "      <th>7281</th>\n",
       "      <td>-0.721746</td>\n",
       "      <td>0.389769</td>\n",
       "      <td>-0.362994</td>\n",
       "      <td>0.870769</td>\n",
       "      <td>-1.528207</td>\n",
       "      <td>0.478818</td>\n",
       "      <td>-1.455234</td>\n",
       "    </tr>\n",
       "    <tr>\n",
       "      <th>19469</th>\n",
       "      <td>-0.248615</td>\n",
       "      <td>-0.349297</td>\n",
       "      <td>-0.252460</td>\n",
       "      <td>-0.882138</td>\n",
       "      <td>0.625557</td>\n",
       "      <td>-0.932178</td>\n",
       "      <td>0.687726</td>\n",
       "    </tr>\n",
       "    <tr>\n",
       "      <th>31637</th>\n",
       "      <td>0.382879</td>\n",
       "      <td>-1.502400</td>\n",
       "      <td>-0.192862</td>\n",
       "      <td>-0.712979</td>\n",
       "      <td>1.241567</td>\n",
       "      <td>0.377838</td>\n",
       "      <td>0.388528</td>\n",
       "    </tr>\n",
       "    <tr>\n",
       "      <th>22484</th>\n",
       "      <td>-0.947319</td>\n",
       "      <td>0.382453</td>\n",
       "      <td>0.469612</td>\n",
       "      <td>0.247749</td>\n",
       "      <td>-0.306454</td>\n",
       "      <td>-0.600309</td>\n",
       "      <td>-0.138897</td>\n",
       "    </tr>\n",
       "    <tr>\n",
       "      <th>35919</th>\n",
       "      <td>-0.240284</td>\n",
       "      <td>-0.107763</td>\n",
       "      <td>-0.209991</td>\n",
       "      <td>-1.686006</td>\n",
       "      <td>-1.433426</td>\n",
       "      <td>0.083558</td>\n",
       "      <td>0.276490</td>\n",
       "    </tr>\n",
       "  </tbody>\n",
       "</table>\n",
       "</div>"
      ],
      "text/plain": [
       "           PC_1      PC_2      PC_3      PC_4      PC_5      PC_6      PC_7\n",
       "7281  -0.721746  0.389769 -0.362994  0.870769 -1.528207  0.478818 -1.455234\n",
       "19469 -0.248615 -0.349297 -0.252460 -0.882138  0.625557 -0.932178  0.687726\n",
       "31637  0.382879 -1.502400 -0.192862 -0.712979  1.241567  0.377838  0.388528\n",
       "22484 -0.947319  0.382453  0.469612  0.247749 -0.306454 -0.600309 -0.138897\n",
       "35919 -0.240284 -0.107763 -0.209991 -1.686006 -1.433426  0.083558  0.276490"
      ]
     },
     "execution_count": 103,
     "metadata": {},
     "output_type": "execute_result"
    }
   ],
   "source": [
    "# check top observation\n",
    "\n",
    "data_test_clean_pca.head()"
   ]
  },
  {
   "cell_type": "markdown",
   "metadata": {},
   "source": [
    "### Predict Test Data"
   ]
  },
  {
   "cell_type": "code",
   "execution_count": 104,
   "metadata": {
    "collapsed": true
   },
   "outputs": [],
   "source": [
    "# load model\n",
    "\n",
    "kmeans = joblib.load('kmeans_clust9.pkl')\n",
    "kmeans_pca = joblib.load('kmeans_clust_pca.pkl')"
   ]
  },
  {
   "cell_type": "code",
   "execution_count": 105,
   "metadata": {
    "collapsed": false
   },
   "outputs": [
    {
     "data": {
      "text/html": [
       "<div>\n",
       "<table border=\"1\" class=\"dataframe\">\n",
       "  <thead>\n",
       "    <tr style=\"text-align: right;\">\n",
       "      <th></th>\n",
       "      <th>Cluster</th>\n",
       "    </tr>\n",
       "  </thead>\n",
       "  <tbody>\n",
       "    <tr>\n",
       "      <th>7281</th>\n",
       "      <td>2</td>\n",
       "    </tr>\n",
       "    <tr>\n",
       "      <th>19469</th>\n",
       "      <td>6</td>\n",
       "    </tr>\n",
       "    <tr>\n",
       "      <th>31637</th>\n",
       "      <td>6</td>\n",
       "    </tr>\n",
       "    <tr>\n",
       "      <th>22484</th>\n",
       "      <td>2</td>\n",
       "    </tr>\n",
       "    <tr>\n",
       "      <th>35919</th>\n",
       "      <td>4</td>\n",
       "    </tr>\n",
       "  </tbody>\n",
       "</table>\n",
       "</div>"
      ],
      "text/plain": [
       "       Cluster\n",
       "7281         2\n",
       "19469        6\n",
       "31637        6\n",
       "22484        2\n",
       "35919        4"
      ]
     },
     "execution_count": 105,
     "metadata": {},
     "output_type": "execute_result"
    }
   ],
   "source": [
    "# predict\n",
    "\n",
    "cluster_test = pd.DataFrame(kmeans.predict(data_test_clean), columns=['Cluster'], index = data_test_clean.index)\n",
    "cluster_test.head()"
   ]
  },
  {
   "cell_type": "code",
   "execution_count": 106,
   "metadata": {
    "collapsed": false
   },
   "outputs": [
    {
     "data": {
      "text/html": [
       "<div>\n",
       "<table border=\"1\" class=\"dataframe\">\n",
       "  <thead>\n",
       "    <tr style=\"text-align: right;\">\n",
       "      <th></th>\n",
       "      <th>Cluster</th>\n",
       "    </tr>\n",
       "  </thead>\n",
       "  <tbody>\n",
       "    <tr>\n",
       "      <th>7281</th>\n",
       "      <td>7</td>\n",
       "    </tr>\n",
       "    <tr>\n",
       "      <th>19469</th>\n",
       "      <td>5</td>\n",
       "    </tr>\n",
       "    <tr>\n",
       "      <th>31637</th>\n",
       "      <td>5</td>\n",
       "    </tr>\n",
       "    <tr>\n",
       "      <th>22484</th>\n",
       "      <td>7</td>\n",
       "    </tr>\n",
       "    <tr>\n",
       "      <th>35919</th>\n",
       "      <td>1</td>\n",
       "    </tr>\n",
       "  </tbody>\n",
       "</table>\n",
       "</div>"
      ],
      "text/plain": [
       "       Cluster\n",
       "7281         7\n",
       "19469        5\n",
       "31637        5\n",
       "22484        7\n",
       "35919        1"
      ]
     },
     "execution_count": 106,
     "metadata": {},
     "output_type": "execute_result"
    }
   ],
   "source": [
    "# predict data pca\n",
    "\n",
    "cluster_test_pca = pd.DataFrame(kmeans_pca.predict(data_test_clean_pca), columns=['Cluster'], index = data_test_clean_pca.index)\n",
    "cluster_test_pca.head()"
   ]
  },
  {
   "cell_type": "code",
   "execution_count": null,
   "metadata": {
    "collapsed": true
   },
   "outputs": [],
   "source": []
  }
 ],
 "metadata": {
  "kernelspec": {
   "display_name": "Python 3",
   "language": "python",
   "name": "python3"
  },
  "language_info": {
   "codemirror_mode": {
    "name": "ipython",
    "version": 3
   },
   "file_extension": ".py",
   "mimetype": "text/x-python",
   "name": "python",
   "nbconvert_exporter": "python",
   "pygments_lexer": "ipython3",
   "version": "3.6.0"
  }
 },
 "nbformat": 4,
 "nbformat_minor": 2
}
