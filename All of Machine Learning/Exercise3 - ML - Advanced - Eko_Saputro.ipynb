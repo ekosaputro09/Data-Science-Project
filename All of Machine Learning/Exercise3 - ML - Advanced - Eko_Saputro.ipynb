{
 "cells": [
  {
   "cell_type": "markdown",
   "metadata": {},
   "source": [
    "# Tugas Python Machine Learning with PACMANN AI"
   ]
  },
  {
   "cell_type": "markdown",
   "metadata": {},
   "source": [
    "## Machine Learning Process Flowchart:\n",
    "### 1. Importing Data to Python : \n",
    "    * Drop Duplicates \n",
    "### 2. Data Preprocessing :\n",
    "    * Input-Output Split, Train-Test Split\n",
    "    * Imputation, Processing Categorical, Normalization \n",
    "### 3. Training Machine Learning : \n",
    "    * Choose Score to optimize and Hyperparameter Space\n",
    "### 4. Test Prediction : \n",
    "    * Evaluate model performance on Test Data\n",
    "    "
   ]
  },
  {
   "cell_type": "markdown",
   "metadata": {},
   "source": [
    "## 1. Importing Data to Python"
   ]
  },
  {
   "cell_type": "code",
   "execution_count": 1,
   "metadata": {
    "collapsed": true
   },
   "outputs": [],
   "source": [
    "# Import libraries\n",
    "\n",
    "import numpy as np # Import Numpy sebagai np\n",
    "import pandas as pd # Lalu import pandas sebagai pd"
   ]
  },
  {
   "cell_type": "markdown",
   "metadata": {
    "collapsed": true
   },
   "source": [
    "\n",
    "## Dataset Information\n",
    " \n",
    " \n",
    "### House Prices: Advanced Regression Techniques\n",
    "\n",
    "Ask a home buyer to describe their dream house, and they probably won't begin with the height of the basement ceiling or the proximity to an east-west railroad. But this dataset proves that much more influences price negotiations than the number of bedrooms or a white-picket fence.\n",
    "\n",
    "With 31 explanatory variables describing aspect of residential homes in Ames, Iowa, this exercise challenges you to predict the final price of each home.  \n",
    "\n",
    "See data description here : https://drive.google.com/open?id=1tFd-1tD3Z13XJvz-JcMjHg6pg2-H8T3Wi-4fDIaZta0"
   ]
  },
  {
   "cell_type": "code",
   "execution_count": 2,
   "metadata": {
    "collapsed": false
   },
   "outputs": [],
   "source": [
    "# Baca dataset \n",
    "\n",
    "data = pd.read_csv('../datasets/train.csv')"
   ]
  },
  {
   "cell_type": "code",
   "execution_count": 3,
   "metadata": {
    "collapsed": false
   },
   "outputs": [
    {
     "data": {
      "text/html": [
       "<div>\n",
       "<table border=\"1\" class=\"dataframe\">\n",
       "  <thead>\n",
       "    <tr style=\"text-align: right;\">\n",
       "      <th></th>\n",
       "      <th>Unnamed: 0</th>\n",
       "      <th>LotFrontage</th>\n",
       "      <th>LotArea</th>\n",
       "      <th>Utilities</th>\n",
       "      <th>MasVnrType</th>\n",
       "      <th>MasVnrArea</th>\n",
       "      <th>HouseStyle</th>\n",
       "      <th>Heating</th>\n",
       "      <th>BsmtQual</th>\n",
       "      <th>BsmtCond</th>\n",
       "      <th>...</th>\n",
       "      <th>GarageQual</th>\n",
       "      <th>GarageCond</th>\n",
       "      <th>WoodDeckSF</th>\n",
       "      <th>OpenPorchSF</th>\n",
       "      <th>EnclosedPorch</th>\n",
       "      <th>3SsnPorch</th>\n",
       "      <th>ScreenPorch</th>\n",
       "      <th>SaleType</th>\n",
       "      <th>SaleCondition</th>\n",
       "      <th>SalePrice</th>\n",
       "    </tr>\n",
       "  </thead>\n",
       "  <tbody>\n",
       "    <tr>\n",
       "      <th>0</th>\n",
       "      <td>0</td>\n",
       "      <td>65.0</td>\n",
       "      <td>8450</td>\n",
       "      <td>AllPub</td>\n",
       "      <td>BrkFace</td>\n",
       "      <td>196.0</td>\n",
       "      <td>2Story</td>\n",
       "      <td>GasA</td>\n",
       "      <td>Gd</td>\n",
       "      <td>TA</td>\n",
       "      <td>...</td>\n",
       "      <td>TA</td>\n",
       "      <td>TA</td>\n",
       "      <td>0</td>\n",
       "      <td>61</td>\n",
       "      <td>0</td>\n",
       "      <td>0</td>\n",
       "      <td>0</td>\n",
       "      <td>WD</td>\n",
       "      <td>Normal</td>\n",
       "      <td>208500</td>\n",
       "    </tr>\n",
       "    <tr>\n",
       "      <th>1</th>\n",
       "      <td>1</td>\n",
       "      <td>80.0</td>\n",
       "      <td>9600</td>\n",
       "      <td>AllPub</td>\n",
       "      <td>None</td>\n",
       "      <td>0.0</td>\n",
       "      <td>1Story</td>\n",
       "      <td>GasA</td>\n",
       "      <td>Gd</td>\n",
       "      <td>TA</td>\n",
       "      <td>...</td>\n",
       "      <td>TA</td>\n",
       "      <td>TA</td>\n",
       "      <td>298</td>\n",
       "      <td>0</td>\n",
       "      <td>0</td>\n",
       "      <td>0</td>\n",
       "      <td>0</td>\n",
       "      <td>WD</td>\n",
       "      <td>Normal</td>\n",
       "      <td>181500</td>\n",
       "    </tr>\n",
       "    <tr>\n",
       "      <th>2</th>\n",
       "      <td>2</td>\n",
       "      <td>68.0</td>\n",
       "      <td>11250</td>\n",
       "      <td>AllPub</td>\n",
       "      <td>BrkFace</td>\n",
       "      <td>162.0</td>\n",
       "      <td>2Story</td>\n",
       "      <td>GasA</td>\n",
       "      <td>Gd</td>\n",
       "      <td>TA</td>\n",
       "      <td>...</td>\n",
       "      <td>TA</td>\n",
       "      <td>TA</td>\n",
       "      <td>0</td>\n",
       "      <td>42</td>\n",
       "      <td>0</td>\n",
       "      <td>0</td>\n",
       "      <td>0</td>\n",
       "      <td>WD</td>\n",
       "      <td>Normal</td>\n",
       "      <td>223500</td>\n",
       "    </tr>\n",
       "    <tr>\n",
       "      <th>3</th>\n",
       "      <td>3</td>\n",
       "      <td>60.0</td>\n",
       "      <td>9550</td>\n",
       "      <td>AllPub</td>\n",
       "      <td>None</td>\n",
       "      <td>0.0</td>\n",
       "      <td>2Story</td>\n",
       "      <td>GasA</td>\n",
       "      <td>TA</td>\n",
       "      <td>Gd</td>\n",
       "      <td>...</td>\n",
       "      <td>TA</td>\n",
       "      <td>TA</td>\n",
       "      <td>0</td>\n",
       "      <td>35</td>\n",
       "      <td>272</td>\n",
       "      <td>0</td>\n",
       "      <td>0</td>\n",
       "      <td>WD</td>\n",
       "      <td>Abnorml</td>\n",
       "      <td>140000</td>\n",
       "    </tr>\n",
       "    <tr>\n",
       "      <th>4</th>\n",
       "      <td>4</td>\n",
       "      <td>84.0</td>\n",
       "      <td>14260</td>\n",
       "      <td>AllPub</td>\n",
       "      <td>BrkFace</td>\n",
       "      <td>350.0</td>\n",
       "      <td>2Story</td>\n",
       "      <td>GasA</td>\n",
       "      <td>Gd</td>\n",
       "      <td>TA</td>\n",
       "      <td>...</td>\n",
       "      <td>TA</td>\n",
       "      <td>TA</td>\n",
       "      <td>192</td>\n",
       "      <td>84</td>\n",
       "      <td>0</td>\n",
       "      <td>0</td>\n",
       "      <td>0</td>\n",
       "      <td>WD</td>\n",
       "      <td>Normal</td>\n",
       "      <td>250000</td>\n",
       "    </tr>\n",
       "  </tbody>\n",
       "</table>\n",
       "<p>5 rows × 33 columns</p>\n",
       "</div>"
      ],
      "text/plain": [
       "   Unnamed: 0  LotFrontage  LotArea Utilities MasVnrType  MasVnrArea  \\\n",
       "0           0         65.0     8450    AllPub    BrkFace       196.0   \n",
       "1           1         80.0     9600    AllPub       None         0.0   \n",
       "2           2         68.0    11250    AllPub    BrkFace       162.0   \n",
       "3           3         60.0     9550    AllPub       None         0.0   \n",
       "4           4         84.0    14260    AllPub    BrkFace       350.0   \n",
       "\n",
       "  HouseStyle Heating BsmtQual BsmtCond    ...    GarageQual GarageCond  \\\n",
       "0     2Story    GasA       Gd       TA    ...            TA         TA   \n",
       "1     1Story    GasA       Gd       TA    ...            TA         TA   \n",
       "2     2Story    GasA       Gd       TA    ...            TA         TA   \n",
       "3     2Story    GasA       TA       Gd    ...            TA         TA   \n",
       "4     2Story    GasA       Gd       TA    ...            TA         TA   \n",
       "\n",
       "   WoodDeckSF OpenPorchSF  EnclosedPorch 3SsnPorch  ScreenPorch  SaleType  \\\n",
       "0           0          61              0         0            0        WD   \n",
       "1         298           0              0         0            0        WD   \n",
       "2           0          42              0         0            0        WD   \n",
       "3           0          35            272         0            0        WD   \n",
       "4         192          84              0         0            0        WD   \n",
       "\n",
       "   SaleCondition SalePrice  \n",
       "0         Normal    208500  \n",
       "1         Normal    181500  \n",
       "2         Normal    223500  \n",
       "3        Abnorml    140000  \n",
       "4         Normal    250000  \n",
       "\n",
       "[5 rows x 33 columns]"
      ]
     },
     "execution_count": 3,
     "metadata": {},
     "output_type": "execute_result"
    }
   ],
   "source": [
    "# Check 5 Observasi pertama dataset\n",
    "\n",
    "data.head()"
   ]
  },
  {
   "cell_type": "markdown",
   "metadata": {},
   "source": [
    "## Droping Duplicates"
   ]
  },
  {
   "cell_type": "code",
   "execution_count": 4,
   "metadata": {
    "collapsed": false
   },
   "outputs": [
    {
     "data": {
      "text/plain": [
       "(1460, 33)"
      ]
     },
     "execution_count": 4,
     "metadata": {},
     "output_type": "execute_result"
    }
   ],
   "source": [
    "# Cek shape dari data yang akan di drop duplicate nya\n",
    "\n",
    "data.shape"
   ]
  },
  {
   "cell_type": "code",
   "execution_count": 5,
   "metadata": {
    "collapsed": false
   },
   "outputs": [
    {
     "data": {
      "text/plain": [
       "0"
      ]
     },
     "execution_count": 5,
     "metadata": {},
     "output_type": "execute_result"
    }
   ],
   "source": [
    "# Cek jika ada atau tidak observasi yang duplikat\n",
    "\n",
    "data.duplicated().sum()"
   ]
  },
  {
   "cell_type": "code",
   "execution_count": 6,
   "metadata": {
    "collapsed": true
   },
   "outputs": [],
   "source": [
    "# Drop data yang duplikat\n",
    "\n",
    "data = data.drop_duplicates()"
   ]
  },
  {
   "cell_type": "code",
   "execution_count": 7,
   "metadata": {
    "collapsed": false
   },
   "outputs": [
    {
     "data": {
      "text/plain": [
       "(1460, 33)"
      ]
     },
     "execution_count": 7,
     "metadata": {},
     "output_type": "execute_result"
    }
   ],
   "source": [
    "# Cek kembali shape\n",
    "\n",
    "data.shape"
   ]
  },
  {
   "cell_type": "code",
   "execution_count": 8,
   "metadata": {
    "collapsed": false
   },
   "outputs": [
    {
     "data": {
      "text/html": [
       "<div>\n",
       "<table border=\"1\" class=\"dataframe\">\n",
       "  <thead>\n",
       "    <tr style=\"text-align: right;\">\n",
       "      <th></th>\n",
       "      <th>Unnamed: 0</th>\n",
       "      <th>LotFrontage</th>\n",
       "      <th>LotArea</th>\n",
       "      <th>Utilities</th>\n",
       "      <th>MasVnrType</th>\n",
       "      <th>MasVnrArea</th>\n",
       "      <th>HouseStyle</th>\n",
       "      <th>Heating</th>\n",
       "      <th>BsmtQual</th>\n",
       "      <th>BsmtCond</th>\n",
       "      <th>...</th>\n",
       "      <th>GarageQual</th>\n",
       "      <th>GarageCond</th>\n",
       "      <th>WoodDeckSF</th>\n",
       "      <th>OpenPorchSF</th>\n",
       "      <th>EnclosedPorch</th>\n",
       "      <th>3SsnPorch</th>\n",
       "      <th>ScreenPorch</th>\n",
       "      <th>SaleType</th>\n",
       "      <th>SaleCondition</th>\n",
       "      <th>SalePrice</th>\n",
       "    </tr>\n",
       "  </thead>\n",
       "  <tbody>\n",
       "    <tr>\n",
       "      <th>0</th>\n",
       "      <td>0</td>\n",
       "      <td>65.0</td>\n",
       "      <td>8450</td>\n",
       "      <td>AllPub</td>\n",
       "      <td>BrkFace</td>\n",
       "      <td>196.0</td>\n",
       "      <td>2Story</td>\n",
       "      <td>GasA</td>\n",
       "      <td>Gd</td>\n",
       "      <td>TA</td>\n",
       "      <td>...</td>\n",
       "      <td>TA</td>\n",
       "      <td>TA</td>\n",
       "      <td>0</td>\n",
       "      <td>61</td>\n",
       "      <td>0</td>\n",
       "      <td>0</td>\n",
       "      <td>0</td>\n",
       "      <td>WD</td>\n",
       "      <td>Normal</td>\n",
       "      <td>208500</td>\n",
       "    </tr>\n",
       "    <tr>\n",
       "      <th>1</th>\n",
       "      <td>1</td>\n",
       "      <td>80.0</td>\n",
       "      <td>9600</td>\n",
       "      <td>AllPub</td>\n",
       "      <td>None</td>\n",
       "      <td>0.0</td>\n",
       "      <td>1Story</td>\n",
       "      <td>GasA</td>\n",
       "      <td>Gd</td>\n",
       "      <td>TA</td>\n",
       "      <td>...</td>\n",
       "      <td>TA</td>\n",
       "      <td>TA</td>\n",
       "      <td>298</td>\n",
       "      <td>0</td>\n",
       "      <td>0</td>\n",
       "      <td>0</td>\n",
       "      <td>0</td>\n",
       "      <td>WD</td>\n",
       "      <td>Normal</td>\n",
       "      <td>181500</td>\n",
       "    </tr>\n",
       "    <tr>\n",
       "      <th>2</th>\n",
       "      <td>2</td>\n",
       "      <td>68.0</td>\n",
       "      <td>11250</td>\n",
       "      <td>AllPub</td>\n",
       "      <td>BrkFace</td>\n",
       "      <td>162.0</td>\n",
       "      <td>2Story</td>\n",
       "      <td>GasA</td>\n",
       "      <td>Gd</td>\n",
       "      <td>TA</td>\n",
       "      <td>...</td>\n",
       "      <td>TA</td>\n",
       "      <td>TA</td>\n",
       "      <td>0</td>\n",
       "      <td>42</td>\n",
       "      <td>0</td>\n",
       "      <td>0</td>\n",
       "      <td>0</td>\n",
       "      <td>WD</td>\n",
       "      <td>Normal</td>\n",
       "      <td>223500</td>\n",
       "    </tr>\n",
       "    <tr>\n",
       "      <th>3</th>\n",
       "      <td>3</td>\n",
       "      <td>60.0</td>\n",
       "      <td>9550</td>\n",
       "      <td>AllPub</td>\n",
       "      <td>None</td>\n",
       "      <td>0.0</td>\n",
       "      <td>2Story</td>\n",
       "      <td>GasA</td>\n",
       "      <td>TA</td>\n",
       "      <td>Gd</td>\n",
       "      <td>...</td>\n",
       "      <td>TA</td>\n",
       "      <td>TA</td>\n",
       "      <td>0</td>\n",
       "      <td>35</td>\n",
       "      <td>272</td>\n",
       "      <td>0</td>\n",
       "      <td>0</td>\n",
       "      <td>WD</td>\n",
       "      <td>Abnorml</td>\n",
       "      <td>140000</td>\n",
       "    </tr>\n",
       "    <tr>\n",
       "      <th>4</th>\n",
       "      <td>4</td>\n",
       "      <td>84.0</td>\n",
       "      <td>14260</td>\n",
       "      <td>AllPub</td>\n",
       "      <td>BrkFace</td>\n",
       "      <td>350.0</td>\n",
       "      <td>2Story</td>\n",
       "      <td>GasA</td>\n",
       "      <td>Gd</td>\n",
       "      <td>TA</td>\n",
       "      <td>...</td>\n",
       "      <td>TA</td>\n",
       "      <td>TA</td>\n",
       "      <td>192</td>\n",
       "      <td>84</td>\n",
       "      <td>0</td>\n",
       "      <td>0</td>\n",
       "      <td>0</td>\n",
       "      <td>WD</td>\n",
       "      <td>Normal</td>\n",
       "      <td>250000</td>\n",
       "    </tr>\n",
       "  </tbody>\n",
       "</table>\n",
       "<p>5 rows × 33 columns</p>\n",
       "</div>"
      ],
      "text/plain": [
       "   Unnamed: 0  LotFrontage  LotArea Utilities MasVnrType  MasVnrArea  \\\n",
       "0           0         65.0     8450    AllPub    BrkFace       196.0   \n",
       "1           1         80.0     9600    AllPub       None         0.0   \n",
       "2           2         68.0    11250    AllPub    BrkFace       162.0   \n",
       "3           3         60.0     9550    AllPub       None         0.0   \n",
       "4           4         84.0    14260    AllPub    BrkFace       350.0   \n",
       "\n",
       "  HouseStyle Heating BsmtQual BsmtCond    ...    GarageQual GarageCond  \\\n",
       "0     2Story    GasA       Gd       TA    ...            TA         TA   \n",
       "1     1Story    GasA       Gd       TA    ...            TA         TA   \n",
       "2     2Story    GasA       Gd       TA    ...            TA         TA   \n",
       "3     2Story    GasA       TA       Gd    ...            TA         TA   \n",
       "4     2Story    GasA       Gd       TA    ...            TA         TA   \n",
       "\n",
       "   WoodDeckSF OpenPorchSF  EnclosedPorch 3SsnPorch  ScreenPorch  SaleType  \\\n",
       "0           0          61              0         0            0        WD   \n",
       "1         298           0              0         0            0        WD   \n",
       "2           0          42              0         0            0        WD   \n",
       "3           0          35            272         0            0        WD   \n",
       "4         192          84              0         0            0        WD   \n",
       "\n",
       "   SaleCondition SalePrice  \n",
       "0         Normal    208500  \n",
       "1         Normal    181500  \n",
       "2         Normal    223500  \n",
       "3        Abnorml    140000  \n",
       "4         Normal    250000  \n",
       "\n",
       "[5 rows x 33 columns]"
      ]
     },
     "execution_count": 8,
     "metadata": {},
     "output_type": "execute_result"
    }
   ],
   "source": [
    "# Cek kembali data\n",
    "\n",
    "data.head()"
   ]
  },
  {
   "cell_type": "markdown",
   "metadata": {},
   "source": [
    "### Make function to import and drop \n",
    "\n",
    "Buat lah sebuah function dengan spesifikasi:\n",
    "\n",
    " 1. import data\n",
    " 2. cek JUMLAH OBSERVASI dan JUMLAH COLUMN\n",
    " 3. drop duplicate\n",
    " 4. drop unnecassary column\n",
    " 5. cek JUMLAH OBSERVASI dan JUMLAH COLUMN, setelah di-drop\n",
    " 6. return data setelah di-drop\n",
    "\n",
    "Function dinamakan dengan `import_data` dan menerima 2 argument yaitu:\n",
    "\n",
    " 1. `filename`: Direktori dimana data tersimpan\n",
    " 2. `drop`    : Nama kolom yang ingin di hapus\n",
    " \n",
    "Lalu assign function tersebut pada suatu variabel yang dengan nama `data`"
   ]
  },
  {
   "cell_type": "code",
   "execution_count": 9,
   "metadata": {
    "collapsed": true
   },
   "outputs": [],
   "source": [
    "# Buatlah function \n",
    "\n",
    "def import_data(filename, drop):\n",
    "    data = pd.read_csv(filename)\n",
    "    print(\"Data asli : %d Observasi, %d Kolom.\" %data.shape, '\\n')   \n",
    "    print(\"Kolom yang di drop :\", drop, '\\n')\n",
    "    data_drop = data.drop(drop, axis=1)\n",
    "    print(\"Banyaknya data duplicate :\", data_drop.duplicated().sum(), '\\n')\n",
    "    data_unique = data_drop.drop_duplicates()\n",
    "    print(\"Data setelah di drop : %d Observasi, %d Kolom.\" %data_unique.shape)\n",
    "     \n",
    "    return data_unique"
   ]
  },
  {
   "cell_type": "code",
   "execution_count": 10,
   "metadata": {
    "collapsed": false
   },
   "outputs": [
    {
     "data": {
      "text/plain": [
       "Index(['Unnamed: 0', 'LotFrontage', 'LotArea', 'Utilities', 'MasVnrType',\n",
       "       'MasVnrArea', 'HouseStyle', 'Heating', 'BsmtQual', 'BsmtCond',\n",
       "       'BsmtExposure', 'BsmtFinType1', 'BsmtFinSF1', 'BsmtFinType2',\n",
       "       'BsmtFinSF2', 'Electrical', '1stFlrSF', '2ndFlrSF', 'Fireplaces',\n",
       "       'GarageType', 'GarageFinish', 'GarageCars', 'GarageArea', 'GarageQual',\n",
       "       'GarageCond', 'WoodDeckSF', 'OpenPorchSF', 'EnclosedPorch', '3SsnPorch',\n",
       "       'ScreenPorch', 'SaleType', 'SaleCondition', 'SalePrice'],\n",
       "      dtype='object')"
      ]
     },
     "execution_count": 10,
     "metadata": {},
     "output_type": "execute_result"
    }
   ],
   "source": [
    "data.columns"
   ]
  },
  {
   "cell_type": "code",
   "execution_count": 11,
   "metadata": {
    "collapsed": false
   },
   "outputs": [
    {
     "name": "stdout",
     "output_type": "stream",
     "text": [
      "Data asli : 1460 Observasi, 33 Kolom. \n",
      "\n",
      "Kolom yang di drop : ['Unnamed: 0', 'Heating', 'Utilities', 'BsmtCond', 'BsmtFinType2', 'Electrical', 'GarageQual', 'GarageCond', 'BsmtFinSF2', 'EnclosedPorch', '3SsnPorch', 'ScreenPorch'] \n",
      "\n",
      "Banyaknya data duplicate : 1 \n",
      "\n",
      "Data setelah di drop : 1459 Observasi, 21 Kolom.\n"
     ]
    }
   ],
   "source": [
    "# Assign fuction kepada variabel data\n",
    "\n",
    "drop = ['Unnamed: 0', 'Heating', 'Utilities', \n",
    "        'BsmtCond', 'BsmtFinType2', 'Electrical', \n",
    "        'GarageQual', 'GarageCond', 'BsmtFinSF2', \n",
    "        'EnclosedPorch', '3SsnPorch', 'ScreenPorch']\n",
    "\n",
    "data = import_data(filename = '../dataset/train.csv', drop = drop)"
   ]
  },
  {
   "cell_type": "code",
   "execution_count": 12,
   "metadata": {
    "collapsed": false
   },
   "outputs": [
    {
     "data": {
      "text/plain": [
       "Index(['LotFrontage', 'LotArea', 'MasVnrType', 'MasVnrArea', 'HouseStyle',\n",
       "       'BsmtQual', 'BsmtExposure', 'BsmtFinType1', 'BsmtFinSF1', '1stFlrSF',\n",
       "       '2ndFlrSF', 'Fireplaces', 'GarageType', 'GarageFinish', 'GarageCars',\n",
       "       'GarageArea', 'WoodDeckSF', 'OpenPorchSF', 'SaleType', 'SaleCondition',\n",
       "       'SalePrice'],\n",
       "      dtype='object')"
      ]
     },
     "execution_count": 12,
     "metadata": {},
     "output_type": "execute_result"
    }
   ],
   "source": [
    "data.columns"
   ]
  },
  {
   "cell_type": "markdown",
   "metadata": {},
   "source": [
    "## 2. Data Preprocessing\n",
    "### Input-Output Split\n",
    "\n",
    "Disini kita akan memisahkan kolom berdasarkan input dan output.\n",
    "\n",
    "Data yang digunakan untuk input akan dinamakan dengan `X`, sedangkan untuk output dengan `y`.\n",
    "\n",
    "Pada dataset ini, kita hanya perlu menggunakan kolom `SalePrice` sebagai output kita. "
   ]
  },
  {
   "cell_type": "code",
   "execution_count": 13,
   "metadata": {
    "collapsed": false
   },
   "outputs": [
    {
     "data": {
      "text/html": [
       "<div>\n",
       "<table border=\"1\" class=\"dataframe\">\n",
       "  <thead>\n",
       "    <tr style=\"text-align: right;\">\n",
       "      <th></th>\n",
       "      <th>LotFrontage</th>\n",
       "      <th>LotArea</th>\n",
       "      <th>MasVnrType</th>\n",
       "      <th>MasVnrArea</th>\n",
       "      <th>HouseStyle</th>\n",
       "      <th>BsmtQual</th>\n",
       "      <th>BsmtExposure</th>\n",
       "      <th>BsmtFinType1</th>\n",
       "      <th>BsmtFinSF1</th>\n",
       "      <th>1stFlrSF</th>\n",
       "      <th>...</th>\n",
       "      <th>Fireplaces</th>\n",
       "      <th>GarageType</th>\n",
       "      <th>GarageFinish</th>\n",
       "      <th>GarageCars</th>\n",
       "      <th>GarageArea</th>\n",
       "      <th>WoodDeckSF</th>\n",
       "      <th>OpenPorchSF</th>\n",
       "      <th>SaleType</th>\n",
       "      <th>SaleCondition</th>\n",
       "      <th>SalePrice</th>\n",
       "    </tr>\n",
       "  </thead>\n",
       "  <tbody>\n",
       "    <tr>\n",
       "      <th>0</th>\n",
       "      <td>65.0</td>\n",
       "      <td>8450</td>\n",
       "      <td>BrkFace</td>\n",
       "      <td>196.0</td>\n",
       "      <td>2Story</td>\n",
       "      <td>Gd</td>\n",
       "      <td>No</td>\n",
       "      <td>GLQ</td>\n",
       "      <td>706</td>\n",
       "      <td>856</td>\n",
       "      <td>...</td>\n",
       "      <td>0</td>\n",
       "      <td>Attchd</td>\n",
       "      <td>RFn</td>\n",
       "      <td>2</td>\n",
       "      <td>548</td>\n",
       "      <td>0</td>\n",
       "      <td>61</td>\n",
       "      <td>WD</td>\n",
       "      <td>Normal</td>\n",
       "      <td>208500</td>\n",
       "    </tr>\n",
       "    <tr>\n",
       "      <th>1</th>\n",
       "      <td>80.0</td>\n",
       "      <td>9600</td>\n",
       "      <td>None</td>\n",
       "      <td>0.0</td>\n",
       "      <td>1Story</td>\n",
       "      <td>Gd</td>\n",
       "      <td>Gd</td>\n",
       "      <td>ALQ</td>\n",
       "      <td>978</td>\n",
       "      <td>1262</td>\n",
       "      <td>...</td>\n",
       "      <td>1</td>\n",
       "      <td>Attchd</td>\n",
       "      <td>RFn</td>\n",
       "      <td>2</td>\n",
       "      <td>460</td>\n",
       "      <td>298</td>\n",
       "      <td>0</td>\n",
       "      <td>WD</td>\n",
       "      <td>Normal</td>\n",
       "      <td>181500</td>\n",
       "    </tr>\n",
       "    <tr>\n",
       "      <th>2</th>\n",
       "      <td>68.0</td>\n",
       "      <td>11250</td>\n",
       "      <td>BrkFace</td>\n",
       "      <td>162.0</td>\n",
       "      <td>2Story</td>\n",
       "      <td>Gd</td>\n",
       "      <td>Mn</td>\n",
       "      <td>GLQ</td>\n",
       "      <td>486</td>\n",
       "      <td>920</td>\n",
       "      <td>...</td>\n",
       "      <td>1</td>\n",
       "      <td>Attchd</td>\n",
       "      <td>RFn</td>\n",
       "      <td>2</td>\n",
       "      <td>608</td>\n",
       "      <td>0</td>\n",
       "      <td>42</td>\n",
       "      <td>WD</td>\n",
       "      <td>Normal</td>\n",
       "      <td>223500</td>\n",
       "    </tr>\n",
       "    <tr>\n",
       "      <th>3</th>\n",
       "      <td>60.0</td>\n",
       "      <td>9550</td>\n",
       "      <td>None</td>\n",
       "      <td>0.0</td>\n",
       "      <td>2Story</td>\n",
       "      <td>TA</td>\n",
       "      <td>No</td>\n",
       "      <td>ALQ</td>\n",
       "      <td>216</td>\n",
       "      <td>961</td>\n",
       "      <td>...</td>\n",
       "      <td>1</td>\n",
       "      <td>Detchd</td>\n",
       "      <td>Unf</td>\n",
       "      <td>3</td>\n",
       "      <td>642</td>\n",
       "      <td>0</td>\n",
       "      <td>35</td>\n",
       "      <td>WD</td>\n",
       "      <td>Abnorml</td>\n",
       "      <td>140000</td>\n",
       "    </tr>\n",
       "    <tr>\n",
       "      <th>4</th>\n",
       "      <td>84.0</td>\n",
       "      <td>14260</td>\n",
       "      <td>BrkFace</td>\n",
       "      <td>350.0</td>\n",
       "      <td>2Story</td>\n",
       "      <td>Gd</td>\n",
       "      <td>Av</td>\n",
       "      <td>GLQ</td>\n",
       "      <td>655</td>\n",
       "      <td>1145</td>\n",
       "      <td>...</td>\n",
       "      <td>1</td>\n",
       "      <td>Attchd</td>\n",
       "      <td>RFn</td>\n",
       "      <td>3</td>\n",
       "      <td>836</td>\n",
       "      <td>192</td>\n",
       "      <td>84</td>\n",
       "      <td>WD</td>\n",
       "      <td>Normal</td>\n",
       "      <td>250000</td>\n",
       "    </tr>\n",
       "  </tbody>\n",
       "</table>\n",
       "<p>5 rows × 21 columns</p>\n",
       "</div>"
      ],
      "text/plain": [
       "   LotFrontage  LotArea MasVnrType  MasVnrArea HouseStyle BsmtQual  \\\n",
       "0         65.0     8450    BrkFace       196.0     2Story       Gd   \n",
       "1         80.0     9600       None         0.0     1Story       Gd   \n",
       "2         68.0    11250    BrkFace       162.0     2Story       Gd   \n",
       "3         60.0     9550       None         0.0     2Story       TA   \n",
       "4         84.0    14260    BrkFace       350.0     2Story       Gd   \n",
       "\n",
       "  BsmtExposure BsmtFinType1  BsmtFinSF1  1stFlrSF    ...     Fireplaces  \\\n",
       "0           No          GLQ         706       856    ...              0   \n",
       "1           Gd          ALQ         978      1262    ...              1   \n",
       "2           Mn          GLQ         486       920    ...              1   \n",
       "3           No          ALQ         216       961    ...              1   \n",
       "4           Av          GLQ         655      1145    ...              1   \n",
       "\n",
       "   GarageType GarageFinish GarageCars  GarageArea  WoodDeckSF  OpenPorchSF  \\\n",
       "0      Attchd          RFn          2         548           0           61   \n",
       "1      Attchd          RFn          2         460         298            0   \n",
       "2      Attchd          RFn          2         608           0           42   \n",
       "3      Detchd          Unf          3         642           0           35   \n",
       "4      Attchd          RFn          3         836         192           84   \n",
       "\n",
       "   SaleType SaleCondition SalePrice  \n",
       "0        WD        Normal    208500  \n",
       "1        WD        Normal    181500  \n",
       "2        WD        Normal    223500  \n",
       "3        WD       Abnorml    140000  \n",
       "4        WD        Normal    250000  \n",
       "\n",
       "[5 rows x 21 columns]"
      ]
     },
     "execution_count": 13,
     "metadata": {},
     "output_type": "execute_result"
    }
   ],
   "source": [
    "# Cek data menggunakan head()\n",
    "\n",
    "data.head()"
   ]
  },
  {
   "cell_type": "markdown",
   "metadata": {},
   "source": [
    "### Make function for input and output\n",
    "\n",
    "Buatlah sebuah function dengan kriteria dibawah ini:\n",
    "\n",
    "1. data_input\n",
    "2. data_output\n",
    "3. return data_input dan data_output\n",
    "* Tujuan dari pembuatan function adalah agar function ini dapat digunakan kembali di cases berbeda. \n",
    "\n",
    "Function dinamakan dengan `extract_input_output` dan menerima 2 argument yaitu:\n",
    "\n",
    "1. `data`        : Dataset yang ingin di split\n",
    "2. `column_name` : Nama kolom yang ingin di jadikan output\n"
   ]
  },
  {
   "cell_type": "code",
   "execution_count": 14,
   "metadata": {
    "collapsed": false
   },
   "outputs": [],
   "source": [
    "# Buatlah function tersebut disini\n",
    "\n",
    "def extract_input_output(data, column_name):\n",
    "    data_input = data.drop(column_name, axis=1)\n",
    "    data_output = data[column_name]\n",
    "    \n",
    "    return data_input, data_output\n",
    "\n",
    "# Assign hasil dari funtion tersebut kepada X, y.\n",
    "# X: data input\n",
    "# y: data output\n",
    "\n",
    "x, y = extract_input_output(data = data, column_name = 'SalePrice')"
   ]
  },
  {
   "cell_type": "code",
   "execution_count": 15,
   "metadata": {
    "collapsed": false
   },
   "outputs": [
    {
     "data": {
      "text/plain": [
       "Index(['LotFrontage', 'LotArea', 'MasVnrType', 'MasVnrArea', 'HouseStyle',\n",
       "       'BsmtQual', 'BsmtExposure', 'BsmtFinType1', 'BsmtFinSF1', '1stFlrSF',\n",
       "       '2ndFlrSF', 'Fireplaces', 'GarageType', 'GarageFinish', 'GarageCars',\n",
       "       'GarageArea', 'WoodDeckSF', 'OpenPorchSF', 'SaleType', 'SaleCondition'],\n",
       "      dtype='object')"
      ]
     },
     "execution_count": 15,
     "metadata": {},
     "output_type": "execute_result"
    }
   ],
   "source": [
    "x.columns"
   ]
  },
  {
   "cell_type": "markdown",
   "metadata": {},
   "source": [
    "## Train and Test Split\n",
    "\n",
    "Pada bagian ini, X dan y akan dibagi menjadi 2 set yaitu training dan tes. Kita akan menggunakan function dari library Scikit Learn yaitu `train_test_split`."
   ]
  },
  {
   "cell_type": "code",
   "execution_count": 16,
   "metadata": {
    "collapsed": true
   },
   "outputs": [],
   "source": [
    "# import function train_test_split dari library Scikit Learn\n",
    "\n",
    "from sklearn.model_selection import train_test_split"
   ]
  },
  {
   "cell_type": "markdown",
   "metadata": {},
   "source": [
    "#### Train Test Split Function\n",
    "1. x adalah input\n",
    "2. y adalah output\n",
    "3. test size = seberapa besar test, contoh 0.20 untuk 20% test dari data\n",
    "4. random state adalah kunci untuk random, harus disetting sama, misal random_state = 123\n",
    "5. Output: \n",
    "    * x_train = input dari data training\n",
    "    * x_test = input dari data test\n",
    "    * y_train = output dari training data\n",
    "    * y_test = output dari training data\n",
    "6. urutan dari x_train, x_test, y_train dan y_test tidak boleh terbalik"
   ]
  },
  {
   "cell_type": "code",
   "execution_count": 17,
   "metadata": {
    "collapsed": true
   },
   "outputs": [],
   "source": [
    "# Split dataset\n",
    "\n",
    "x_train, x_test, y_train, y_test = train_test_split(x, y, test_size = 0.20, random_state = 123)"
   ]
  },
  {
   "cell_type": "code",
   "execution_count": 18,
   "metadata": {
    "collapsed": false
   },
   "outputs": [
    {
     "name": "stdout",
     "output_type": "stream",
     "text": [
      "Data input training : (1167, 20)\n",
      "Data input test : (292, 20)\n",
      "Data output training : (1167,)\n",
      "Data output test : (292,)\n"
     ]
    }
   ],
   "source": [
    "# Cek shape untuk tiap set (X_train, X_test, y_train, y_test)\n",
    "\n",
    "print(\"Data input training :\", x_train.shape)\n",
    "print(\"Data input test :\", x_test.shape)\n",
    "print(\"Data output training :\", y_train.shape)\n",
    "print(\"Data output test :\", y_test.shape)"
   ]
  },
  {
   "cell_type": "code",
   "execution_count": 19,
   "metadata": {
    "collapsed": false
   },
   "outputs": [
    {
     "data": {
      "text/plain": [
       "Index(['LotFrontage', 'LotArea', 'MasVnrType', 'MasVnrArea', 'HouseStyle',\n",
       "       'BsmtQual', 'BsmtExposure', 'BsmtFinType1', 'BsmtFinSF1', '1stFlrSF',\n",
       "       '2ndFlrSF', 'Fireplaces', 'GarageType', 'GarageFinish', 'GarageCars',\n",
       "       'GarageArea', 'WoodDeckSF', 'OpenPorchSF', 'SaleType', 'SaleCondition'],\n",
       "      dtype='object')"
      ]
     },
     "execution_count": 19,
     "metadata": {},
     "output_type": "execute_result"
    }
   ],
   "source": [
    "x_train.columns"
   ]
  },
  {
   "cell_type": "markdown",
   "metadata": {},
   "source": [
    "## Separating Numerical and Categorical Data Manually"
   ]
  },
  {
   "cell_type": "markdown",
   "metadata": {},
   "source": [
    "## Getting Numerical"
   ]
  },
  {
   "cell_type": "code",
   "execution_count": 20,
   "metadata": {
    "collapsed": true
   },
   "outputs": [],
   "source": [
    "# get numeric using ._get_numeric_data()\n",
    "\n",
    "x_train_num = x_train._get_numeric_data()"
   ]
  },
  {
   "cell_type": "code",
   "execution_count": 21,
   "metadata": {
    "collapsed": false
   },
   "outputs": [
    {
     "data": {
      "text/plain": [
       "Index(['LotFrontage', 'LotArea', 'MasVnrArea', 'BsmtFinSF1', '1stFlrSF',\n",
       "       '2ndFlrSF', 'Fireplaces', 'GarageCars', 'GarageArea', 'WoodDeckSF',\n",
       "       'OpenPorchSF'],\n",
       "      dtype='object')"
      ]
     },
     "execution_count": 21,
     "metadata": {},
     "output_type": "execute_result"
    }
   ],
   "source": [
    "# check the columns\n",
    "\n",
    "x_train_num.columns"
   ]
  },
  {
   "cell_type": "code",
   "execution_count": 22,
   "metadata": {
    "collapsed": false
   },
   "outputs": [
    {
     "data": {
      "text/html": [
       "<div>\n",
       "<table border=\"1\" class=\"dataframe\">\n",
       "  <thead>\n",
       "    <tr style=\"text-align: right;\">\n",
       "      <th></th>\n",
       "      <th>LotFrontage</th>\n",
       "      <th>LotArea</th>\n",
       "      <th>MasVnrArea</th>\n",
       "      <th>BsmtFinSF1</th>\n",
       "      <th>1stFlrSF</th>\n",
       "      <th>2ndFlrSF</th>\n",
       "      <th>Fireplaces</th>\n",
       "      <th>GarageCars</th>\n",
       "      <th>GarageArea</th>\n",
       "      <th>WoodDeckSF</th>\n",
       "      <th>OpenPorchSF</th>\n",
       "    </tr>\n",
       "  </thead>\n",
       "  <tbody>\n",
       "    <tr>\n",
       "      <th>319</th>\n",
       "      <td>NaN</td>\n",
       "      <td>14115</td>\n",
       "      <td>225.0</td>\n",
       "      <td>1036</td>\n",
       "      <td>1472</td>\n",
       "      <td>0</td>\n",
       "      <td>2</td>\n",
       "      <td>2</td>\n",
       "      <td>588</td>\n",
       "      <td>233</td>\n",
       "      <td>48</td>\n",
       "    </tr>\n",
       "    <tr>\n",
       "      <th>581</th>\n",
       "      <td>98.0</td>\n",
       "      <td>12704</td>\n",
       "      <td>306.0</td>\n",
       "      <td>0</td>\n",
       "      <td>2042</td>\n",
       "      <td>0</td>\n",
       "      <td>1</td>\n",
       "      <td>3</td>\n",
       "      <td>1390</td>\n",
       "      <td>0</td>\n",
       "      <td>90</td>\n",
       "    </tr>\n",
       "    <tr>\n",
       "      <th>962</th>\n",
       "      <td>24.0</td>\n",
       "      <td>2308</td>\n",
       "      <td>0.0</td>\n",
       "      <td>556</td>\n",
       "      <td>804</td>\n",
       "      <td>744</td>\n",
       "      <td>1</td>\n",
       "      <td>2</td>\n",
       "      <td>440</td>\n",
       "      <td>48</td>\n",
       "      <td>0</td>\n",
       "    </tr>\n",
       "    <tr>\n",
       "      <th>78</th>\n",
       "      <td>72.0</td>\n",
       "      <td>10778</td>\n",
       "      <td>0.0</td>\n",
       "      <td>0</td>\n",
       "      <td>1768</td>\n",
       "      <td>0</td>\n",
       "      <td>0</td>\n",
       "      <td>0</td>\n",
       "      <td>0</td>\n",
       "      <td>0</td>\n",
       "      <td>0</td>\n",
       "    </tr>\n",
       "    <tr>\n",
       "      <th>5</th>\n",
       "      <td>85.0</td>\n",
       "      <td>14115</td>\n",
       "      <td>0.0</td>\n",
       "      <td>732</td>\n",
       "      <td>796</td>\n",
       "      <td>566</td>\n",
       "      <td>0</td>\n",
       "      <td>2</td>\n",
       "      <td>480</td>\n",
       "      <td>40</td>\n",
       "      <td>30</td>\n",
       "    </tr>\n",
       "  </tbody>\n",
       "</table>\n",
       "</div>"
      ],
      "text/plain": [
       "     LotFrontage  LotArea  MasVnrArea  BsmtFinSF1  1stFlrSF  2ndFlrSF  \\\n",
       "319          NaN    14115       225.0        1036      1472         0   \n",
       "581         98.0    12704       306.0           0      2042         0   \n",
       "962         24.0     2308         0.0         556       804       744   \n",
       "78          72.0    10778         0.0           0      1768         0   \n",
       "5           85.0    14115         0.0         732       796       566   \n",
       "\n",
       "     Fireplaces  GarageCars  GarageArea  WoodDeckSF  OpenPorchSF  \n",
       "319           2           2         588         233           48  \n",
       "581           1           3        1390           0           90  \n",
       "962           1           2         440          48            0  \n",
       "78            0           0           0           0            0  \n",
       "5             0           2         480          40           30  "
      ]
     },
     "execution_count": 22,
     "metadata": {},
     "output_type": "execute_result"
    }
   ],
   "source": [
    "x_train_num.head()"
   ]
  },
  {
   "cell_type": "code",
   "execution_count": 23,
   "metadata": {
    "collapsed": false,
    "scrolled": true
   },
   "outputs": [],
   "source": [
    "# drop unexpected numerical column if any\n",
    "\n",
    "num_categorical = ['Fireplaces', 'GarageCars']\n",
    "x_train_num = x_train_num.drop(num_categorical, axis = 1)\n",
    "numeric = x_train_num.columns"
   ]
  },
  {
   "cell_type": "code",
   "execution_count": 24,
   "metadata": {
    "collapsed": false
   },
   "outputs": [
    {
     "data": {
      "text/plain": [
       "Index(['LotFrontage', 'LotArea', 'MasVnrArea', 'BsmtFinSF1', '1stFlrSF',\n",
       "       '2ndFlrSF', 'GarageArea', 'WoodDeckSF', 'OpenPorchSF'],\n",
       "      dtype='object')"
      ]
     },
     "execution_count": 24,
     "metadata": {},
     "output_type": "execute_result"
    }
   ],
   "source": [
    "numeric"
   ]
  },
  {
   "cell_type": "code",
   "execution_count": 25,
   "metadata": {
    "collapsed": false
   },
   "outputs": [
    {
     "data": {
      "text/html": [
       "<div>\n",
       "<table border=\"1\" class=\"dataframe\">\n",
       "  <thead>\n",
       "    <tr style=\"text-align: right;\">\n",
       "      <th></th>\n",
       "      <th>LotFrontage</th>\n",
       "      <th>LotArea</th>\n",
       "      <th>MasVnrArea</th>\n",
       "      <th>BsmtFinSF1</th>\n",
       "      <th>1stFlrSF</th>\n",
       "      <th>2ndFlrSF</th>\n",
       "      <th>GarageArea</th>\n",
       "      <th>WoodDeckSF</th>\n",
       "      <th>OpenPorchSF</th>\n",
       "    </tr>\n",
       "  </thead>\n",
       "  <tbody>\n",
       "    <tr>\n",
       "      <th>319</th>\n",
       "      <td>NaN</td>\n",
       "      <td>14115</td>\n",
       "      <td>225.0</td>\n",
       "      <td>1036</td>\n",
       "      <td>1472</td>\n",
       "      <td>0</td>\n",
       "      <td>588</td>\n",
       "      <td>233</td>\n",
       "      <td>48</td>\n",
       "    </tr>\n",
       "    <tr>\n",
       "      <th>581</th>\n",
       "      <td>98.0</td>\n",
       "      <td>12704</td>\n",
       "      <td>306.0</td>\n",
       "      <td>0</td>\n",
       "      <td>2042</td>\n",
       "      <td>0</td>\n",
       "      <td>1390</td>\n",
       "      <td>0</td>\n",
       "      <td>90</td>\n",
       "    </tr>\n",
       "    <tr>\n",
       "      <th>962</th>\n",
       "      <td>24.0</td>\n",
       "      <td>2308</td>\n",
       "      <td>0.0</td>\n",
       "      <td>556</td>\n",
       "      <td>804</td>\n",
       "      <td>744</td>\n",
       "      <td>440</td>\n",
       "      <td>48</td>\n",
       "      <td>0</td>\n",
       "    </tr>\n",
       "    <tr>\n",
       "      <th>78</th>\n",
       "      <td>72.0</td>\n",
       "      <td>10778</td>\n",
       "      <td>0.0</td>\n",
       "      <td>0</td>\n",
       "      <td>1768</td>\n",
       "      <td>0</td>\n",
       "      <td>0</td>\n",
       "      <td>0</td>\n",
       "      <td>0</td>\n",
       "    </tr>\n",
       "    <tr>\n",
       "      <th>5</th>\n",
       "      <td>85.0</td>\n",
       "      <td>14115</td>\n",
       "      <td>0.0</td>\n",
       "      <td>732</td>\n",
       "      <td>796</td>\n",
       "      <td>566</td>\n",
       "      <td>480</td>\n",
       "      <td>40</td>\n",
       "      <td>30</td>\n",
       "    </tr>\n",
       "  </tbody>\n",
       "</table>\n",
       "</div>"
      ],
      "text/plain": [
       "     LotFrontage  LotArea  MasVnrArea  BsmtFinSF1  1stFlrSF  2ndFlrSF  \\\n",
       "319          NaN    14115       225.0        1036      1472         0   \n",
       "581         98.0    12704       306.0           0      2042         0   \n",
       "962         24.0     2308         0.0         556       804       744   \n",
       "78          72.0    10778         0.0           0      1768         0   \n",
       "5           85.0    14115         0.0         732       796       566   \n",
       "\n",
       "     GarageArea  WoodDeckSF  OpenPorchSF  \n",
       "319         588         233           48  \n",
       "581        1390           0           90  \n",
       "962         440          48            0  \n",
       "78            0           0            0  \n",
       "5           480          40           30  "
      ]
     },
     "execution_count": 25,
     "metadata": {},
     "output_type": "execute_result"
    }
   ],
   "source": [
    "x_train_num.head()"
   ]
  },
  {
   "cell_type": "markdown",
   "metadata": {},
   "source": [
    "## Getting Categorical\n"
   ]
  },
  {
   "cell_type": "code",
   "execution_count": 26,
   "metadata": {
    "collapsed": false
   },
   "outputs": [],
   "source": [
    "# Get Categorical\n",
    "\n",
    "output = ['SalePrice']\n",
    "categories = [x for x in data.columns if x not in x_train_num.columns and x not in output]\n",
    "\n",
    "x_train_cat = x_train[categories] # define the categorical columns from x_train dataset"
   ]
  },
  {
   "cell_type": "code",
   "execution_count": 27,
   "metadata": {
    "collapsed": false
   },
   "outputs": [
    {
     "data": {
      "text/plain": [
       "Index(['MasVnrType', 'HouseStyle', 'BsmtQual', 'BsmtExposure', 'BsmtFinType1',\n",
       "       'Fireplaces', 'GarageType', 'GarageFinish', 'GarageCars', 'SaleType',\n",
       "       'SaleCondition'],\n",
       "      dtype='object')"
      ]
     },
     "execution_count": 27,
     "metadata": {},
     "output_type": "execute_result"
    }
   ],
   "source": [
    "x_train_cat.columns"
   ]
  },
  {
   "cell_type": "code",
   "execution_count": 28,
   "metadata": {
    "collapsed": false
   },
   "outputs": [
    {
     "data": {
      "text/html": [
       "<div>\n",
       "<table border=\"1\" class=\"dataframe\">\n",
       "  <thead>\n",
       "    <tr style=\"text-align: right;\">\n",
       "      <th></th>\n",
       "      <th>MasVnrType</th>\n",
       "      <th>HouseStyle</th>\n",
       "      <th>BsmtQual</th>\n",
       "      <th>BsmtExposure</th>\n",
       "      <th>BsmtFinType1</th>\n",
       "      <th>Fireplaces</th>\n",
       "      <th>GarageType</th>\n",
       "      <th>GarageFinish</th>\n",
       "      <th>GarageCars</th>\n",
       "      <th>SaleType</th>\n",
       "      <th>SaleCondition</th>\n",
       "    </tr>\n",
       "  </thead>\n",
       "  <tbody>\n",
       "    <tr>\n",
       "      <th>319</th>\n",
       "      <td>BrkFace</td>\n",
       "      <td>SLvl</td>\n",
       "      <td>Gd</td>\n",
       "      <td>Av</td>\n",
       "      <td>GLQ</td>\n",
       "      <td>2</td>\n",
       "      <td>Attchd</td>\n",
       "      <td>Unf</td>\n",
       "      <td>2</td>\n",
       "      <td>WD</td>\n",
       "      <td>Normal</td>\n",
       "    </tr>\n",
       "    <tr>\n",
       "      <th>581</th>\n",
       "      <td>BrkFace</td>\n",
       "      <td>1Story</td>\n",
       "      <td>Ex</td>\n",
       "      <td>No</td>\n",
       "      <td>Unf</td>\n",
       "      <td>1</td>\n",
       "      <td>Attchd</td>\n",
       "      <td>RFn</td>\n",
       "      <td>3</td>\n",
       "      <td>New</td>\n",
       "      <td>Partial</td>\n",
       "    </tr>\n",
       "    <tr>\n",
       "      <th>962</th>\n",
       "      <td>None</td>\n",
       "      <td>2Story</td>\n",
       "      <td>Gd</td>\n",
       "      <td>No</td>\n",
       "      <td>ALQ</td>\n",
       "      <td>1</td>\n",
       "      <td>Detchd</td>\n",
       "      <td>Unf</td>\n",
       "      <td>2</td>\n",
       "      <td>WD</td>\n",
       "      <td>Normal</td>\n",
       "    </tr>\n",
       "    <tr>\n",
       "      <th>78</th>\n",
       "      <td>None</td>\n",
       "      <td>1Story</td>\n",
       "      <td>TA</td>\n",
       "      <td>No</td>\n",
       "      <td>Unf</td>\n",
       "      <td>0</td>\n",
       "      <td>NaN</td>\n",
       "      <td>NaN</td>\n",
       "      <td>0</td>\n",
       "      <td>WD</td>\n",
       "      <td>Normal</td>\n",
       "    </tr>\n",
       "    <tr>\n",
       "      <th>5</th>\n",
       "      <td>None</td>\n",
       "      <td>1.5Fin</td>\n",
       "      <td>Gd</td>\n",
       "      <td>No</td>\n",
       "      <td>GLQ</td>\n",
       "      <td>0</td>\n",
       "      <td>Attchd</td>\n",
       "      <td>Unf</td>\n",
       "      <td>2</td>\n",
       "      <td>WD</td>\n",
       "      <td>Normal</td>\n",
       "    </tr>\n",
       "  </tbody>\n",
       "</table>\n",
       "</div>"
      ],
      "text/plain": [
       "    MasVnrType HouseStyle BsmtQual BsmtExposure BsmtFinType1  Fireplaces  \\\n",
       "319    BrkFace       SLvl       Gd           Av          GLQ           2   \n",
       "581    BrkFace     1Story       Ex           No          Unf           1   \n",
       "962       None     2Story       Gd           No          ALQ           1   \n",
       "78        None     1Story       TA           No          Unf           0   \n",
       "5         None     1.5Fin       Gd           No          GLQ           0   \n",
       "\n",
       "    GarageType GarageFinish  GarageCars SaleType SaleCondition  \n",
       "319     Attchd          Unf           2       WD        Normal  \n",
       "581     Attchd          RFn           3      New       Partial  \n",
       "962     Detchd          Unf           2       WD        Normal  \n",
       "78         NaN          NaN           0       WD        Normal  \n",
       "5       Attchd          Unf           2       WD        Normal  "
      ]
     },
     "execution_count": 28,
     "metadata": {},
     "output_type": "execute_result"
    }
   ],
   "source": [
    "# check the top observations!\n",
    "\n",
    "x_train_cat.head()"
   ]
  },
  {
   "cell_type": "markdown",
   "metadata": {},
   "source": [
    "### Make a function for Separating Numerical and Categorical"
   ]
  },
  {
   "cell_type": "code",
   "execution_count": 29,
   "metadata": {
    "collapsed": true
   },
   "outputs": [],
   "source": [
    "# Def a function that returns x_train numerical and x_train categorical\n",
    "\n",
    "def categorical_numerical_separation(data_all, data_input, num_categorical, output):\n",
    "    numerical = data_input._get_numeric_data()\n",
    "    numerical_data = numerical.drop(num_categorical, axis=1)\n",
    "    \n",
    "    categories = [x for x in data_all.columns if x not in numerical_data.columns and x not in output]\n",
    "    categorical_data = data_input[categories]\n",
    "    \n",
    "    return numerical_data, categorical_data\n",
    "\n",
    "x_train_num, x_train_cat = categorical_numerical_separation(data_all = data, data_input = x_train,\n",
    "                                                           num_categorical = ['Fireplaces', 'GarageCars'],\n",
    "                                                           output = ['SalePrice'])"
   ]
  },
  {
   "cell_type": "code",
   "execution_count": 30,
   "metadata": {
    "collapsed": false
   },
   "outputs": [
    {
     "data": {
      "text/html": [
       "<div>\n",
       "<table border=\"1\" class=\"dataframe\">\n",
       "  <thead>\n",
       "    <tr style=\"text-align: right;\">\n",
       "      <th></th>\n",
       "      <th>LotFrontage</th>\n",
       "      <th>LotArea</th>\n",
       "      <th>MasVnrArea</th>\n",
       "      <th>BsmtFinSF1</th>\n",
       "      <th>1stFlrSF</th>\n",
       "      <th>2ndFlrSF</th>\n",
       "      <th>GarageArea</th>\n",
       "      <th>WoodDeckSF</th>\n",
       "      <th>OpenPorchSF</th>\n",
       "    </tr>\n",
       "  </thead>\n",
       "  <tbody>\n",
       "    <tr>\n",
       "      <th>319</th>\n",
       "      <td>NaN</td>\n",
       "      <td>14115</td>\n",
       "      <td>225.0</td>\n",
       "      <td>1036</td>\n",
       "      <td>1472</td>\n",
       "      <td>0</td>\n",
       "      <td>588</td>\n",
       "      <td>233</td>\n",
       "      <td>48</td>\n",
       "    </tr>\n",
       "    <tr>\n",
       "      <th>581</th>\n",
       "      <td>98.0</td>\n",
       "      <td>12704</td>\n",
       "      <td>306.0</td>\n",
       "      <td>0</td>\n",
       "      <td>2042</td>\n",
       "      <td>0</td>\n",
       "      <td>1390</td>\n",
       "      <td>0</td>\n",
       "      <td>90</td>\n",
       "    </tr>\n",
       "    <tr>\n",
       "      <th>962</th>\n",
       "      <td>24.0</td>\n",
       "      <td>2308</td>\n",
       "      <td>0.0</td>\n",
       "      <td>556</td>\n",
       "      <td>804</td>\n",
       "      <td>744</td>\n",
       "      <td>440</td>\n",
       "      <td>48</td>\n",
       "      <td>0</td>\n",
       "    </tr>\n",
       "    <tr>\n",
       "      <th>78</th>\n",
       "      <td>72.0</td>\n",
       "      <td>10778</td>\n",
       "      <td>0.0</td>\n",
       "      <td>0</td>\n",
       "      <td>1768</td>\n",
       "      <td>0</td>\n",
       "      <td>0</td>\n",
       "      <td>0</td>\n",
       "      <td>0</td>\n",
       "    </tr>\n",
       "    <tr>\n",
       "      <th>5</th>\n",
       "      <td>85.0</td>\n",
       "      <td>14115</td>\n",
       "      <td>0.0</td>\n",
       "      <td>732</td>\n",
       "      <td>796</td>\n",
       "      <td>566</td>\n",
       "      <td>480</td>\n",
       "      <td>40</td>\n",
       "      <td>30</td>\n",
       "    </tr>\n",
       "  </tbody>\n",
       "</table>\n",
       "</div>"
      ],
      "text/plain": [
       "     LotFrontage  LotArea  MasVnrArea  BsmtFinSF1  1stFlrSF  2ndFlrSF  \\\n",
       "319          NaN    14115       225.0        1036      1472         0   \n",
       "581         98.0    12704       306.0           0      2042         0   \n",
       "962         24.0     2308         0.0         556       804       744   \n",
       "78          72.0    10778         0.0           0      1768         0   \n",
       "5           85.0    14115         0.0         732       796       566   \n",
       "\n",
       "     GarageArea  WoodDeckSF  OpenPorchSF  \n",
       "319         588         233           48  \n",
       "581        1390           0           90  \n",
       "962         440          48            0  \n",
       "78            0           0            0  \n",
       "5           480          40           30  "
      ]
     },
     "execution_count": 30,
     "metadata": {},
     "output_type": "execute_result"
    }
   ],
   "source": [
    "# check the top of the x_train numerical observations!\n",
    "\n",
    "x_train_num.head()"
   ]
  },
  {
   "cell_type": "code",
   "execution_count": 31,
   "metadata": {
    "collapsed": false
   },
   "outputs": [
    {
     "data": {
      "text/html": [
       "<div>\n",
       "<table border=\"1\" class=\"dataframe\">\n",
       "  <thead>\n",
       "    <tr style=\"text-align: right;\">\n",
       "      <th></th>\n",
       "      <th>MasVnrType</th>\n",
       "      <th>HouseStyle</th>\n",
       "      <th>BsmtQual</th>\n",
       "      <th>BsmtExposure</th>\n",
       "      <th>BsmtFinType1</th>\n",
       "      <th>Fireplaces</th>\n",
       "      <th>GarageType</th>\n",
       "      <th>GarageFinish</th>\n",
       "      <th>GarageCars</th>\n",
       "      <th>SaleType</th>\n",
       "      <th>SaleCondition</th>\n",
       "    </tr>\n",
       "  </thead>\n",
       "  <tbody>\n",
       "    <tr>\n",
       "      <th>319</th>\n",
       "      <td>BrkFace</td>\n",
       "      <td>SLvl</td>\n",
       "      <td>Gd</td>\n",
       "      <td>Av</td>\n",
       "      <td>GLQ</td>\n",
       "      <td>2</td>\n",
       "      <td>Attchd</td>\n",
       "      <td>Unf</td>\n",
       "      <td>2</td>\n",
       "      <td>WD</td>\n",
       "      <td>Normal</td>\n",
       "    </tr>\n",
       "    <tr>\n",
       "      <th>581</th>\n",
       "      <td>BrkFace</td>\n",
       "      <td>1Story</td>\n",
       "      <td>Ex</td>\n",
       "      <td>No</td>\n",
       "      <td>Unf</td>\n",
       "      <td>1</td>\n",
       "      <td>Attchd</td>\n",
       "      <td>RFn</td>\n",
       "      <td>3</td>\n",
       "      <td>New</td>\n",
       "      <td>Partial</td>\n",
       "    </tr>\n",
       "    <tr>\n",
       "      <th>962</th>\n",
       "      <td>None</td>\n",
       "      <td>2Story</td>\n",
       "      <td>Gd</td>\n",
       "      <td>No</td>\n",
       "      <td>ALQ</td>\n",
       "      <td>1</td>\n",
       "      <td>Detchd</td>\n",
       "      <td>Unf</td>\n",
       "      <td>2</td>\n",
       "      <td>WD</td>\n",
       "      <td>Normal</td>\n",
       "    </tr>\n",
       "    <tr>\n",
       "      <th>78</th>\n",
       "      <td>None</td>\n",
       "      <td>1Story</td>\n",
       "      <td>TA</td>\n",
       "      <td>No</td>\n",
       "      <td>Unf</td>\n",
       "      <td>0</td>\n",
       "      <td>NaN</td>\n",
       "      <td>NaN</td>\n",
       "      <td>0</td>\n",
       "      <td>WD</td>\n",
       "      <td>Normal</td>\n",
       "    </tr>\n",
       "    <tr>\n",
       "      <th>5</th>\n",
       "      <td>None</td>\n",
       "      <td>1.5Fin</td>\n",
       "      <td>Gd</td>\n",
       "      <td>No</td>\n",
       "      <td>GLQ</td>\n",
       "      <td>0</td>\n",
       "      <td>Attchd</td>\n",
       "      <td>Unf</td>\n",
       "      <td>2</td>\n",
       "      <td>WD</td>\n",
       "      <td>Normal</td>\n",
       "    </tr>\n",
       "  </tbody>\n",
       "</table>\n",
       "</div>"
      ],
      "text/plain": [
       "    MasVnrType HouseStyle BsmtQual BsmtExposure BsmtFinType1  Fireplaces  \\\n",
       "319    BrkFace       SLvl       Gd           Av          GLQ           2   \n",
       "581    BrkFace     1Story       Ex           No          Unf           1   \n",
       "962       None     2Story       Gd           No          ALQ           1   \n",
       "78        None     1Story       TA           No          Unf           0   \n",
       "5         None     1.5Fin       Gd           No          GLQ           0   \n",
       "\n",
       "    GarageType GarageFinish  GarageCars SaleType SaleCondition  \n",
       "319     Attchd          Unf           2       WD        Normal  \n",
       "581     Attchd          RFn           3      New       Partial  \n",
       "962     Detchd          Unf           2       WD        Normal  \n",
       "78         NaN          NaN           0       WD        Normal  \n",
       "5       Attchd          Unf           2       WD        Normal  "
      ]
     },
     "execution_count": 31,
     "metadata": {},
     "output_type": "execute_result"
    }
   ],
   "source": [
    "# check the top of the x_train categorical observations!\n",
    "\n",
    "x_train_cat.head()"
   ]
  },
  {
   "cell_type": "markdown",
   "metadata": {},
   "source": [
    "## Data Imputation"
   ]
  },
  {
   "cell_type": "markdown",
   "metadata": {},
   "source": [
    "Data imputation adalah proses pengisian data yang memiliki data yang kosong, biasanya diperlihatkan sebagai NaN\n",
    "\n",
    "Proses tersebut terbagi menjadi 2:\n",
    "* Numerical Imputation\n",
    "* Categorical Imputation"
   ]
  },
  {
   "cell_type": "code",
   "execution_count": 32,
   "metadata": {
    "collapsed": false
   },
   "outputs": [
    {
     "data": {
      "text/plain": [
       "LotFrontage      218\n",
       "LotArea            0\n",
       "MasVnrType         5\n",
       "MasVnrArea         5\n",
       "HouseStyle         0\n",
       "BsmtQual          30\n",
       "BsmtExposure      31\n",
       "BsmtFinType1      30\n",
       "BsmtFinSF1         0\n",
       "1stFlrSF           0\n",
       "2ndFlrSF           0\n",
       "Fireplaces         0\n",
       "GarageType        60\n",
       "GarageFinish      60\n",
       "GarageCars         0\n",
       "GarageArea         0\n",
       "WoodDeckSF         0\n",
       "OpenPorchSF        0\n",
       "SaleType           0\n",
       "SaleCondition      0\n",
       "dtype: int64"
      ]
     },
     "execution_count": 32,
     "metadata": {},
     "output_type": "execute_result"
    }
   ],
   "source": [
    "# Cek data yang kosong di traininig set input\n",
    "\n",
    "x_train.isnull().sum()"
   ]
  },
  {
   "cell_type": "markdown",
   "metadata": {},
   "source": [
    "## Numerical Data Imputation"
   ]
  },
  {
   "cell_type": "markdown",
   "metadata": {},
   "source": [
    "### Checking for NaN (Not A Number)"
   ]
  },
  {
   "cell_type": "code",
   "execution_count": 33,
   "metadata": {
    "collapsed": false
   },
   "outputs": [
    {
     "data": {
      "text/plain": [
       "LotFrontage    218\n",
       "LotArea          0\n",
       "MasVnrArea       5\n",
       "BsmtFinSF1       0\n",
       "1stFlrSF         0\n",
       "2ndFlrSF         0\n",
       "GarageArea       0\n",
       "WoodDeckSF       0\n",
       "OpenPorchSF      0\n",
       "dtype: int64"
      ]
     },
     "execution_count": 33,
     "metadata": {},
     "output_type": "execute_result"
    }
   ],
   "source": [
    "# check the missing value of the x_train_num\n",
    "\n",
    "x_train_num.isnull().sum()"
   ]
  },
  {
   "cell_type": "code",
   "execution_count": 34,
   "metadata": {
    "collapsed": true
   },
   "outputs": [],
   "source": [
    "# Import library for imputation\n",
    "\n",
    "from sklearn.preprocessing import Imputer"
   ]
  },
  {
   "cell_type": "code",
   "execution_count": 35,
   "metadata": {
    "collapsed": true
   },
   "outputs": [],
   "source": [
    "# namakan function Imputer menjadi imput, jangan lupa tanda kurung ()\n",
    "# missing_values adalah tanda missing values dalam data, bisa NaN, bisa 9999, bisa \"KOSONG\"\n",
    "# strategy median adalah stragegy imputasi, jika data kosong, maka data diganti dengan median\n",
    "# strategy bisa diganti dengan mean atau rata-rata\n",
    "# see median: https://en.wikipedia.org/wiki/Median\n",
    "\n",
    "imput = Imputer(missing_values='NaN', strategy='median')"
   ]
  },
  {
   "cell_type": "markdown",
   "metadata": {},
   "source": [
    "* fit: imputer agar mengetahui mean atau median  dari setiap column\n",
    "* transform: isi data dengan median atau mean\n",
    "* output dari transform berupda pd dataframe\n",
    "* namakan column dari x_train_numerical_imputed sesuai dengan x_train_numerical.\n",
    "     - MENGAPA? karena kita kehilangan nama column setelah data imputation\n",
    "* beri index dari x_train_numerical_imputed sesuai dengan x_train_numerical.\n",
    "     - MENGAPA? karena kita kehilangan index setelah data imputation"
   ]
  },
  {
   "cell_type": "code",
   "execution_count": 36,
   "metadata": {
    "collapsed": true
   },
   "outputs": [],
   "source": [
    "# isi perintah yang akan dibuat di dalam fungsi baru\n",
    "# imputer perlu difitting ke data \n",
    "\n",
    "imput.fit(x_train_num)\n",
    "x_train_num_imputed = pd.DataFrame(imput.transform(x_train_num))\n",
    "x_train_num_imputed.columns = x_train_num.columns\n",
    "x_train_num_imputed.index =  x_train_num.index"
   ]
  },
  {
   "cell_type": "code",
   "execution_count": 37,
   "metadata": {
    "collapsed": false
   },
   "outputs": [
    {
     "data": {
      "text/html": [
       "<div>\n",
       "<table border=\"1\" class=\"dataframe\">\n",
       "  <thead>\n",
       "    <tr style=\"text-align: right;\">\n",
       "      <th></th>\n",
       "      <th>LotFrontage</th>\n",
       "      <th>LotArea</th>\n",
       "      <th>MasVnrArea</th>\n",
       "      <th>BsmtFinSF1</th>\n",
       "      <th>1stFlrSF</th>\n",
       "      <th>2ndFlrSF</th>\n",
       "      <th>GarageArea</th>\n",
       "      <th>WoodDeckSF</th>\n",
       "      <th>OpenPorchSF</th>\n",
       "    </tr>\n",
       "  </thead>\n",
       "  <tbody>\n",
       "    <tr>\n",
       "      <th>319</th>\n",
       "      <td>70.0</td>\n",
       "      <td>14115.0</td>\n",
       "      <td>225.0</td>\n",
       "      <td>1036.0</td>\n",
       "      <td>1472.0</td>\n",
       "      <td>0.0</td>\n",
       "      <td>588.0</td>\n",
       "      <td>233.0</td>\n",
       "      <td>48.0</td>\n",
       "    </tr>\n",
       "    <tr>\n",
       "      <th>581</th>\n",
       "      <td>98.0</td>\n",
       "      <td>12704.0</td>\n",
       "      <td>306.0</td>\n",
       "      <td>0.0</td>\n",
       "      <td>2042.0</td>\n",
       "      <td>0.0</td>\n",
       "      <td>1390.0</td>\n",
       "      <td>0.0</td>\n",
       "      <td>90.0</td>\n",
       "    </tr>\n",
       "    <tr>\n",
       "      <th>962</th>\n",
       "      <td>24.0</td>\n",
       "      <td>2308.0</td>\n",
       "      <td>0.0</td>\n",
       "      <td>556.0</td>\n",
       "      <td>804.0</td>\n",
       "      <td>744.0</td>\n",
       "      <td>440.0</td>\n",
       "      <td>48.0</td>\n",
       "      <td>0.0</td>\n",
       "    </tr>\n",
       "    <tr>\n",
       "      <th>78</th>\n",
       "      <td>72.0</td>\n",
       "      <td>10778.0</td>\n",
       "      <td>0.0</td>\n",
       "      <td>0.0</td>\n",
       "      <td>1768.0</td>\n",
       "      <td>0.0</td>\n",
       "      <td>0.0</td>\n",
       "      <td>0.0</td>\n",
       "      <td>0.0</td>\n",
       "    </tr>\n",
       "    <tr>\n",
       "      <th>5</th>\n",
       "      <td>85.0</td>\n",
       "      <td>14115.0</td>\n",
       "      <td>0.0</td>\n",
       "      <td>732.0</td>\n",
       "      <td>796.0</td>\n",
       "      <td>566.0</td>\n",
       "      <td>480.0</td>\n",
       "      <td>40.0</td>\n",
       "      <td>30.0</td>\n",
       "    </tr>\n",
       "  </tbody>\n",
       "</table>\n",
       "</div>"
      ],
      "text/plain": [
       "     LotFrontage  LotArea  MasVnrArea  BsmtFinSF1  1stFlrSF  2ndFlrSF  \\\n",
       "319         70.0  14115.0       225.0      1036.0    1472.0       0.0   \n",
       "581         98.0  12704.0       306.0         0.0    2042.0       0.0   \n",
       "962         24.0   2308.0         0.0       556.0     804.0     744.0   \n",
       "78          72.0  10778.0         0.0         0.0    1768.0       0.0   \n",
       "5           85.0  14115.0         0.0       732.0     796.0     566.0   \n",
       "\n",
       "     GarageArea  WoodDeckSF  OpenPorchSF  \n",
       "319       588.0       233.0         48.0  \n",
       "581      1390.0         0.0         90.0  \n",
       "962       440.0        48.0          0.0  \n",
       "78          0.0         0.0          0.0  \n",
       "5         480.0        40.0         30.0  "
      ]
     },
     "execution_count": 37,
     "metadata": {},
     "output_type": "execute_result"
    }
   ],
   "source": [
    "# cek x_train_num_imputed\n",
    "\n",
    "x_train_num_imputed.head()"
   ]
  },
  {
   "cell_type": "code",
   "execution_count": 38,
   "metadata": {
    "collapsed": false
   },
   "outputs": [
    {
     "data": {
      "text/plain": [
       "LotFrontage    False\n",
       "LotArea        False\n",
       "MasVnrArea     False\n",
       "BsmtFinSF1     False\n",
       "1stFlrSF       False\n",
       "2ndFlrSF       False\n",
       "GarageArea     False\n",
       "WoodDeckSF     False\n",
       "OpenPorchSF    False\n",
       "dtype: bool"
      ]
     },
     "execution_count": 38,
     "metadata": {},
     "output_type": "execute_result"
    }
   ],
   "source": [
    "# cek kembali hasil imputer, apakah missing valuesnya masih ada atau tidak\n",
    "\n",
    "x_train_num_imputed.isnull().any()"
   ]
  },
  {
   "cell_type": "markdown",
   "metadata": {},
   "source": [
    "## Categorical Imputation"
   ]
  },
  {
   "cell_type": "code",
   "execution_count": 39,
   "metadata": {
    "collapsed": false
   },
   "outputs": [
    {
     "data": {
      "text/plain": [
       "MasVnrType        5\n",
       "HouseStyle        0\n",
       "BsmtQual         30\n",
       "BsmtExposure     31\n",
       "BsmtFinType1     30\n",
       "Fireplaces        0\n",
       "GarageType       60\n",
       "GarageFinish     60\n",
       "GarageCars        0\n",
       "SaleType          0\n",
       "SaleCondition     0\n",
       "dtype: int64"
      ]
     },
     "execution_count": 39,
     "metadata": {},
     "output_type": "execute_result"
    }
   ],
   "source": [
    "# check missing values in x_train_cat\n",
    "\n",
    "x_train_cat.isnull().sum()"
   ]
  },
  {
   "cell_type": "code",
   "execution_count": 40,
   "metadata": {
    "collapsed": true
   },
   "outputs": [],
   "source": [
    "# replace missing value with new category =\"KOSONG\"\n",
    "\n",
    "x_train_cat_imputed = x_train_cat.fillna(value='KOSONG')"
   ]
  },
  {
   "cell_type": "code",
   "execution_count": 41,
   "metadata": {
    "collapsed": false
   },
   "outputs": [
    {
     "data": {
      "text/plain": [
       "MasVnrType       False\n",
       "HouseStyle       False\n",
       "BsmtQual         False\n",
       "BsmtExposure     False\n",
       "BsmtFinType1     False\n",
       "Fireplaces       False\n",
       "GarageType       False\n",
       "GarageFinish     False\n",
       "GarageCars       False\n",
       "SaleType         False\n",
       "SaleCondition    False\n",
       "dtype: bool"
      ]
     },
     "execution_count": 41,
     "metadata": {},
     "output_type": "execute_result"
    }
   ],
   "source": [
    "# periksa kembali missing valuesnya\n",
    "\n",
    "x_train_cat_imputed.isnull().any()"
   ]
  },
  {
   "cell_type": "markdown",
   "metadata": {},
   "source": [
    "## Make a Function\n",
    "* Make a function for numerical imputation"
   ]
  },
  {
   "cell_type": "code",
   "execution_count": 42,
   "metadata": {
    "collapsed": true
   },
   "outputs": [],
   "source": [
    "# function definition\n",
    "\n",
    "def fit_imput_num(data, missing_values, strategy):\n",
    "    imput = Imputer(missing_values, strategy)\n",
    "    imput.fit(data)\n",
    "    \n",
    "    return data, imput\n",
    "\n",
    "def transf_imput_num(data, imputer):\n",
    "    data_imputed = pd.DataFrame(imputer.transform(data))\n",
    "    data_imputed.columns = data.columns\n",
    "    data_imputed.index =  data.index    \n",
    "    \n",
    "    return data_imputed"
   ]
  },
  {
   "cell_type": "code",
   "execution_count": 43,
   "metadata": {
    "collapsed": false
   },
   "outputs": [],
   "source": [
    "# return imputed data and imputer\n",
    "\n",
    "x_train_num , imput = fit_imput_num(data=x_train_num, missing_values='NaN', strategy='median')\n",
    "x_train_num_imputed = transf_imput_num(data=x_train_num, imputer=imput)"
   ]
  },
  {
   "cell_type": "code",
   "execution_count": 44,
   "metadata": {
    "collapsed": false
   },
   "outputs": [
    {
     "data": {
      "text/html": [
       "<div>\n",
       "<table border=\"1\" class=\"dataframe\">\n",
       "  <thead>\n",
       "    <tr style=\"text-align: right;\">\n",
       "      <th></th>\n",
       "      <th>LotFrontage</th>\n",
       "      <th>LotArea</th>\n",
       "      <th>MasVnrArea</th>\n",
       "      <th>BsmtFinSF1</th>\n",
       "      <th>1stFlrSF</th>\n",
       "      <th>2ndFlrSF</th>\n",
       "      <th>GarageArea</th>\n",
       "      <th>WoodDeckSF</th>\n",
       "      <th>OpenPorchSF</th>\n",
       "    </tr>\n",
       "  </thead>\n",
       "  <tbody>\n",
       "    <tr>\n",
       "      <th>319</th>\n",
       "      <td>70.0</td>\n",
       "      <td>14115.0</td>\n",
       "      <td>225.0</td>\n",
       "      <td>1036.0</td>\n",
       "      <td>1472.0</td>\n",
       "      <td>0.0</td>\n",
       "      <td>588.0</td>\n",
       "      <td>233.0</td>\n",
       "      <td>48.0</td>\n",
       "    </tr>\n",
       "    <tr>\n",
       "      <th>581</th>\n",
       "      <td>98.0</td>\n",
       "      <td>12704.0</td>\n",
       "      <td>306.0</td>\n",
       "      <td>0.0</td>\n",
       "      <td>2042.0</td>\n",
       "      <td>0.0</td>\n",
       "      <td>1390.0</td>\n",
       "      <td>0.0</td>\n",
       "      <td>90.0</td>\n",
       "    </tr>\n",
       "    <tr>\n",
       "      <th>962</th>\n",
       "      <td>24.0</td>\n",
       "      <td>2308.0</td>\n",
       "      <td>0.0</td>\n",
       "      <td>556.0</td>\n",
       "      <td>804.0</td>\n",
       "      <td>744.0</td>\n",
       "      <td>440.0</td>\n",
       "      <td>48.0</td>\n",
       "      <td>0.0</td>\n",
       "    </tr>\n",
       "    <tr>\n",
       "      <th>78</th>\n",
       "      <td>72.0</td>\n",
       "      <td>10778.0</td>\n",
       "      <td>0.0</td>\n",
       "      <td>0.0</td>\n",
       "      <td>1768.0</td>\n",
       "      <td>0.0</td>\n",
       "      <td>0.0</td>\n",
       "      <td>0.0</td>\n",
       "      <td>0.0</td>\n",
       "    </tr>\n",
       "    <tr>\n",
       "      <th>5</th>\n",
       "      <td>85.0</td>\n",
       "      <td>14115.0</td>\n",
       "      <td>0.0</td>\n",
       "      <td>732.0</td>\n",
       "      <td>796.0</td>\n",
       "      <td>566.0</td>\n",
       "      <td>480.0</td>\n",
       "      <td>40.0</td>\n",
       "      <td>30.0</td>\n",
       "    </tr>\n",
       "  </tbody>\n",
       "</table>\n",
       "</div>"
      ],
      "text/plain": [
       "     LotFrontage  LotArea  MasVnrArea  BsmtFinSF1  1stFlrSF  2ndFlrSF  \\\n",
       "319         70.0  14115.0       225.0      1036.0    1472.0       0.0   \n",
       "581         98.0  12704.0       306.0         0.0    2042.0       0.0   \n",
       "962         24.0   2308.0         0.0       556.0     804.0     744.0   \n",
       "78          72.0  10778.0         0.0         0.0    1768.0       0.0   \n",
       "5           85.0  14115.0         0.0       732.0     796.0     566.0   \n",
       "\n",
       "     GarageArea  WoodDeckSF  OpenPorchSF  \n",
       "319       588.0       233.0         48.0  \n",
       "581      1390.0         0.0         90.0  \n",
       "962       440.0        48.0          0.0  \n",
       "78          0.0         0.0          0.0  \n",
       "5         480.0        40.0         30.0  "
      ]
     },
     "execution_count": 44,
     "metadata": {},
     "output_type": "execute_result"
    }
   ],
   "source": [
    "# check imputed data\n",
    "\n",
    "x_train_num_imputed.head()"
   ]
  },
  {
   "cell_type": "code",
   "execution_count": 45,
   "metadata": {
    "collapsed": false
   },
   "outputs": [
    {
     "data": {
      "text/plain": [
       "['imput.pkl']"
      ]
     },
     "execution_count": 45,
     "metadata": {},
     "output_type": "execute_result"
    }
   ],
   "source": [
    "# dump imputer\n",
    "\n",
    "from sklearn.externals import joblib\n",
    "\n",
    "joblib.dump(imput, 'imput.pkl')"
   ]
  },
  {
   "cell_type": "markdown",
   "metadata": {},
   "source": [
    " * Make a function for categorical imputation"
   ]
  },
  {
   "cell_type": "code",
   "execution_count": 46,
   "metadata": {
    "collapsed": true
   },
   "outputs": [],
   "source": [
    "# function definition\n",
    "\n",
    "def cat_imput(data):\n",
    "    data_imputed = data.fillna(value='KOSONG')\n",
    "    for i in data_imputed.columns:\n",
    "        data_imputed[i] = data_imputed[i].astype('category')\n",
    "    \n",
    "    return data_imputed"
   ]
  },
  {
   "cell_type": "code",
   "execution_count": 47,
   "metadata": {
    "collapsed": false
   },
   "outputs": [],
   "source": [
    "# return imputed data\n",
    "\n",
    "x_train_cat_imputed = cat_imput(x_train_cat)"
   ]
  },
  {
   "cell_type": "code",
   "execution_count": 48,
   "metadata": {
    "collapsed": false
   },
   "outputs": [
    {
     "data": {
      "text/html": [
       "<div>\n",
       "<table border=\"1\" class=\"dataframe\">\n",
       "  <thead>\n",
       "    <tr style=\"text-align: right;\">\n",
       "      <th></th>\n",
       "      <th>MasVnrType</th>\n",
       "      <th>HouseStyle</th>\n",
       "      <th>BsmtQual</th>\n",
       "      <th>BsmtExposure</th>\n",
       "      <th>BsmtFinType1</th>\n",
       "      <th>Fireplaces</th>\n",
       "      <th>GarageType</th>\n",
       "      <th>GarageFinish</th>\n",
       "      <th>GarageCars</th>\n",
       "      <th>SaleType</th>\n",
       "      <th>SaleCondition</th>\n",
       "    </tr>\n",
       "  </thead>\n",
       "  <tbody>\n",
       "    <tr>\n",
       "      <th>319</th>\n",
       "      <td>BrkFace</td>\n",
       "      <td>SLvl</td>\n",
       "      <td>Gd</td>\n",
       "      <td>Av</td>\n",
       "      <td>GLQ</td>\n",
       "      <td>2</td>\n",
       "      <td>Attchd</td>\n",
       "      <td>Unf</td>\n",
       "      <td>2</td>\n",
       "      <td>WD</td>\n",
       "      <td>Normal</td>\n",
       "    </tr>\n",
       "    <tr>\n",
       "      <th>581</th>\n",
       "      <td>BrkFace</td>\n",
       "      <td>1Story</td>\n",
       "      <td>Ex</td>\n",
       "      <td>No</td>\n",
       "      <td>Unf</td>\n",
       "      <td>1</td>\n",
       "      <td>Attchd</td>\n",
       "      <td>RFn</td>\n",
       "      <td>3</td>\n",
       "      <td>New</td>\n",
       "      <td>Partial</td>\n",
       "    </tr>\n",
       "    <tr>\n",
       "      <th>962</th>\n",
       "      <td>None</td>\n",
       "      <td>2Story</td>\n",
       "      <td>Gd</td>\n",
       "      <td>No</td>\n",
       "      <td>ALQ</td>\n",
       "      <td>1</td>\n",
       "      <td>Detchd</td>\n",
       "      <td>Unf</td>\n",
       "      <td>2</td>\n",
       "      <td>WD</td>\n",
       "      <td>Normal</td>\n",
       "    </tr>\n",
       "    <tr>\n",
       "      <th>78</th>\n",
       "      <td>None</td>\n",
       "      <td>1Story</td>\n",
       "      <td>TA</td>\n",
       "      <td>No</td>\n",
       "      <td>Unf</td>\n",
       "      <td>0</td>\n",
       "      <td>KOSONG</td>\n",
       "      <td>KOSONG</td>\n",
       "      <td>0</td>\n",
       "      <td>WD</td>\n",
       "      <td>Normal</td>\n",
       "    </tr>\n",
       "    <tr>\n",
       "      <th>5</th>\n",
       "      <td>None</td>\n",
       "      <td>1.5Fin</td>\n",
       "      <td>Gd</td>\n",
       "      <td>No</td>\n",
       "      <td>GLQ</td>\n",
       "      <td>0</td>\n",
       "      <td>Attchd</td>\n",
       "      <td>Unf</td>\n",
       "      <td>2</td>\n",
       "      <td>WD</td>\n",
       "      <td>Normal</td>\n",
       "    </tr>\n",
       "  </tbody>\n",
       "</table>\n",
       "</div>"
      ],
      "text/plain": [
       "    MasVnrType HouseStyle BsmtQual BsmtExposure BsmtFinType1 Fireplaces  \\\n",
       "319    BrkFace       SLvl       Gd           Av          GLQ          2   \n",
       "581    BrkFace     1Story       Ex           No          Unf          1   \n",
       "962       None     2Story       Gd           No          ALQ          1   \n",
       "78        None     1Story       TA           No          Unf          0   \n",
       "5         None     1.5Fin       Gd           No          GLQ          0   \n",
       "\n",
       "    GarageType GarageFinish GarageCars SaleType SaleCondition  \n",
       "319     Attchd          Unf          2       WD        Normal  \n",
       "581     Attchd          RFn          3      New       Partial  \n",
       "962     Detchd          Unf          2       WD        Normal  \n",
       "78      KOSONG       KOSONG          0       WD        Normal  \n",
       "5       Attchd          Unf          2       WD        Normal  "
      ]
     },
     "execution_count": 48,
     "metadata": {},
     "output_type": "execute_result"
    }
   ],
   "source": [
    "x_train_cat_imputed.head()"
   ]
  },
  {
   "cell_type": "markdown",
   "metadata": {},
   "source": [
    "## Preprocessing Categorical Variables\n",
    "\n",
    "* create dummy variable for each of categorical variable"
   ]
  },
  {
   "cell_type": "code",
   "execution_count": 49,
   "metadata": {
    "collapsed": true
   },
   "outputs": [],
   "source": [
    "# create dummies\n",
    "\n",
    "categorical_dummies = pd.get_dummies(x_train_cat_imputed)"
   ]
  },
  {
   "cell_type": "code",
   "execution_count": 50,
   "metadata": {
    "collapsed": false
   },
   "outputs": [
    {
     "data": {
      "text/html": [
       "<div>\n",
       "<table border=\"1\" class=\"dataframe\">\n",
       "  <thead>\n",
       "    <tr style=\"text-align: right;\">\n",
       "      <th></th>\n",
       "      <th>MasVnrType_BrkCmn</th>\n",
       "      <th>MasVnrType_BrkFace</th>\n",
       "      <th>MasVnrType_KOSONG</th>\n",
       "      <th>MasVnrType_None</th>\n",
       "      <th>MasVnrType_Stone</th>\n",
       "      <th>HouseStyle_1.5Fin</th>\n",
       "      <th>HouseStyle_1.5Unf</th>\n",
       "      <th>HouseStyle_1Story</th>\n",
       "      <th>HouseStyle_2.5Fin</th>\n",
       "      <th>HouseStyle_2.5Unf</th>\n",
       "      <th>...</th>\n",
       "      <th>SaleType_ConLw</th>\n",
       "      <th>SaleType_New</th>\n",
       "      <th>SaleType_Oth</th>\n",
       "      <th>SaleType_WD</th>\n",
       "      <th>SaleCondition_Abnorml</th>\n",
       "      <th>SaleCondition_AdjLand</th>\n",
       "      <th>SaleCondition_Alloca</th>\n",
       "      <th>SaleCondition_Family</th>\n",
       "      <th>SaleCondition_Normal</th>\n",
       "      <th>SaleCondition_Partial</th>\n",
       "    </tr>\n",
       "  </thead>\n",
       "  <tbody>\n",
       "    <tr>\n",
       "      <th>319</th>\n",
       "      <td>0</td>\n",
       "      <td>1</td>\n",
       "      <td>0</td>\n",
       "      <td>0</td>\n",
       "      <td>0</td>\n",
       "      <td>0</td>\n",
       "      <td>0</td>\n",
       "      <td>0</td>\n",
       "      <td>0</td>\n",
       "      <td>0</td>\n",
       "      <td>...</td>\n",
       "      <td>0</td>\n",
       "      <td>0</td>\n",
       "      <td>0</td>\n",
       "      <td>1</td>\n",
       "      <td>0</td>\n",
       "      <td>0</td>\n",
       "      <td>0</td>\n",
       "      <td>0</td>\n",
       "      <td>1</td>\n",
       "      <td>0</td>\n",
       "    </tr>\n",
       "    <tr>\n",
       "      <th>581</th>\n",
       "      <td>0</td>\n",
       "      <td>1</td>\n",
       "      <td>0</td>\n",
       "      <td>0</td>\n",
       "      <td>0</td>\n",
       "      <td>0</td>\n",
       "      <td>0</td>\n",
       "      <td>1</td>\n",
       "      <td>0</td>\n",
       "      <td>0</td>\n",
       "      <td>...</td>\n",
       "      <td>0</td>\n",
       "      <td>1</td>\n",
       "      <td>0</td>\n",
       "      <td>0</td>\n",
       "      <td>0</td>\n",
       "      <td>0</td>\n",
       "      <td>0</td>\n",
       "      <td>0</td>\n",
       "      <td>0</td>\n",
       "      <td>1</td>\n",
       "    </tr>\n",
       "    <tr>\n",
       "      <th>962</th>\n",
       "      <td>0</td>\n",
       "      <td>0</td>\n",
       "      <td>0</td>\n",
       "      <td>1</td>\n",
       "      <td>0</td>\n",
       "      <td>0</td>\n",
       "      <td>0</td>\n",
       "      <td>0</td>\n",
       "      <td>0</td>\n",
       "      <td>0</td>\n",
       "      <td>...</td>\n",
       "      <td>0</td>\n",
       "      <td>0</td>\n",
       "      <td>0</td>\n",
       "      <td>1</td>\n",
       "      <td>0</td>\n",
       "      <td>0</td>\n",
       "      <td>0</td>\n",
       "      <td>0</td>\n",
       "      <td>1</td>\n",
       "      <td>0</td>\n",
       "    </tr>\n",
       "    <tr>\n",
       "      <th>78</th>\n",
       "      <td>0</td>\n",
       "      <td>0</td>\n",
       "      <td>0</td>\n",
       "      <td>1</td>\n",
       "      <td>0</td>\n",
       "      <td>0</td>\n",
       "      <td>0</td>\n",
       "      <td>1</td>\n",
       "      <td>0</td>\n",
       "      <td>0</td>\n",
       "      <td>...</td>\n",
       "      <td>0</td>\n",
       "      <td>0</td>\n",
       "      <td>0</td>\n",
       "      <td>1</td>\n",
       "      <td>0</td>\n",
       "      <td>0</td>\n",
       "      <td>0</td>\n",
       "      <td>0</td>\n",
       "      <td>1</td>\n",
       "      <td>0</td>\n",
       "    </tr>\n",
       "    <tr>\n",
       "      <th>5</th>\n",
       "      <td>0</td>\n",
       "      <td>0</td>\n",
       "      <td>0</td>\n",
       "      <td>1</td>\n",
       "      <td>0</td>\n",
       "      <td>1</td>\n",
       "      <td>0</td>\n",
       "      <td>0</td>\n",
       "      <td>0</td>\n",
       "      <td>0</td>\n",
       "      <td>...</td>\n",
       "      <td>0</td>\n",
       "      <td>0</td>\n",
       "      <td>0</td>\n",
       "      <td>1</td>\n",
       "      <td>0</td>\n",
       "      <td>0</td>\n",
       "      <td>0</td>\n",
       "      <td>0</td>\n",
       "      <td>1</td>\n",
       "      <td>0</td>\n",
       "    </tr>\n",
       "  </tbody>\n",
       "</table>\n",
       "<p>5 rows × 65 columns</p>\n",
       "</div>"
      ],
      "text/plain": [
       "     MasVnrType_BrkCmn  MasVnrType_BrkFace  MasVnrType_KOSONG  \\\n",
       "319                  0                   1                  0   \n",
       "581                  0                   1                  0   \n",
       "962                  0                   0                  0   \n",
       "78                   0                   0                  0   \n",
       "5                    0                   0                  0   \n",
       "\n",
       "     MasVnrType_None  MasVnrType_Stone  HouseStyle_1.5Fin  HouseStyle_1.5Unf  \\\n",
       "319                0                 0                  0                  0   \n",
       "581                0                 0                  0                  0   \n",
       "962                1                 0                  0                  0   \n",
       "78                 1                 0                  0                  0   \n",
       "5                  1                 0                  1                  0   \n",
       "\n",
       "     HouseStyle_1Story  HouseStyle_2.5Fin  HouseStyle_2.5Unf  \\\n",
       "319                  0                  0                  0   \n",
       "581                  1                  0                  0   \n",
       "962                  0                  0                  0   \n",
       "78                   1                  0                  0   \n",
       "5                    0                  0                  0   \n",
       "\n",
       "             ...            SaleType_ConLw  SaleType_New  SaleType_Oth  \\\n",
       "319          ...                         0             0             0   \n",
       "581          ...                         0             1             0   \n",
       "962          ...                         0             0             0   \n",
       "78           ...                         0             0             0   \n",
       "5            ...                         0             0             0   \n",
       "\n",
       "     SaleType_WD  SaleCondition_Abnorml  SaleCondition_AdjLand  \\\n",
       "319            1                      0                      0   \n",
       "581            0                      0                      0   \n",
       "962            1                      0                      0   \n",
       "78             1                      0                      0   \n",
       "5              1                      0                      0   \n",
       "\n",
       "     SaleCondition_Alloca  SaleCondition_Family  SaleCondition_Normal  \\\n",
       "319                     0                     0                     1   \n",
       "581                     0                     0                     0   \n",
       "962                     0                     0                     1   \n",
       "78                      0                     0                     1   \n",
       "5                       0                     0                     1   \n",
       "\n",
       "     SaleCondition_Partial  \n",
       "319                      0  \n",
       "581                      1  \n",
       "962                      0  \n",
       "78                       0  \n",
       "5                        0  \n",
       "\n",
       "[5 rows x 65 columns]"
      ]
     },
     "execution_count": 50,
     "metadata": {},
     "output_type": "execute_result"
    }
   ],
   "source": [
    "# periksa top observations\n",
    "\n",
    "categorical_dummies.head()"
   ]
  },
  {
   "cell_type": "markdown",
   "metadata": {},
   "source": [
    "### Make a function to get the dummies"
   ]
  },
  {
   "cell_type": "code",
   "execution_count": 51,
   "metadata": {
    "collapsed": true
   },
   "outputs": [],
   "source": [
    "# funtion definition\n",
    "\n",
    "from sklearn.preprocessing import LabelEncoder, LabelBinarizer\n",
    "\n",
    "def cat_imput_dummy(data):\n",
    "    data_imputed = data.fillna(\"KOSONG\")\n",
    "    data_imputed_dummy = pd.DataFrame([])\n",
    "    label_encoder = pd.Series([])\n",
    "    label_binarizer = pd.Series([])\n",
    "    \n",
    "    for i in list(data_imputed):\n",
    "        label_en = LabelEncoder()\n",
    "        label_bin = LabelBinarizer()\n",
    "        \n",
    "        encoded = label_en.fit_transform(data_imputed[i])\n",
    "        binary = label_bin.fit_transform(encoded)\n",
    "        \n",
    "        if binary.shape[1] == 1:\n",
    "            dummy = pd.DataFrame(binary, columns = [i], index = data_imputed.index)\n",
    "        else :\n",
    "            dummy = pd.DataFrame(binary, columns = [\"{}_{}\".format(a,b) for b in sorted(data_imputed[i].unique()) for a in [i]], index = data_imputed.index)\n",
    "    \n",
    "        data_imputed_dummy = pd.concat([data_imputed_dummy, dummy], axis=1)\n",
    "        label_encoder[i] = label_en\n",
    "        label_binarizer[i] = label_bin\n",
    "        \n",
    "    return data_imputed_dummy, label_encoder, label_binarizer, data_imputed_dummy.columns"
   ]
  },
  {
   "cell_type": "code",
   "execution_count": 52,
   "metadata": {
    "collapsed": true
   },
   "outputs": [],
   "source": [
    "x_train_cat_imputed_dummy, label_encoder, label_binarizer, dummy_columns = cat_imput_dummy(x_train_cat)"
   ]
  },
  {
   "cell_type": "code",
   "execution_count": 53,
   "metadata": {
    "collapsed": false
   },
   "outputs": [
    {
     "data": {
      "text/plain": [
       "['dummy_columns.pkl']"
      ]
     },
     "execution_count": 53,
     "metadata": {},
     "output_type": "execute_result"
    }
   ],
   "source": [
    "# dump dummy_columns\n",
    "\n",
    "joblib.dump(dummy_columns, 'dummy_columns.pkl')"
   ]
  },
  {
   "cell_type": "code",
   "execution_count": 54,
   "metadata": {
    "collapsed": false
   },
   "outputs": [
    {
     "data": {
      "text/html": [
       "<div>\n",
       "<table border=\"1\" class=\"dataframe\">\n",
       "  <thead>\n",
       "    <tr style=\"text-align: right;\">\n",
       "      <th></th>\n",
       "      <th>MasVnrType_BrkCmn</th>\n",
       "      <th>MasVnrType_BrkFace</th>\n",
       "      <th>MasVnrType_KOSONG</th>\n",
       "      <th>MasVnrType_None</th>\n",
       "      <th>MasVnrType_Stone</th>\n",
       "      <th>HouseStyle_1.5Fin</th>\n",
       "      <th>HouseStyle_1.5Unf</th>\n",
       "      <th>HouseStyle_1Story</th>\n",
       "      <th>HouseStyle_2.5Fin</th>\n",
       "      <th>HouseStyle_2.5Unf</th>\n",
       "      <th>...</th>\n",
       "      <th>SaleType_ConLw</th>\n",
       "      <th>SaleType_New</th>\n",
       "      <th>SaleType_Oth</th>\n",
       "      <th>SaleType_WD</th>\n",
       "      <th>SaleCondition_Abnorml</th>\n",
       "      <th>SaleCondition_AdjLand</th>\n",
       "      <th>SaleCondition_Alloca</th>\n",
       "      <th>SaleCondition_Family</th>\n",
       "      <th>SaleCondition_Normal</th>\n",
       "      <th>SaleCondition_Partial</th>\n",
       "    </tr>\n",
       "  </thead>\n",
       "  <tbody>\n",
       "    <tr>\n",
       "      <th>319</th>\n",
       "      <td>0</td>\n",
       "      <td>1</td>\n",
       "      <td>0</td>\n",
       "      <td>0</td>\n",
       "      <td>0</td>\n",
       "      <td>0</td>\n",
       "      <td>0</td>\n",
       "      <td>0</td>\n",
       "      <td>0</td>\n",
       "      <td>0</td>\n",
       "      <td>...</td>\n",
       "      <td>0</td>\n",
       "      <td>0</td>\n",
       "      <td>0</td>\n",
       "      <td>1</td>\n",
       "      <td>0</td>\n",
       "      <td>0</td>\n",
       "      <td>0</td>\n",
       "      <td>0</td>\n",
       "      <td>1</td>\n",
       "      <td>0</td>\n",
       "    </tr>\n",
       "    <tr>\n",
       "      <th>581</th>\n",
       "      <td>0</td>\n",
       "      <td>1</td>\n",
       "      <td>0</td>\n",
       "      <td>0</td>\n",
       "      <td>0</td>\n",
       "      <td>0</td>\n",
       "      <td>0</td>\n",
       "      <td>1</td>\n",
       "      <td>0</td>\n",
       "      <td>0</td>\n",
       "      <td>...</td>\n",
       "      <td>0</td>\n",
       "      <td>1</td>\n",
       "      <td>0</td>\n",
       "      <td>0</td>\n",
       "      <td>0</td>\n",
       "      <td>0</td>\n",
       "      <td>0</td>\n",
       "      <td>0</td>\n",
       "      <td>0</td>\n",
       "      <td>1</td>\n",
       "    </tr>\n",
       "    <tr>\n",
       "      <th>962</th>\n",
       "      <td>0</td>\n",
       "      <td>0</td>\n",
       "      <td>0</td>\n",
       "      <td>1</td>\n",
       "      <td>0</td>\n",
       "      <td>0</td>\n",
       "      <td>0</td>\n",
       "      <td>0</td>\n",
       "      <td>0</td>\n",
       "      <td>0</td>\n",
       "      <td>...</td>\n",
       "      <td>0</td>\n",
       "      <td>0</td>\n",
       "      <td>0</td>\n",
       "      <td>1</td>\n",
       "      <td>0</td>\n",
       "      <td>0</td>\n",
       "      <td>0</td>\n",
       "      <td>0</td>\n",
       "      <td>1</td>\n",
       "      <td>0</td>\n",
       "    </tr>\n",
       "    <tr>\n",
       "      <th>78</th>\n",
       "      <td>0</td>\n",
       "      <td>0</td>\n",
       "      <td>0</td>\n",
       "      <td>1</td>\n",
       "      <td>0</td>\n",
       "      <td>0</td>\n",
       "      <td>0</td>\n",
       "      <td>1</td>\n",
       "      <td>0</td>\n",
       "      <td>0</td>\n",
       "      <td>...</td>\n",
       "      <td>0</td>\n",
       "      <td>0</td>\n",
       "      <td>0</td>\n",
       "      <td>1</td>\n",
       "      <td>0</td>\n",
       "      <td>0</td>\n",
       "      <td>0</td>\n",
       "      <td>0</td>\n",
       "      <td>1</td>\n",
       "      <td>0</td>\n",
       "    </tr>\n",
       "    <tr>\n",
       "      <th>5</th>\n",
       "      <td>0</td>\n",
       "      <td>0</td>\n",
       "      <td>0</td>\n",
       "      <td>1</td>\n",
       "      <td>0</td>\n",
       "      <td>1</td>\n",
       "      <td>0</td>\n",
       "      <td>0</td>\n",
       "      <td>0</td>\n",
       "      <td>0</td>\n",
       "      <td>...</td>\n",
       "      <td>0</td>\n",
       "      <td>0</td>\n",
       "      <td>0</td>\n",
       "      <td>1</td>\n",
       "      <td>0</td>\n",
       "      <td>0</td>\n",
       "      <td>0</td>\n",
       "      <td>0</td>\n",
       "      <td>1</td>\n",
       "      <td>0</td>\n",
       "    </tr>\n",
       "  </tbody>\n",
       "</table>\n",
       "<p>5 rows × 65 columns</p>\n",
       "</div>"
      ],
      "text/plain": [
       "     MasVnrType_BrkCmn  MasVnrType_BrkFace  MasVnrType_KOSONG  \\\n",
       "319                  0                   1                  0   \n",
       "581                  0                   1                  0   \n",
       "962                  0                   0                  0   \n",
       "78                   0                   0                  0   \n",
       "5                    0                   0                  0   \n",
       "\n",
       "     MasVnrType_None  MasVnrType_Stone  HouseStyle_1.5Fin  HouseStyle_1.5Unf  \\\n",
       "319                0                 0                  0                  0   \n",
       "581                0                 0                  0                  0   \n",
       "962                1                 0                  0                  0   \n",
       "78                 1                 0                  0                  0   \n",
       "5                  1                 0                  1                  0   \n",
       "\n",
       "     HouseStyle_1Story  HouseStyle_2.5Fin  HouseStyle_2.5Unf  \\\n",
       "319                  0                  0                  0   \n",
       "581                  1                  0                  0   \n",
       "962                  0                  0                  0   \n",
       "78                   1                  0                  0   \n",
       "5                    0                  0                  0   \n",
       "\n",
       "             ...            SaleType_ConLw  SaleType_New  SaleType_Oth  \\\n",
       "319          ...                         0             0             0   \n",
       "581          ...                         0             1             0   \n",
       "962          ...                         0             0             0   \n",
       "78           ...                         0             0             0   \n",
       "5            ...                         0             0             0   \n",
       "\n",
       "     SaleType_WD  SaleCondition_Abnorml  SaleCondition_AdjLand  \\\n",
       "319            1                      0                      0   \n",
       "581            0                      0                      0   \n",
       "962            1                      0                      0   \n",
       "78             1                      0                      0   \n",
       "5              1                      0                      0   \n",
       "\n",
       "     SaleCondition_Alloca  SaleCondition_Family  SaleCondition_Normal  \\\n",
       "319                     0                     0                     1   \n",
       "581                     0                     0                     0   \n",
       "962                     0                     0                     1   \n",
       "78                      0                     0                     1   \n",
       "5                       0                     0                     1   \n",
       "\n",
       "     SaleCondition_Partial  \n",
       "319                      0  \n",
       "581                      1  \n",
       "962                      0  \n",
       "78                       0  \n",
       "5                        0  \n",
       "\n",
       "[5 rows x 65 columns]"
      ]
     },
     "execution_count": 54,
     "metadata": {},
     "output_type": "execute_result"
    }
   ],
   "source": [
    "# check the top observations\n",
    "\n",
    "x_train_cat_imputed_dummy.head()"
   ]
  },
  {
   "cell_type": "markdown",
   "metadata": {},
   "source": [
    "## Join data Numerical dan Categorical"
   ]
  },
  {
   "cell_type": "code",
   "execution_count": 55,
   "metadata": {
    "collapsed": false
   },
   "outputs": [],
   "source": [
    "# ambil variabel numerical yang sudah tidak memiliki missing values dan variabel kategori yang sudah menjadi dummy\n",
    "# satukan kembali kolom tersebut menjadi x_train_concat\n",
    "\n",
    "x_train_concat = pd.concat([x_train_num_imputed, x_train_cat_imputed_dummy], axis=1)"
   ]
  },
  {
   "cell_type": "code",
   "execution_count": 56,
   "metadata": {
    "collapsed": false
   },
   "outputs": [
    {
     "data": {
      "text/html": [
       "<div>\n",
       "<table border=\"1\" class=\"dataframe\">\n",
       "  <thead>\n",
       "    <tr style=\"text-align: right;\">\n",
       "      <th></th>\n",
       "      <th>LotFrontage</th>\n",
       "      <th>LotArea</th>\n",
       "      <th>MasVnrArea</th>\n",
       "      <th>BsmtFinSF1</th>\n",
       "      <th>1stFlrSF</th>\n",
       "      <th>2ndFlrSF</th>\n",
       "      <th>GarageArea</th>\n",
       "      <th>WoodDeckSF</th>\n",
       "      <th>OpenPorchSF</th>\n",
       "      <th>MasVnrType_BrkCmn</th>\n",
       "      <th>...</th>\n",
       "      <th>SaleType_ConLw</th>\n",
       "      <th>SaleType_New</th>\n",
       "      <th>SaleType_Oth</th>\n",
       "      <th>SaleType_WD</th>\n",
       "      <th>SaleCondition_Abnorml</th>\n",
       "      <th>SaleCondition_AdjLand</th>\n",
       "      <th>SaleCondition_Alloca</th>\n",
       "      <th>SaleCondition_Family</th>\n",
       "      <th>SaleCondition_Normal</th>\n",
       "      <th>SaleCondition_Partial</th>\n",
       "    </tr>\n",
       "  </thead>\n",
       "  <tbody>\n",
       "    <tr>\n",
       "      <th>319</th>\n",
       "      <td>70.0</td>\n",
       "      <td>14115.0</td>\n",
       "      <td>225.0</td>\n",
       "      <td>1036.0</td>\n",
       "      <td>1472.0</td>\n",
       "      <td>0.0</td>\n",
       "      <td>588.0</td>\n",
       "      <td>233.0</td>\n",
       "      <td>48.0</td>\n",
       "      <td>0</td>\n",
       "      <td>...</td>\n",
       "      <td>0</td>\n",
       "      <td>0</td>\n",
       "      <td>0</td>\n",
       "      <td>1</td>\n",
       "      <td>0</td>\n",
       "      <td>0</td>\n",
       "      <td>0</td>\n",
       "      <td>0</td>\n",
       "      <td>1</td>\n",
       "      <td>0</td>\n",
       "    </tr>\n",
       "    <tr>\n",
       "      <th>581</th>\n",
       "      <td>98.0</td>\n",
       "      <td>12704.0</td>\n",
       "      <td>306.0</td>\n",
       "      <td>0.0</td>\n",
       "      <td>2042.0</td>\n",
       "      <td>0.0</td>\n",
       "      <td>1390.0</td>\n",
       "      <td>0.0</td>\n",
       "      <td>90.0</td>\n",
       "      <td>0</td>\n",
       "      <td>...</td>\n",
       "      <td>0</td>\n",
       "      <td>1</td>\n",
       "      <td>0</td>\n",
       "      <td>0</td>\n",
       "      <td>0</td>\n",
       "      <td>0</td>\n",
       "      <td>0</td>\n",
       "      <td>0</td>\n",
       "      <td>0</td>\n",
       "      <td>1</td>\n",
       "    </tr>\n",
       "    <tr>\n",
       "      <th>962</th>\n",
       "      <td>24.0</td>\n",
       "      <td>2308.0</td>\n",
       "      <td>0.0</td>\n",
       "      <td>556.0</td>\n",
       "      <td>804.0</td>\n",
       "      <td>744.0</td>\n",
       "      <td>440.0</td>\n",
       "      <td>48.0</td>\n",
       "      <td>0.0</td>\n",
       "      <td>0</td>\n",
       "      <td>...</td>\n",
       "      <td>0</td>\n",
       "      <td>0</td>\n",
       "      <td>0</td>\n",
       "      <td>1</td>\n",
       "      <td>0</td>\n",
       "      <td>0</td>\n",
       "      <td>0</td>\n",
       "      <td>0</td>\n",
       "      <td>1</td>\n",
       "      <td>0</td>\n",
       "    </tr>\n",
       "    <tr>\n",
       "      <th>78</th>\n",
       "      <td>72.0</td>\n",
       "      <td>10778.0</td>\n",
       "      <td>0.0</td>\n",
       "      <td>0.0</td>\n",
       "      <td>1768.0</td>\n",
       "      <td>0.0</td>\n",
       "      <td>0.0</td>\n",
       "      <td>0.0</td>\n",
       "      <td>0.0</td>\n",
       "      <td>0</td>\n",
       "      <td>...</td>\n",
       "      <td>0</td>\n",
       "      <td>0</td>\n",
       "      <td>0</td>\n",
       "      <td>1</td>\n",
       "      <td>0</td>\n",
       "      <td>0</td>\n",
       "      <td>0</td>\n",
       "      <td>0</td>\n",
       "      <td>1</td>\n",
       "      <td>0</td>\n",
       "    </tr>\n",
       "    <tr>\n",
       "      <th>5</th>\n",
       "      <td>85.0</td>\n",
       "      <td>14115.0</td>\n",
       "      <td>0.0</td>\n",
       "      <td>732.0</td>\n",
       "      <td>796.0</td>\n",
       "      <td>566.0</td>\n",
       "      <td>480.0</td>\n",
       "      <td>40.0</td>\n",
       "      <td>30.0</td>\n",
       "      <td>0</td>\n",
       "      <td>...</td>\n",
       "      <td>0</td>\n",
       "      <td>0</td>\n",
       "      <td>0</td>\n",
       "      <td>1</td>\n",
       "      <td>0</td>\n",
       "      <td>0</td>\n",
       "      <td>0</td>\n",
       "      <td>0</td>\n",
       "      <td>1</td>\n",
       "      <td>0</td>\n",
       "    </tr>\n",
       "  </tbody>\n",
       "</table>\n",
       "<p>5 rows × 74 columns</p>\n",
       "</div>"
      ],
      "text/plain": [
       "     LotFrontage  LotArea  MasVnrArea  BsmtFinSF1  1stFlrSF  2ndFlrSF  \\\n",
       "319         70.0  14115.0       225.0      1036.0    1472.0       0.0   \n",
       "581         98.0  12704.0       306.0         0.0    2042.0       0.0   \n",
       "962         24.0   2308.0         0.0       556.0     804.0     744.0   \n",
       "78          72.0  10778.0         0.0         0.0    1768.0       0.0   \n",
       "5           85.0  14115.0         0.0       732.0     796.0     566.0   \n",
       "\n",
       "     GarageArea  WoodDeckSF  OpenPorchSF  MasVnrType_BrkCmn  \\\n",
       "319       588.0       233.0         48.0                  0   \n",
       "581      1390.0         0.0         90.0                  0   \n",
       "962       440.0        48.0          0.0                  0   \n",
       "78          0.0         0.0          0.0                  0   \n",
       "5         480.0        40.0         30.0                  0   \n",
       "\n",
       "             ...            SaleType_ConLw  SaleType_New  SaleType_Oth  \\\n",
       "319          ...                         0             0             0   \n",
       "581          ...                         0             1             0   \n",
       "962          ...                         0             0             0   \n",
       "78           ...                         0             0             0   \n",
       "5            ...                         0             0             0   \n",
       "\n",
       "     SaleType_WD  SaleCondition_Abnorml  SaleCondition_AdjLand  \\\n",
       "319            1                      0                      0   \n",
       "581            0                      0                      0   \n",
       "962            1                      0                      0   \n",
       "78             1                      0                      0   \n",
       "5              1                      0                      0   \n",
       "\n",
       "     SaleCondition_Alloca  SaleCondition_Family  SaleCondition_Normal  \\\n",
       "319                     0                     0                     1   \n",
       "581                     0                     0                     0   \n",
       "962                     0                     0                     1   \n",
       "78                      0                     0                     1   \n",
       "5                       0                     0                     1   \n",
       "\n",
       "     SaleCondition_Partial  \n",
       "319                      0  \n",
       "581                      1  \n",
       "962                      0  \n",
       "78                       0  \n",
       "5                        0  \n",
       "\n",
       "[5 rows x 74 columns]"
      ]
     },
     "execution_count": 56,
     "metadata": {},
     "output_type": "execute_result"
    }
   ],
   "source": [
    "x_train_concat.head()"
   ]
  },
  {
   "cell_type": "code",
   "execution_count": 57,
   "metadata": {
    "collapsed": false
   },
   "outputs": [
    {
     "data": {
      "text/plain": [
       "False"
      ]
     },
     "execution_count": 57,
     "metadata": {},
     "output_type": "execute_result"
    }
   ],
   "source": [
    "# Check NaN values\n",
    "\n",
    "x_train_concat.isnull().any().any()"
   ]
  },
  {
   "cell_type": "markdown",
   "metadata": {},
   "source": [
    "## Standardizing Variables\n",
    "\n",
    "- KEGUNAAN: Menyamakan skala dari variable input\n",
    "- fit: imputer agar mengetahui mean standard deviasi dari setiap column\n",
    "- transform: isi data dengan value yang dinormalisasi\n",
    "- output dari transform berupda pd dataframe\n",
    "- normalize dikeluarkan karena akan dipakai di test"
   ]
  },
  {
   "cell_type": "code",
   "execution_count": 58,
   "metadata": {
    "collapsed": true
   },
   "outputs": [],
   "source": [
    "#Import Standard Scaler\n",
    "\n",
    "from sklearn.preprocessing import StandardScaler"
   ]
  },
  {
   "cell_type": "code",
   "execution_count": 59,
   "metadata": {
    "collapsed": false
   },
   "outputs": [],
   "source": [
    "# define function for standardizing data\n",
    "\n",
    "def fit_standardize(data):\n",
    "    standardizer = StandardScaler()\n",
    "    standardizer.fit(data)\n",
    "    \n",
    "    return data, standardizer\n",
    "\n",
    "def transf_standardize(data, standardizer):\n",
    "    data_clean = pd.DataFrame(standardizer.transform(data))\n",
    "    data_clean.columns = data.columns\n",
    "    data_clean.index = data.index\n",
    "    \n",
    "    return data_clean"
   ]
  },
  {
   "cell_type": "code",
   "execution_count": 60,
   "metadata": {
    "collapsed": false
   },
   "outputs": [],
   "source": [
    "# return standardized data and standardizer\n",
    "\n",
    "x_train_concat, standard = fit_standardize(x_train_concat)\n",
    "x_train_clean = transf_standardize(data=x_train_concat, standardizer=standard)"
   ]
  },
  {
   "cell_type": "code",
   "execution_count": 61,
   "metadata": {
    "collapsed": false
   },
   "outputs": [
    {
     "data": {
      "text/plain": [
       "['standard.pkl']"
      ]
     },
     "execution_count": 61,
     "metadata": {},
     "output_type": "execute_result"
    }
   ],
   "source": [
    "# dump standardizer\n",
    "\n",
    "joblib.dump(standard, 'standard.pkl')"
   ]
  },
  {
   "cell_type": "code",
   "execution_count": 62,
   "metadata": {
    "collapsed": false
   },
   "outputs": [
    {
     "data": {
      "text/html": [
       "<div>\n",
       "<table border=\"1\" class=\"dataframe\">\n",
       "  <thead>\n",
       "    <tr style=\"text-align: right;\">\n",
       "      <th></th>\n",
       "      <th>LotFrontage</th>\n",
       "      <th>LotArea</th>\n",
       "      <th>MasVnrArea</th>\n",
       "      <th>BsmtFinSF1</th>\n",
       "      <th>1stFlrSF</th>\n",
       "      <th>2ndFlrSF</th>\n",
       "      <th>GarageArea</th>\n",
       "      <th>WoodDeckSF</th>\n",
       "      <th>OpenPorchSF</th>\n",
       "      <th>MasVnrType_BrkCmn</th>\n",
       "      <th>...</th>\n",
       "      <th>SaleType_ConLw</th>\n",
       "      <th>SaleType_New</th>\n",
       "      <th>SaleType_Oth</th>\n",
       "      <th>SaleType_WD</th>\n",
       "      <th>SaleCondition_Abnorml</th>\n",
       "      <th>SaleCondition_AdjLand</th>\n",
       "      <th>SaleCondition_Alloca</th>\n",
       "      <th>SaleCondition_Family</th>\n",
       "      <th>SaleCondition_Normal</th>\n",
       "      <th>SaleCondition_Partial</th>\n",
       "    </tr>\n",
       "  </thead>\n",
       "  <tbody>\n",
       "    <tr>\n",
       "      <th>319</th>\n",
       "      <td>0.014139</td>\n",
       "      <td>0.337235</td>\n",
       "      <td>0.658344</td>\n",
       "      <td>1.367393</td>\n",
       "      <td>0.806606</td>\n",
       "      <td>-0.788293</td>\n",
       "      <td>0.538128</td>\n",
       "      <td>1.128709</td>\n",
       "      <td>0.010085</td>\n",
       "      <td>-0.106137</td>\n",
       "      <td>...</td>\n",
       "      <td>-0.050767</td>\n",
       "      <td>-0.307810</td>\n",
       "      <td>-0.041434</td>\n",
       "      <td>0.398607</td>\n",
       "      <td>-0.271288</td>\n",
       "      <td>-0.041434</td>\n",
       "      <td>-0.092968</td>\n",
       "      <td>-0.101929</td>\n",
       "      <td>0.465717</td>\n",
       "      <td>-0.312788</td>\n",
       "    </tr>\n",
       "    <tr>\n",
       "      <th>581</th>\n",
       "      <td>1.471619</td>\n",
       "      <td>0.203654</td>\n",
       "      <td>1.101312</td>\n",
       "      <td>-1.016738</td>\n",
       "      <td>2.321884</td>\n",
       "      <td>-0.788293</td>\n",
       "      <td>4.333777</td>\n",
       "      <td>-0.743517</td>\n",
       "      <td>0.639798</td>\n",
       "      <td>-0.106137</td>\n",
       "      <td>...</td>\n",
       "      <td>-0.050767</td>\n",
       "      <td>3.248762</td>\n",
       "      <td>-0.041434</td>\n",
       "      <td>-2.508735</td>\n",
       "      <td>-0.271288</td>\n",
       "      <td>-0.041434</td>\n",
       "      <td>-0.092968</td>\n",
       "      <td>-0.101929</td>\n",
       "      <td>-2.147225</td>\n",
       "      <td>3.197054</td>\n",
       "    </tr>\n",
       "    <tr>\n",
       "      <th>962</th>\n",
       "      <td>-2.380292</td>\n",
       "      <td>-0.780546</td>\n",
       "      <td>-0.572123</td>\n",
       "      <td>0.262776</td>\n",
       "      <td>-0.969194</td>\n",
       "      <td>0.903183</td>\n",
       "      <td>-0.162316</td>\n",
       "      <td>-0.357822</td>\n",
       "      <td>-0.709586</td>\n",
       "      <td>-0.106137</td>\n",
       "      <td>...</td>\n",
       "      <td>-0.050767</td>\n",
       "      <td>-0.307810</td>\n",
       "      <td>-0.041434</td>\n",
       "      <td>0.398607</td>\n",
       "      <td>-0.271288</td>\n",
       "      <td>-0.041434</td>\n",
       "      <td>-0.092968</td>\n",
       "      <td>-0.101929</td>\n",
       "      <td>0.465717</td>\n",
       "      <td>-0.312788</td>\n",
       "    </tr>\n",
       "    <tr>\n",
       "      <th>78</th>\n",
       "      <td>0.118245</td>\n",
       "      <td>0.021318</td>\n",
       "      <td>-0.572123</td>\n",
       "      <td>-1.016738</td>\n",
       "      <td>1.593488</td>\n",
       "      <td>-0.788293</td>\n",
       "      <td>-2.244717</td>\n",
       "      <td>-0.743517</td>\n",
       "      <td>-0.709586</td>\n",
       "      <td>-0.106137</td>\n",
       "      <td>...</td>\n",
       "      <td>-0.050767</td>\n",
       "      <td>-0.307810</td>\n",
       "      <td>-0.041434</td>\n",
       "      <td>0.398607</td>\n",
       "      <td>-0.271288</td>\n",
       "      <td>-0.041434</td>\n",
       "      <td>-0.092968</td>\n",
       "      <td>-0.101929</td>\n",
       "      <td>0.465717</td>\n",
       "      <td>-0.312788</td>\n",
       "    </tr>\n",
       "    <tr>\n",
       "      <th>5</th>\n",
       "      <td>0.794932</td>\n",
       "      <td>0.337235</td>\n",
       "      <td>-0.572123</td>\n",
       "      <td>0.667803</td>\n",
       "      <td>-0.990461</td>\n",
       "      <td>0.498502</td>\n",
       "      <td>0.026993</td>\n",
       "      <td>-0.422105</td>\n",
       "      <td>-0.259791</td>\n",
       "      <td>-0.106137</td>\n",
       "      <td>...</td>\n",
       "      <td>-0.050767</td>\n",
       "      <td>-0.307810</td>\n",
       "      <td>-0.041434</td>\n",
       "      <td>0.398607</td>\n",
       "      <td>-0.271288</td>\n",
       "      <td>-0.041434</td>\n",
       "      <td>-0.092968</td>\n",
       "      <td>-0.101929</td>\n",
       "      <td>0.465717</td>\n",
       "      <td>-0.312788</td>\n",
       "    </tr>\n",
       "  </tbody>\n",
       "</table>\n",
       "<p>5 rows × 74 columns</p>\n",
       "</div>"
      ],
      "text/plain": [
       "     LotFrontage   LotArea  MasVnrArea  BsmtFinSF1  1stFlrSF  2ndFlrSF  \\\n",
       "319     0.014139  0.337235    0.658344    1.367393  0.806606 -0.788293   \n",
       "581     1.471619  0.203654    1.101312   -1.016738  2.321884 -0.788293   \n",
       "962    -2.380292 -0.780546   -0.572123    0.262776 -0.969194  0.903183   \n",
       "78      0.118245  0.021318   -0.572123   -1.016738  1.593488 -0.788293   \n",
       "5       0.794932  0.337235   -0.572123    0.667803 -0.990461  0.498502   \n",
       "\n",
       "     GarageArea  WoodDeckSF  OpenPorchSF  MasVnrType_BrkCmn  \\\n",
       "319    0.538128    1.128709     0.010085          -0.106137   \n",
       "581    4.333777   -0.743517     0.639798          -0.106137   \n",
       "962   -0.162316   -0.357822    -0.709586          -0.106137   \n",
       "78    -2.244717   -0.743517    -0.709586          -0.106137   \n",
       "5      0.026993   -0.422105    -0.259791          -0.106137   \n",
       "\n",
       "             ...            SaleType_ConLw  SaleType_New  SaleType_Oth  \\\n",
       "319          ...                 -0.050767     -0.307810     -0.041434   \n",
       "581          ...                 -0.050767      3.248762     -0.041434   \n",
       "962          ...                 -0.050767     -0.307810     -0.041434   \n",
       "78           ...                 -0.050767     -0.307810     -0.041434   \n",
       "5            ...                 -0.050767     -0.307810     -0.041434   \n",
       "\n",
       "     SaleType_WD  SaleCondition_Abnorml  SaleCondition_AdjLand  \\\n",
       "319     0.398607              -0.271288              -0.041434   \n",
       "581    -2.508735              -0.271288              -0.041434   \n",
       "962     0.398607              -0.271288              -0.041434   \n",
       "78      0.398607              -0.271288              -0.041434   \n",
       "5       0.398607              -0.271288              -0.041434   \n",
       "\n",
       "     SaleCondition_Alloca  SaleCondition_Family  SaleCondition_Normal  \\\n",
       "319             -0.092968             -0.101929              0.465717   \n",
       "581             -0.092968             -0.101929             -2.147225   \n",
       "962             -0.092968             -0.101929              0.465717   \n",
       "78              -0.092968             -0.101929              0.465717   \n",
       "5               -0.092968             -0.101929              0.465717   \n",
       "\n",
       "     SaleCondition_Partial  \n",
       "319              -0.312788  \n",
       "581               3.197054  \n",
       "962              -0.312788  \n",
       "78               -0.312788  \n",
       "5                -0.312788  \n",
       "\n",
       "[5 rows x 74 columns]"
      ]
     },
     "execution_count": 62,
     "metadata": {},
     "output_type": "execute_result"
    }
   ],
   "source": [
    "# check data\n",
    "\n",
    "x_train_clean.head()"
   ]
  },
  {
   "cell_type": "markdown",
   "metadata": {},
   "source": [
    "## 3. Training Machine Learning\n",
    "\n",
    "* Kita harus mengalahkan benchmark\n",
    "* Choose Score to optimize and Hyperparameter Space\n",
    "* Cross-Validation: Random Search CV \n"
   ]
  },
  {
   "cell_type": "markdown",
   "metadata": {},
   "source": [
    "### Benchmark:"
   ]
  },
  {
   "cell_type": "code",
   "execution_count": 63,
   "metadata": {
    "collapsed": false
   },
   "outputs": [
    {
     "data": {
      "text/plain": [
       "181531.51071122536"
      ]
     },
     "execution_count": 63,
     "metadata": {},
     "output_type": "execute_result"
    }
   ],
   "source": [
    "# Pada kasus regresi, benchmark diambil dari MSE terhadap nilai mean\n",
    "\n",
    "# Hitung nilai mean dengan :\n",
    "y_train.mean()"
   ]
  },
  {
   "cell_type": "code",
   "execution_count": 64,
   "metadata": {
    "collapsed": false
   },
   "outputs": [
    {
     "name": "stdout",
     "output_type": "stream",
     "text": [
      "6388738000.26\n"
     ]
    }
   ],
   "source": [
    "# Hitung MSE terhadap nilai mean\n",
    "\n",
    "square_error = 0\n",
    "for i in y_train:\n",
    "    square_error += (i-y_train.mean())**2\n",
    "mse = square_error/len(y_train)\n",
    "print(mse)"
   ]
  },
  {
   "cell_type": "code",
   "execution_count": 65,
   "metadata": {
    "collapsed": true
   },
   "outputs": [],
   "source": [
    "# Import regressor : LinearRegression, Lasso, dan Ridge\n",
    "\n",
    "from sklearn.linear_model import LinearRegression, Lasso, Ridge\n",
    "\n",
    "linreg = LinearRegression()\n",
    "lasso = Lasso()\n",
    "ridge = Ridge()"
   ]
  },
  {
   "cell_type": "code",
   "execution_count": 66,
   "metadata": {
    "collapsed": false
   },
   "outputs": [
    {
     "name": "stderr",
     "output_type": "stream",
     "text": [
      "C:\\Anaconda3\\lib\\site-packages\\sklearn\\linear_model\\coordinate_descent.py:484: ConvergenceWarning: Objective did not converge. You might want to increase the number of iterations. Fitting data with very small alpha may cause precision problems.\n",
      "  ConvergenceWarning)\n"
     ]
    },
    {
     "data": {
      "text/plain": [
       "Ridge(alpha=1.0, copy_X=True, fit_intercept=True, max_iter=None,\n",
       "   normalize=False, random_state=None, solver='auto', tol=0.001)"
      ]
     },
     "execution_count": 66,
     "metadata": {},
     "output_type": "execute_result"
    }
   ],
   "source": [
    "# fitting model\n",
    "\n",
    "linreg.fit(x_train_clean, y_train)\n",
    "lasso.fit(x_train_clean, y_train)\n",
    "ridge.fit(x_train_clean, y_train)"
   ]
  },
  {
   "cell_type": "code",
   "execution_count": 67,
   "metadata": {
    "collapsed": false
   },
   "outputs": [
    {
     "data": {
      "text/plain": [
       "0.83366069472216409"
      ]
     },
     "execution_count": 67,
     "metadata": {},
     "output_type": "execute_result"
    }
   ],
   "source": [
    "linreg.score(x_train_clean, y_train)"
   ]
  },
  {
   "cell_type": "code",
   "execution_count": 68,
   "metadata": {
    "collapsed": false
   },
   "outputs": [
    {
     "data": {
      "text/plain": [
       "0.83366109822487855"
      ]
     },
     "execution_count": 68,
     "metadata": {},
     "output_type": "execute_result"
    }
   ],
   "source": [
    "lasso.score(x_train_clean, y_train)"
   ]
  },
  {
   "cell_type": "code",
   "execution_count": 69,
   "metadata": {
    "collapsed": false
   },
   "outputs": [
    {
     "data": {
      "text/plain": [
       "0.83365932452897717"
      ]
     },
     "execution_count": 69,
     "metadata": {},
     "output_type": "execute_result"
    }
   ],
   "source": [
    "ridge.score(x_train_clean, y_train)"
   ]
  },
  {
   "cell_type": "code",
   "execution_count": 70,
   "metadata": {
    "collapsed": true
   },
   "outputs": [],
   "source": [
    "# predict data x_train, simpan ke variabel y_pred\n",
    "\n",
    "y_pred_linreg = linreg.predict(x_train_clean)\n",
    "y_pred_lasso = lasso.predict(x_train_clean)\n",
    "y_pred_ridge = ridge.predict(x_train_clean)"
   ]
  },
  {
   "cell_type": "code",
   "execution_count": 71,
   "metadata": {
    "collapsed": false
   },
   "outputs": [
    {
     "name": "stdout",
     "output_type": "stream",
     "text": [
      "1062698240.57\n",
      "1062695662.69\n",
      "1062706994.37\n"
     ]
    }
   ],
   "source": [
    "# evaluasi performa model dengan menghitung MSE\n",
    "\n",
    "from sklearn.metrics import mean_squared_error\n",
    "\n",
    "print(mean_squared_error(y_train, y_pred_linreg))\n",
    "print(mean_squared_error(y_train, y_pred_lasso))\n",
    "print(mean_squared_error(y_train, y_pred_ridge))"
   ]
  },
  {
   "cell_type": "code",
   "execution_count": 72,
   "metadata": {
    "collapsed": true
   },
   "outputs": [],
   "source": [
    "# lakukan RandomizedSearchCV untuk memilih parameter alpha pada Lasso dan Ridge\n",
    "\n",
    "from sklearn.model_selection import RandomizedSearchCV\n",
    "\n",
    "alpha_param = {'alpha':np.logspace(-5,2,8)}\n",
    "randomCVLasso = RandomizedSearchCV(Lasso(random_state=123), param_distributions=alpha_param, n_iter=5, cv=5)\n",
    "randomCVRidge = RandomizedSearchCV(Ridge(random_state=123), param_distributions=alpha_param, n_iter=5, cv=5)"
   ]
  },
  {
   "cell_type": "code",
   "execution_count": 73,
   "metadata": {
    "collapsed": false
   },
   "outputs": [
    {
     "name": "stderr",
     "output_type": "stream",
     "text": [
      "C:\\Anaconda3\\lib\\site-packages\\sklearn\\linear_model\\coordinate_descent.py:484: ConvergenceWarning: Objective did not converge. You might want to increase the number of iterations. Fitting data with very small alpha may cause precision problems.\n",
      "  ConvergenceWarning)\n",
      "C:\\Anaconda3\\lib\\site-packages\\sklearn\\linear_model\\coordinate_descent.py:484: ConvergenceWarning: Objective did not converge. You might want to increase the number of iterations. Fitting data with very small alpha may cause precision problems.\n",
      "  ConvergenceWarning)\n",
      "C:\\Anaconda3\\lib\\site-packages\\sklearn\\linear_model\\coordinate_descent.py:484: ConvergenceWarning: Objective did not converge. You might want to increase the number of iterations. Fitting data with very small alpha may cause precision problems.\n",
      "  ConvergenceWarning)\n",
      "C:\\Anaconda3\\lib\\site-packages\\sklearn\\linear_model\\coordinate_descent.py:484: ConvergenceWarning: Objective did not converge. You might want to increase the number of iterations. Fitting data with very small alpha may cause precision problems.\n",
      "  ConvergenceWarning)\n",
      "C:\\Anaconda3\\lib\\site-packages\\sklearn\\linear_model\\coordinate_descent.py:484: ConvergenceWarning: Objective did not converge. You might want to increase the number of iterations. Fitting data with very small alpha may cause precision problems.\n",
      "  ConvergenceWarning)\n",
      "C:\\Anaconda3\\lib\\site-packages\\sklearn\\linear_model\\coordinate_descent.py:484: ConvergenceWarning: Objective did not converge. You might want to increase the number of iterations. Fitting data with very small alpha may cause precision problems.\n",
      "  ConvergenceWarning)\n",
      "C:\\Anaconda3\\lib\\site-packages\\sklearn\\linear_model\\coordinate_descent.py:484: ConvergenceWarning: Objective did not converge. You might want to increase the number of iterations. Fitting data with very small alpha may cause precision problems.\n",
      "  ConvergenceWarning)\n",
      "C:\\Anaconda3\\lib\\site-packages\\sklearn\\linear_model\\coordinate_descent.py:484: ConvergenceWarning: Objective did not converge. You might want to increase the number of iterations. Fitting data with very small alpha may cause precision problems.\n",
      "  ConvergenceWarning)\n",
      "C:\\Anaconda3\\lib\\site-packages\\sklearn\\linear_model\\coordinate_descent.py:484: ConvergenceWarning: Objective did not converge. You might want to increase the number of iterations. Fitting data with very small alpha may cause precision problems.\n",
      "  ConvergenceWarning)\n",
      "C:\\Anaconda3\\lib\\site-packages\\sklearn\\linear_model\\coordinate_descent.py:484: ConvergenceWarning: Objective did not converge. You might want to increase the number of iterations. Fitting data with very small alpha may cause precision problems.\n",
      "  ConvergenceWarning)\n",
      "C:\\Anaconda3\\lib\\site-packages\\sklearn\\linear_model\\coordinate_descent.py:484: ConvergenceWarning: Objective did not converge. You might want to increase the number of iterations. Fitting data with very small alpha may cause precision problems.\n",
      "  ConvergenceWarning)\n",
      "C:\\Anaconda3\\lib\\site-packages\\sklearn\\linear_model\\coordinate_descent.py:484: ConvergenceWarning: Objective did not converge. You might want to increase the number of iterations. Fitting data with very small alpha may cause precision problems.\n",
      "  ConvergenceWarning)\n",
      "C:\\Anaconda3\\lib\\site-packages\\sklearn\\linear_model\\coordinate_descent.py:484: ConvergenceWarning: Objective did not converge. You might want to increase the number of iterations. Fitting data with very small alpha may cause precision problems.\n",
      "  ConvergenceWarning)\n",
      "C:\\Anaconda3\\lib\\site-packages\\sklearn\\linear_model\\coordinate_descent.py:484: ConvergenceWarning: Objective did not converge. You might want to increase the number of iterations. Fitting data with very small alpha may cause precision problems.\n",
      "  ConvergenceWarning)\n",
      "C:\\Anaconda3\\lib\\site-packages\\sklearn\\linear_model\\coordinate_descent.py:484: ConvergenceWarning: Objective did not converge. You might want to increase the number of iterations. Fitting data with very small alpha may cause precision problems.\n",
      "  ConvergenceWarning)\n",
      "C:\\Anaconda3\\lib\\site-packages\\sklearn\\linear_model\\coordinate_descent.py:484: ConvergenceWarning: Objective did not converge. You might want to increase the number of iterations. Fitting data with very small alpha may cause precision problems.\n",
      "  ConvergenceWarning)\n",
      "C:\\Anaconda3\\lib\\site-packages\\sklearn\\linear_model\\coordinate_descent.py:484: ConvergenceWarning: Objective did not converge. You might want to increase the number of iterations. Fitting data with very small alpha may cause precision problems.\n",
      "  ConvergenceWarning)\n",
      "C:\\Anaconda3\\lib\\site-packages\\sklearn\\linear_model\\coordinate_descent.py:484: ConvergenceWarning: Objective did not converge. You might want to increase the number of iterations. Fitting data with very small alpha may cause precision problems.\n",
      "  ConvergenceWarning)\n",
      "C:\\Anaconda3\\lib\\site-packages\\sklearn\\linear_model\\coordinate_descent.py:484: ConvergenceWarning: Objective did not converge. You might want to increase the number of iterations. Fitting data with very small alpha may cause precision problems.\n",
      "  ConvergenceWarning)\n",
      "C:\\Anaconda3\\lib\\site-packages\\sklearn\\linear_model\\coordinate_descent.py:484: ConvergenceWarning: Objective did not converge. You might want to increase the number of iterations. Fitting data with very small alpha may cause precision problems.\n",
      "  ConvergenceWarning)\n",
      "C:\\Anaconda3\\lib\\site-packages\\sklearn\\linear_model\\coordinate_descent.py:484: ConvergenceWarning: Objective did not converge. You might want to increase the number of iterations. Fitting data with very small alpha may cause precision problems.\n",
      "  ConvergenceWarning)\n",
      "C:\\Anaconda3\\lib\\site-packages\\sklearn\\linear_model\\coordinate_descent.py:484: ConvergenceWarning: Objective did not converge. You might want to increase the number of iterations. Fitting data with very small alpha may cause precision problems.\n",
      "  ConvergenceWarning)\n",
      "C:\\Anaconda3\\lib\\site-packages\\sklearn\\linear_model\\coordinate_descent.py:484: ConvergenceWarning: Objective did not converge. You might want to increase the number of iterations. Fitting data with very small alpha may cause precision problems.\n",
      "  ConvergenceWarning)\n",
      "C:\\Anaconda3\\lib\\site-packages\\sklearn\\linear_model\\coordinate_descent.py:484: ConvergenceWarning: Objective did not converge. You might want to increase the number of iterations. Fitting data with very small alpha may cause precision problems.\n",
      "  ConvergenceWarning)\n",
      "C:\\Anaconda3\\lib\\site-packages\\sklearn\\linear_model\\coordinate_descent.py:484: ConvergenceWarning: Objective did not converge. You might want to increase the number of iterations. Fitting data with very small alpha may cause precision problems.\n",
      "  ConvergenceWarning)\n"
     ]
    },
    {
     "data": {
      "text/plain": [
       "RandomizedSearchCV(cv=5, error_score='raise',\n",
       "          estimator=Ridge(alpha=1.0, copy_X=True, fit_intercept=True, max_iter=None,\n",
       "   normalize=False, random_state=123, solver='auto', tol=0.001),\n",
       "          fit_params={}, iid=True, n_iter=5, n_jobs=1,\n",
       "          param_distributions={'alpha': array([  1.00000e-05,   1.00000e-04,   1.00000e-03,   1.00000e-02,\n",
       "         1.00000e-01,   1.00000e+00,   1.00000e+01,   1.00000e+02])},\n",
       "          pre_dispatch='2*n_jobs', random_state=None, refit=True,\n",
       "          return_train_score=True, scoring=None, verbose=0)"
      ]
     },
     "execution_count": 73,
     "metadata": {},
     "output_type": "execute_result"
    }
   ],
   "source": [
    "# Fitting\n",
    "\n",
    "randomCVLasso.fit(x_train_clean, y_train)\n",
    "randomCVRidge.fit(x_train_clean, y_train)"
   ]
  },
  {
   "cell_type": "code",
   "execution_count": 74,
   "metadata": {
    "collapsed": false
   },
   "outputs": [
    {
     "name": "stdout",
     "output_type": "stream",
     "text": [
      "Lasso :\n",
      "Best Accuracy = 0.833655704099\n",
      "Best Param = {'alpha': 10.0}\n",
      "\n",
      "Ridge :\n",
      "Best Accuracy = 0.833516021783\n",
      "Best Param = {'alpha': 10.0}\n"
     ]
    }
   ],
   "source": [
    "# Evaluasi model\n",
    "\n",
    "print(\"Lasso :\")\n",
    "print(\"Best Accuracy =\", randomCVLasso.score(x_train_clean, y_train))\n",
    "print(\"Best Param =\", randomCVLasso.best_params_)\n",
    "print(\"\\nRidge :\")\n",
    "print(\"Best Accuracy =\", randomCVRidge.score(x_train_clean, y_train))\n",
    "print(\"Best Param =\", randomCVRidge.best_params_)"
   ]
  },
  {
   "cell_type": "code",
   "execution_count": 75,
   "metadata": {
    "collapsed": true
   },
   "outputs": [],
   "source": [
    "# Buat model dengan parameter terbaik\n",
    "\n",
    "best_lasso = Lasso(alpha=randomCVLasso.best_params_.get('alpha'))\n",
    "best_ridge = Ridge(alpha=randomCVRidge.best_params_.get('alpha'))"
   ]
  },
  {
   "cell_type": "code",
   "execution_count": 76,
   "metadata": {
    "collapsed": false
   },
   "outputs": [
    {
     "name": "stderr",
     "output_type": "stream",
     "text": [
      "C:\\Anaconda3\\lib\\site-packages\\sklearn\\linear_model\\coordinate_descent.py:484: ConvergenceWarning: Objective did not converge. You might want to increase the number of iterations. Fitting data with very small alpha may cause precision problems.\n",
      "  ConvergenceWarning)\n"
     ]
    },
    {
     "data": {
      "text/plain": [
       "Ridge(alpha=10.0, copy_X=True, fit_intercept=True, max_iter=None,\n",
       "   normalize=False, random_state=None, solver='auto', tol=0.001)"
      ]
     },
     "execution_count": 76,
     "metadata": {},
     "output_type": "execute_result"
    }
   ],
   "source": [
    "best_lasso.fit(x_train_clean, y_train)\n",
    "best_ridge.fit(x_train_clean, y_train)"
   ]
  },
  {
   "cell_type": "code",
   "execution_count": 77,
   "metadata": {
    "collapsed": false
   },
   "outputs": [
    {
     "data": {
      "text/plain": [
       "['best_ridge.pkl']"
      ]
     },
     "execution_count": 77,
     "metadata": {},
     "output_type": "execute_result"
    }
   ],
   "source": [
    "# dump model\n",
    "\n",
    "joblib.dump(best_lasso, 'best_lasso.pkl')\n",
    "joblib.dump(best_ridge, 'best_ridge.pkl')"
   ]
  },
  {
   "cell_type": "markdown",
   "metadata": {},
   "source": [
    "## 4. Test Prediction"
   ]
  },
  {
   "cell_type": "markdown",
   "metadata": {},
   "source": [
    "### Preprocessing Test Data\n",
    "\n",
    "Buat lah sebuah function untuk preprocessing data test. Preprocessing yang dilakukan yakni imputation (numeric and categorical) dan standardizing.\n",
    " \n",
    "\n",
    "Function dinamakan dengan `extract_test` dan menerima 6 argument yaitu:\n",
    " 1. `data` : Data yang ingin diolah\n",
    " 2. `numerical_columns`   : Nama kolom numerik\n",
    " 3. `categorical_columns` : Nama kolom kategorik\n",
    " 4. `dummies_columns`     : Nama kolom dummy\n",
    " 5. `imput_numericals`    : Imputer untuk data numerical (hasil preprocessing data training)\n",
    " 6. `standardizer`        : Standardizer (hasil preprocessing data training)\n",
    " \n",
    " \n",
    "Lalu assign function tersebut pada suatu variabel yang dengan nama `x_test_clean`\n",
    "\n"
   ]
  },
  {
   "cell_type": "code",
   "execution_count": 78,
   "metadata": {
    "collapsed": true
   },
   "outputs": [],
   "source": [
    "# function definition\n",
    "\n",
    "def test_cat_dummy(data, categorical_columns, label_encoder, label_binarizer, dummy_columns):\n",
    "    data_imputed = data[categorical_columns].fillna(\"KOSONG\")\n",
    "    data_imputed_dummy = pd.DataFrame([])\n",
    "    \n",
    "    for i in categorical_columns:\n",
    "        label_en = label_encoder[i]\n",
    "        label_bin = label_binarizer[i]\n",
    "        \n",
    "        encoded = label_en.transform(data_imputed[i])\n",
    "        binary = label_bin.transform(encoded)\n",
    "        \n",
    "        if binary.shape[1] == 1:\n",
    "            dummy = pd.DataFrame(binary, index = data.index)\n",
    "        else:\n",
    "            dummy = pd.DataFrame(binary, index = data.index)\n",
    "        \n",
    "        data_imputed_dummy = pd.concat([data_imputed_dummy, dummy], axis = 1)\n",
    "    \n",
    "    data_imputed_dummy.columns = dummy_columns\n",
    "    \n",
    "    return data_imputed_dummy\n",
    "\n",
    "def extract_test(numerical_columns, categorical_columns, data, imputer, standard, label_encoder, label_binarizer, dummy_columns):\n",
    "    data_dummy = test_cat_dummy(data, categorical_columns, label_encoder, label_binarizer, dummy_columns)\n",
    "    data_numeric_imput = transf_imput_num(data[numerical_columns], imputer=imputer)\n",
    "    data_concat = pd.concat([data_numeric_imput, data_dummy], axis=1)\n",
    "    data_clean = transf_standardize(data_concat, standard)\n",
    "    \n",
    "    return data_clean"
   ]
  },
  {
   "cell_type": "code",
   "execution_count": 79,
   "metadata": {
    "collapsed": false
   },
   "outputs": [],
   "source": [
    "# load necessary object\n",
    "# object = joblib.load(\"filename.pkl\")\n",
    "\n",
    "num_columns = numeric\n",
    "cat_columns = categories\n",
    "dummy_columns = joblib.load(\"dummy_columns.pkl\")\n",
    "imput = joblib.load(\"imput.pkl\")\n",
    "standardizer = joblib.load(\"standard.pkl\")"
   ]
  },
  {
   "cell_type": "code",
   "execution_count": 80,
   "metadata": {
    "collapsed": false
   },
   "outputs": [],
   "source": [
    "# preprocess test data\n",
    "x_test_clean = extract_test(numeric, categories, x_test, imput, standardizer, label_encoder, label_binarizer, dummy_columns)"
   ]
  },
  {
   "cell_type": "markdown",
   "metadata": {},
   "source": [
    "Bila terjadi error :\n",
    "\n",
    "  ValueError: operands could not be broadcast together with shapes (???,??) (??,) (???,??)\n",
    "\n",
    "Hal ini terjadi karena ada kategori yang tidak tersedia pada data test.\n",
    "Solusinya dapat menggunakan LabelBinarizer kemudian LabelEncoder untuk menggantikan pd.get_dummies()\n",
    "Detailnya akan dijelaskan saat kelas"
   ]
  },
  {
   "cell_type": "code",
   "execution_count": 81,
   "metadata": {
    "collapsed": false
   },
   "outputs": [
    {
     "data": {
      "text/html": [
       "<div>\n",
       "<table border=\"1\" class=\"dataframe\">\n",
       "  <thead>\n",
       "    <tr style=\"text-align: right;\">\n",
       "      <th></th>\n",
       "      <th>LotFrontage</th>\n",
       "      <th>LotArea</th>\n",
       "      <th>MasVnrArea</th>\n",
       "      <th>BsmtFinSF1</th>\n",
       "      <th>1stFlrSF</th>\n",
       "      <th>2ndFlrSF</th>\n",
       "      <th>GarageArea</th>\n",
       "      <th>WoodDeckSF</th>\n",
       "      <th>OpenPorchSF</th>\n",
       "      <th>MasVnrType_BrkCmn</th>\n",
       "      <th>...</th>\n",
       "      <th>SaleType_ConLw</th>\n",
       "      <th>SaleType_New</th>\n",
       "      <th>SaleType_Oth</th>\n",
       "      <th>SaleType_WD</th>\n",
       "      <th>SaleCondition_Abnorml</th>\n",
       "      <th>SaleCondition_AdjLand</th>\n",
       "      <th>SaleCondition_Alloca</th>\n",
       "      <th>SaleCondition_Family</th>\n",
       "      <th>SaleCondition_Normal</th>\n",
       "      <th>SaleCondition_Partial</th>\n",
       "    </tr>\n",
       "  </thead>\n",
       "  <tbody>\n",
       "    <tr>\n",
       "      <th>147</th>\n",
       "      <td>0.014139</td>\n",
       "      <td>-0.099199</td>\n",
       "      <td>0.412251</td>\n",
       "      <td>-1.016738</td>\n",
       "      <td>-0.756523</td>\n",
       "      <td>1.828492</td>\n",
       "      <td>-0.190712</td>\n",
       "      <td>0.413567</td>\n",
       "      <td>0.010085</td>\n",
       "      <td>-0.106137</td>\n",
       "      <td>...</td>\n",
       "      <td>-0.050767</td>\n",
       "      <td>-0.30781</td>\n",
       "      <td>-0.041434</td>\n",
       "      <td>0.398607</td>\n",
       "      <td>-0.271288</td>\n",
       "      <td>-0.041434</td>\n",
       "      <td>-0.092968</td>\n",
       "      <td>-0.101929</td>\n",
       "      <td>0.465717</td>\n",
       "      <td>-0.312788</td>\n",
       "    </tr>\n",
       "    <tr>\n",
       "      <th>677</th>\n",
       "      <td>-0.922812</td>\n",
       "      <td>-0.144925</td>\n",
       "      <td>-0.572123</td>\n",
       "      <td>-1.016738</td>\n",
       "      <td>-1.001094</td>\n",
       "      <td>-0.788293</td>\n",
       "      <td>-1.108862</td>\n",
       "      <td>1.795640</td>\n",
       "      <td>-0.709586</td>\n",
       "      <td>-0.106137</td>\n",
       "      <td>...</td>\n",
       "      <td>-0.050767</td>\n",
       "      <td>-0.30781</td>\n",
       "      <td>-0.041434</td>\n",
       "      <td>0.398607</td>\n",
       "      <td>-0.271288</td>\n",
       "      <td>-0.041434</td>\n",
       "      <td>-0.092968</td>\n",
       "      <td>-0.101929</td>\n",
       "      <td>0.465717</td>\n",
       "      <td>-0.312788</td>\n",
       "    </tr>\n",
       "    <tr>\n",
       "      <th>1305</th>\n",
       "      <td>1.992148</td>\n",
       "      <td>0.248055</td>\n",
       "      <td>1.068500</td>\n",
       "      <td>2.600882</td>\n",
       "      <td>1.285115</td>\n",
       "      <td>-0.788293</td>\n",
       "      <td>1.730776</td>\n",
       "      <td>2.502747</td>\n",
       "      <td>0.819716</td>\n",
       "      <td>-0.106137</td>\n",
       "      <td>...</td>\n",
       "      <td>-0.050767</td>\n",
       "      <td>-0.30781</td>\n",
       "      <td>-0.041434</td>\n",
       "      <td>0.398607</td>\n",
       "      <td>-0.271288</td>\n",
       "      <td>-0.041434</td>\n",
       "      <td>-0.092968</td>\n",
       "      <td>-0.101929</td>\n",
       "      <td>0.465717</td>\n",
       "      <td>-0.312788</td>\n",
       "    </tr>\n",
       "    <tr>\n",
       "      <th>1373</th>\n",
       "      <td>0.014139</td>\n",
       "      <td>0.080203</td>\n",
       "      <td>3.283341</td>\n",
       "      <td>1.933509</td>\n",
       "      <td>3.892989</td>\n",
       "      <td>-0.788293</td>\n",
       "      <td>1.560398</td>\n",
       "      <td>1.779569</td>\n",
       "      <td>1.389456</td>\n",
       "      <td>-0.106137</td>\n",
       "      <td>...</td>\n",
       "      <td>-0.050767</td>\n",
       "      <td>-0.30781</td>\n",
       "      <td>-0.041434</td>\n",
       "      <td>0.398607</td>\n",
       "      <td>-0.271288</td>\n",
       "      <td>-0.041434</td>\n",
       "      <td>-0.092968</td>\n",
       "      <td>-0.101929</td>\n",
       "      <td>0.465717</td>\n",
       "      <td>-0.312788</td>\n",
       "    </tr>\n",
       "    <tr>\n",
       "      <th>1427</th>\n",
       "      <td>-0.506389</td>\n",
       "      <td>0.035708</td>\n",
       "      <td>-0.572123</td>\n",
       "      <td>0.318007</td>\n",
       "      <td>-0.320548</td>\n",
       "      <td>0.371186</td>\n",
       "      <td>-0.881691</td>\n",
       "      <td>-0.743517</td>\n",
       "      <td>-0.709586</td>\n",
       "      <td>-0.106137</td>\n",
       "      <td>...</td>\n",
       "      <td>-0.050767</td>\n",
       "      <td>-0.30781</td>\n",
       "      <td>-0.041434</td>\n",
       "      <td>0.398607</td>\n",
       "      <td>-0.271288</td>\n",
       "      <td>-0.041434</td>\n",
       "      <td>-0.092968</td>\n",
       "      <td>-0.101929</td>\n",
       "      <td>0.465717</td>\n",
       "      <td>-0.312788</td>\n",
       "    </tr>\n",
       "  </tbody>\n",
       "</table>\n",
       "<p>5 rows × 74 columns</p>\n",
       "</div>"
      ],
      "text/plain": [
       "      LotFrontage   LotArea  MasVnrArea  BsmtFinSF1  1stFlrSF  2ndFlrSF  \\\n",
       "147      0.014139 -0.099199    0.412251   -1.016738 -0.756523  1.828492   \n",
       "677     -0.922812 -0.144925   -0.572123   -1.016738 -1.001094 -0.788293   \n",
       "1305     1.992148  0.248055    1.068500    2.600882  1.285115 -0.788293   \n",
       "1373     0.014139  0.080203    3.283341    1.933509  3.892989 -0.788293   \n",
       "1427    -0.506389  0.035708   -0.572123    0.318007 -0.320548  0.371186   \n",
       "\n",
       "      GarageArea  WoodDeckSF  OpenPorchSF  MasVnrType_BrkCmn  \\\n",
       "147    -0.190712    0.413567     0.010085          -0.106137   \n",
       "677    -1.108862    1.795640    -0.709586          -0.106137   \n",
       "1305    1.730776    2.502747     0.819716          -0.106137   \n",
       "1373    1.560398    1.779569     1.389456          -0.106137   \n",
       "1427   -0.881691   -0.743517    -0.709586          -0.106137   \n",
       "\n",
       "              ...            SaleType_ConLw  SaleType_New  SaleType_Oth  \\\n",
       "147           ...                 -0.050767      -0.30781     -0.041434   \n",
       "677           ...                 -0.050767      -0.30781     -0.041434   \n",
       "1305          ...                 -0.050767      -0.30781     -0.041434   \n",
       "1373          ...                 -0.050767      -0.30781     -0.041434   \n",
       "1427          ...                 -0.050767      -0.30781     -0.041434   \n",
       "\n",
       "      SaleType_WD  SaleCondition_Abnorml  SaleCondition_AdjLand  \\\n",
       "147      0.398607              -0.271288              -0.041434   \n",
       "677      0.398607              -0.271288              -0.041434   \n",
       "1305     0.398607              -0.271288              -0.041434   \n",
       "1373     0.398607              -0.271288              -0.041434   \n",
       "1427     0.398607              -0.271288              -0.041434   \n",
       "\n",
       "      SaleCondition_Alloca  SaleCondition_Family  SaleCondition_Normal  \\\n",
       "147              -0.092968             -0.101929              0.465717   \n",
       "677              -0.092968             -0.101929              0.465717   \n",
       "1305             -0.092968             -0.101929              0.465717   \n",
       "1373             -0.092968             -0.101929              0.465717   \n",
       "1427             -0.092968             -0.101929              0.465717   \n",
       "\n",
       "      SaleCondition_Partial  \n",
       "147               -0.312788  \n",
       "677               -0.312788  \n",
       "1305              -0.312788  \n",
       "1373              -0.312788  \n",
       "1427              -0.312788  \n",
       "\n",
       "[5 rows x 74 columns]"
      ]
     },
     "execution_count": 81,
     "metadata": {},
     "output_type": "execute_result"
    }
   ],
   "source": [
    "x_test_clean.head()"
   ]
  },
  {
   "cell_type": "markdown",
   "metadata": {},
   "source": [
    "### Predict Test Data"
   ]
  },
  {
   "cell_type": "code",
   "execution_count": 82,
   "metadata": {
    "collapsed": true
   },
   "outputs": [],
   "source": [
    "# load necessary object\n",
    "\n",
    "lasso = joblib.load(\"best_lasso.pkl\")\n",
    "ridge = joblib.load(\"best_ridge.pkl\")"
   ]
  },
  {
   "cell_type": "code",
   "execution_count": 83,
   "metadata": {
    "collapsed": false
   },
   "outputs": [
    {
     "data": {
      "text/plain": [
       "0.66350222956875093"
      ]
     },
     "execution_count": 83,
     "metadata": {},
     "output_type": "execute_result"
    }
   ],
   "source": [
    "lasso.score(x_test_clean, y_test)"
   ]
  },
  {
   "cell_type": "code",
   "execution_count": 84,
   "metadata": {
    "collapsed": false
   },
   "outputs": [
    {
     "data": {
      "text/plain": [
       "0.66403448364077677"
      ]
     },
     "execution_count": 84,
     "metadata": {},
     "output_type": "execute_result"
    }
   ],
   "source": [
    "ridge.score(x_test_clean, y_test)"
   ]
  },
  {
   "cell_type": "code",
   "execution_count": 85,
   "metadata": {
    "collapsed": false
   },
   "outputs": [
    {
     "data": {
      "text/plain": [
       "0.66329461098038422"
      ]
     },
     "execution_count": 85,
     "metadata": {},
     "output_type": "execute_result"
    }
   ],
   "source": [
    "linreg.score(x_test_clean, y_test)"
   ]
  },
  {
   "cell_type": "markdown",
   "metadata": {
    "collapsed": true
   },
   "source": [
    "### Random Forest"
   ]
  },
  {
   "cell_type": "code",
   "execution_count": 86,
   "metadata": {
    "collapsed": true
   },
   "outputs": [],
   "source": [
    "from sklearn.ensemble import RandomForestRegressor"
   ]
  },
  {
   "cell_type": "code",
   "execution_count": 87,
   "metadata": {
    "collapsed": true
   },
   "outputs": [],
   "source": [
    "randomForest = RandomForestRegressor(random_state=123)\n",
    "\n",
    "def randomForest_fit(x_train, y_train):\n",
    "    rforestparam = {'n_estimators': [100, 300, 500, 1000],\n",
    "                  'min_samples_leaf': [2, 5, 8, 10, 15],\n",
    "                  'min_samples_split': [2, 5, 8, 10]}\n",
    "    randomCV_rforest = RandomizedSearchCV(randomForest, \n",
    "                                          param_distributions=rforestparam,\n",
    "                                          n_iter=3, cv=5, scoring='neg_mean_squared_error',\n",
    "                                          n_jobs=4, random_state=123)\n",
    "    randomCV_rforest.fit(x_train, y_train)\n",
    "    \n",
    "    print(\"Best Accuracy :\", randomCV_rforest.score(x_train, y_train))\n",
    "    print(\"Best Params :\", randomCV_rforest.best_params_)\n",
    "    \n",
    "    return randomCV_rforest"
   ]
  },
  {
   "cell_type": "code",
   "execution_count": 88,
   "metadata": {
    "collapsed": false
   },
   "outputs": [
    {
     "name": "stdout",
     "output_type": "stream",
     "text": [
      "Best Accuracy : -1016049839.8\n",
      "Best Params : {'n_estimators': 1000, 'min_samples_split': 8, 'min_samples_leaf': 10}\n"
     ]
    }
   ],
   "source": [
    "best_randomForest = randomForest_fit(x_train_clean, y_train)"
   ]
  },
  {
   "cell_type": "code",
   "execution_count": 89,
   "metadata": {
    "collapsed": true
   },
   "outputs": [],
   "source": [
    "randomForest = RandomForestRegressor(n_estimators=best_randomForest.best_params_.get('n_estimators'),\n",
    "                                     min_samples_split=best_randomForest.best_params_.get('min_samples_split'),\n",
    "                                     min_samples_leaf=best_randomForest.best_params_.get('min_samples_leaf'),\n",
    "                                     random_state=123)"
   ]
  },
  {
   "cell_type": "code",
   "execution_count": 90,
   "metadata": {
    "collapsed": false
   },
   "outputs": [
    {
     "data": {
      "text/plain": [
       "0.84096235598279956"
      ]
     },
     "execution_count": 90,
     "metadata": {},
     "output_type": "execute_result"
    }
   ],
   "source": [
    "randomForest.fit(x_train_clean, y_train)\n",
    "randomForest.score(x_train_clean, y_train)"
   ]
  },
  {
   "cell_type": "code",
   "execution_count": 91,
   "metadata": {
    "collapsed": false
   },
   "outputs": [
    {
     "data": {
      "text/plain": [
       "0.81275151909919285"
      ]
     },
     "execution_count": 91,
     "metadata": {},
     "output_type": "execute_result"
    }
   ],
   "source": [
    "randomForest.score(x_test_clean, y_test)"
   ]
  },
  {
   "cell_type": "code",
   "execution_count": null,
   "metadata": {
    "collapsed": true
   },
   "outputs": [],
   "source": []
  }
 ],
 "metadata": {
  "kernelspec": {
   "display_name": "Python 3",
   "language": "python",
   "name": "python3"
  },
  "language_info": {
   "codemirror_mode": {
    "name": "ipython",
    "version": 3
   },
   "file_extension": ".py",
   "mimetype": "text/x-python",
   "name": "python",
   "nbconvert_exporter": "python",
   "pygments_lexer": "ipython3",
   "version": "3.6.0"
  }
 },
 "nbformat": 4,
 "nbformat_minor": 2
}
